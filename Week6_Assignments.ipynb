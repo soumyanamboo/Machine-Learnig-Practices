{
  "cells": [
    {
      "cell_type": "markdown",
      "metadata": {
        "id": "PHdfaZ-1i_1t"
      },
      "source": [
        "#Practice Assignments\n",
        "\n",
        "Q1) Use MNIST dataset. Store all the samples in X and labels in y.\n",
        " \n",
        "* Split the dataset in the following ratio.\n",
        "    * Training : Take the first 70% of samples from X and store them in x_train\n",
        "    * Testing: Take the remaining 30% of samples from X and store them in x_test\n",
        "    * Store the respective labels in y_train,y_test respectively.\n",
        "\n",
        "The last training sample is of digit __?\n"
      ]
    },
    {
      "cell_type": "code",
      "execution_count": null,
      "metadata": {
        "id": "mlzaUycHi8yv"
      },
      "outputs": [],
      "source": [
        "import numpy as np\n",
        "import os\n",
        "import io\n",
        "import warnings\n",
        "import matplotlib.pyplot as plt\n",
        "\n",
        "from sklearn.datasets import fetch_openml\n",
        "from sklearn.preprocessing import StandardScaler\n",
        "from sklearn.linear_model import SGDClassifier\n",
        "from sklearn.metrics import log_loss\n",
        "from sklearn.pipeline import make_pipeline\n",
        "from sklearn.metrics import ConfusionMatrixDisplay, confusion_matrix\n",
        "\n",
        "# from sklearn.pipeline import Pipeline, make_pipeline\n",
        "# from sklearn.dummy import DummyClassifier\n",
        "# from sklearn.linear_model import SGDClassifier, RidgeClassifier, LogisticRegression\n",
        "# from sklearn.metrics import hinge_loss\n",
        "# from sklearn.metrics import ConfusionMatrixDisplay, confusion_matrix, precision_recall_curve\n",
        "# from sklearn.metrics import precision_score, recall_score, classification_report\n",
        "# from sklearn.metrics import make_scorer, roc_curve, roc_auc_score, log_loss\n",
        "# from sklearn.model_selection import cross_validate, cross_val_predict, GridSearchCV, RandomizedSearchCV\n",
        "# from pprint import pprint\n",
        "\n",
        "# %matplotlib inline\n",
        "# import matplotlib.pyplot as plt\n",
        "# import matplotlib as mpl\n",
        "# import seaborn as sns\n",
        "\n",
        "# from scipy.stats import loguniform\n",
        "# np.random.seed(42)"
      ]
    },
    {
      "cell_type": "code",
      "execution_count": null,
      "metadata": {
        "id": "lA1jcAPjC3od"
      },
      "outputs": [],
      "source": [
        "#Ignore all warnings\n",
        "def warn(*args, **kwargs):\n",
        "  pass\n",
        "warnings.warn = warn"
      ]
    },
    {
      "cell_type": "code",
      "execution_count": null,
      "metadata": {
        "colab": {
          "base_uri": "https://localhost:8080/"
        },
        "id": "IA4xx4yPjpQL",
        "outputId": "ad6ca23f-b5dd-46f4-f4c4-c246e44ec6c3"
      },
      "outputs": [
        {
          "name": "stdout",
          "output_type": "stream",
          "text": [
            "6\n"
          ]
        }
      ],
      "source": [
        "X_pd, y_pd = fetch_openml('mnist_784', version=1, return_X_y=True)\n",
        "X = X_pd.to_numpy()\n",
        "y = y_pd.to_numpy()\n",
        "X_train, X_test, y_train, y_test  = X[:49000], X[49000:], y[:49000], y[49000:]\n",
        "print(y_train[-1])"
      ]
    },
    {
      "cell_type": "markdown",
      "metadata": {
        "id": "-KXcvsJXkNV4"
      },
      "source": [
        "Q2) Build a classifier that differentiates digit 6 from digit 9.\n",
        "Steps to be followed\n",
        "1. Collect all digit-6 (Positive class) and digit-9 (Negative class) images from x_train and stack them properly as a single datamatrix x_train_69.\n",
        "2. Keep all digit-6 images from index 0 to i followed by digit-9 images from index i+1 to n (i denotes the end index of digit-6 images)\n",
        "3. Similarly, collect the respective labels and store it in a variable y_train_69\n",
        "4. Set the label values to 1 for positive classes and 0 for negative classes.\n",
        "5. Load from sklearn.utils import shuffle\n",
        "6. Shuffle the datamatrix and labels. (Set random_state value to 1729).\n",
        "7. Create x_test_69 and y_test_69 by repeating the steps from 1 to 6 with required modifications.\n",
        "\n",
        "What is the sum of all the labels in the vector y_train_69.\n",
        "\n",
        "**Hint**:-\n",
        "Use X-train, y_train as input to get  x_train_69 and y_train_69 and\n",
        "X_test , y_test as input  to get  x_test_69 and y_test_69"
      ]
    },
    {
      "cell_type": "code",
      "execution_count": null,
      "metadata": {
        "colab": {
          "base_uri": "https://localhost:8080/"
        },
        "id": "5IKW5FD1kZer",
        "outputId": "ea954652-c3d9-4d24-e251-7a0e6db6f3ee"
      },
      "outputs": [
        {
          "name": "stdout",
          "output_type": "stream",
          "text": [
            "(4855, 784) (4891, 784)\n",
            "(4855,) (4891,)\n",
            "(9746, 784) (9746, 1)\n"
          ]
        }
      ],
      "source": [
        "X_train_6 = X_train[y_train == '6']\n",
        "y_train_6 = y_train[y_train == '6']\n",
        "\n",
        "X_train_9 = X_train[y_train == '9']\n",
        "y_train_9 = y_train[y_train == '9']\n",
        "print(X_train_6.shape, X_train_9.shape)\n",
        "X_train_69 = np.row_stack((X_train_6, X_train_9))\n",
        "y_train_69 = np.row_stack((y_train_6.reshape(-1,1), y_train_9.reshape(-1,1)))\n",
        "print(y_train_6.shape, y_train_9.shape)\n",
        "print(X_train_69.shape, y_train_69.shape)\n",
        "y_train_69 = np.where(y_train_69== '6', 1, 0)"
      ]
    },
    {
      "cell_type": "code",
      "execution_count": null,
      "metadata": {
        "id": "8YQkO3wll-jb"
      },
      "outputs": [],
      "source": [
        "from sklearn.utils import shuffle\n",
        "X_train_69 = shuffle(X_train_69, random_state=1729)\n",
        "y_train_69 = shuffle(y_train_69, random_state=1729)"
      ]
    },
    {
      "cell_type": "code",
      "execution_count": null,
      "metadata": {
        "colab": {
          "base_uri": "https://localhost:8080/"
        },
        "id": "fh5YjBl5moma",
        "outputId": "e1bad9cb-02e4-4ce0-9ccb-3dbb76e69389"
      },
      "outputs": [
        {
          "name": "stdout",
          "output_type": "stream",
          "text": [
            "(2021, 784) (2067, 784)\n",
            "(4088, 784) (4088, 1)\n"
          ]
        }
      ],
      "source": [
        "X_test_6 = X_test[y_test == '6']\n",
        "y_test_6 = y_test[y_test == '6']\n",
        "\n",
        "X_test_9 = X_test[y_test == '9']\n",
        "y_test_9 = y_test[y_test == '9']\n",
        "print(X_test_6.shape, X_test_9.shape)\n",
        "X_test_69 = np.row_stack((X_test_6, X_test_9))\n",
        "y_test_69 = np.row_stack((y_test_6.reshape(-1,1), y_test_9.reshape(-1,1)))\n",
        "print(X_test_69.shape, y_test_69.shape)\n",
        "y_test_69 = np.where(y_test_69== '6', 1, 0)\n",
        "\n",
        "X_test_69 = shuffle(X_test_69, random_state=1729)\n",
        "y_test_69 = shuffle(y_test_69, random_state=1729)"
      ]
    },
    {
      "cell_type": "code",
      "execution_count": null,
      "metadata": {
        "colab": {
          "base_uri": "https://localhost:8080/"
        },
        "id": "9A2ewbb-nMpP",
        "outputId": "e02d0a04-e2b7-4466-eafa-32cb0af3f868"
      },
      "outputs": [
        {
          "name": "stdout",
          "output_type": "stream",
          "text": [
            "Sum of all labels in the vector y_train_69:  4855\n"
          ]
        }
      ],
      "source": [
        "print('Sum of all labels in the vector y_train_69: ', y_train_69.sum())"
      ]
    },
    {
      "cell_type": "markdown",
      "metadata": {
        "id": "3BdikEzoouti"
      },
      "source": [
        "Q3) What is the sum of all the labels in the vector y_test_69."
      ]
    },
    {
      "cell_type": "code",
      "execution_count": null,
      "metadata": {
        "colab": {
          "base_uri": "https://localhost:8080/"
        },
        "id": "z8VFm3ITouO7",
        "outputId": "d9f420ab-e340-4238-fbdf-5de30b8f6b24"
      },
      "outputs": [
        {
          "name": "stdout",
          "output_type": "stream",
          "text": [
            "Sum of all labels in the vector y_test_69:  2021\n"
          ]
        }
      ],
      "source": [
        "print('Sum of all labels in the vector y_test_69: ', y_test_69.sum() )"
      ]
    },
    {
      "cell_type": "markdown",
      "metadata": {
        "id": "px1jgK7mo9Z8"
      },
      "source": [
        "Q4) Apply StandardScaler to all the training samples in x_train_69 and store the result in another variable (say, x_train_69Tf)\n",
        "* What is the mean of the zeroth sample?\n",
        "* What is the mean of zeroth feature?\n",
        "* What is the standard deviation of the zeroth sample?\n",
        "* What is the standard deviation of the zeroth feature?"
      ]
    },
    {
      "cell_type": "code",
      "execution_count": null,
      "metadata": {
        "colab": {
          "base_uri": "https://localhost:8080/"
        },
        "id": "ho1ZekN6o-7z",
        "outputId": "a5e2d098-8867-451c-c6bb-bfecdd7a0384"
      },
      "outputs": [
        {
          "name": "stdout",
          "output_type": "stream",
          "text": [
            "mean of the zeroth sample:  0.08128379559427823\n",
            "mean of zeroth feature:  0.0\n",
            "standard deviation of the zeroth sample:  0.7358823226037738\n",
            "standard deviation of the zeroth feature:  0.0\n"
          ]
        }
      ],
      "source": [
        "scale = StandardScaler()\n",
        "x_train_69Tf = scale.fit_transform(X_train_69)\n",
        "print('mean of the zeroth sample: ', x_train_69Tf[0].mean())\n",
        "print('mean of zeroth feature: ', x_train_69Tf[:,0].mean())\n",
        "print('standard deviation of the zeroth sample: ',x_train_69Tf[0].std())\n",
        "print('standard deviation of the zeroth feature: ', x_train_69Tf[:,0].std())"
      ]
    },
    {
      "cell_type": "markdown",
      "metadata": {
        "id": "E36qvimC9W2h"
      },
      "source": [
        "Q5) Train the LogisticRegression model using SGDClassifier() with the following common settings.\n",
        "1. No Regularization\n",
        "2. random_state : 10\n",
        "3. Iteration : 10\n",
        "\n",
        "Capture the loss for each iteration and plot the iteration vs loss curve. For which of the following settings, the iteration vs loss curve decreased monotonically?\n",
        "\n",
        "A. Set Learning rate : 0.01 and plot the curve and fit the model with `x_train_69 `"
      ]
    },
    {
      "cell_type": "code",
      "execution_count": null,
      "metadata": {
        "colab": {
          "base_uri": "https://localhost:8080/",
          "height": 279
        },
        "id": "kBp0obcn9lhf",
        "outputId": "93509e5c-461b-4ab4-80d7-50dc2a089485"
      },
      "outputs": [
        {
          "data": {
            "image/png": "[encoded data removed]",
            "text/plain": [
              "<Figure size 432x288 with 1 Axes>"
            ]
          },
          "metadata": {},
          "output_type": "display_data"
        }
      ],
      "source": [
        "log_reg = SGDClassifier(loss='log', penalty='None', alpha=0, random_state=10, max_iter=1, warm_start=True, learning_rate='constant', eta0=0.01)\n",
        "loss = []\n",
        "for i in range(10):\n",
        "  log_reg.fit(X_train_69, y_train_69)\n",
        "  y_pred = log_reg.predict_proba(X_train_69)\n",
        "  loss.append(log_loss(y_train_69, y_pred))\n",
        "\n",
        "#plt.figure(figsize=(8,8))\n",
        "plt.plot(np.arange(10), loss)\n",
        "plt.grid(True)\n",
        "plt.xlabel('Iterations')\n",
        "plt.ylabel('Loss')\n",
        "plt.show()"
      ]
    },
    {
      "cell_type": "markdown",
      "metadata": {
        "id": "qnZ8-0HL_f0-"
      },
      "source": [
        "B.Set learning rate to 0.000001 and fit the model with `x_train_69 ` .\n"
      ]
    },
    {
      "cell_type": "code",
      "execution_count": null,
      "metadata": {
        "colab": {
          "base_uri": "https://localhost:8080/",
          "height": 279
        },
        "id": "aGmexbzY_r4k",
        "outputId": "f5916bbc-239f-4023-a174-6aa438704643"
      },
      "outputs": [
        {
          "data": {
            "image/png": "[encoded data removed]",
            "text/plain": [
              "<Figure size 432x288 with 1 Axes>"
            ]
          },
          "metadata": {},
          "output_type": "display_data"
        }
      ],
      "source": [
        "log_reg = SGDClassifier(loss='log', penalty='None', alpha=0, random_state=10, max_iter=1, warm_start=True, learning_rate='constant', eta0=0.000001)\n",
        "loss = []\n",
        "for i in range(10):\n",
        "  log_reg.fit(X_train_69, y_train_69)\n",
        "  y_pred = log_reg.predict_proba(X_train_69)\n",
        "  loss.append(log_loss(y_train_69, y_pred))\n",
        "\n",
        "#plt.figure(figsize=(8,8))\n",
        "plt.plot(np.arange(10), loss)\n",
        "plt.grid(True)\n",
        "plt.xlabel('Iterations')\n",
        "plt.ylabel('Loss')\n",
        "plt.show()"
      ]
    },
    {
      "cell_type": "markdown",
      "metadata": {
        "id": "gLzY8_F1_j69"
      },
      "source": [
        "C.Keep the learning rate as 0.01. Scale the samples using StandardScaler() and fit the model with the pre-processed samples."
      ]
    },
    {
      "cell_type": "code",
      "execution_count": null,
      "metadata": {
        "colab": {
          "base_uri": "https://localhost:8080/",
          "height": 282
        },
        "id": "zv4Z3i6R_1lZ",
        "outputId": "0f49e8ad-a816-4f70-9e91-6f8dafa027c5"
      },
      "outputs": [
        {
          "data": {
            "image/png": "[encoded data removed]",
            "text/plain": [
              "<Figure size 432x288 with 1 Axes>"
            ]
          },
          "metadata": {},
          "output_type": "display_data"
        }
      ],
      "source": [
        "log_reg = SGDClassifier(loss='log', penalty='None', alpha=0, random_state=10, max_iter=1, warm_start=True, learning_rate='constant', eta0=0.01)\n",
        "scaler = StandardScaler()\n",
        "pipe = make_pipeline(scaler, log_reg)\n",
        "loss = []\n",
        "for i in range(10):\n",
        "  pipe.fit(X_train_69, y_train_69)\n",
        "  y_pred = pipe.predict_proba(X_train_69)\n",
        "  loss.append(log_loss(y_train_69, y_pred))\n",
        "\n",
        "#plt.figure(figsize=(8,8))\n",
        "plt.plot(np.arange(10), loss)\n",
        "plt.grid(True)\n",
        "plt.xlabel('Iterations')\n",
        "plt.ylabel('Loss')\n",
        "plt.show()"
      ]
    },
    {
      "cell_type": "markdown",
      "metadata": {
        "id": "Kyoex3zq_mp-"
      },
      "source": [
        "D.Use the \"invscaling\" stratagey for the learning rate with power_t = 1. Fit the model with x_train_69 (without pre-procesing)."
      ]
    },
    {
      "cell_type": "code",
      "execution_count": null,
      "metadata": {
        "colab": {
          "base_uri": "https://localhost:8080/",
          "height": 279
        },
        "id": "ba2LJXW7_42D",
        "outputId": "e47bbe2d-704f-46f4-e5e2-8303652df4b5"
      },
      "outputs": [
        {
          "data": {
            "image/png": "[encoded data removed]",
            "text/plain": [
              "<Figure size 432x288 with 1 Axes>"
            ]
          },
          "metadata": {},
          "output_type": "display_data"
        }
      ],
      "source": [
        "log_reg = SGDClassifier(loss='log', penalty='None', alpha=0, random_state=10, max_iter=1, warm_start=True, learning_rate='invscaling', eta0=0.01, power_t=1)\n",
        "loss = []\n",
        "for i in range(10):\n",
        "  log_reg.fit(X_train_69, y_train_69)\n",
        "  y_pred = log_reg.predict_proba(X_train_69)\n",
        "  loss.append(log_loss(y_train_69, y_pred))\n",
        "\n",
        "# plt.figure(figsize=(8,8))\n",
        "plt.plot(np.arange(10), loss)\n",
        "plt.grid(True)\n",
        "plt.xlabel('Iterations')\n",
        "plt.ylabel('Loss')\n",
        "plt.show()"
      ]
    },
    {
      "cell_type": "markdown",
      "metadata": {
        "id": "JQljvcNuCXjS"
      },
      "source": [
        "#Graded Assignments\n",
        "\n",
        "Q1) Train the LogisticRegression model using SGDClassifier() with the following common settings.\n",
        "1. No Regularization\n",
        "2. random_state : 10\n",
        "3. Iteration : 30   \n",
        "Capture the loss for each iteration and plot the iteration vs loss curve. For which of the following settings, the iteration vs loss curve converged quickly to zero loss?\n",
        "\n",
        "A. Set Learning rate : 0.01 and plot the curve and fit the model with `x_train_69 `."
      ]
    },
    {
      "cell_type": "code",
      "execution_count": null,
      "metadata": {
        "colab": {
          "base_uri": "https://localhost:8080/",
          "height": 279
        },
        "id": "7Qo2nTE4DCBS",
        "outputId": "471af29c-533f-4883-8216-c26f54b4bcc5"
      },
      "outputs": [
        {
          "data": {
            "image/png": "[encoded data removed]",
            "text/plain": [
              "<Figure size 432x288 with 1 Axes>"
            ]
          },
          "metadata": {},
          "output_type": "display_data"
        }
      ],
      "source": [
        "log_reg = SGDClassifier(loss='log',  alpha=0, random_state=10, max_iter=1, warm_start=True, learning_rate='constant', eta0=0.01)\n",
        "loss = []\n",
        "iterations=30\n",
        "for i in range(iterations):\n",
        "  log_reg.fit(X_train_69, y_train_69)\n",
        "  y_pred = log_reg.predict_proba(X_train_69)\n",
        "  loss.append(log_loss(y_train_69, y_pred))\n",
        "\n",
        "#plt.figure(figsize=(8,8))\n",
        "plt.plot(np.arange(iterations), loss)\n",
        "plt.grid(True)\n",
        "plt.xlabel('Iterations')\n",
        "plt.ylabel('Loss')\n",
        "plt.show()"
      ]
    },
    {
      "cell_type": "markdown",
      "metadata": {
        "id": "SC0q5j3dCl7b"
      },
      "source": [
        "B.Set learning rate to 0.000001 and fit the model with `x_train_69 ` . "
      ]
    },
    {
      "cell_type": "code",
      "execution_count": null,
      "metadata": {
        "colab": {
          "base_uri": "https://localhost:8080/",
          "height": 279
        },
        "id": "svjvNemBDTvT",
        "outputId": "0534e7d4-f844-4411-9479-db774a371792"
      },
      "outputs": [
        {
          "data": {
            "image/png": "[encoded data removed]",
            "text/plain": [
              "<Figure size 432x288 with 1 Axes>"
            ]
          },
          "metadata": {},
          "output_type": "display_data"
        }
      ],
      "source": [
        "log_reg = SGDClassifier(loss='log', penalty='None', alpha=0, random_state=10, max_iter=1, warm_start=True, learning_rate='constant', eta0=0.000001)\n",
        "loss = []\n",
        "iterations=30\n",
        "for i in range(iterations):\n",
        "  log_reg.fit(X_train_69, y_train_69)\n",
        "  y_pred = log_reg.predict_proba(X_train_69)\n",
        "  loss.append(log_loss(y_train_69, y_pred))\n",
        "\n",
        "#plt.figure(figsize=(8,8))\n",
        "plt.plot(np.arange(iterations), loss)\n",
        "plt.grid(True)\n",
        "plt.xlabel('Iterations')\n",
        "plt.ylabel('Loss')\n",
        "plt.show()"
      ]
    },
    {
      "cell_type": "markdown",
      "metadata": {
        "id": "qfZw0rz7CnKK"
      },
      "source": [
        "C.Keep the learning rate as 0.01. Scale the samples using StandardScaler() and fit the model with the pre-processed samples. "
      ]
    },
    {
      "cell_type": "code",
      "execution_count": null,
      "metadata": {
        "colab": {
          "base_uri": "https://localhost:8080/",
          "height": 282
        },
        "id": "uP4wboDPCrmZ",
        "outputId": "94b545c0-7c06-4570-ac4c-7c2862a54764"
      },
      "outputs": [
        {
          "data": {
            "image/png": "[encoded data removed]",
            "text/plain": [
              "<Figure size 432x288 with 1 Axes>"
            ]
          },
          "metadata": {},
          "output_type": "display_data"
        }
      ],
      "source": [
        "log_reg = SGDClassifier(loss='log', penalty='None', alpha=0, random_state=10, max_iter=1, warm_start=True, learning_rate='constant', eta0=0.01)\n",
        "scaler = StandardScaler()\n",
        "pipe = make_pipeline(scaler, log_reg)\n",
        "loss = []\n",
        "iterations=30\n",
        "for i in range(iterations):\n",
        "  pipe.fit(X_train_69, y_train_69)\n",
        "  y_pred = pipe.predict_proba(X_train_69)\n",
        "  loss.append(log_loss(y_train_69, y_pred))\n",
        "\n",
        "#plt.figure(figsize=(8,8))\n",
        "plt.plot(np.arange(iterations), loss)\n",
        "plt.grid(True)\n",
        "plt.xlabel('Iterations')\n",
        "plt.ylabel('Loss')\n",
        "plt.show()"
      ]
    },
    {
      "cell_type": "markdown",
      "metadata": {
        "id": "n61jWq8lCsRy"
      },
      "source": [
        "D.Use the \"invscaling\" stratagey for the learning rate with power_t = 1. Fit the model with x_train_69 (without pre-procesing)."
      ]
    },
    {
      "cell_type": "code",
      "execution_count": null,
      "metadata": {
        "colab": {
          "base_uri": "https://localhost:8080/",
          "height": 279
        },
        "id": "PPiRxlFvDV6K",
        "outputId": "53098b0b-af8c-4f6e-c5d4-1c0b55bfd45b"
      },
      "outputs": [
        {
          "data": {
            "image/png": "[encoded data removed]",
            "text/plain": [
              "<Figure size 432x288 with 1 Axes>"
            ]
          },
          "metadata": {},
          "output_type": "display_data"
        }
      ],
      "source": [
        "log_reg = SGDClassifier(loss='log', penalty='None', alpha=0, random_state=10, max_iter=1, warm_start=True, learning_rate='invscaling',power_t=1, eta0=0.01)\n",
        "loss = []\n",
        "iterations=30\n",
        "for i in range(iterations):\n",
        "  log_reg.fit(X_train_69, y_train_69)\n",
        "  y_pred = log_reg.predict_proba(X_train_69)\n",
        "  loss.append(log_loss(y_train_69, y_pred))\n",
        "\n",
        "#plt.figure(figsize=(8,8))\n",
        "plt.plot(np.arange(iterations), loss)\n",
        "plt.grid(True)\n",
        "plt.xlabel('Iterations')\n",
        "plt.ylabel('Loss')\n",
        "plt.show()"
      ]
    },
    {
      "cell_type": "markdown",
      "metadata": {
        "id": "pu8lhx7WEwdn"
      },
      "source": [
        "Q3) Create the classifier with the following settings\n",
        "\n",
        "1. No Regularization\n",
        "2. eta0 = 0.5\n",
        "3. learning_rate = 'inv_scaling'\n",
        "4. power_t = 0.5\n",
        "5. iterations = 10\n",
        "6. Shuffle = True\n",
        "7. random_state = 10\n",
        "\n",
        "Train the classifier with x_train_69. Answer the following questions?\n",
        "\n",
        "How many false positives (FP) are there in the predictions made on training samples?"
      ]
    },
    {
      "cell_type": "code",
      "execution_count": null,
      "metadata": {
        "colab": {
          "base_uri": "https://localhost:8080/",
          "height": 279
        },
        "id": "mwabXKNtE3zF",
        "outputId": "7845904a-a705-4ac5-ed54-3adb1b3a1b4e"
      },
      "outputs": [
        {
          "data": {
            "image/png": "[encoded data removed]",
            "text/plain": [
              "<Figure size 432x288 with 2 Axes>"
            ]
          },
          "metadata": {},
          "output_type": "display_data"
        }
      ],
      "source": [
        "log_reg = SGDClassifier(loss='log', penalty='None', alpha=0, random_state=10, max_iter=10, shuffle=True, learning_rate='invscaling',power_t=0.5, eta0=0.5)\n",
        "log_reg.fit(X_train_69, y_train_69)\n",
        "y_pred = log_reg.predict(X_train_69)\n",
        "cm_display = ConfusionMatrixDisplay.from_predictions(y_train_69, y_pred)\n",
        "plt.show()"
      ]
    },
    {
      "cell_type": "markdown",
      "metadata": {
        "id": "Kc9KE3qwGtk9"
      },
      "source": [
        "Q4) Display all the False Positive samples.Could a human recognize them correctly?. Get the index of all FP samples in ascending order. Enter the first index."
      ]
    },
    {
      "cell_type": "code",
      "execution_count": null,
      "metadata": {
        "colab": {
          "base_uri": "https://localhost:8080/"
        },
        "id": "7c4Cg2C9Hgj7",
        "outputId": "6436598c-a02f-4200-e317-09864b7ee872"
      },
      "outputs": [
        {
          "data": {
            "text/plain": [
              "array([   0, 2167, 2407, 3036, 3368, 4217, 5556, 6230])"
            ]
          },
          "execution_count": 21,
          "metadata": {},
          "output_type": "execute_result"
        }
      ],
      "source": [
        "y_train_69_False = np.where(y_train_69==0)\n",
        "y_pred_True = np.where(y_pred == 1)\n",
        "\n",
        "np.intersect1d(y_train_69_False, y_pred_True)"
      ]
    },
    {
      "cell_type": "markdown",
      "metadata": {
        "id": "FuElntdIGv9K"
      },
      "source": [
        "Q5) Load '20newsgroups' data.\n",
        "* Vectorize the data using TfidfVectorizer. \n",
        "\n",
        "Which of the following options represent the shape of the fitted and transformed dataset??"
      ]
    },
    {
      "cell_type": "code",
      "execution_count": null,
      "metadata": {
        "id": "qpUWTwij2O-l"
      },
      "outputs": [],
      "source": [
        "from sklearn.datasets import fetch_20newsgroups\n",
        "from sklearn.feature_extraction.text import TfidfVectorizer\n",
        "from sklearn.naive_bayes import MultinomialNB\n",
        "from sklearn.model_selection import train_test_split"
      ]
    },
    {
      "cell_type": "code",
      "execution_count": null,
      "metadata": {
        "colab": {
          "background_save": true
        },
        "id": "NYxtFfPT2QHV",
        "outputId": "78adc714-5d75-4b4e-cec2-949a9ffc012b"
      },
      "outputs": [
        {
          "name": "stdout",
          "output_type": "stream",
          "text": [
            "(11314, 130107)\n"
          ]
        }
      ],
      "source": [
        "news_text = fetch_20newsgroups()\n",
        "# print(data)\n",
        "vectorizer = TfidfVectorizer()\n",
        "data_transformed = vectorizer.fit_transform(news_text.data)\n",
        "# data_transformed, label_transformed = model.fit(data.data, data.target)\n",
        "print(data_transformed.shape)"
      ]
    },
    {
      "cell_type": "markdown",
      "metadata": {
        "id": "ohCUmXHA9-fb"
      },
      "source": [
        "Q6) Split the data into train and test using train_test_split with test_size = 0.3 and random_state = 0.\n",
        "\n",
        "Use MultinomialNB to train the model.\n",
        "\n",
        "Compute test score."
      ]
    },
    {
      "cell_type": "code",
      "execution_count": null,
      "metadata": {
        "colab": {
          "background_save": true
        },
        "id": "H_X8LOPZ9-NP",
        "outputId": "3bd8f7d3-ceba-4f75-afee-0a58436fa4b2"
      },
      "outputs": [
        {
          "name": "stdout",
          "output_type": "stream",
          "text": [
            "0.8427098674521355\n"
          ]
        }
      ],
      "source": [
        "X_train, X_test, y_train, y_test = train_test_split(data_transformed, news_text.target, test_size=0.3, random_state=0)\n",
        "\n",
        "multiNB = MultinomialNB()\n",
        "multiNB.fit(X_train, y_train)\n",
        "\n",
        "scores = multiNB.score(X_test, y_test)\n",
        "print(scores)"
      ]
    }
  ],
  "metadata": {
    "colab": {
      "provenance": [],
      "authorship_tag": "ABX9TyNJa1wEkkZSd1dEpbNZkhan"
    },
    "kernelspec": {
      "display_name": "Python 3",
      "name": "python3"
    },
    "language_info": {
      "name": "python"
    }
  },
  "nbformat": 4,
  "nbformat_minor": 0
}