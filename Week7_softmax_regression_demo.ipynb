{
  "cells": [
    {
      "cell_type": "markdown",
      "metadata": {
        "id": "bzFtEfxVtMk9"
      },
      "source": [
        "# Overview"
      ]
    },
    {
      "cell_type": "markdown",
      "metadata": {
        "id": "clWUyHQZm-2R"
      },
      "source": [
        "The objective of this colab is to demonstrate softmax regression in classification task.\n",
        "\n",
        "> We make use of MNIST dataset for multi-class classification of images into the digits they represent."
      ]
    },
    {
      "cell_type": "markdown",
      "metadata": {
        "id": "bhknnmC1tPc6"
      },
      "source": [
        "# Import"
      ]
    },
    {
      "cell_type": "markdown",
      "metadata": {
        "id": "y_9TOvwAsg0W"
      },
      "source": [
        "Let's import necessary libraries for data loading, preprocessing, model training, selection and evaluation. \n",
        "\n",
        "In addition, we also import basic python libraries for data handling and plotting.\n",
        "\n",
        "We set the random seed to 42."
      ]
    },
    {
      "cell_type": "code",
      "execution_count": null,
      "metadata": {
        "id": "DhgQjafdmrAl"
      },
      "outputs": [],
      "source": [
        "# Common imports\n",
        "import numpy as np\n",
        "from pprint import pprint\n",
        "\n",
        "# to make this notebook's output stable across runs\n",
        "np.random.seed(42)\n",
        "\n",
        "#sklearn specific imports\n",
        "# Dataset fetching \n",
        "from sklearn.datasets import fetch_openml\n",
        "\n",
        "# Feature scaling\n",
        "from sklearn.preprocessing import StandardScaler\n",
        "\n",
        "# Pipeline utility\n",
        "from sklearn.pipeline import Pipeline\n",
        "\n",
        "# Classifiers: logistic regression (LogisticRegression)\n",
        "from sklearn.linear_model import LogisticRegression, LogisticRegressionCV\n",
        "\n",
        "# Evaluation metrics\n",
        "from sklearn.metrics import ConfusionMatrixDisplay\n",
        "from sklearn.metrics import classification_report\n",
        "from sklearn.metrics import f1_score\n",
        "from sklearn.metrics import make_scorer\n",
        "\n",
        "\n",
        "# To plot pretty figures\n",
        "%matplotlib inline\n",
        "import matplotlib as mpl\n",
        "import matplotlib.pyplot as plt\n",
        "import seaborn as sns\n",
        "\n",
        "# global settings\n",
        "mpl.rc('axes', labelsize=14)\n",
        "mpl.rc('xtick', labelsize=12)\n",
        "mpl.rc('ytick', labelsize=12)\n",
        "mpl.rc('figure',figsize=(8,6))"
      ]
    },
    {
      "cell_type": "markdown",
      "metadata": {
        "id": "MQ0HGxRRtKRj"
      },
      "source": [
        "# Data loading"
      ]
    },
    {
      "cell_type": "markdown",
      "metadata": {
        "id": "GIBrJvQAs08H"
      },
      "source": [
        "Let's load the MNIST dataset for handwritten digit recognition from OpenML.\n",
        "\n"
      ]
    },
    {
      "cell_type": "code",
      "execution_count": null,
      "metadata": {
        "id": "kL1pAhkjotEy"
      },
      "outputs": [],
      "source": [
        "X, y = fetch_openml('mnist_784', version=1, return_X_y=True)"
      ]
    },
    {
      "cell_type": "markdown",
      "metadata": {
        "id": "hrdMMn6VtBZw"
      },
      "source": [
        "We receive feature matrix and label vector after fetching the data."
      ]
    },
    {
      "cell_type": "markdown",
      "metadata": {
        "id": "rpYZFkjatFfp"
      },
      "source": [
        "## Training-test split"
      ]
    },
    {
      "cell_type": "markdown",
      "metadata": {
        "id": "5xiO9GlrtS7o"
      },
      "source": [
        "Just like earlier MNIST explorations, we use first 60000 examples for training and the remaining 10000 examples for test."
      ]
    },
    {
      "cell_type": "code",
      "execution_count": null,
      "metadata": {
        "id": "7NR7dn5Jo5Ex"
      },
      "outputs": [],
      "source": [
        "X = X.to_numpy()\n",
        "y = y.to_numpy()\n",
        "x_train, x_test, y_train, y_test = X[:60000], X[60000:], y[:60000], y[60000:]"
      ]
    },
    {
      "cell_type": "markdown",
      "metadata": {
        "id": "zEIZGMJdtb-j"
      },
      "source": [
        "# Model building\n",
        "\n",
        "We scale the input features with `StandardScaler` and use `LogisticRegression` estimator with `multi_class` parameter set to `multinomial` and using `sag` solver."
      ]
    },
    {
      "cell_type": "code",
      "execution_count": null,
      "metadata": {
        "id": "cQxJ_AY2pZUl",
        "colab": {
          "base_uri": "https://localhost:8080/"
        },
        "outputId": "85926296-8e40-47ea-82bc-720798e2e104"
      },
      "outputs": [
        {
          "output_type": "stream",
          "name": "stderr",
          "text": [
            "/usr/local/lib/python3.7/dist-packages/sklearn/linear_model/_sag.py:354: ConvergenceWarning: The max_iter was reached which means the coef_ did not converge\n",
            "  ConvergenceWarning,\n"
          ]
        },
        {
          "output_type": "execute_result",
          "data": {
            "text/plain": [
              "Pipeline(steps=[('scaler', StandardScaler()),\n",
              "                ('logreg',\n",
              "                 LogisticRegression(multi_class='multinomial', solver='sag'))])"
            ]
          },
          "metadata": {},
          "execution_count": 4
        }
      ],
      "source": [
        "pipe = Pipeline(steps=[('scaler', StandardScaler()),\n",
        "                       ('logreg', LogisticRegression(multi_class='multinomial',\n",
        "                                                     solver='sag'))])\n",
        "pipe.fit(x_train, y_train)"
      ]
    },
    {
      "cell_type": "markdown",
      "metadata": {
        "id": "LxzQWqrstz8v"
      },
      "source": [
        "After training the model with the training feature matrix and labels, we learn model parameters."
      ]
    },
    {
      "cell_type": "code",
      "execution_count": null,
      "metadata": {
        "colab": {
          "base_uri": "https://localhost:8080/"
        },
        "id": "7M0stzGft9a3",
        "outputId": "5d4a9c97-542c-4efd-f446-49b29eac2125"
      },
      "outputs": [
        {
          "output_type": "execute_result",
          "data": {
            "text/plain": [
              "(10, 784)"
            ]
          },
          "metadata": {},
          "execution_count": 5
        }
      ],
      "source": [
        "pipe[-1].coef_.shape"
      ]
    },
    {
      "cell_type": "code",
      "execution_count": null,
      "metadata": {
        "colab": {
          "base_uri": "https://localhost:8080/"
        },
        "id": "KSRcMrQjt9ZY",
        "outputId": "e534756f-7009-45a5-bb7a-82b297ea8a10"
      },
      "outputs": [
        {
          "output_type": "execute_result",
          "data": {
            "text/plain": [
              "(10,)"
            ]
          },
          "metadata": {},
          "execution_count": 6
        }
      ],
      "source": [
        "pipe[-1].intercept_.shape"
      ]
    },
    {
      "cell_type": "code",
      "execution_count": null,
      "metadata": {
        "colab": {
          "base_uri": "https://localhost:8080/"
        },
        "id": "v7L8o9MeuTTi",
        "outputId": "2aadd319-6afa-49b8-ac5a-83dc95b1e9f6"
      },
      "outputs": [
        {
          "output_type": "execute_result",
          "data": {
            "text/plain": [
              "array(['0', '1', '2', '3', '4', '5', '6', '7', '8', '9'], dtype=object)"
            ]
          },
          "metadata": {},
          "execution_count": 7
        }
      ],
      "source": [
        "pipe[-1].classes_"
      ]
    },
    {
      "cell_type": "markdown",
      "metadata": {
        "id": "mngPCY8Tue87"
      },
      "source": [
        "# Model evaluation"
      ]
    },
    {
      "cell_type": "markdown",
      "metadata": {
        "id": "_mgKWGStuibM"
      },
      "source": [
        "Let's get a classification report on the test set and also display the confusion matrix."
      ]
    },
    {
      "cell_type": "code",
      "execution_count": null,
      "metadata": {
        "colab": {
          "base_uri": "https://localhost:8080/"
        },
        "id": "jvZC1Kcjqmi2",
        "outputId": "cfbcdfd7-ae44-4d6b-8f07-65f8468c0517"
      },
      "outputs": [
        {
          "output_type": "stream",
          "name": "stdout",
          "text": [
            "              precision    recall  f1-score   support\n",
            "\n",
            "           0       0.95      0.98      0.97       980\n",
            "           1       0.96      0.98      0.97      1135\n",
            "           2       0.94      0.90      0.92      1032\n",
            "           3       0.91      0.91      0.91      1010\n",
            "           4       0.92      0.94      0.93       982\n",
            "           5       0.91      0.87      0.89       892\n",
            "           6       0.93      0.95      0.94       958\n",
            "           7       0.92      0.93      0.92      1028\n",
            "           8       0.88      0.88      0.88       974\n",
            "           9       0.91      0.91      0.91      1009\n",
            "\n",
            "    accuracy                           0.92     10000\n",
            "   macro avg       0.92      0.92      0.92     10000\n",
            "weighted avg       0.92      0.92      0.92     10000\n",
            "\n"
          ]
        }
      ],
      "source": [
        "print(classification_report(y_test, pipe.predict(x_test)))"
      ]
    },
    {
      "cell_type": "code",
      "execution_count": null,
      "metadata": {
        "id": "X03mXFxSZdAJ"
      },
      "outputs": [],
      "source": []
    },
    {
      "cell_type": "markdown",
      "metadata": {
        "id": "undRs7gMuqrF"
      },
      "source": [
        "Most of the classes have f1_score greater than 90%, which is considered to be a good f1-score."
      ]
    },
    {
      "cell_type": "code",
      "execution_count": null,
      "metadata": {
        "colab": {
          "base_uri": "https://localhost:8080/",
          "height": 286
        },
        "id": "UkPi8qRvr_Zq",
        "outputId": "115eb576-a45c-41a6-ebbd-949470f34a32"
      },
      "outputs": [
        {
          "output_type": "display_data",
          "data": {
            "text/plain": [
              "<Figure size 432x288 with 2 Axes>"
            ],
            "image/png": "[encoded data removed]"
          },
          "metadata": {
            "needs_background": "light"
          }
        }
      ],
      "source": [
        "ConfusionMatrixDisplay.from_estimator(pipe, x_test, y_test)\n",
        "plt.show()"
      ]
    },
    {
      "cell_type": "markdown",
      "metadata": {
        "id": "U8WCQc4zwaQ3"
      },
      "source": [
        "# Using `LogisticRegressionCV`"
      ]
    },
    {
      "cell_type": "code",
      "execution_count": null,
      "metadata": {
        "colab": {
          "base_uri": "https://localhost:8080/"
        },
        "id": "uy3lEJUpvdhW",
        "outputId": "0e9f2902-9296-4eea-ddda-79f8819a09c5"
      },
      "outputs": [
        {
          "output_type": "stream",
          "name": "stderr",
          "text": [
            "/usr/local/lib/python3.7/dist-packages/sklearn/linear_model/_sag.py:354: ConvergenceWarning: The max_iter was reached which means the coef_ did not converge\n",
            "  ConvergenceWarning,\n",
            "/usr/local/lib/python3.7/dist-packages/sklearn/linear_model/_sag.py:354: ConvergenceWarning: The max_iter was reached which means the coef_ did not converge\n",
            "  ConvergenceWarning,\n",
            "/usr/local/lib/python3.7/dist-packages/sklearn/linear_model/_sag.py:354: ConvergenceWarning: The max_iter was reached which means the coef_ did not converge\n",
            "  ConvergenceWarning,\n",
            "/usr/local/lib/python3.7/dist-packages/sklearn/linear_model/_sag.py:354: ConvergenceWarning: The max_iter was reached which means the coef_ did not converge\n",
            "  ConvergenceWarning,\n",
            "/usr/local/lib/python3.7/dist-packages/sklearn/linear_model/_sag.py:354: ConvergenceWarning: The max_iter was reached which means the coef_ did not converge\n",
            "  ConvergenceWarning,\n",
            "/usr/local/lib/python3.7/dist-packages/sklearn/linear_model/_sag.py:354: ConvergenceWarning: The max_iter was reached which means the coef_ did not converge\n",
            "  ConvergenceWarning,\n",
            "/usr/local/lib/python3.7/dist-packages/sklearn/linear_model/_sag.py:354: ConvergenceWarning: The max_iter was reached which means the coef_ did not converge\n",
            "  ConvergenceWarning,\n",
            "/usr/local/lib/python3.7/dist-packages/sklearn/linear_model/_sag.py:354: ConvergenceWarning: The max_iter was reached which means the coef_ did not converge\n",
            "  ConvergenceWarning,\n",
            "/usr/local/lib/python3.7/dist-packages/sklearn/linear_model/_sag.py:354: ConvergenceWarning: The max_iter was reached which means the coef_ did not converge\n",
            "  ConvergenceWarning,\n",
            "/usr/local/lib/python3.7/dist-packages/sklearn/linear_model/_sag.py:354: ConvergenceWarning: The max_iter was reached which means the coef_ did not converge\n",
            "  ConvergenceWarning,\n",
            "/usr/local/lib/python3.7/dist-packages/sklearn/linear_model/_sag.py:354: ConvergenceWarning: The max_iter was reached which means the coef_ did not converge\n",
            "  ConvergenceWarning,\n",
            "/usr/local/lib/python3.7/dist-packages/sklearn/linear_model/_sag.py:354: ConvergenceWarning: The max_iter was reached which means the coef_ did not converge\n",
            "  ConvergenceWarning,\n",
            "/usr/local/lib/python3.7/dist-packages/sklearn/linear_model/_sag.py:354: ConvergenceWarning: The max_iter was reached which means the coef_ did not converge\n",
            "  ConvergenceWarning,\n",
            "/usr/local/lib/python3.7/dist-packages/sklearn/linear_model/_sag.py:354: ConvergenceWarning: The max_iter was reached which means the coef_ did not converge\n",
            "  ConvergenceWarning,\n",
            "/usr/local/lib/python3.7/dist-packages/sklearn/linear_model/_sag.py:354: ConvergenceWarning: The max_iter was reached which means the coef_ did not converge\n",
            "  ConvergenceWarning,\n",
            "/usr/local/lib/python3.7/dist-packages/sklearn/linear_model/_sag.py:354: ConvergenceWarning: The max_iter was reached which means the coef_ did not converge\n",
            "  ConvergenceWarning,\n",
            "/usr/local/lib/python3.7/dist-packages/sklearn/linear_model/_sag.py:354: ConvergenceWarning: The max_iter was reached which means the coef_ did not converge\n",
            "  ConvergenceWarning,\n",
            "/usr/local/lib/python3.7/dist-packages/sklearn/linear_model/_sag.py:354: ConvergenceWarning: The max_iter was reached which means the coef_ did not converge\n",
            "  ConvergenceWarning,\n",
            "/usr/local/lib/python3.7/dist-packages/sklearn/linear_model/_sag.py:354: ConvergenceWarning: The max_iter was reached which means the coef_ did not converge\n",
            "  ConvergenceWarning,\n",
            "/usr/local/lib/python3.7/dist-packages/sklearn/linear_model/_sag.py:354: ConvergenceWarning: The max_iter was reached which means the coef_ did not converge\n",
            "  ConvergenceWarning,\n",
            "/usr/local/lib/python3.7/dist-packages/sklearn/linear_model/_sag.py:354: ConvergenceWarning: The max_iter was reached which means the coef_ did not converge\n",
            "  ConvergenceWarning,\n"
          ]
        },
        {
          "output_type": "execute_result",
          "data": {
            "text/plain": [
              "Pipeline(steps=[('scaler', StandardScaler()),\n",
              "                ('logreg',\n",
              "                 LogisticRegressionCV(cv=2, multi_class='multinomial',\n",
              "                                      random_state=1729,\n",
              "                                      scoring=make_scorer(f1_score, average=micro),\n",
              "                                      solver='sag'))])"
            ]
          },
          "metadata": {},
          "execution_count": 10
        }
      ],
      "source": [
        "from sklearn.metrics import make_scorer\n",
        "from sklearn.metrics import f1_score\n",
        "\n",
        "scorer = make_scorer(f1_score, average='micro')\n",
        "pipe = Pipeline(steps=[('scaler', StandardScaler()),\n",
        "                       ('logreg', LogisticRegressionCV(\n",
        "                           cv=2, multi_class='multinomial', solver='sag',\n",
        "                           scoring=scorer, max_iter=100,\n",
        "                           random_state=1729)\n",
        "                       )])\n",
        "pipe.fit(x_train, y_train)"
      ]
    },
    {
      "cell_type": "code",
      "execution_count": null,
      "metadata": {
        "colab": {
          "base_uri": "https://localhost:8080/"
        },
        "id": "IJx8HQsowqJ_",
        "outputId": "0871c750-5391-443d-ca9a-01171a4a16b9"
      },
      "outputs": [
        {
          "output_type": "execute_result",
          "data": {
            "text/plain": [
              "array([2.7825594, 2.7825594, 2.7825594, 2.7825594, 2.7825594, 2.7825594,\n",
              "       2.7825594, 2.7825594, 2.7825594, 2.7825594])"
            ]
          },
          "metadata": {},
          "execution_count": 11
        }
      ],
      "source": [
        "pipe[-1].C_"
      ]
    },
    {
      "cell_type": "code",
      "execution_count": null,
      "metadata": {
        "colab": {
          "base_uri": "https://localhost:8080/"
        },
        "id": "HaAxI8hRwyfb",
        "outputId": "f4674dd8-8dc6-46cf-900d-6f987daef213"
      },
      "outputs": [
        {
          "output_type": "execute_result",
          "data": {
            "text/plain": [
              "array([None, None, None, None, None, None, None, None, None, None],\n",
              "      dtype=object)"
            ]
          },
          "metadata": {},
          "execution_count": 12
        }
      ],
      "source": [
        "pipe[-1].l1_ratio_"
      ]
    },
    {
      "cell_type": "code",
      "execution_count": null,
      "metadata": {
        "colab": {
          "base_uri": "https://localhost:8080/"
        },
        "id": "oN9HBUOCwVIw",
        "outputId": "e929d430-219d-4a42-eaca-46d63e22ca01"
      },
      "outputs": [
        {
          "output_type": "stream",
          "name": "stdout",
          "text": [
            "              precision    recall  f1-score   support\n",
            "\n",
            "           0       0.96      0.98      0.97       980\n",
            "           1       0.96      0.98      0.97      1135\n",
            "           2       0.94      0.90      0.92      1032\n",
            "           3       0.91      0.91      0.91      1010\n",
            "           4       0.93      0.94      0.93       982\n",
            "           5       0.91      0.87      0.89       892\n",
            "           6       0.93      0.95      0.94       958\n",
            "           7       0.92      0.93      0.92      1028\n",
            "           8       0.88      0.89      0.88       974\n",
            "           9       0.91      0.91      0.91      1009\n",
            "\n",
            "    accuracy                           0.93     10000\n",
            "   macro avg       0.93      0.92      0.93     10000\n",
            "weighted avg       0.93      0.93      0.93     10000\n",
            "\n"
          ]
        }
      ],
      "source": [
        "print(classification_report(y_test, pipe.predict(x_test)))"
      ]
    },
    {
      "cell_type": "code",
      "execution_count": null,
      "metadata": {
        "colab": {
          "background_save": true,
          "base_uri": "https://localhost:8080/"
        },
        "id": "B8yyyh86wYNd",
        "outputId": "4b2210e5-4d9e-41d4-c9ec-ff520f5eb8d1"
      },
      "outputs": [
        {
          "output_type": "display_data",
          "data": {
            "text/plain": [
              "<Figure size 432x288 with 2 Axes>"
            ],
            "image/png": "[encoded data removed]"
          },
          "metadata": {
            "needs_background": "light"
          }
        }
      ],
      "source": [
        "ConfusionMatrixDisplay.from_estimator(pipe, x_test, y_test)\n",
        "plt.show()"
      ]
    }
  ],
  "metadata": {
    "accelerator": "GPU",
    "colab": {
      "provenance": []
    },
    "kernelspec": {
      "display_name": "Python 3",
      "name": "python3"
    },
    "language_info": {
      "name": "python"
    }
  },
  "nbformat": 4,
  "nbformat_minor": 0
}