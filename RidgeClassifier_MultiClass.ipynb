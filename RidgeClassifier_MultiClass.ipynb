{
  "nbformat": 4,
  "nbformat_minor": 0,
  "metadata": {
    "colab": {
      "provenance": [],
      "authorship_tag": "ABX9TyNAl6FLsSvpdA2Utd0gHlFU"
    },
    "kernelspec": {
      "name": "python3",
      "display_name": "Python 3"
    },
    "language_info": {
      "name": "python"
    }
  },
  "cells": [
    {
      "cell_type": "markdown",
      "source": [
        "#RidgeClassifier\n",
        "* Ridge classifier cast the problem as least square classification and finds the optimal weight using some matrix decomposition technique such as SVD.\n",
        "* To train RidgeClassifier, the labels should be {-1, +1}\n",
        "* The classifier by default implements L2 regularization. \n",
        "\n",
        "However we first implement it without regularization by setting alpha=0"
      ],
      "metadata": {
        "id": "UHSzKDbX87EV"
      }
    },
    {
      "cell_type": "code",
      "execution_count": null,
      "metadata": {
        "id": "1qXwckqv8yqn"
      },
      "outputs": [],
      "source": [
        "import numpy as np\n",
        "import os\n",
        "import io\n",
        "import warnings\n",
        "\n",
        "from sklearn.datasets import fetch_openml\n",
        "from sklearn.preprocessing import MinMaxScaler\n",
        "from sklearn.pipeline import Pipeline, make_pipeline\n",
        "from sklearn.dummy import DummyClassifier\n",
        "from sklearn.linear_model import SGDClassifier, RidgeClassifier, LogisticRegressionCV, LogisticRegression\n",
        "from sklearn.metrics import hinge_loss\n",
        "from sklearn.metrics import ConfusionMatrixDisplay, confusion_matrix, precision_recall_curve\n",
        "from sklearn.metrics import precision_score, recall_score, classification_report\n",
        "from sklearn.metrics import make_scorer, roc_curve, roc_auc_score, log_loss\n",
        "from sklearn.model_selection import cross_validate, cross_val_predict, GridSearchCV, RandomizedSearchCV\n",
        "from pprint import pprint\n",
        "\n",
        "%matplotlib inline\n",
        "import matplotlib.pyplot as plt\n",
        "import matplotlib as mpl\n",
        "import seaborn as sns\n",
        "\n",
        "from scipy.stats import loguniform\n",
        "np.random.seed(42)\n",
        "\n",
        "#global settings\n",
        "mpl.rc('axes', labelsize=14)\n",
        "mpl.rc('xtick', labelsize=12)\n",
        "mpl.rc('ytick', labelsize=12)\n",
        "mpl.rc('figure', figsize=(8,6))"
      ]
    },
    {
      "cell_type": "code",
      "source": [
        "#Ignore all warnings\n",
        "def warn(*args, **kwargs):\n",
        "  pass\n",
        "warnings.warn = warn"
      ],
      "metadata": {
        "id": "jeNg711J9sx3"
      },
      "execution_count": null,
      "outputs": []
    },
    {
      "cell_type": "code",
      "source": [
        "X_pd, y_pd = fetch_openml('mnist_784', version=1, return_X_y=True)\n",
        "X = X_pd.to_numpy()\n",
        "y = y_pd.to_numpy()\n",
        "\n",
        "X_train, X_test, y_train, y_test  = X[:60000], X[60000:], y[:60000], y[60000:]"
      ],
      "metadata": {
        "id": "naUl0y-t9tZT"
      },
      "execution_count": null,
      "outputs": []
    },
    {
      "cell_type": "code",
      "source": [
        "y_train_0 = -1 * np.ones((len(y_train)))\n",
        "y_test_0 = -1 * np.ones((len(y_test)))\n",
        "\n",
        "#find the indices of digit 0\n",
        "indx_0 = np.where(y_train == '0') # oroginal labels are str, not int\n",
        "#use these indices to modify y_train_0 and y_test_0\n",
        "y_train_0[indx_0] = 1 \n",
        "\n",
        "indx_0 = np.where(y_test == '0')\n",
        "y_test_0[indx_0] = 1"
      ],
      "metadata": {
        "id": "j63RNbsn92Uh"
      },
      "execution_count": null,
      "outputs": []
    },
    {
      "cell_type": "code",
      "source": [
        "estimator = RidgeClassifier(normalize=False, alpha=0)\n",
        "pipe_ridge = make_pipeline(MinMaxScaler(), estimator)\n",
        "pipe_ridge.fit(X_train, y_train_0)"
      ],
      "metadata": {
        "colab": {
          "base_uri": "https://localhost:8080/"
        },
        "id": "8omVXfLy-FUX",
        "outputId": "71dc2386-1b3b-412e-cdf7-52d1115fbc83"
      },
      "execution_count": null,
      "outputs": [
        {
          "output_type": "execute_result",
          "data": {
            "text/plain": [
              "Pipeline(steps=[('minmaxscaler', MinMaxScaler()),\n",
              "                ('ridgeclassifier', RidgeClassifier(alpha=0, normalize=False))])"
            ]
          },
          "metadata": {},
          "execution_count": 6
        }
      ]
    },
    {
      "cell_type": "markdown",
      "source": [
        "##Performance"
      ],
      "metadata": {
        "id": "ag1Gk2h0-iws"
      }
    },
    {
      "cell_type": "code",
      "source": [
        "y_hat_test_0 = pipe_ridge.predict(X_test)\n",
        "print(classification_report(y_test_0, y_hat_test_0))"
      ],
      "metadata": {
        "colab": {
          "base_uri": "https://localhost:8080/"
        },
        "id": "GWWnyWy8-iBR",
        "outputId": "0922644a-b50d-4256-b991-a487c4852087"
      },
      "execution_count": null,
      "outputs": [
        {
          "output_type": "stream",
          "name": "stdout",
          "text": [
            "              precision    recall  f1-score   support\n",
            "\n",
            "        -1.0       0.99      0.99      0.99      9020\n",
            "         1.0       0.95      0.88      0.91       980\n",
            "\n",
            "    accuracy                           0.98     10000\n",
            "   macro avg       0.97      0.94      0.95     10000\n",
            "weighted avg       0.98      0.98      0.98     10000\n",
            "\n"
          ]
        }
      ]
    },
    {
      "cell_type": "markdown",
      "source": [
        "##Cross Validation"
      ],
      "metadata": {
        "id": "m_cNwyIX-zh0"
      }
    },
    {
      "cell_type": "code",
      "source": [
        "cv_bin_ridge_clf = cross_validate(pipe_ridge,\n",
        "                                  X_train, y_train_0, cv=5,\n",
        "                                  scoring=['precision', 'recall', 'f1'],\n",
        "                                  return_train_score=True,\n",
        "                                  return_estimator=True\n",
        "                                  )\n",
        "pprint(cv_bin_ridge_clf)"
      ],
      "metadata": {
        "colab": {
          "base_uri": "https://localhost:8080/"
        },
        "id": "hv8urNHr-19J",
        "outputId": "caecac92-d772-49b3-cae6-cb8080dee87b"
      },
      "execution_count": null,
      "outputs": [
        {
          "output_type": "stream",
          "name": "stdout",
          "text": [
            "{'estimator': [Pipeline(steps=[('minmaxscaler', MinMaxScaler()),\n",
            "                ('ridgeclassifier', RidgeClassifier(alpha=0, normalize=False))]),\n",
            "               Pipeline(steps=[('minmaxscaler', MinMaxScaler()),\n",
            "                ('ridgeclassifier', RidgeClassifier(alpha=0, normalize=False))]),\n",
            "               Pipeline(steps=[('minmaxscaler', MinMaxScaler()),\n",
            "                ('ridgeclassifier', RidgeClassifier(alpha=0, normalize=False))]),\n",
            "               Pipeline(steps=[('minmaxscaler', MinMaxScaler()),\n",
            "                ('ridgeclassifier', RidgeClassifier(alpha=0, normalize=False))]),\n",
            "               Pipeline(steps=[('minmaxscaler', MinMaxScaler()),\n",
            "                ('ridgeclassifier', RidgeClassifier(alpha=0, normalize=False))])],\n",
            " 'fit_time': array([14.04396272, 19.25759172, 13.33110118, 13.86112499, 10.63280654]),\n",
            " 'score_time': array([0.09708738, 0.17692542, 0.097718  , 0.14104843, 0.10044932]),\n",
            " 'test_f1': array([0.9123734 , 0.90260026, 0.91596265, 0.90429338, 0.90982143]),\n",
            " 'test_precision': array([0.95308188, 0.9437788 , 0.96804511, 0.96194101, 0.96587678]),\n",
            " 'test_recall': array([0.875     , 0.86486486, 0.86919831, 0.85316456, 0.85991561]),\n",
            " 'train_f1': array([0.91412742, 0.91797828, 0.914     , 0.9185776 , 0.91487704]),\n",
            " 'train_precision': array([0.96243584, 0.96684567, 0.96503989, 0.96665889, 0.96752177]),\n",
            " 'train_recall': array([0.8704368 , 0.87381304, 0.8680878 , 0.87505276, 0.86766568])}\n"
          ]
        }
      ]
    },
    {
      "cell_type": "code",
      "source": [
        "best_estimator_id = np.argmax(cv_bin_ridge_clf['train_f1']) \n",
        "best_estimator_id"
      ],
      "metadata": {
        "colab": {
          "base_uri": "https://localhost:8080/"
        },
        "id": "2yV6nxe0_id9",
        "outputId": "0217dd3b-0435-4da5-f744-ff19b5a63491"
      },
      "execution_count": null,
      "outputs": [
        {
          "output_type": "execute_result",
          "data": {
            "text/plain": [
              "3"
            ]
          },
          "metadata": {},
          "execution_count": 10
        }
      ]
    },
    {
      "cell_type": "code",
      "source": [
        "best_estimator = cv_bin_ridge_clf['estimator'][best_estimator_id]\n",
        "print(best_estimator)"
      ],
      "metadata": {
        "colab": {
          "base_uri": "https://localhost:8080/"
        },
        "id": "godnsVU9AAkB",
        "outputId": "96de2e7a-456a-49bd-f16d-2d3d3bd2a280"
      },
      "execution_count": null,
      "outputs": [
        {
          "output_type": "stream",
          "name": "stdout",
          "text": [
            "Pipeline(steps=[('minmaxscaler', MinMaxScaler()),\n",
            "                ('ridgeclassifier', RidgeClassifier(alpha=0, normalize=False))])\n"
          ]
        }
      ]
    },
    {
      "cell_type": "code",
      "source": [
        "y_hat_test_0 = best_estimator.predict(X_test)\n",
        "print(classification_report(y_test_0, y_hat_test_0))"
      ],
      "metadata": {
        "colab": {
          "base_uri": "https://localhost:8080/"
        },
        "id": "tkNdSABcAKCA",
        "outputId": "d5f51a10-73e2-44a7-9809-d6f789a7df72"
      },
      "execution_count": null,
      "outputs": [
        {
          "output_type": "stream",
          "name": "stdout",
          "text": [
            "              precision    recall  f1-score   support\n",
            "\n",
            "        -1.0       0.99      0.99      0.99      9020\n",
            "         1.0       0.95      0.88      0.91       980\n",
            "\n",
            "    accuracy                           0.98     10000\n",
            "   macro avg       0.97      0.94      0.95     10000\n",
            "weighted avg       0.98      0.98      0.98     10000\n",
            "\n"
          ]
        }
      ]
    },
    {
      "cell_type": "markdown",
      "source": [
        "#Multiclass Classifier (OneVsAll)\n",
        "##Multiclass Logit with SGD"
      ],
      "metadata": {
        "id": "-xNRxsdHAfPg"
      }
    },
    {
      "cell_type": "code",
      "source": [
        "estimator = SGDClassifier(loss='log',\n",
        "                            penalty='l2',\n",
        "                            max_iter=1,\n",
        "                            warm_start=True,\n",
        "                            eta0=0.01,\n",
        "                            alpha=0,\n",
        "                            learning_rate='constant',\n",
        "                            random_state=1729\n",
        "                            )\n",
        "pipe_sgd_ovr = make_pipeline(MinMaxScaler(), estimator)\n",
        "loss = []\n",
        "iterations=100\n",
        "for i in range(iterations):\n",
        "  pipe_sgd_ovr.fit(X_train, y_train)\n",
        "  y_pred = pipe_sgd_ovr.predict_proba(X_train)\n",
        "  loss.append(log_loss(y_train, y_pred))"
      ],
      "metadata": {
        "id": "7w7b_cuYByD2"
      },
      "execution_count": null,
      "outputs": []
    },
    {
      "cell_type": "markdown",
      "source": [
        "it almost took 5 minutes for training"
      ],
      "metadata": {
        "id": "2YMnGbKnCkLa"
      }
    },
    {
      "cell_type": "code",
      "source": [
        "plt.figure()\n",
        "plt.plot(np.arange(iterations), loss)\n",
        "plt.grid(True)\n",
        "plt.xlabel('Iterations')\n",
        "plt.ylabel('Loss')\n",
        "plt.show()"
      ],
      "metadata": {
        "colab": {
          "base_uri": "https://localhost:8080/",
          "height": 395
        },
        "id": "kPHX7lvRB4ss",
        "outputId": "373ed958-b561-40f6-fe8e-06bc234ce2d9"
      },
      "execution_count": null,
      "outputs": [
        {
          "output_type": "display_data",
          "data": {
            "text/plain": [
              "<Figure size 576x432 with 1 Axes>"
            ],
            "image/png": "[encoded data removed]"
          },
          "metadata": {
            "needs_background": "light"
          }
        }
      ]
    },
    {
      "cell_type": "markdown",
      "source": [
        "what actually happened behind the scene is the library automatically created 10 bunary classifiers and trained them. During the inference time, the input will be passed thru all 10 classifiers and the highest score among the outputs will be considered as the predicted class. "
      ],
      "metadata": {
        "id": "AkpvlsXGCr7j"
      }
    },
    {
      "cell_type": "code",
      "source": [
        "pipe_sgd_ovr[1]"
      ],
      "metadata": {
        "colab": {
          "base_uri": "https://localhost:8080/"
        },
        "id": "IsCalm4FDG82",
        "outputId": "32284084-f995-4b2a-d2db-1e4eb7d34aa3"
      },
      "execution_count": null,
      "outputs": [
        {
          "output_type": "execute_result",
          "data": {
            "text/plain": [
              "SGDClassifier(alpha=0, eta0=0.01, learning_rate='constant', loss='log',\n",
              "              max_iter=1, random_state=1729, warm_start=True)"
            ]
          },
          "metadata": {},
          "execution_count": 16
        }
      ]
    },
    {
      "cell_type": "code",
      "source": [
        "pipe_sgd_ovr[1].coef_.shape"
      ],
      "metadata": {
        "colab": {
          "base_uri": "https://localhost:8080/"
        },
        "id": "-CUg80zuDKCy",
        "outputId": "3c86dcf4-259f-49f7-c63e-41c2a5edd501"
      },
      "execution_count": null,
      "outputs": [
        {
          "output_type": "execute_result",
          "data": {
            "text/plain": [
              "(10, 784)"
            ]
          },
          "metadata": {},
          "execution_count": 17
        }
      ]
    },
    {
      "cell_type": "markdown",
      "source": [
        "It is a matrix of size 10 x 784. A row represents the weights of a single binary classifier."
      ],
      "metadata": {
        "id": "v2acQz5yDUqW"
      }
    },
    {
      "cell_type": "code",
      "source": [
        "y_hat = pipe_sgd_ovr.predict(X_test)\n",
        "y_hat[:5]"
      ],
      "metadata": {
        "colab": {
          "base_uri": "https://localhost:8080/"
        },
        "id": "9AHXSPvvDd41",
        "outputId": "81993d5c-035d-40c9-ddf9-e3fa50e5dbf9"
      },
      "execution_count": null,
      "outputs": [
        {
          "output_type": "execute_result",
          "data": {
            "text/plain": [
              "array(['7', '2', '1', '0', '4'], dtype='<U1')"
            ]
          },
          "metadata": {},
          "execution_count": 18
        }
      ]
    },
    {
      "cell_type": "code",
      "source": [
        "cm_disply = ConfusionMatrixDisplay.from_predictions(y_test, y_hat, values_format='.5g')\n",
        "plt.show()"
      ],
      "metadata": {
        "colab": {
          "base_uri": "https://localhost:8080/",
          "height": 395
        },
        "id": "hgRwxRMoDnI6",
        "outputId": "40170d3c-d3a3-41ef-f2bf-578a5f1028b4"
      },
      "execution_count": null,
      "outputs": [
        {
          "output_type": "display_data",
          "data": {
            "text/plain": [
              "<Figure size 576x432 with 2 Axes>"
            ],
            "image/png": "[encoded data removed]"
          },
          "metadata": {
            "needs_background": "light"
          }
        }
      ]
    },
    {
      "cell_type": "code",
      "source": [
        "print(classification_report(y_test, y_hat))"
      ],
      "metadata": {
        "colab": {
          "base_uri": "https://localhost:8080/"
        },
        "id": "HDOMv5GaD56L",
        "outputId": "0efec938-9edf-4dd8-f7ee-37b850fe4fe8"
      },
      "execution_count": null,
      "outputs": [
        {
          "output_type": "stream",
          "name": "stdout",
          "text": [
            "              precision    recall  f1-score   support\n",
            "\n",
            "           0       0.93      0.98      0.96       980\n",
            "           1       0.96      0.98      0.97      1135\n",
            "           2       0.92      0.89      0.91      1032\n",
            "           3       0.88      0.91      0.90      1010\n",
            "           4       0.91      0.94      0.92       982\n",
            "           5       0.90      0.84      0.87       892\n",
            "           6       0.95      0.94      0.95       958\n",
            "           7       0.93      0.91      0.92      1028\n",
            "           8       0.88      0.85      0.87       974\n",
            "           9       0.89      0.89      0.89      1009\n",
            "\n",
            "    accuracy                           0.92     10000\n",
            "   macro avg       0.91      0.91      0.91     10000\n",
            "weighted avg       0.91      0.92      0.91     10000\n",
            "\n"
          ]
        }
      ]
    },
    {
      "cell_type": "markdown",
      "source": [
        "#Multiclass LogisticRegression using solvers"
      ],
      "metadata": {
        "id": "bGXsfBP3EK4B"
      }
    },
    {
      "cell_type": "code",
      "source": [
        "pipe_logit_ovr = make_pipeline(MinMaxScaler(), LogisticRegression(random_state=1729, solver='lbfgs', C=np.infty))\n",
        "pipe_logit_ovr.fit(X_train, y_train)"
      ],
      "metadata": {
        "colab": {
          "base_uri": "https://localhost:8080/"
        },
        "id": "DT56garVERk_",
        "outputId": "a4df20dd-caad-4003-cc4b-f943a3624b98"
      },
      "execution_count": null,
      "outputs": [
        {
          "output_type": "execute_result",
          "data": {
            "text/plain": [
              "Pipeline(steps=[('minmaxscaler', MinMaxScaler()),\n",
              "                ('logisticregression',\n",
              "                 LogisticRegression(C=inf, random_state=1729))])"
            ]
          },
          "metadata": {},
          "execution_count": 23
        }
      ]
    },
    {
      "cell_type": "code",
      "source": [
        "y_hat = pipe_logit_ovr.predict(X_test)\n",
        "cm_display = ConfusionMatrixDisplay.from_predictions(y_test, y_hat, values_format='.5g')\n",
        "plt.show()"
      ],
      "metadata": {
        "colab": {
          "base_uri": "https://localhost:8080/",
          "height": 395
        },
        "id": "5MEuNejtEuzv",
        "outputId": "8680285f-d58a-487b-ef8d-76590cf354bf"
      },
      "execution_count": null,
      "outputs": [
        {
          "output_type": "display_data",
          "data": {
            "text/plain": [
              "<Figure size 576x432 with 2 Axes>"
            ],
            "image/png": "[encoded data removed]"
          },
          "metadata": {
            "needs_background": "light"
          }
        }
      ]
    },
    {
      "cell_type": "code",
      "source": [
        "print(classification_report(y_test, y_hat))"
      ],
      "metadata": {
        "colab": {
          "base_uri": "https://localhost:8080/"
        },
        "id": "ZSrKN9QyFIeg",
        "outputId": "0a64dc46-6f0b-4225-855d-b286cb23585e"
      },
      "execution_count": null,
      "outputs": [
        {
          "output_type": "stream",
          "name": "stdout",
          "text": [
            "              precision    recall  f1-score   support\n",
            "\n",
            "           0       0.95      0.98      0.97       980\n",
            "           1       0.96      0.98      0.97      1135\n",
            "           2       0.93      0.90      0.91      1032\n",
            "           3       0.90      0.91      0.91      1010\n",
            "           4       0.94      0.93      0.93       982\n",
            "           5       0.91      0.88      0.89       892\n",
            "           6       0.93      0.95      0.94       958\n",
            "           7       0.94      0.93      0.93      1028\n",
            "           8       0.88      0.88      0.88       974\n",
            "           9       0.91      0.92      0.92      1009\n",
            "\n",
            "    accuracy                           0.93     10000\n",
            "   macro avg       0.92      0.92      0.92     10000\n",
            "weighted avg       0.93      0.93      0.93     10000\n",
            "\n"
          ]
        }
      ]
    },
    {
      "cell_type": "code",
      "source": [
        "w = pipe_logit_ovr.coef_  "
      ],
      "metadata": {
        "id": "9iZ2YLcwFQkg"
      },
      "execution_count": null,
      "outputs": []
    }
  ]
}