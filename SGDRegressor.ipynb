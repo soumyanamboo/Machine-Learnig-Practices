{
  "nbformat": 4,
  "nbformat_minor": 0,
  "metadata": {
    "colab": {
      "provenance": [],
      "authorship_tag": "ABX9TyO62OlP9brVsML367cb3137"
    },
    "kernelspec": {
      "name": "python3",
      "display_name": "Python 3"
    },
    "language_info": {
      "name": "python"
    }
  },
  "cells": [
    {
      "cell_type": "markdown",
      "source": [
        "#SGDRegressor - Linear Regression with iterative optimization.\n",
        "SGD offers a lot of control over optimization procedure through a number of hyperparameters. However we need to set them to right values in order to make it work for training the model."
      ],
      "metadata": {
        "id": "0OvxfvOjD1hO"
      }
    },
    {
      "cell_type": "code",
      "execution_count": null,
      "metadata": {
        "id": "aUWENtV6AdXx"
      },
      "outputs": [],
      "source": [
        "import numpy as np\n",
        "import pandas as pd\n",
        "import matplotlib.pyplot as plt\n",
        "import seaborn as sns\n",
        "\n",
        "from sklearn.datasets import fetch_california_housing\n",
        "from sklearn.linear_model import SGDRegressor\n",
        "\n",
        "from sklearn.metrics import mean_absolute_error, mean_squared_error\n",
        "\n",
        "from sklearn.model_selection import train_test_split\n",
        "from sklearn.model_selection import cross_validate\n",
        "from sklearn.model_selection import cross_val_score\n",
        "from sklearn.model_selection import learning_curve\n",
        "from sklearn.model_selection import ShuffleSplit\n",
        "from sklearn.model_selection import validation_curve\n",
        "\n",
        "from sklearn.pipeline import Pipeline\n",
        "from sklearn.preprocessing import StandardScaler\n",
        "\n",
        "np.random.seed(306)"
      ]
    },
    {
      "cell_type": "code",
      "source": [
        "shuffle_split_cv = ShuffleSplit(n_splits=10, test_size=0.2, random_state=0)"
      ],
      "metadata": {
        "id": "qNWH0uCTEcJp"
      },
      "execution_count": null,
      "outputs": []
    },
    {
      "cell_type": "markdown",
      "source": [
        "* Load the data and split it into traininng and test dataset"
      ],
      "metadata": {
        "id": "jmGTAvSSEpUO"
      }
    },
    {
      "cell_type": "code",
      "source": [
        "features, labels = fetch_california_housing(as_frame=True, return_X_y=True)\n",
        "com_train_features, test_features, com_train_labels, test_labels = train_test_split(features, labels, random_state=42)"
      ],
      "metadata": {
        "id": "qHqtAcLDEvPV"
      },
      "execution_count": null,
      "outputs": []
    },
    {
      "cell_type": "markdown",
      "source": [
        "Divide data into train and dev datasets"
      ],
      "metadata": {
        "id": "o0PAIWsOFfk2"
      }
    },
    {
      "cell_type": "code",
      "source": [
        "train_features, dev_features, train_labels, dev_labels = train_test_split(com_train_features, com_train_labels, random_state=42)"
      ],
      "metadata": {
        "id": "ClYksxU0FiQR"
      },
      "execution_count": null,
      "outputs": []
    },
    {
      "cell_type": "markdown",
      "source": [
        "#Baseline SGDRegressor\n",
        "* Step1: To begin with, we instantiate a baseline SGDRegressor model with default parameters\n",
        "* Step2: Train the model with training feature matrix and labels\n",
        "* Step3: Obtain score on the training and Dev data"
      ],
      "metadata": {
        "id": "lDiSN0npFySp"
      }
    },
    {
      "cell_type": "code",
      "source": [
        "sgd = SGDRegressor(random_state=42)\n",
        "sgd.fit(train_features, train_labels)\n",
        "\n",
        "train_mae = mean_absolute_error(train_labels, sgd.predict(train_features))\n",
        "dev_mae = mean_absolute_error(dev_labels, sgd.predict(dev_features))\n",
        "\n",
        "print('Mean Absolute Error on training set: ', train_mae)\n",
        "print('Mean Absolute Error on development set: ', dev_mae)"
      ],
      "metadata": {
        "colab": {
          "base_uri": "https://localhost:8080/"
        },
        "id": "QkFVN-1KGVn6",
        "outputId": "2935e214-32a9-4a39-9e8a-eb387eb819a2"
      },
      "execution_count": null,
      "outputs": [
        {
          "output_type": "stream",
          "name": "stdout",
          "text": [
            "Mean Absolute Error on training set:  312995824045833.75\n",
            "Mean Absolute Error on development set:  315394681503071.94\n"
          ]
        }
      ]
    },
    {
      "cell_type": "markdown",
      "source": [
        "The Mean Absolute Error is too high. The baseline model does not train well. This may happen due to large learning rate. \n",
        "\n",
        "Let us investigate thos issue by training the model step by step and recording training loss in each step.\n",
        "\n",
        "#Adding a Feature Scaling Step\n",
        "SGD is sensitive to feature scaling. "
      ],
      "metadata": {
        "id": "OyIsKBTLHA4o"
      }
    },
    {
      "cell_type": "code",
      "source": [
        "sgd_pipe = Pipeline(steps=[('feature_scaling', StandardScaler()),\n",
        "                           ('sgd', SGDRegressor())\n",
        "                           ])\n",
        "sgd_pipe.fit(train_features,train_labels)\n",
        "\n",
        "train_mae = mean_absolute_error(train_labels, sgd_pipe.predict(train_features))\n",
        "dev_mae = mean_absolute_error(dev_labels, sgd_pipe.predict(dev_features))\n",
        "\n",
        "print('Mean Absolute Error on training set: ', train_mae)\n",
        "print('Mean Absolute Error on development set: ', dev_mae)"
      ],
      "metadata": {
        "colab": {
          "base_uri": "https://localhost:8080/"
        },
        "id": "YrzfWJD5Hmbq",
        "outputId": "630ddb13-0a33-489a-963c-36643e6425d6"
      },
      "execution_count": null,
      "outputs": [
        {
          "output_type": "stream",
          "name": "stdout",
          "text": [
            "Mean Absolute Error on training set:  0.5135804404077051\n",
            "Mean Absolute Error on development set:  0.6373131245753217\n"
          ]
        }
      ]
    },
    {
      "cell_type": "markdown",
      "source": [
        "The error is still high. Let us run SGDRegressor step by step and investigate the issues with training.\n",
        "\n",
        "#Stepwise training of SGDRegressor\n",
        "* Step1: Instantiate SGDRegressor with warm_start=True and tol=-np.infty.\n",
        "* Step2: Train SGD step by step and record the regression loss in each step.\n",
        "* Step3: Plot learning curve and see if there are any issues in training."
      ],
      "metadata": {
        "id": "alZO5_VjINnT"
      }
    },
    {
      "cell_type": "code",
      "source": [
        "eta0 = 1e-2\n",
        "sgd_pipe = Pipeline(steps=[('feature_scaling', StandardScaler()),\n",
        "                           ('sgd', SGDRegressor(max_iter=1, tol=-np.infty, warm_start=True, random_state=42))\n",
        "                           ])\n",
        "loss = []\n",
        "for epoch in range(100):\n",
        "  sgd_pipe.fit(train_features, train_labels)\n",
        "  loss.append(mean_squared_error(train_labels, sgd_pipe.predict(train_features)))\n",
        "\n",
        "plt.plot(np.arange(len(loss)), loss, 'b-')\n",
        "plt.xlabel('# iterations')\n",
        "plt.ylabel('MSE')\n",
        "plt.title(f'Learning Curve: eta0: {eta0:0.4f}')\n",
        "plt.show()"
      ],
      "metadata": {
        "colab": {
          "base_uri": "https://localhost:8080/",
          "height": 295
        },
        "id": "Levd7T6OI5pN",
        "outputId": "52ea62da-3229-48ae-eb67-7b14b06b8608"
      },
      "execution_count": null,
      "outputs": [
        {
          "output_type": "display_data",
          "data": {
            "text/plain": [
              "<Figure size 432x288 with 1 Axes>"
            ],
            "image/png": "[encoded data removed]"
          },
          "metadata": {
            "needs_background": "light"
          }
        }
      ]
    },
    {
      "cell_type": "markdown",
      "source": [
        "The loss is reduces initially and then increased. This may be due to large learning rates. We will reduce the learning rate by a factor of 10 and retry the training."
      ],
      "metadata": {
        "id": "jm6UuGLeKdCV"
      }
    },
    {
      "cell_type": "code",
      "source": [
        "eta0 = 1e-3\n",
        "sgd_pipe = Pipeline(steps=[('feature_scaling', StandardScaler()),\n",
        "                           ('sgd', SGDRegressor(max_iter=1, tol=-np.infty, warm_start=True, eta0=eta0, random_state=42))\n",
        "                           ])\n",
        "loss = []\n",
        "for epoch in range(100):\n",
        "  sgd_pipe.fit(train_features, train_labels)\n",
        "  loss.append(mean_squared_error(train_labels, sgd_pipe.predict(train_features)))\n",
        "\n",
        "plt.plot(np.arange(len(loss)), loss, 'b-')\n",
        "plt.xlabel('# iterations')\n",
        "plt.ylabel('MSE')\n",
        "plt.title(f'Learning Curve: eta0: {eta0:0.4f}')\n",
        "plt.show()"
      ],
      "metadata": {
        "colab": {
          "base_uri": "https://localhost:8080/",
          "height": 295
        },
        "id": "hPpWKZQyKuTq",
        "outputId": "2a0fad2b-d69c-4284-cfda-01dd53434971"
      },
      "execution_count": null,
      "outputs": [
        {
          "output_type": "display_data",
          "data": {
            "text/plain": [
              "<Figure size 432x288 with 1 Axes>"
            ],
            "image/png": "[encoded data removed]"
          },
          "metadata": {
            "needs_background": "light"
          }
        }
      ]
    },
    {
      "cell_type": "markdown",
      "source": [
        "This is an ideal learning curve, where the train loss reduces monotonically as the training progresses."
      ],
      "metadata": {
        "id": "STSox6s0K6tH"
      }
    },
    {
      "cell_type": "code",
      "source": [
        "print('# iteration before reaching convergence criteria: ', sgd_pipe[-1].n_iter_)\n",
        "print('wieght updates: ', sgd_pipe[-1].t_)"
      ],
      "metadata": {
        "colab": {
          "base_uri": "https://localhost:8080/"
        },
        "id": "oYtsjDvSLJX7",
        "outputId": "827bffcb-af6b-431e-9eb9-9dd6361689f9"
      },
      "execution_count": null,
      "outputs": [
        {
          "output_type": "stream",
          "name": "stdout",
          "text": [
            "# iteration before reaching convergence criteria:  1\n",
            "wieght updates:  11611.0\n"
          ]
        }
      ]
    },
    {
      "cell_type": "code",
      "source": [
        "train_mae = mean_absolute_error(train_labels, sgd_pipe.predict(train_features))\n",
        "dev_mae = mean_absolute_error(dev_labels, sgd_pipe.predict(dev_features))\n",
        "\n",
        "print('Mean Absolute Error on training set: ', train_mae)\n",
        "print('Mean Absolute Error on development set: ', dev_mae)"
      ],
      "metadata": {
        "colab": {
          "base_uri": "https://localhost:8080/"
        },
        "id": "MzIVM8-fLhIy",
        "outputId": "b07cfa07-e653-42d4-8497-eeba04784811"
      },
      "execution_count": null,
      "outputs": [
        {
          "output_type": "stream",
          "name": "stdout",
          "text": [
            "Mean Absolute Error on training set:  0.5333732983042573\n",
            "Mean Absolute Error on development set:  0.5190150280908042\n"
          ]
        }
      ]
    },
    {
      "cell_type": "markdown",
      "source": [
        "#Fixing learning rate through validation curves\n",
        "* Step1: Provide the list of values to be tried for a hyperparameter.\n",
        "* Step2: Instatiate an object of validation_curve with estimator, training featues and labels. Set scoring parameter to relevent score.\n",
        "* Step3: Convert score to error.\n",
        "* Step4: Plot validation curve with value of hyperparameter on x-axis and error on y-axis.\n",
        "* Step5: Fix the hyperparameter value where the test error is the least."
      ],
      "metadata": {
        "id": "0J8mkpPNLmEK"
      }
    },
    {
      "cell_type": "code",
      "source": [
        "%%time\n",
        "eta0 = [1e-5, 1e-4, 1e-3, 1e-2]\n",
        "# print(sgd_pipe.get_params().keys())\n",
        "train_score, test_score = validation_curve(sgd_pipe, com_train_features, com_train_labels, \n",
        "                                           param_name='sgd__eta0', param_range=eta0,\n",
        "                                           cv=shuffle_split_cv, scoring='neg_mean_squared_error', n_jobs=2)\n",
        "train_errors, test_errors = -train_score, -test_score\n",
        "\n"
      ],
      "metadata": {
        "colab": {
          "base_uri": "https://localhost:8080/"
        },
        "id": "ml_GSILvMcS9",
        "outputId": "33ed71ea-cd42-4e2f-f9ca-5646b5235a06"
      },
      "execution_count": null,
      "outputs": [
        {
          "output_type": "stream",
          "name": "stdout",
          "text": [
            "CPU times: user 175 ms, sys: 15.7 ms, total: 190 ms\n",
            "Wall time: 433 ms\n"
          ]
        }
      ]
    },
    {
      "cell_type": "code",
      "source": [
        "plt.plot(eta0, train_errors.mean(axis=1), 'b-x', label='Training Error')\n",
        "plt.plot(eta0, test_errors.mean(axis=1), 'r-x', label='Test Error')\n",
        "plt.legend()\n",
        "plt.xlabel('eta0')\n",
        "plt.ylabel('Mean Absolute Error')\n",
        "plt.title('Validation curve for SGD')\n",
        "plt.show()"
      ],
      "metadata": {
        "colab": {
          "base_uri": "https://localhost:8080/",
          "height": 295
        },
        "id": "8b3L0TJPN278",
        "outputId": "35321499-e9a7-46f1-f326-6a79d5cd1305"
      },
      "execution_count": null,
      "outputs": [
        {
          "output_type": "display_data",
          "data": {
            "text/plain": [
              "<Figure size 432x288 with 1 Axes>"
            ],
            "image/png": "[encoded data removed]"
          },
          "metadata": {
            "needs_background": "light"
          }
        }
      ]
    },
    {
      "cell_type": "markdown",
      "source": [
        "for eta0 = 1e-3, the test error is the least and hence we select that value as the value for eta0.\n",
        "\n",
        "Next we plot standard deviation in errors."
      ],
      "metadata": {
        "id": "ufk6w-z0OhQb"
      }
    },
    {
      "cell_type": "code",
      "source": [
        "plt.errorbar(eta0, train_errors.mean(axis=1), yerr=train_errors.std(axis=1), label='Training error')\n",
        "plt.errorbar(eta0, test_errors.mean(axis=1), yerr=test_errors.std(axis=1), label='Test error')\n",
        "plt.legend()\n",
        "plt.xlabel('eta0')\n",
        "plt.ylabel('Mean Absolute Error')\n",
        "plt.title('Validation curve for SGD')\n",
        "plt.show()"
      ],
      "metadata": {
        "colab": {
          "base_uri": "https://localhost:8080/",
          "height": 295
        },
        "id": "ylHfBj2uOyUQ",
        "outputId": "55629e97-59e7-4dae-8516-cb49421cd55e"
      },
      "execution_count": null,
      "outputs": [
        {
          "output_type": "display_data",
          "data": {
            "text/plain": [
              "<Figure size 432x288 with 1 Axes>"
            ],
            "image/png": "[encoded data removed]"
          },
          "metadata": {
            "needs_background": "light"
          }
        }
      ]
    },
    {
      "cell_type": "markdown",
      "source": [
        "#SGDRegressor"
      ],
      "metadata": {
        "id": "5gkPXHT9PQmw"
      }
    },
    {
      "cell_type": "code",
      "source": [
        "sgd_pipe = Pipeline(steps=[('feature_scaling', StandardScaler()),\n",
        "                           ('sgd', SGDRegressor(max_iter=500,\n",
        "                                                early_stopping=True,\n",
        "                                                eta0=1e-3,\n",
        "                                                tol=1e-3, \n",
        "                                                validation_fraction=0.2,\n",
        "                                                n_iter_no_change=5,\n",
        "                                                average=10,\n",
        "                                                random_state=42))\n",
        "                           ])\n",
        "sgd_pipe.fit(train_features,train_labels)\n",
        "\n",
        "train_mae = mean_absolute_error(train_labels, sgd_pipe.predict(train_features))\n",
        "dev_mae = mean_absolute_error(dev_labels, sgd_pipe.predict(dev_features))\n",
        "\n",
        "print('Mean Absolute Error on training set: ', train_mae)\n",
        "print('Mean Absolute Error on development set: ', dev_mae)"
      ],
      "metadata": {
        "colab": {
          "base_uri": "https://localhost:8080/"
        },
        "id": "zrH8c2LcPTI_",
        "outputId": "d19aeeab-591a-4db9-b469-c69f05cf27cf"
      },
      "execution_count": null,
      "outputs": [
        {
          "output_type": "stream",
          "name": "stdout",
          "text": [
            "Mean Absolute Error on training set:  0.579376454514559\n",
            "Mean Absolute Error on development set:  0.5689180241137523\n"
          ]
        }
      ]
    },
    {
      "cell_type": "code",
      "source": [
        "print('Number of SGD Iterations:', sgd_pipe[-1].n_iter_)\n",
        "print('Number of weight updates:', sgd_pipe[-1].t_)"
      ],
      "metadata": {
        "colab": {
          "base_uri": "https://localhost:8080/"
        },
        "id": "EJtvImz4Qai2",
        "outputId": "d6ebd446-0bcf-4b59-94e9-5e8d458e8254"
      },
      "execution_count": null,
      "outputs": [
        {
          "output_type": "stream",
          "name": "stdout",
          "text": [
            "Number of SGD Iterations: 7\n",
            "Number of weight updates: 81271.0\n"
          ]
        }
      ]
    },
    {
      "cell_type": "code",
      "source": [
        "sgd_pipe = Pipeline(steps=[('feature_scaling', StandardScaler()),\n",
        "                           ('sgd', SGDRegressor(max_iter=500,\n",
        "                                                early_stopping=True,\n",
        "                                                eta0=1e-3,\n",
        "                                                tol=1e-3, \n",
        "                                                learning_rate='constant',\n",
        "                                                validation_fraction=0.2,\n",
        "                                                n_iter_no_change=5,\n",
        "                                                average=10,\n",
        "                                                random_state=42))\n",
        "                           ])\n",
        "sgd_pipe.fit(train_features,train_labels)\n",
        "\n",
        "train_mae = mean_absolute_error(train_labels, sgd_pipe.predict(train_features))\n",
        "dev_mae = mean_absolute_error(dev_labels, sgd_pipe.predict(dev_features))\n",
        "\n",
        "print('Mean Absolute Error on training set: ', train_mae)\n",
        "print('Mean Absolute Error on development set: ', dev_mae)\n",
        "print('Number of SGD Iterations:', sgd_pipe[-1].n_iter_)\n",
        "print('Number of weight updates:', sgd_pipe[-1].t_)"
      ],
      "metadata": {
        "colab": {
          "base_uri": "https://localhost:8080/"
        },
        "id": "FQ2AcZjkQv8X",
        "outputId": "c05a4a23-c623-47c8-c38a-49d675b91008"
      },
      "execution_count": null,
      "outputs": [
        {
          "output_type": "stream",
          "name": "stdout",
          "text": [
            "Mean Absolute Error on training set:  0.5359339681114987\n",
            "Mean Absolute Error on development set:  0.5151099728924144\n",
            "Number of SGD Iterations: 8\n",
            "Number of weight updates: 92881.0\n"
          ]
        }
      ]
    },
    {
      "cell_type": "code",
      "source": [
        "sgd_pipe = Pipeline(steps=[('feature_scaling', StandardScaler()),\n",
        "                           ('sgd', SGDRegressor(max_iter=500,\n",
        "                                                early_stopping=True,\n",
        "                                                eta0=1e-3,\n",
        "                                                tol=1e-3, \n",
        "                                                learning_rate='adaptive',\n",
        "                                                validation_fraction=0.2,\n",
        "                                                n_iter_no_change=5,\n",
        "                                                average=10,\n",
        "                                                random_state=42))\n",
        "                           ])\n",
        "sgd_pipe.fit(train_features,train_labels)\n",
        "\n",
        "train_mae = mean_absolute_error(train_labels, sgd_pipe.predict(train_features))\n",
        "dev_mae = mean_absolute_error(dev_labels, sgd_pipe.predict(dev_features))\n",
        "\n",
        "print('Mean Absolute Error on training set: ', train_mae)\n",
        "print('Mean Absolute Error on development set: ', dev_mae)\n",
        "print('Number of SGD Iterations:', sgd_pipe[-1].n_iter_)\n",
        "print('Number of weight updates:', sgd_pipe[-1].t_)"
      ],
      "metadata": {
        "colab": {
          "base_uri": "https://localhost:8080/"
        },
        "id": "6IXZkA_FRDVm",
        "outputId": "ac230984-b85e-4401-d141-532d9eaff77b"
      },
      "execution_count": null,
      "outputs": [
        {
          "output_type": "stream",
          "name": "stdout",
          "text": [
            "Mean Absolute Error on training set:  0.5340193046836148\n",
            "Mean Absolute Error on development set:  0.5198356196858102\n",
            "Number of SGD Iterations: 33\n",
            "Number of weight updates: 383131.0\n"
          ]
        }
      ]
    },
    {
      "cell_type": "markdown",
      "source": [
        "##Setting max_iter"
      ],
      "metadata": {
        "id": "VZyKhhBLRJth"
      }
    },
    {
      "cell_type": "code",
      "source": [
        "max_iter = np.ceil(1e6/com_train_features.shape[0])\n",
        "print(max_iter)"
      ],
      "metadata": {
        "colab": {
          "base_uri": "https://localhost:8080/"
        },
        "id": "aZ5ji686RNDS",
        "outputId": "e3b4034b-3bcb-4f09-d035-3aec910d6fe2"
      },
      "execution_count": null,
      "outputs": [
        {
          "output_type": "stream",
          "name": "stdout",
          "text": [
            "65.0\n"
          ]
        }
      ]
    },
    {
      "cell_type": "code",
      "source": [
        "sgd_pipe = Pipeline(steps=[('feature_scaling', StandardScaler()),\n",
        "                           ('sgd', SGDRegressor(max_iter=max_iter,\n",
        "                                                early_stopping=True,\n",
        "                                                eta0=1e-3,\n",
        "                                                tol=1e-3, \n",
        "                                                learning_rate='constant',\n",
        "                                                validation_fraction=0.2,\n",
        "                                                n_iter_no_change=5,\n",
        "                                                average=10,\n",
        "                                                random_state=42))\n",
        "                           ])\n",
        "sgd_pipe.fit(train_features,train_labels)\n",
        "\n",
        "train_mae = mean_absolute_error(train_labels, sgd_pipe.predict(train_features))\n",
        "dev_mae = mean_absolute_error(dev_labels, sgd_pipe.predict(dev_features))\n",
        "\n",
        "print('Mean Absolute Error on training set: ', train_mae)\n",
        "print('Mean Absolute Error on development set: ', dev_mae)\n",
        "print('Number of SGD Iterations:', sgd_pipe[-1].n_iter_)\n",
        "print('Number of weight updates:', sgd_pipe[-1].t_)"
      ],
      "metadata": {
        "id": "yMi7htHPRaIc",
        "outputId": "f1be4281-974b-4f1e-8eb8-727a09e8c428",
        "colab": {
          "base_uri": "https://localhost:8080/"
        }
      },
      "execution_count": null,
      "outputs": [
        {
          "output_type": "stream",
          "name": "stdout",
          "text": [
            "Mean Absolute Error on training set:  0.5359339681114987\n",
            "Mean Absolute Error on development set:  0.5151099728924144\n",
            "Number of SGD Iterations: 8\n",
            "Number of weight updates: 92881.0\n"
          ]
        }
      ]
    }
  ]
}