{
  "nbformat": 4,
  "nbformat_minor": 0,
  "metadata": {
    "colab": {
      "provenance": [],
      "authorship_tag": "ABX9TyMaL8q2F2edRKIJ9SDnyOc8"
    },
    "kernelspec": {
      "name": "python3",
      "display_name": "Python 3"
    },
    "language_info": {
      "name": "python"
    }
  },
  "cells": [
    {
      "cell_type": "markdown",
      "source": [
        "#Linear Regression Model for housing price prediction\n",
        "1. Linear Regression (with normal equation and iterative optimization)\n",
        "2. Polynomial Regression\n",
        "3. Regularized Regression models - Ridge and Lasso\n",
        "\n",
        "We will set regularization rate and polynomial degree with hyperparameter tuning and cross validation.  \n",
        "\n",
        "We will compare different models in terms of their parameter vectors and mean absolute error or train, development and test sets."
      ],
      "metadata": {
        "id": "p09_-GdjFlOf"
      }
    },
    {
      "cell_type": "code",
      "execution_count": null,
      "metadata": {
        "id": "MsvlzRQsEibG"
      },
      "outputs": [],
      "source": [
        "import numpy as np\n",
        "import pandas as pd\n",
        "import matplotlib.pyplot as plt\n",
        "import seaborn as sns\n",
        "\n",
        "from scipy.stats import loguniform\n",
        "from scipy.stats import uniform\n",
        "\n",
        "from sklearn.datasets import fetch_california_housing\n",
        "from sklearn.dummy import DummyRegressor\n",
        "from sklearn.linear_model import LinearRegression\n",
        "from sklearn.linear_model import Ridge\n",
        "from sklearn.linear_model import Lasso\n",
        "from sklearn.linear_model import RidgeCV\n",
        "from sklearn.linear_model import LassoCV\n",
        "from sklearn.linear_model import SGDRegressor\n",
        "\n",
        "from sklearn.metrics import mean_squared_error\n",
        "from sklearn.metrics import mean_absolute_error\n",
        "from sklearn.metrics import mean_absolute_percentage_error\n",
        "\n",
        "from sklearn.model_selection import cross_validate\n",
        "from sklearn.model_selection import cross_val_score\n",
        "from sklearn.model_selection import train_test_split\n",
        "from sklearn.model_selection import ShuffleSplit\n",
        "from sklearn.model_selection import validation_curve\n",
        "from sklearn.model_selection import GridSearchCV\n",
        "from sklearn.model_selection import RandomizedSearchCV\n",
        "\n",
        "from sklearn.preprocessing import StandardScaler\n",
        "from sklearn.preprocessing import PolynomialFeatures\n",
        "\n",
        "from sklearn.pipeline import Pipeline"
      ]
    },
    {
      "cell_type": "markdown",
      "source": [
        "#Common Set-up\n",
        "set up random seed to a number of your chaice."
      ],
      "metadata": {
        "id": "l5dDt-GbIgau"
      }
    },
    {
      "cell_type": "code",
      "source": [
        "np.random.seed(306)"
      ],
      "metadata": {
        "id": "ZkPDoEy3IpF_"
      },
      "execution_count": null,
      "outputs": []
    },
    {
      "cell_type": "code",
      "source": [
        "cv = ShuffleSplit(n_splits=10, test_size=0.2, random_state=42)"
      ],
      "metadata": {
        "id": "zKqbl_MvIvM9"
      },
      "execution_count": null,
      "outputs": []
    },
    {
      "cell_type": "markdown",
      "source": [
        "#Data Loadnig and Splitting"
      ],
      "metadata": {
        "id": "3uHe_Qc0I4RY"
      }
    },
    {
      "cell_type": "code",
      "source": [
        "features, labels = fetch_california_housing(as_frame=True, return_X_y=True)\n",
        "com_train_features, test_features, com_train_labels, test_labels = train_test_split(features, labels, random_state=42)\n",
        "\n",
        "train_features, dev_features, train_labels, dev_labels = train_test_split(com_train_features, com_train_labels, random_state=42)\n"
      ],
      "metadata": {
        "id": "9GWFUDG5I7Jw"
      },
      "execution_count": null,
      "outputs": []
    },
    {
      "cell_type": "markdown",
      "source": [
        "#Linear Regression with Normal Equation\n",
        "\n",
        "Pipeline - \n",
        "* for fearure scaling\n",
        "* linear regression on the transformed feature matrix"
      ],
      "metadata": {
        "id": "jM6Kfbe3Jh2c"
      }
    },
    {
      "cell_type": "code",
      "source": [
        "lin_reg_pipeline = Pipeline([('feature_scaling', StandardScaler()),\n",
        "                             ('lin_reg', LinearRegression())\n",
        "                             ])\n",
        "lin_reg_cv_results = cross_validate(lin_reg_pipeline,\n",
        "                                    com_train_features,\n",
        "                                    com_train_labels,\n",
        "                                    cv=cv,\n",
        "                                    scoring='neg_mean_absolute_error',\n",
        "                                    return_train_score=True,\n",
        "                                    return_estimator=True\n",
        "                                    )\n",
        "\n",
        "lin_reg_train_error = -1 * lin_reg_cv_results['train_score']\n",
        "lin_reg_test_error = -1 * lin_reg_cv_results['test_score']\n",
        "\n",
        "print(f'Mean absolute error of linear regression model on the train set:\\n {lin_reg_train_error.mean():0.3f} +/- {lin_reg_train_error.std():0.3f}')\n",
        "print(f'Mean absolute error of linear regression model on the development set:\\n {lin_reg_test_error.mean():0.3f} +/- {lin_reg_test_error.std():0.3f}')"
      ],
      "metadata": {
        "colab": {
          "base_uri": "https://localhost:8080/"
        },
        "id": "mZsreW8TJmxo",
        "outputId": "cc254caf-a63f-42a4-9bd1-48cd44b83c92"
      },
      "execution_count": null,
      "outputs": [
        {
          "output_type": "stream",
          "name": "stdout",
          "text": [
            "Mean absolute error of linear regression model on the train set:\n",
            " 0.530 +/- 0.002\n",
            "Mean absolute error of linear regression model on the development set:\n",
            " 0.527 +/- 0.008\n"
          ]
        }
      ]
    },
    {
      "cell_type": "markdown",
      "source": [
        "Both train and test error anre close by, but are not low. This points to underfitting."
      ],
      "metadata": {
        "id": "aXlnFvUgL7sO"
      }
    },
    {
      "cell_type": "markdown",
      "source": [
        "#Linear Regression with SGDRegressor\n",
        "\n",
        "Pipeline - \n",
        "* for fearure scaling\n",
        "* SGD regression on the transformed feature matrix"
      ],
      "metadata": {
        "id": "TPeOlp1xUWam"
      }
    },
    {
      "cell_type": "code",
      "source": [
        "sgd_reg_pipeline = Pipeline([('feature_scaling', StandardScaler()),\n",
        "                             ('sgd_reg', SGDRegressor(max_iter=np.ceil(1e6/com_train_features.shape[0]),\n",
        "                                                      #eraly_stopping=True,\n",
        "                                                      eta0=1e-4,\n",
        "                                                      learning_rate='constant',\n",
        "                                                      tol=1e-5,\n",
        "                                                      validation_fraction=0.1,\n",
        "                                                      n_iter_no_change=5,\n",
        "                                                      average=10,                                                   \n",
        "                                                      random_state=42\n",
        "                                                      ))\n",
        "                             ]) \n",
        "sgd_reg_cv_results = cross_validate(sgd_reg_pipeline,\n",
        "                                    com_train_features,\n",
        "                                    com_train_labels,\n",
        "                                    cv=cv,\n",
        "                                    scoring='neg_mean_absolute_error',\n",
        "                                    return_train_score=True,\n",
        "                                    return_estimator=True\n",
        "                                    )\n",
        "\n",
        "\n",
        "sgd_reg_train_error = -1 * sgd_reg_cv_results['train_score']\n",
        "sgd_reg_test_error = -1 * sgd_reg_cv_results['test_score']\n",
        "\n",
        "print(f'Mean absolute error of SGD regression model on the train set:\\n {sgd_reg_train_error.mean():0.3f} +/- {sgd_reg_train_error.std():0.3f}')\n",
        "print(f'Mean absolute error of SGD regression model on the development set:\\n {sgd_reg_test_error.mean():0.3f} +/- {sgd_reg_test_error.std():0.3f}')"
      ],
      "metadata": {
        "colab": {
          "base_uri": "https://localhost:8080/"
        },
        "id": "5BrRdjJHUWIH",
        "outputId": "bf754f0a-3a36-4bb9-9947-bdddabf8efa2"
      },
      "execution_count": null,
      "outputs": [
        {
          "output_type": "stream",
          "name": "stdout",
          "text": [
            "Mean absolute error of SGD regression model on the train set:\n",
            " 0.529 +/- 0.003\n",
            "Mean absolute error of SGD regression model on the development set:\n",
            " 0.525 +/- 0.008\n"
          ]
        }
      ]
    },
    {
      "cell_type": "markdown",
      "source": [
        "#Polynomial Regression\n",
        "We will use validation curve to find right degree to use for polynomial models."
      ],
      "metadata": {
        "id": "hntzejYbXf1t"
      }
    },
    {
      "cell_type": "code",
      "source": [
        "poly_reg_pipeline = Pipeline([('poly', PolynomialFeatures(degree=2)),\n",
        "                             ('feature_scaling', StandardScaler()),\n",
        "                             ('lin_reg', LinearRegression())\n",
        "                             ])\n",
        "poly_reg_cv_results = cross_validate(poly_reg_pipeline,\n",
        "                                    com_train_features,\n",
        "                                    com_train_labels,\n",
        "                                    cv=cv,\n",
        "                                    scoring='neg_mean_absolute_error',\n",
        "                                    return_train_score=True,\n",
        "                                    return_estimator=True\n",
        "                                    )\n",
        "\n",
        "poly_reg_train_error = -1 * poly_reg_cv_results['train_score']\n",
        "poly_reg_test_error = -1 * poly_reg_cv_results['test_score']\n",
        "\n",
        "print(f'Mean absolute error of Polynomial regression model on the train set:\\n {poly_reg_train_error.mean():0.3f} +/- {poly_reg_train_error.std():0.3f}')\n",
        "print(f'Mean absolute error of Polynomial regression model on the development set:\\n {poly_reg_test_error.mean():0.3f} +/- {poly_reg_test_error.std():0.3f}')"
      ],
      "metadata": {
        "colab": {
          "base_uri": "https://localhost:8080/"
        },
        "id": "Uoa4OjqwXfUd",
        "outputId": "3910c36f-0d31-4b55-9651-8880f4a3cb7b"
      },
      "execution_count": null,
      "outputs": [
        {
          "output_type": "stream",
          "name": "stdout",
          "text": [
            "Mean absolute error of Polynomial regression model on the train set:\n",
            " 0.461 +/- 0.003\n",
            "Mean absolute error of Polynomial regression model on the development set:\n",
            " 0.485 +/- 0.030\n"
          ]
        }
      ]
    },
    {
      "cell_type": "markdown",
      "source": [
        "We will try using only interaction_features for PlynomialFeatures"
      ],
      "metadata": {
        "id": "nFkqobLzYME4"
      }
    },
    {
      "cell_type": "code",
      "source": [
        "poly_reg_pipeline = Pipeline([('poly', PolynomialFeatures(degree=2, interaction_only=True)),\n",
        "                             ('feature_scaling', StandardScaler()),\n",
        "                             ('lin_reg', LinearRegression())\n",
        "                             ])\n",
        "poly_reg_cv_results = cross_validate(poly_reg_pipeline,\n",
        "                                    com_train_features,\n",
        "                                    com_train_labels,\n",
        "                                    cv=cv,\n",
        "                                    scoring='neg_mean_absolute_error',\n",
        "                                    return_train_score=True,\n",
        "                                    return_estimator=True\n",
        "                                    )\n",
        "\n",
        "poly_reg_train_error = -1 * poly_reg_cv_results['train_score']\n",
        "poly_reg_test_error = -1 * poly_reg_cv_results['test_score']\n",
        "\n",
        "print(f'Mean absolute error of Polynomial regression model on the train set:\\n {poly_reg_train_error.mean():0.3f} +/- {poly_reg_train_error.std():0.3f}')\n",
        "print(f'Mean absolute error of Polynomial regression model on the development set:\\n {poly_reg_test_error.mean():0.3f} +/- {poly_reg_test_error.std():0.3f}')"
      ],
      "metadata": {
        "colab": {
          "base_uri": "https://localhost:8080/"
        },
        "id": "XsDOoEYnYVVe",
        "outputId": "e66dbb7d-e0c9-42f2-936b-2d5f41d9d603"
      },
      "execution_count": null,
      "outputs": [
        {
          "output_type": "stream",
          "name": "stdout",
          "text": [
            "Mean absolute error of Polynomial regression model on the train set:\n",
            " 0.478 +/- 0.003\n",
            "Mean absolute error of Polynomial regression model on the development set:\n",
            " 0.497 +/- 0.024\n"
          ]
        }
      ]
    },
    {
      "cell_type": "markdown",
      "source": [
        "Let us figure out which degree polynomial is best suited for this regression problem. For that we use validation_curve, which can be considered as a manual hyperparameter tuning"
      ],
      "metadata": {
        "id": "FS4yW9KKYpAo"
      }
    },
    {
      "cell_type": "code",
      "source": [
        "degree = [1, 2, 3, 4, 5]\n",
        "train_scores, test_scores = validation_curve(poly_reg_pipeline,\n",
        "                                             com_train_features,\n",
        "                                             com_train_labels,\n",
        "                                             param_name='poly__degree',\n",
        "                                             param_range=degree,\n",
        "                                             cv=cv,\n",
        "                                             scoring='neg_mean_absolute_error',\n",
        "                                             n_jobs=2\n",
        "                                             )\n",
        "train_errors, test_errors = -train_scores, -test_scores\n",
        "\n",
        "plt.plot(degree, train_errors.mean(axis=1),'b-x',label='Training error')\n",
        "plt.plot(degree, test_errors.mean(axis=1),'r-x',label='Test error')\n",
        "plt.legend()\n",
        "plt.xlabel('degree')\n",
        "plt.ylabel('Mean Absolute Error')\n",
        "plt.title('Validation Curve for Plynomial Regression');"
      ],
      "metadata": {
        "colab": {
          "base_uri": "https://localhost:8080/",
          "height": 295
        },
        "id": "xmtCuKDPY6wa",
        "outputId": "bd5e3114-4fd9-4d6b-beb6-40eec422617b"
      },
      "execution_count": null,
      "outputs": [
        {
          "output_type": "display_data",
          "data": {
            "text/plain": [
              "<Figure size 432x288 with 1 Axes>"
            ],
            "image/png": "[encoded data removed]"
          },
          "metadata": {
            "needs_background": "light"
          }
        }
      ]
    },
    {
      "cell_type": "markdown",
      "source": [
        "#Ridge Regression\n",
        "The polynomial models have a tendency to overfit, if we use higher order polynomial features.  \n",
        "We will use Ridge Regression which will penalizes for excessive model complexity in polynomial regression by adding regularization term. We use regularization term aplha=0.5and train regression model. Later we will use hyperparameter search for the right value of alpha such that it leads to the least cross validation errors"
      ],
      "metadata": {
        "id": "QnZ9U6-Ia6ak"
      }
    },
    {
      "cell_type": "code",
      "source": [
        "ridge_reg_pipeline = Pipeline([('poly', PolynomialFeatures(degree=2)),\n",
        "                             ('feature_scaling', StandardScaler()),\n",
        "                             ('ridge', Ridge(alpha=0.5))\n",
        "                             ])\n",
        "ridge_reg_cv_results = cross_validate(ridge_reg_pipeline,\n",
        "                                    com_train_features,\n",
        "                                    com_train_labels,\n",
        "                                    cv=cv,\n",
        "                                    scoring='neg_mean_absolute_error',\n",
        "                                    return_train_score=True,\n",
        "                                    return_estimator=True\n",
        "                                    )\n",
        "\n",
        "ridge_reg_train_error = -1 * ridge_reg_cv_results['train_score']\n",
        "ridge_reg_test_error = -1 * ridge_reg_cv_results['test_score']\n",
        "\n",
        "print(f'Mean absolute error of Ridge regression model on the train set:\\n {ridge_reg_train_error.mean():0.3f} +/- {ridge_reg_train_error.std():0.3f}')\n",
        "print(f'Mean absolute error of Ridge regression model on the development set:\\n {ridge_reg_test_error.mean():0.3f} +/- {ridge_reg_test_error.std():0.3f}')"
      ],
      "metadata": {
        "colab": {
          "base_uri": "https://localhost:8080/"
        },
        "id": "qabdS9sRbvI9",
        "outputId": "2e3a7203-cadf-404a-fa9a-2e1d45011b09"
      },
      "execution_count": null,
      "outputs": [
        {
          "output_type": "stream",
          "name": "stdout",
          "text": [
            "Mean absolute error of Ridge regression model on the train set:\n",
            " 0.481 +/- 0.003\n",
            "Mean absolute error of Ridge regression model on the development set:\n",
            " 0.487 +/- 0.006\n"
          ]
        }
      ]
    },
    {
      "cell_type": "markdown",
      "source": [
        "#HPT(HyperParameter Tuning) for Ridge Regularization rate"
      ],
      "metadata": {
        "id": "9dObwPyAdMCX"
      }
    },
    {
      "cell_type": "code",
      "source": [
        "alpha_list = np.logspace(-4, 0, num=20)\n",
        "\n",
        "ridge_reg_pipeline = Pipeline([('poly', PolynomialFeatures(degree=2)),\n",
        "                             ('feature_scaling', StandardScaler()),\n",
        "                             ('ridge_cv', RidgeCV(alphas=alpha_list,\n",
        "                                             cv=cv,\n",
        "                                             scoring='neg_mean_absolute_error'\n",
        "                                             ))\n",
        "                             ])\n",
        "ridge_reg_cv_results = ridge_reg_pipeline.fit(com_train_features, com_train_labels)\n",
        "\n",
        "print(f'The score with the best alpha is: {ridge_reg_cv_results[-1].best_score_:0.3f}')\n",
        "print(f'The error with the best alpha is: {-ridge_reg_cv_results[-1].best_score_}')\n",
        "print('The best value for alpha is: ', ridge_reg_cv_results[-1].alpha_)"
      ],
      "metadata": {
        "colab": {
          "base_uri": "https://localhost:8080/"
        },
        "id": "HyWwJEZBdi_2",
        "outputId": "10ba0c47-27b4-49f7-e512-a01cf8c98eca"
      },
      "execution_count": null,
      "outputs": [
        {
          "output_type": "stream",
          "name": "stdout",
          "text": [
            "The score with the best alpha is: -0.473\n",
            "The error with the best alpha is: 0.47294070100741337\n",
            "The best value for alpha is:  0.007847599703514606\n"
          ]
        }
      ]
    },
    {
      "cell_type": "markdown",
      "source": [
        "#RidgeCV with cross validation"
      ],
      "metadata": {
        "id": "pAkTbM43fq_S"
      }
    },
    {
      "cell_type": "code",
      "source": [
        "ridge_cv_pipeline = Pipeline([('poly', PolynomialFeatures(degree=2)),\n",
        "                             ('feature_scaling', StandardScaler()),\n",
        "                             ('ridge_cv', RidgeCV())\n",
        "                             ])\n",
        "ridgecv_cv_results = cross_validate(ridge_cv_pipeline,\n",
        "                                    com_train_features,\n",
        "                                    com_train_labels,\n",
        "                                    cv=cv,\n",
        "                                    scoring='neg_mean_absolute_error',\n",
        "                                    return_train_score=True,\n",
        "                                    return_estimator=True\n",
        "                                    )\n",
        "\n",
        "ridge_cv_train_error = -1 * ridgecv_cv_results['train_score']\n",
        "ridge_cv_test_error = -1 * ridgecv_cv_results['test_score']\n",
        "\n",
        "print(f'Mean absolute error of Ridge regression model on the train set:\\n {ridge_cv_train_error.mean():0.3f} +/- {ridge_cv_train_error.std():0.3f}')\n",
        "print(f'Mean absolute error of Ridge regression model on the development set:\\n {ridge_cv_test_error.mean():0.3f} +/- {ridge_cv_test_error.std():0.3f}')\n",
        "\n",
        "print(ridgecv_cv_results)"
      ],
      "metadata": {
        "colab": {
          "base_uri": "https://localhost:8080/"
        },
        "id": "Yw3eFTLTgmXz",
        "outputId": "bc154b13-8faf-444c-d3f6-2946aac0fd87"
      },
      "execution_count": null,
      "outputs": [
        {
          "output_type": "stream",
          "name": "stdout",
          "text": [
            "Mean absolute error of Ridge regression model on the train set:\n",
            " 0.487 +/- 0.015\n",
            "Mean absolute error of Ridge regression model on the development set:\n",
            " 0.492 +/- 0.013\n",
            "{'fit_time': array([0.07410288, 0.068964  , 0.070755  , 0.0698421 , 0.07198238,\n",
            "       0.08931518, 0.07441449, 0.07062316, 0.06640673, 0.07301378]), 'score_time': array([0.00603437, 0.00596476, 0.00639939, 0.0059607 , 0.0060215 ,\n",
            "       0.00600719, 0.01006365, 0.00603056, 0.00592852, 0.00593638]), 'estimator': [Pipeline(steps=[('poly', PolynomialFeatures()),\n",
            "                ('feature_scaling', StandardScaler()),\n",
            "                ('ridge_cv', RidgeCV(alphas=array([ 0.1,  1. , 10. ])))]), Pipeline(steps=[('poly', PolynomialFeatures()),\n",
            "                ('feature_scaling', StandardScaler()),\n",
            "                ('ridge_cv', RidgeCV(alphas=array([ 0.1,  1. , 10. ])))]), Pipeline(steps=[('poly', PolynomialFeatures()),\n",
            "                ('feature_scaling', StandardScaler()),\n",
            "                ('ridge_cv', RidgeCV(alphas=array([ 0.1,  1. , 10. ])))]), Pipeline(steps=[('poly', PolynomialFeatures()),\n",
            "                ('feature_scaling', StandardScaler()),\n",
            "                ('ridge_cv', RidgeCV(alphas=array([ 0.1,  1. , 10. ])))]), Pipeline(steps=[('poly', PolynomialFeatures()),\n",
            "                ('feature_scaling', StandardScaler()),\n",
            "                ('ridge_cv', RidgeCV(alphas=array([ 0.1,  1. , 10. ])))]), Pipeline(steps=[('poly', PolynomialFeatures()),\n",
            "                ('feature_scaling', StandardScaler()),\n",
            "                ('ridge_cv', RidgeCV(alphas=array([ 0.1,  1. , 10. ])))]), Pipeline(steps=[('poly', PolynomialFeatures()),\n",
            "                ('feature_scaling', StandardScaler()),\n",
            "                ('ridge_cv', RidgeCV(alphas=array([ 0.1,  1. , 10. ])))]), Pipeline(steps=[('poly', PolynomialFeatures()),\n",
            "                ('feature_scaling', StandardScaler()),\n",
            "                ('ridge_cv', RidgeCV(alphas=array([ 0.1,  1. , 10. ])))]), Pipeline(steps=[('poly', PolynomialFeatures()),\n",
            "                ('feature_scaling', StandardScaler()),\n",
            "                ('ridge_cv', RidgeCV(alphas=array([ 0.1,  1. , 10. ])))]), Pipeline(steps=[('poly', PolynomialFeatures()),\n",
            "                ('feature_scaling', StandardScaler()),\n",
            "                ('ridge_cv', RidgeCV(alphas=array([ 0.1,  1. , 10. ])))])], 'test_score': array([-0.49417973, -0.51313589, -0.502523  , -0.48836947, -0.47556107,\n",
            "       -0.47580218, -0.47885684, -0.48909964, -0.50828043, -0.49877466]), 'train_score': array([-0.49597746, -0.48281784, -0.50025399, -0.5016955 , -0.46542981,\n",
            "       -0.46824012, -0.46432895, -0.49660817, -0.49762938, -0.50069285])}\n"
          ]
        }
      ]
    },
    {
      "cell_type": "markdown",
      "source": [
        "#Ridgw HPT through GridSearchCV"
      ],
      "metadata": {
        "id": "Dhtq9W68hO9y"
      }
    },
    {
      "cell_type": "code",
      "source": [
        "ridge_grid_pipeline = Pipeline([('poly', PolynomialFeatures(degree=2)),\n",
        "                             ('feature_scaling', StandardScaler()),\n",
        "                             ('ridge', Ridge())\n",
        "                             ])\n",
        "param_grid = {'poly__degree': (1,2,3),\n",
        "              'ridge__alpha' : np.logspace(-4,0,num=20)\n",
        "              }\n",
        "ridge_grid_search = GridSearchCV(ridge_grid_pipeline,\n",
        "                                 param_grid=param_grid,\n",
        "                                 n_jobs=2,\n",
        "                                 cv=cv,\n",
        "                                 scoring='neg_mean_absolute_error',\n",
        "                                 return_train_score=True\n",
        "                                 )\n",
        "ridge_grid_search.fit(com_train_features, com_train_labels)"
      ],
      "metadata": {
        "colab": {
          "base_uri": "https://localhost:8080/"
        },
        "id": "zSS57hP5hT-9",
        "outputId": "f74b7502-2217-435f-e3fd-78d0d0518d34"
      },
      "execution_count": null,
      "outputs": [
        {
          "output_type": "execute_result",
          "data": {
            "text/plain": [
              "GridSearchCV(cv=ShuffleSplit(n_splits=10, random_state=42, test_size=0.2, train_size=None),\n",
              "             estimator=Pipeline(steps=[('poly', PolynomialFeatures()),\n",
              "                                       ('feature_scaling', StandardScaler()),\n",
              "                                       ('ridge', Ridge())]),\n",
              "             n_jobs=2,\n",
              "             param_grid={'poly__degree': (1, 2, 3),\n",
              "                         'ridge__alpha': array([1.00000000e-04, 1.62377674e-04, 2.63665090e-04, 4.28133240e-04,\n",
              "       6.95192796e-04, 1.12883789e-03, 1.83298071e-03, 2.97635144e-03,\n",
              "       4.83293024e-03, 7.84759970e-03, 1.27427499e-02, 2.06913808e-02,\n",
              "       3.35981829e-02, 5.45559478e-02, 8.85866790e-02, 1.43844989e-01,\n",
              "       2.33572147e-01, 3.79269019e-01, 6.15848211e-01, 1.00000000e+00])},\n",
              "             return_train_score=True, scoring='neg_mean_absolute_error')"
            ]
          },
          "metadata": {},
          "execution_count": 14
        }
      ]
    },
    {
      "cell_type": "markdown",
      "source": [
        "ridge_grid_search.best_index_ gives us the index of the best parameter in the list"
      ],
      "metadata": {
        "id": "0AzohAudi_eG"
      }
    },
    {
      "cell_type": "code",
      "source": [
        "mean_train_error = -1 * ridge_grid_search.cv_results_['mean_train_score'][ridge_grid_search.best_index_]\n",
        "mean_test_error = -1 * ridge_grid_search.cv_results_['mean_test_score'][ridge_grid_search.best_index_]\n",
        "std_train_error = -1 * ridge_grid_search.cv_results_['std_train_score'][ridge_grid_search.best_index_]\n",
        "std_test_error = -1 * ridge_grid_search.cv_results_['std_test_score'][ridge_grid_search.best_index_]\n",
        "\n",
        "print(f'Best mean absolute error on training set: {mean_train_error:0.3f} +/- {std_train_error:0.3f}')\n",
        "print(f'Best mean absolute error on test set: {mean_test_error:0.3f} +/- {std_test_error:0.3f}')"
      ],
      "metadata": {
        "colab": {
          "base_uri": "https://localhost:8080/"
        },
        "id": "r3dQv1e_jO7x",
        "outputId": "509e8b3f-9492-4892-ca9e-097bc509c286"
      },
      "execution_count": null,
      "outputs": [
        {
          "output_type": "stream",
          "name": "stdout",
          "text": [
            "Best mean absolute error on training set: 0.463 +/- -0.004\n",
            "Best mean absolute error on test set: 0.474 +/- -0.015\n"
          ]
        }
      ]
    },
    {
      "cell_type": "code",
      "source": [
        "print('Mean cross validated score of the best estimator: ', ridge_grid_search.best_score_)\n",
        "print('Mean cross validated error of the best estimator: ', -ridge_grid_search.best_score_)"
      ],
      "metadata": {
        "colab": {
          "base_uri": "https://localhost:8080/"
        },
        "id": "sPeG89PEkKMW",
        "outputId": "c10be200-1313-409b-8a2f-0ce9963e2565"
      },
      "execution_count": null,
      "outputs": [
        {
          "output_type": "stream",
          "name": "stdout",
          "text": [
            "Mean cross validated score of the best estimator:  -0.4738651176991914\n",
            "Mean cross validated error of the best estimator:  0.4738651176991914\n"
          ]
        }
      ]
    },
    {
      "cell_type": "code",
      "source": [
        "print('The best parameter value is: ', ridge_grid_search.best_params_)"
      ],
      "metadata": {
        "colab": {
          "base_uri": "https://localhost:8080/"
        },
        "id": "jZJjOBHPka0q",
        "outputId": "e10571ba-3966-49ae-b9c7-c965a107f2e7"
      },
      "execution_count": null,
      "outputs": [
        {
          "output_type": "stream",
          "name": "stdout",
          "text": [
            "The best parameter value is:  {'poly__degree': 2, 'ridge__alpha': 0.007847599703514606}\n"
          ]
        }
      ]
    },
    {
      "cell_type": "markdown",
      "source": [
        "#Lasso Regression\n",
        "\n",
        "##Baseline Model with fixed learning rate"
      ],
      "metadata": {
        "id": "p3xQ1Ypxkncs"
      }
    },
    {
      "cell_type": "code",
      "source": [
        "lasso_reg_pipeline = Pipeline([('poly', PolynomialFeatures()),\n",
        "                               (\"feature_scaling\", StandardScaler()),\n",
        "                               ('lasso', Lasso(alpha=0.01))\n",
        "                               ])\n",
        "lasso_reg_cv_results = cross_validate(lasso_reg_pipeline,\n",
        "                                      com_train_features,\n",
        "                                      com_train_labels,\n",
        "                                      cv=cv,\n",
        "                                      scoring='neg_mean_absolute_error',\n",
        "                                      return_train_score=True,\n",
        "                                      return_estimator=True\n",
        "                                      )\n",
        "lasso_reg_train_error = -1 * lasso_reg_cv_results['train_score']\n",
        "lasso_reg_test_error = -1 * lasso_reg_cv_results['test_score']\n",
        "\n",
        "print(f'Best mean absolute error on training set: {lasso_reg_train_error.mean():0.3f} +/- {lasso_reg_train_error.std():0.3f}')\n",
        "print(f'Best mean absolute error on test set: {lasso_reg_test_error.mean():0.3f} +/- {lasso_reg_test_error.std():0.3f}')"
      ],
      "metadata": {
        "colab": {
          "base_uri": "https://localhost:8080/"
        },
        "id": "IK9TaOsWkwsn",
        "outputId": "78f21f6c-9111-4f01-ed88-9a23da455613"
      },
      "execution_count": null,
      "outputs": [
        {
          "output_type": "stream",
          "name": "stderr",
          "text": [
            "/usr/local/lib/python3.7/dist-packages/sklearn/linear_model/_coordinate_descent.py:648: ConvergenceWarning: Objective did not converge. You might want to increase the number of iterations, check the scale of the features or consider increasing regularisation. Duality gap: 2.986e+01, tolerance: 1.654e+00\n",
            "  coef_, l1_reg, l2_reg, X, y, max_iter, tol, rng, random, positive\n",
            "/usr/local/lib/python3.7/dist-packages/sklearn/linear_model/_coordinate_descent.py:648: ConvergenceWarning: Objective did not converge. You might want to increase the number of iterations, check the scale of the features or consider increasing regularisation. Duality gap: 3.109e+01, tolerance: 1.669e+00\n",
            "  coef_, l1_reg, l2_reg, X, y, max_iter, tol, rng, random, positive\n",
            "/usr/local/lib/python3.7/dist-packages/sklearn/linear_model/_coordinate_descent.py:648: ConvergenceWarning: Objective did not converge. You might want to increase the number of iterations, check the scale of the features or consider increasing regularisation. Duality gap: 1.849e+01, tolerance: 1.658e+00\n",
            "  coef_, l1_reg, l2_reg, X, y, max_iter, tol, rng, random, positive\n",
            "/usr/local/lib/python3.7/dist-packages/sklearn/linear_model/_coordinate_descent.py:648: ConvergenceWarning: Objective did not converge. You might want to increase the number of iterations, check the scale of the features or consider increasing regularisation. Duality gap: 9.202e+00, tolerance: 1.640e+00\n",
            "  coef_, l1_reg, l2_reg, X, y, max_iter, tol, rng, random, positive\n",
            "/usr/local/lib/python3.7/dist-packages/sklearn/linear_model/_coordinate_descent.py:648: ConvergenceWarning: Objective did not converge. You might want to increase the number of iterations, check the scale of the features or consider increasing regularisation. Duality gap: 2.669e+01, tolerance: 1.642e+00\n",
            "  coef_, l1_reg, l2_reg, X, y, max_iter, tol, rng, random, positive\n",
            "/usr/local/lib/python3.7/dist-packages/sklearn/linear_model/_coordinate_descent.py:648: ConvergenceWarning: Objective did not converge. You might want to increase the number of iterations, check the scale of the features or consider increasing regularisation. Duality gap: 1.359e+01, tolerance: 1.663e+00\n",
            "  coef_, l1_reg, l2_reg, X, y, max_iter, tol, rng, random, positive\n",
            "/usr/local/lib/python3.7/dist-packages/sklearn/linear_model/_coordinate_descent.py:648: ConvergenceWarning: Objective did not converge. You might want to increase the number of iterations, check the scale of the features or consider increasing regularisation. Duality gap: 2.914e+01, tolerance: 1.648e+00\n",
            "  coef_, l1_reg, l2_reg, X, y, max_iter, tol, rng, random, positive\n",
            "/usr/local/lib/python3.7/dist-packages/sklearn/linear_model/_coordinate_descent.py:648: ConvergenceWarning: Objective did not converge. You might want to increase the number of iterations, check the scale of the features or consider increasing regularisation. Duality gap: 1.584e+01, tolerance: 1.655e+00\n",
            "  coef_, l1_reg, l2_reg, X, y, max_iter, tol, rng, random, positive\n",
            "/usr/local/lib/python3.7/dist-packages/sklearn/linear_model/_coordinate_descent.py:648: ConvergenceWarning: Objective did not converge. You might want to increase the number of iterations, check the scale of the features or consider increasing regularisation. Duality gap: 9.074e+00, tolerance: 1.643e+00\n",
            "  coef_, l1_reg, l2_reg, X, y, max_iter, tol, rng, random, positive\n"
          ]
        },
        {
          "output_type": "stream",
          "name": "stdout",
          "text": [
            "Best mean absolute error on training set: 0.529 +/- 0.003\n",
            "Best mean absolute error on test set: 0.528 +/- 0.008\n"
          ]
        },
        {
          "output_type": "stream",
          "name": "stderr",
          "text": [
            "/usr/local/lib/python3.7/dist-packages/sklearn/linear_model/_coordinate_descent.py:648: ConvergenceWarning: Objective did not converge. You might want to increase the number of iterations, check the scale of the features or consider increasing regularisation. Duality gap: 1.255e+01, tolerance: 1.658e+00\n",
            "  coef_, l1_reg, l2_reg, X, y, max_iter, tol, rng, random, positive\n"
          ]
        }
      ]
    },
    {
      "cell_type": "markdown",
      "source": [
        "#HPT for Lasso resularization rate\n",
        "\n",
        "##with cross validation"
      ],
      "metadata": {
        "id": "H3fJQReqmrf8"
      }
    },
    {
      "cell_type": "code",
      "source": [],
      "metadata": {
        "id": "kOWIOamNm2DC"
      },
      "execution_count": null,
      "outputs": []
    },
    {
      "cell_type": "markdown",
      "source": [
        "##with GridSearchCV"
      ],
      "metadata": {
        "id": "pa7rN7dWm2Yq"
      }
    },
    {
      "cell_type": "code",
      "source": [
        "lasso_grid_pipeline = Pipeline([('poly', PolynomialFeatures(degree=2)),\n",
        "                             ('feature_scaling', StandardScaler()),\n",
        "                             ('lasso', Lasso())\n",
        "                             ])\n",
        "param_grid = {'poly__degree': (1,2,3),\n",
        "              'lasso__alpha' : np.logspace(-4,0,num=20)\n",
        "              }\n",
        "lasso_grid_search = GridSearchCV(lasso_grid_pipeline,\n",
        "                                 param_grid=param_grid,\n",
        "                                 n_jobs=2,\n",
        "                                 cv=cv,\n",
        "                                 scoring='neg_mean_absolute_error',\n",
        "                                 return_train_score=True\n",
        "                                 )\n",
        "lasso_grid_search.fit(com_train_features, com_train_labels)"
      ],
      "metadata": {
        "id": "JSDAOkK6m4ws",
        "colab": {
          "base_uri": "https://localhost:8080/",
          "height": 345
        },
        "outputId": "c36954e6-f4f0-4d6a-ac22-66b4993ea543"
      },
      "execution_count": null,
      "outputs": [
        {
          "output_type": "error",
          "ename": "KeyboardInterrupt",
          "evalue": "ignored",
          "traceback": [
            "\u001b[0;31m---------------------------------------------------------------------------\u001b[0m",
            "\u001b[0;31mKeyboardInterrupt\u001b[0m                         Traceback (most recent call last)",
            "\u001b[0;32m<ipython-input-19-d526119668d0>\u001b[0m in \u001b[0;36m<module>\u001b[0;34m\u001b[0m\n\u001b[1;32m     13\u001b[0m                                  \u001b[0mreturn_train_score\u001b[0m\u001b[0;34m=\u001b[0m\u001b[0;32mTrue\u001b[0m\u001b[0;34m\u001b[0m\u001b[0;34m\u001b[0m\u001b[0m\n\u001b[1;32m     14\u001b[0m                                  )\n\u001b[0;32m---> 15\u001b[0;31m \u001b[0mlasso_grid_search\u001b[0m\u001b[0;34m.\u001b[0m\u001b[0mfit\u001b[0m\u001b[0;34m(\u001b[0m\u001b[0mcom_train_features\u001b[0m\u001b[0;34m,\u001b[0m \u001b[0mcom_train_labels\u001b[0m\u001b[0;34m)\u001b[0m\u001b[0;34m\u001b[0m\u001b[0;34m\u001b[0m\u001b[0m\n\u001b[0m",
            "\u001b[0;32m/usr/local/lib/python3.7/dist-packages/sklearn/model_selection/_search.py\u001b[0m in \u001b[0;36mfit\u001b[0;34m(self, X, y, groups, **fit_params)\u001b[0m\n\u001b[1;32m    889\u001b[0m                 \u001b[0;32mreturn\u001b[0m \u001b[0mresults\u001b[0m\u001b[0;34m\u001b[0m\u001b[0;34m\u001b[0m\u001b[0m\n\u001b[1;32m    890\u001b[0m \u001b[0;34m\u001b[0m\u001b[0m\n\u001b[0;32m--> 891\u001b[0;31m             \u001b[0mself\u001b[0m\u001b[0;34m.\u001b[0m\u001b[0m_run_search\u001b[0m\u001b[0;34m(\u001b[0m\u001b[0mevaluate_candidates\u001b[0m\u001b[0;34m)\u001b[0m\u001b[0;34m\u001b[0m\u001b[0;34m\u001b[0m\u001b[0m\n\u001b[0m\u001b[1;32m    892\u001b[0m \u001b[0;34m\u001b[0m\u001b[0m\n\u001b[1;32m    893\u001b[0m             \u001b[0;31m# multimetric is determined here because in the case of a callable\u001b[0m\u001b[0;34m\u001b[0m\u001b[0;34m\u001b[0m\u001b[0;34m\u001b[0m\u001b[0m\n",
            "\u001b[0;32m/usr/local/lib/python3.7/dist-packages/sklearn/model_selection/_search.py\u001b[0m in \u001b[0;36m_run_search\u001b[0;34m(self, evaluate_candidates)\u001b[0m\n\u001b[1;32m   1390\u001b[0m     \u001b[0;32mdef\u001b[0m \u001b[0m_run_search\u001b[0m\u001b[0;34m(\u001b[0m\u001b[0mself\u001b[0m\u001b[0;34m,\u001b[0m \u001b[0mevaluate_candidates\u001b[0m\u001b[0;34m)\u001b[0m\u001b[0;34m:\u001b[0m\u001b[0;34m\u001b[0m\u001b[0;34m\u001b[0m\u001b[0m\n\u001b[1;32m   1391\u001b[0m         \u001b[0;34m\"\"\"Search all candidates in param_grid\"\"\"\u001b[0m\u001b[0;34m\u001b[0m\u001b[0;34m\u001b[0m\u001b[0m\n\u001b[0;32m-> 1392\u001b[0;31m         \u001b[0mevaluate_candidates\u001b[0m\u001b[0;34m(\u001b[0m\u001b[0mParameterGrid\u001b[0m\u001b[0;34m(\u001b[0m\u001b[0mself\u001b[0m\u001b[0;34m.\u001b[0m\u001b[0mparam_grid\u001b[0m\u001b[0;34m)\u001b[0m\u001b[0;34m)\u001b[0m\u001b[0;34m\u001b[0m\u001b[0;34m\u001b[0m\u001b[0m\n\u001b[0m\u001b[1;32m   1393\u001b[0m \u001b[0;34m\u001b[0m\u001b[0m\n\u001b[1;32m   1394\u001b[0m \u001b[0;34m\u001b[0m\u001b[0m\n",
            "\u001b[0;32m/usr/local/lib/python3.7/dist-packages/sklearn/model_selection/_search.py\u001b[0m in \u001b[0;36mevaluate_candidates\u001b[0;34m(candidate_params, cv, more_results)\u001b[0m\n\u001b[1;32m    849\u001b[0m                     )\n\u001b[1;32m    850\u001b[0m                     for (cand_idx, parameters), (split_idx, (train, test)) in product(\n\u001b[0;32m--> 851\u001b[0;31m                         \u001b[0menumerate\u001b[0m\u001b[0;34m(\u001b[0m\u001b[0mcandidate_params\u001b[0m\u001b[0;34m)\u001b[0m\u001b[0;34m,\u001b[0m \u001b[0menumerate\u001b[0m\u001b[0;34m(\u001b[0m\u001b[0mcv\u001b[0m\u001b[0;34m.\u001b[0m\u001b[0msplit\u001b[0m\u001b[0;34m(\u001b[0m\u001b[0mX\u001b[0m\u001b[0;34m,\u001b[0m \u001b[0my\u001b[0m\u001b[0;34m,\u001b[0m \u001b[0mgroups\u001b[0m\u001b[0;34m)\u001b[0m\u001b[0;34m)\u001b[0m\u001b[0;34m\u001b[0m\u001b[0;34m\u001b[0m\u001b[0m\n\u001b[0m\u001b[1;32m    852\u001b[0m                     )\n\u001b[1;32m    853\u001b[0m                 )\n",
            "\u001b[0;32m/usr/local/lib/python3.7/dist-packages/joblib/parallel.py\u001b[0m in \u001b[0;36m__call__\u001b[0;34m(self, iterable)\u001b[0m\n\u001b[1;32m   1054\u001b[0m \u001b[0;34m\u001b[0m\u001b[0m\n\u001b[1;32m   1055\u001b[0m             \u001b[0;32mwith\u001b[0m \u001b[0mself\u001b[0m\u001b[0;34m.\u001b[0m\u001b[0m_backend\u001b[0m\u001b[0;34m.\u001b[0m\u001b[0mretrieval_context\u001b[0m\u001b[0;34m(\u001b[0m\u001b[0;34m)\u001b[0m\u001b[0;34m:\u001b[0m\u001b[0;34m\u001b[0m\u001b[0;34m\u001b[0m\u001b[0m\n\u001b[0;32m-> 1056\u001b[0;31m                 \u001b[0mself\u001b[0m\u001b[0;34m.\u001b[0m\u001b[0mretrieve\u001b[0m\u001b[0;34m(\u001b[0m\u001b[0;34m)\u001b[0m\u001b[0;34m\u001b[0m\u001b[0;34m\u001b[0m\u001b[0m\n\u001b[0m\u001b[1;32m   1057\u001b[0m             \u001b[0;31m# Make sure that we get a last message telling us we are done\u001b[0m\u001b[0;34m\u001b[0m\u001b[0;34m\u001b[0m\u001b[0;34m\u001b[0m\u001b[0m\n\u001b[1;32m   1058\u001b[0m             \u001b[0melapsed_time\u001b[0m \u001b[0;34m=\u001b[0m \u001b[0mtime\u001b[0m\u001b[0;34m.\u001b[0m\u001b[0mtime\u001b[0m\u001b[0;34m(\u001b[0m\u001b[0;34m)\u001b[0m \u001b[0;34m-\u001b[0m \u001b[0mself\u001b[0m\u001b[0;34m.\u001b[0m\u001b[0m_start_time\u001b[0m\u001b[0;34m\u001b[0m\u001b[0;34m\u001b[0m\u001b[0m\n",
            "\u001b[0;32m/usr/local/lib/python3.7/dist-packages/joblib/parallel.py\u001b[0m in \u001b[0;36mretrieve\u001b[0;34m(self)\u001b[0m\n\u001b[1;32m    933\u001b[0m             \u001b[0;32mtry\u001b[0m\u001b[0;34m:\u001b[0m\u001b[0;34m\u001b[0m\u001b[0;34m\u001b[0m\u001b[0m\n\u001b[1;32m    934\u001b[0m                 \u001b[0;32mif\u001b[0m \u001b[0mgetattr\u001b[0m\u001b[0;34m(\u001b[0m\u001b[0mself\u001b[0m\u001b[0;34m.\u001b[0m\u001b[0m_backend\u001b[0m\u001b[0;34m,\u001b[0m \u001b[0;34m'supports_timeout'\u001b[0m\u001b[0;34m,\u001b[0m \u001b[0;32mFalse\u001b[0m\u001b[0;34m)\u001b[0m\u001b[0;34m:\u001b[0m\u001b[0;34m\u001b[0m\u001b[0;34m\u001b[0m\u001b[0m\n\u001b[0;32m--> 935\u001b[0;31m                     \u001b[0mself\u001b[0m\u001b[0;34m.\u001b[0m\u001b[0m_output\u001b[0m\u001b[0;34m.\u001b[0m\u001b[0mextend\u001b[0m\u001b[0;34m(\u001b[0m\u001b[0mjob\u001b[0m\u001b[0;34m.\u001b[0m\u001b[0mget\u001b[0m\u001b[0;34m(\u001b[0m\u001b[0mtimeout\u001b[0m\u001b[0;34m=\u001b[0m\u001b[0mself\u001b[0m\u001b[0;34m.\u001b[0m\u001b[0mtimeout\u001b[0m\u001b[0;34m)\u001b[0m\u001b[0;34m)\u001b[0m\u001b[0;34m\u001b[0m\u001b[0;34m\u001b[0m\u001b[0m\n\u001b[0m\u001b[1;32m    936\u001b[0m                 \u001b[0;32melse\u001b[0m\u001b[0;34m:\u001b[0m\u001b[0;34m\u001b[0m\u001b[0;34m\u001b[0m\u001b[0m\n\u001b[1;32m    937\u001b[0m                     \u001b[0mself\u001b[0m\u001b[0;34m.\u001b[0m\u001b[0m_output\u001b[0m\u001b[0;34m.\u001b[0m\u001b[0mextend\u001b[0m\u001b[0;34m(\u001b[0m\u001b[0mjob\u001b[0m\u001b[0;34m.\u001b[0m\u001b[0mget\u001b[0m\u001b[0;34m(\u001b[0m\u001b[0;34m)\u001b[0m\u001b[0;34m)\u001b[0m\u001b[0;34m\u001b[0m\u001b[0;34m\u001b[0m\u001b[0m\n",
            "\u001b[0;32m/usr/local/lib/python3.7/dist-packages/joblib/_parallel_backends.py\u001b[0m in \u001b[0;36mwrap_future_result\u001b[0;34m(future, timeout)\u001b[0m\n\u001b[1;32m    540\u001b[0m         AsyncResults.get from multiprocessing.\"\"\"\n\u001b[1;32m    541\u001b[0m         \u001b[0;32mtry\u001b[0m\u001b[0;34m:\u001b[0m\u001b[0;34m\u001b[0m\u001b[0;34m\u001b[0m\u001b[0m\n\u001b[0;32m--> 542\u001b[0;31m             \u001b[0;32mreturn\u001b[0m \u001b[0mfuture\u001b[0m\u001b[0;34m.\u001b[0m\u001b[0mresult\u001b[0m\u001b[0;34m(\u001b[0m\u001b[0mtimeout\u001b[0m\u001b[0;34m=\u001b[0m\u001b[0mtimeout\u001b[0m\u001b[0;34m)\u001b[0m\u001b[0;34m\u001b[0m\u001b[0;34m\u001b[0m\u001b[0m\n\u001b[0m\u001b[1;32m    543\u001b[0m         \u001b[0;32mexcept\u001b[0m \u001b[0mCfTimeoutError\u001b[0m \u001b[0;32mas\u001b[0m \u001b[0me\u001b[0m\u001b[0;34m:\u001b[0m\u001b[0;34m\u001b[0m\u001b[0;34m\u001b[0m\u001b[0m\n\u001b[1;32m    544\u001b[0m             \u001b[0;32mraise\u001b[0m \u001b[0mTimeoutError\u001b[0m \u001b[0;32mfrom\u001b[0m \u001b[0me\u001b[0m\u001b[0;34m\u001b[0m\u001b[0;34m\u001b[0m\u001b[0m\n",
            "\u001b[0;32m/usr/lib/python3.7/concurrent/futures/_base.py\u001b[0m in \u001b[0;36mresult\u001b[0;34m(self, timeout)\u001b[0m\n\u001b[1;32m    428\u001b[0m                 \u001b[0;32mreturn\u001b[0m \u001b[0mself\u001b[0m\u001b[0;34m.\u001b[0m\u001b[0m__get_result\u001b[0m\u001b[0;34m(\u001b[0m\u001b[0;34m)\u001b[0m\u001b[0;34m\u001b[0m\u001b[0;34m\u001b[0m\u001b[0m\n\u001b[1;32m    429\u001b[0m \u001b[0;34m\u001b[0m\u001b[0m\n\u001b[0;32m--> 430\u001b[0;31m             \u001b[0mself\u001b[0m\u001b[0;34m.\u001b[0m\u001b[0m_condition\u001b[0m\u001b[0;34m.\u001b[0m\u001b[0mwait\u001b[0m\u001b[0;34m(\u001b[0m\u001b[0mtimeout\u001b[0m\u001b[0;34m)\u001b[0m\u001b[0;34m\u001b[0m\u001b[0;34m\u001b[0m\u001b[0m\n\u001b[0m\u001b[1;32m    431\u001b[0m \u001b[0;34m\u001b[0m\u001b[0m\n\u001b[1;32m    432\u001b[0m             \u001b[0;32mif\u001b[0m \u001b[0mself\u001b[0m\u001b[0;34m.\u001b[0m\u001b[0m_state\u001b[0m \u001b[0;32min\u001b[0m \u001b[0;34m[\u001b[0m\u001b[0mCANCELLED\u001b[0m\u001b[0;34m,\u001b[0m \u001b[0mCANCELLED_AND_NOTIFIED\u001b[0m\u001b[0;34m]\u001b[0m\u001b[0;34m:\u001b[0m\u001b[0;34m\u001b[0m\u001b[0;34m\u001b[0m\u001b[0m\n",
            "\u001b[0;32m/usr/lib/python3.7/threading.py\u001b[0m in \u001b[0;36mwait\u001b[0;34m(self, timeout)\u001b[0m\n\u001b[1;32m    294\u001b[0m         \u001b[0;32mtry\u001b[0m\u001b[0;34m:\u001b[0m    \u001b[0;31m# restore state no matter what (e.g., KeyboardInterrupt)\u001b[0m\u001b[0;34m\u001b[0m\u001b[0;34m\u001b[0m\u001b[0m\n\u001b[1;32m    295\u001b[0m             \u001b[0;32mif\u001b[0m \u001b[0mtimeout\u001b[0m \u001b[0;32mis\u001b[0m \u001b[0;32mNone\u001b[0m\u001b[0;34m:\u001b[0m\u001b[0;34m\u001b[0m\u001b[0;34m\u001b[0m\u001b[0m\n\u001b[0;32m--> 296\u001b[0;31m                 \u001b[0mwaiter\u001b[0m\u001b[0;34m.\u001b[0m\u001b[0macquire\u001b[0m\u001b[0;34m(\u001b[0m\u001b[0;34m)\u001b[0m\u001b[0;34m\u001b[0m\u001b[0;34m\u001b[0m\u001b[0m\n\u001b[0m\u001b[1;32m    297\u001b[0m                 \u001b[0mgotit\u001b[0m \u001b[0;34m=\u001b[0m \u001b[0;32mTrue\u001b[0m\u001b[0;34m\u001b[0m\u001b[0;34m\u001b[0m\u001b[0m\n\u001b[1;32m    298\u001b[0m             \u001b[0;32melse\u001b[0m\u001b[0;34m:\u001b[0m\u001b[0;34m\u001b[0m\u001b[0;34m\u001b[0m\u001b[0m\n",
            "\u001b[0;31mKeyboardInterrupt\u001b[0m: "
          ]
        }
      ]
    },
    {
      "cell_type": "code",
      "source": [
        "mean_train_error = -1 * lasso_grid_search.cv_results_['mean_train_score'][lasso_grid_search.best_index_]\n",
        "mean_test_error = -1 * lasso_grid_search.cv_results_['mean_test_score'][lasso_grid_search.best_index_]\n",
        "std_train_error = -1 * lasso_grid_search.cv_results_['std_train_score'][lasso_grid_search.best_index_]\n",
        "std_test_error = -1 * lasso_grid_search.cv_results_['std_test_score'][lasso_grid_search.best_index_]\n",
        "\n",
        "print(f'Best mean absolute error on training set: {mean_train_error:0.3f} +/- {std_train_error:0.3f}')\n",
        "print(f'Best mean absolute error on test set: {mean_test_error:0.3f} +/- {std_test_error:0.3f}')\n",
        "\n",
        "print('\\nMean cross validated score of the best estimator: ', lasso_grid_search.best_score_)\n",
        "print('Mean cross validated error of the best estimator: ', -lasso_grid_search.best_score_)\n",
        "\n",
        "print('\\nThe best parameter value is: ', lasso_grid_search.best_params_)"
      ],
      "metadata": {
        "id": "Pa-x5L_knUhx"
      },
      "execution_count": null,
      "outputs": []
    },
    {
      "cell_type": "markdown",
      "source": [
        "#SGD Regularization and HPT\n",
        "SGDRegressor has many hyperparameters that require carefult tuning to achieve same performance as with LinearRegresssion"
      ],
      "metadata": {
        "id": "7QL8A133ni0d"
      }
    },
    {
      "cell_type": "code",
      "source": [
        "poly_sgd_pipeline = Pipeline([('poly', PolynomialFeatures()),\n",
        "                              ('feature_scaling', StandardScaler()),\n",
        "                              ('sgd_reg', SGDRegressor(penalty='elasticnet', random_state=42))\n",
        "                              ])\n",
        "poly_sgd_cv_results = cross_validate(poly_sgd_pipeline,\n",
        "                                     com_train_features,\n",
        "                                     com_train_labels,\n",
        "                                     cv=cv,\n",
        "                                     scoring='neg_mean_absolute_error',\n",
        "                                     return_train_score=True,\n",
        "                                     return_estimator=True\n",
        "                                     )\n",
        "poly_sgd_train_error = -1 * poly_sgd_cv_results['train_score']\n",
        "poly_sgd_test_error = -1 * poly_sgd_cv_results['test_score']\n",
        "print(f'Mean absolute error on training set: {poly_sgd_train_error.mean():0.3f} +/- {poly_sgd_train_error.std():0.3f}')\n",
        "print(f'Mean absolute error on test set: {poly_sgd_test_error.mean():0.3f} +/- {poly_sgd_test_error.std():0.3f}')"
      ],
      "metadata": {
        "colab": {
          "base_uri": "https://localhost:8080/"
        },
        "id": "_6VwkpAfqLuq",
        "outputId": "5eec248e-4fbb-4353-bf27-6ffde89c9e9e"
      },
      "execution_count": null,
      "outputs": [
        {
          "output_type": "stream",
          "name": "stdout",
          "text": [
            "Mean absolute error on training set: 10824283052.546 +/- 4423288211.832\n",
            "Mean absolute error on test set: 10946788540.250 +/- 5396536227.703\n"
          ]
        }
      ]
    },
    {
      "cell_type": "markdown",
      "source": [
        "Let us search for best set of parameters for polynomial SGD pipeline with RandomizedSearchCV.   \n",
        "\n",
        "In RandomizedSearchCV, we need to specify the distributions of hyperparameters"
      ],
      "metadata": {
        "id": "KGk5x6lhsI9c"
      }
    },
    {
      "cell_type": "code",
      "source": [
        "class uniform_int:\n",
        "  \"\"\"Integer value version of uniform distribution\"\"\"\n",
        "  def __init__(self, a, b):\n",
        "    self._distribution = iniform(a, b)\n",
        "  def rvs(self, *args, **kwargs):\n",
        "    \"\"\"Random Variable Simple\"\"\"\n",
        "    return self._distribution.rvs(*args, **kwargs).astype(int)"
      ],
      "metadata": {
        "id": "PtD-CHTqsgHN"
      },
      "execution_count": null,
      "outputs": []
    },
    {
      "cell_type": "code",
      "source": [
        "param_distributions = {'poly__degree' : [1,2,3],\n",
        "                       'sgd_reg__learning_rate' : ['constant', 'adaptive', 'invscaling'],\n",
        "                       'sgd_reg__l1_ratio': uniform(0, 1),\n",
        "                       'sgd_reg__eta0': loguniform(1e-5, 1),\n",
        "                       'sgd_reg__power_t': uniform(0, 1)\n",
        "                       }\n",
        "poly_sgd_random_search = RandomizedSearchCV(poly_sgd_pipeline,\n",
        "                                            param_distributions=param_distributions,\n",
        "                                            n_iter=10,\n",
        "                                            cv=cv,\n",
        "                                            verbose=1,\n",
        "                                            scoring='neg_mean_absolute_error'\n",
        "                                            )\n",
        "poly_sgd_random_search.fit(com_train_features, com_train_labels)"
      ],
      "metadata": {
        "colab": {
          "base_uri": "https://localhost:8080/"
        },
        "id": "LLgNaKPsygjW",
        "outputId": "d25b225c-9e66-4362-bf27-f28e7e52b942"
      },
      "execution_count": null,
      "outputs": [
        {
          "output_type": "stream",
          "name": "stdout",
          "text": [
            "Fitting 10 folds for each of 10 candidates, totalling 100 fits\n"
          ]
        },
        {
          "output_type": "stream",
          "name": "stderr",
          "text": [
            "/usr/local/lib/python3.7/dist-packages/sklearn/linear_model/_stochastic_gradient.py:1507: ConvergenceWarning: Maximum number of iteration reached before convergence. Consider increasing max_iter to improve the fit.\n",
            "  ConvergenceWarning,\n",
            "/usr/local/lib/python3.7/dist-packages/sklearn/linear_model/_stochastic_gradient.py:1507: ConvergenceWarning: Maximum number of iteration reached before convergence. Consider increasing max_iter to improve the fit.\n",
            "  ConvergenceWarning,\n"
          ]
        },
        {
          "output_type": "execute_result",
          "data": {
            "text/plain": [
              "RandomizedSearchCV(cv=ShuffleSplit(n_splits=10, random_state=42, test_size=0.2, train_size=None),\n",
              "                   estimator=Pipeline(steps=[('poly', PolynomialFeatures()),\n",
              "                                             ('feature_scaling',\n",
              "                                              StandardScaler()),\n",
              "                                             ('sgd_reg',\n",
              "                                              SGDRegressor(penalty='elasticnet',\n",
              "                                                           random_state=42))]),\n",
              "                   param_distributions={'poly__degree': [1, 2, 3],\n",
              "                                        'sgd_reg__eta0': <scipy.stats._distn_infrastructure.rv_frozen object at 0x7f1137f8c550>,\n",
              "                                        'sgd_reg__l1_ratio': <scipy.stats._distn_infrastructure.rv_frozen object at 0x7f1137f8cd90>,\n",
              "                                        'sgd_reg__learning_rate': ['constant',\n",
              "                                                                   'adaptive',\n",
              "                                                                   'invscaling'],\n",
              "                                        'sgd_reg__power_t': <scipy.stats._distn_infrastructure.rv_frozen object at 0x7f1137f8c910>},\n",
              "                   scoring='neg_mean_absolute_error', verbose=1)"
            ]
          },
          "metadata": {},
          "execution_count": 22
        }
      ]
    },
    {
      "cell_type": "code",
      "source": [
        "poly_sgd_random_search.best_score_"
      ],
      "metadata": {
        "colab": {
          "base_uri": "https://localhost:8080/"
        },
        "id": "GUVH9HhB1FGL",
        "outputId": "a6481a61-b45e-46ef-9a4a-a0eaa4c23afe"
      },
      "execution_count": null,
      "outputs": [
        {
          "output_type": "execute_result",
          "data": {
            "text/plain": [
              "-0.5266188964337121"
            ]
          },
          "metadata": {},
          "execution_count": 23
        }
      ]
    },
    {
      "cell_type": "code",
      "source": [
        "poly_sgd_random_search.best_params_"
      ],
      "metadata": {
        "colab": {
          "base_uri": "https://localhost:8080/"
        },
        "id": "ojah2hxJ1JoT",
        "outputId": "9ed5bfb4-1af1-446b-b411-69af3db4e744"
      },
      "execution_count": null,
      "outputs": [
        {
          "output_type": "execute_result",
          "data": {
            "text/plain": [
              "{'poly__degree': 1,\n",
              " 'sgd_reg__eta0': 0.00017569928270100732,\n",
              " 'sgd_reg__l1_ratio': 0.8686387810395121,\n",
              " 'sgd_reg__learning_rate': 'adaptive',\n",
              " 'sgd_reg__power_t': 0.6712948255943406}"
            ]
          },
          "metadata": {},
          "execution_count": 24
        }
      ]
    },
    {
      "cell_type": "code",
      "source": [
        "poly_sgd_random_search.best_estimator_"
      ],
      "metadata": {
        "colab": {
          "base_uri": "https://localhost:8080/"
        },
        "id": "lFOM4dlw1Shw",
        "outputId": "7354aa57-70ff-480f-8bdd-7405df591eeb"
      },
      "execution_count": null,
      "outputs": [
        {
          "output_type": "execute_result",
          "data": {
            "text/plain": [
              "Pipeline(steps=[('poly', PolynomialFeatures(degree=1)),\n",
              "                ('feature_scaling', StandardScaler()),\n",
              "                ('sgd_reg',\n",
              "                 SGDRegressor(eta0=0.00017569928270100732,\n",
              "                              l1_ratio=0.8686387810395121,\n",
              "                              learning_rate='adaptive', penalty='elasticnet',\n",
              "                              power_t=0.6712948255943406, random_state=42))])"
            ]
          },
          "metadata": {},
          "execution_count": 25
        }
      ]
    },
    {
      "cell_type": "markdown",
      "source": [
        "#Comparison of weight vectors"
      ],
      "metadata": {
        "id": "i08EqZ9K0euI"
      }
    },
    {
      "cell_type": "code",
      "source": [
        "feature_names = poly_reg_cv_results['estimator'][0][0].get_feature_names_out(input_features=train_features.columns)\n",
        "feature_names"
      ],
      "metadata": {
        "colab": {
          "base_uri": "https://localhost:8080/"
        },
        "id": "LzJlwaWx1wsW",
        "outputId": "e2319f92-b41c-4ac0-8f83-1d77696b9f3d"
      },
      "execution_count": null,
      "outputs": [
        {
          "output_type": "execute_result",
          "data": {
            "text/plain": [
              "array(['1', 'MedInc', 'HouseAge', 'AveRooms', 'AveBedrms', 'Population',\n",
              "       'AveOccup', 'Latitude', 'Longitude', 'MedInc HouseAge',\n",
              "       'MedInc AveRooms', 'MedInc AveBedrms', 'MedInc Population',\n",
              "       'MedInc AveOccup', 'MedInc Latitude', 'MedInc Longitude',\n",
              "       'HouseAge AveRooms', 'HouseAge AveBedrms', 'HouseAge Population',\n",
              "       'HouseAge AveOccup', 'HouseAge Latitude', 'HouseAge Longitude',\n",
              "       'AveRooms AveBedrms', 'AveRooms Population', 'AveRooms AveOccup',\n",
              "       'AveRooms Latitude', 'AveRooms Longitude', 'AveBedrms Population',\n",
              "       'AveBedrms AveOccup', 'AveBedrms Latitude', 'AveBedrms Longitude',\n",
              "       'Population AveOccup', 'Population Latitude',\n",
              "       'Population Longitude', 'AveOccup Latitude', 'AveOccup Longitude',\n",
              "       'Latitude Longitude'], dtype=object)"
            ]
          },
          "metadata": {},
          "execution_count": 31
        }
      ]
    },
    {
      "cell_type": "code",
      "source": [
        "coefs = [est[-1].coef_ for est in poly_reg_cv_results['estimator']]\n",
        "weights_poly_reg = pd.DataFrame(coefs, columns=feature_names)"
      ],
      "metadata": {
        "id": "I6gmSTGW2OM0"
      },
      "execution_count": null,
      "outputs": []
    },
    {
      "cell_type": "code",
      "source": [
        "color = {'whiskers':'black', 'medians':'black', 'caps':'black'}\n",
        "weights_poly_reg.plot.box(color=color, vert=False, figsize=(6,16))\n",
        "plt.title('Polynomial regression coefficients');"
      ],
      "metadata": {
        "colab": {
          "base_uri": "https://localhost:8080/",
          "height": 934
        },
        "id": "6nUfAS7k2lJT",
        "outputId": "4d24adc2-ca15-4c10-c39e-07a8adbd6ee8"
      },
      "execution_count": null,
      "outputs": [
        {
          "output_type": "display_data",
          "data": {
            "text/plain": [
              "<Figure size 432x1152 with 1 Axes>"
            ],
            "image/png": "[encoded data removed]"
          },
          "metadata": {
            "needs_background": "light"
          }
        }
      ]
    },
    {
      "cell_type": "code",
      "source": [
        "#print(poly_reg_cv_results['estimator'])\n",
        "feature_names = ridgecv_cv_results['estimator'][0][0].get_feature_names_out(input_features=train_features.columns)\n",
        "coefs = [est[-1].coef_ for est in ridgecv_cv_results['estimator']]\n",
        "weights_ridge_reg = pd.DataFrame(coefs, columns=feature_names)\n",
        "color = {'whiskers':'black', 'medians':'black', 'caps':'black'}\n",
        "weights_ridge_reg.plot.box(color=color, vert=False, figsize=(6,16))\n",
        "plt.title('Ridge regression coefficients');"
      ],
      "metadata": {
        "colab": {
          "base_uri": "https://localhost:8080/",
          "height": 934
        },
        "id": "peP8fRXR3Qho",
        "outputId": "13ab9380-29c0-4b18-e414-b566378c1c4f"
      },
      "execution_count": null,
      "outputs": [
        {
          "output_type": "display_data",
          "data": {
            "text/plain": [
              "<Figure size 432x1152 with 1 Axes>"
            ],
            "image/png": "[encoded data removed]"
          },
          "metadata": {
            "needs_background": "light"
          }
        }
      ]
    },
    {
      "cell_type": "markdown",
      "source": [
        "#Performance on the test set"
      ],
      "metadata": {
        "id": "psWp4qOA6gN0"
      }
    },
    {
      "cell_type": "markdown",
      "source": [
        "##Baseline"
      ],
      "metadata": {
        "id": "KpNZeVc66j0o"
      }
    },
    {
      "cell_type": "code",
      "source": [
        "baseline_model_median = DummyRegressor(strategy='median')\n",
        "baseline_model_median.fit(train_features, train_labels)\n",
        "mean_absolute_percentage_error(test_labels, baseline_model_median.predict(test_features))"
      ],
      "metadata": {
        "colab": {
          "base_uri": "https://localhost:8080/"
        },
        "id": "KMjfALTE6lQS",
        "outputId": "0c4fcf62-155f-42c3-8a90-38d93dbaab47"
      },
      "execution_count": null,
      "outputs": [
        {
          "output_type": "execute_result",
          "data": {
            "text/plain": [
              "0.5348927548151625"
            ]
          },
          "metadata": {},
          "execution_count": 45
        }
      ]
    },
    {
      "cell_type": "markdown",
      "source": [
        "##Linear Regression with Normal Equation"
      ],
      "metadata": {
        "id": "9zTcnXzZ7ddh"
      }
    },
    {
      "cell_type": "code",
      "source": [
        "mean_absolute_percentage_error(test_labels, lin_reg_cv_results['estimator'][0].predict(test_features))"
      ],
      "metadata": {
        "colab": {
          "base_uri": "https://localhost:8080/"
        },
        "id": "xTbIu9jA7jrm",
        "outputId": "cad134e2-1f8e-4ea7-f21f-28ee3929c18b"
      },
      "execution_count": null,
      "outputs": [
        {
          "output_type": "execute_result",
          "data": {
            "text/plain": [
              "0.32120472175482906"
            ]
          },
          "metadata": {},
          "execution_count": 46
        }
      ]
    },
    {
      "cell_type": "code",
      "source": [
        "mean_absolute_percentage_error(test_labels, poly_sgd_random_search.best_estimator_.predict(test_features))"
      ],
      "metadata": {
        "colab": {
          "base_uri": "https://localhost:8080/"
        },
        "id": "BD1RStiv7yHe",
        "outputId": "50b86e85-a42a-4395-dcbf-e20003846bcf"
      },
      "execution_count": null,
      "outputs": [
        {
          "output_type": "execute_result",
          "data": {
            "text/plain": [
              "0.31916692241957345"
            ]
          },
          "metadata": {},
          "execution_count": 47
        }
      ]
    },
    {
      "cell_type": "markdown",
      "source": [
        "##Polynomial Regression"
      ],
      "metadata": {
        "id": "KbAtp1YN8Nn5"
      }
    },
    {
      "cell_type": "code",
      "source": [
        "poly_reg_pipeline.fit(com_train_features, com_train_labels)\n",
        "mean_absolute_percentage_error(test_labels, poly_reg_pipeline.predict(test_features))"
      ],
      "metadata": {
        "colab": {
          "base_uri": "https://localhost:8080/"
        },
        "id": "4xVnDhQa8QH8",
        "outputId": "cd43f2f8-1039-415b-fe48-23ff3f978ff8"
      },
      "execution_count": null,
      "outputs": [
        {
          "output_type": "execute_result",
          "data": {
            "text/plain": [
              "0.28199759082657233"
            ]
          },
          "metadata": {},
          "execution_count": 48
        }
      ]
    },
    {
      "cell_type": "markdown",
      "source": [
        "##Ridge Regression"
      ],
      "metadata": {
        "id": "l7cWsSDw8fxu"
      }
    },
    {
      "cell_type": "code",
      "source": [
        "mean_absolute_percentage_error(test_labels, ridge_grid_search.best_estimator_.predict(test_features))"
      ],
      "metadata": {
        "colab": {
          "base_uri": "https://localhost:8080/"
        },
        "id": "vJcohXOg8h-5",
        "outputId": "0f6d253c-7e7d-4150-c771-24104f228e97"
      },
      "execution_count": null,
      "outputs": [
        {
          "output_type": "execute_result",
          "data": {
            "text/plain": [
              "0.2711033645141509"
            ]
          },
          "metadata": {},
          "execution_count": 49
        }
      ]
    },
    {
      "cell_type": "markdown",
      "source": [
        "##Lasso Regression"
      ],
      "metadata": {
        "id": "AfDp1G778u1b"
      }
    },
    {
      "cell_type": "code",
      "source": [
        "mean_absolute_percentage_error(test_labels, lasso_grid_search.best_estimator_.predict(test_features))"
      ],
      "metadata": {
        "colab": {
          "base_uri": "https://localhost:8080/",
          "height": 165
        },
        "id": "yflNiro08w_I",
        "outputId": "d73245a0-a20c-4fb7-c38e-36ce85cab83f"
      },
      "execution_count": null,
      "outputs": [
        {
          "output_type": "error",
          "ename": "AttributeError",
          "evalue": "ignored",
          "traceback": [
            "\u001b[0;31m---------------------------------------------------------------------------\u001b[0m",
            "\u001b[0;31mAttributeError\u001b[0m                            Traceback (most recent call last)",
            "\u001b[0;32m<ipython-input-51-b5ab95f3f23c>\u001b[0m in \u001b[0;36m<module>\u001b[0;34m\u001b[0m\n\u001b[0;32m----> 1\u001b[0;31m \u001b[0mmean_absolute_percentage_error\u001b[0m\u001b[0;34m(\u001b[0m\u001b[0mtest_labels\u001b[0m\u001b[0;34m,\u001b[0m \u001b[0mlasso_grid_search\u001b[0m\u001b[0;34m.\u001b[0m\u001b[0mbest_estimator_\u001b[0m\u001b[0;34m.\u001b[0m\u001b[0mpredict\u001b[0m\u001b[0;34m(\u001b[0m\u001b[0mtest_features\u001b[0m\u001b[0;34m)\u001b[0m\u001b[0;34m)\u001b[0m\u001b[0;34m\u001b[0m\u001b[0;34m\u001b[0m\u001b[0m\n\u001b[0m",
            "\u001b[0;31mAttributeError\u001b[0m: 'GridSearchCV' object has no attribute 'best_estimator_'"
          ]
        }
      ]
    }
  ]
}