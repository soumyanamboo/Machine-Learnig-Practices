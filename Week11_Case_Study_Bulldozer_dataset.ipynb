{
  "nbformat": 4,
  "nbformat_minor": 0,
  "metadata": {
    "colab": {
      "provenance": []
    },
    "kernelspec": {
      "name": "python3",
      "display_name": "Python 3"
    },
    "language_info": {
      "name": "python"
    },
    "gpuClass": "standard"
  },
  "cells": [
    {
      "cell_type": "markdown",
      "source": [
        "The dataset for this colab is available: [Training and validation set](https://drive.google.com/file/d/1Ji3oeXia4H4dd4bWpxkgTRfECS6Avn1d/view?usp=sharing) and [Test dataset](https://drive.google.com/file/d/1FWyWSnHNb28bit3mj2xrW5KpcvPKglGo/view?usp=sharing). "
      ],
      "metadata": {
        "id": "x6Vpa6IYKqOO"
      }
    },
    {
      "cell_type": "markdown",
      "source": [
        "The purpose of this study was to forecast the auction sale price of a specific piece of heavy equipment (a bulldozer) based on its usage, equipment type, and configuration. The information comes from auction result postings and covers use and equipment settings.\n",
        "The RMSLE (root mean squared log error) between the actual and forecast auction prices is the competition's evaluation metric.\n",
        "\n",
        "The data page contains links to sample submission files. Files submitted should be formatted as follows:\n",
        "\n",
        "A newly created` header  `SalesID,SalePrice`;\n",
        "has two columns:\n",
        "\n",
        "`SalesID`: The validation set's SalesID in sorted order;\n",
        "`SalePrice`: Your estimated sale price."
      ],
      "metadata": {
        "id": "AgcnUgJdNktO"
      }
    },
    {
      "cell_type": "markdown",
      "source": [
        "# [Root Mean Squared Log Error (RMSLE)](https://www.kaggle.com/code/carlolepelaars/understanding-the-metric-rmsle)"
      ],
      "metadata": {
        "id": "cjbeq3WIRfQf"
      }
    },
    {
      "cell_type": "markdown",
      "source": [
        "The formula for RMSLE is as follows:\n",
        "\n",
        "$RMSLE=\\sqrt{\\frac{1}{n}\\sum_{i=1}^{n}(log(p_i +1)-log(a_i +1))^2}$\n",
        "\n",
        "where:\n",
        "\n",
        "$n$  is the total number of observations in the (public/private) data set,\n",
        "\n",
        "$p_i$  is the prediction of target, and\n",
        "\n",
        "$a_i$  is the actual target for  $i$ .\n",
        "\n",
        "$log(x)$  is the natural logarithm of  $x  ( log_e(x)$ ."
      ],
      "metadata": {
        "id": "MfgWJyEMRnIY"
      }
    },
    {
      "cell_type": "markdown",
      "source": [
        "#Prepare tools"
      ],
      "metadata": {
        "id": "bxjELoXBOpOq"
      }
    },
    {
      "cell_type": "markdown",
      "source": [
        "##Random Forest Regression\n",
        "\n",
        "Every decision tree has a significant variance, but when we mix all of them in parallel, the final variance is low since each decision tree is perfectly trained on that specific sample data, and so the outcome is dependent on numerous decision trees rather than one. In the case of a classification problem, the majority voting classifier is used to determine the final output. The final output of a regression problem is the mean of all the outputs. Aggregation is the name given to this section.\n",
        "\n",
        "Random Forest is an ensemble technique that can handle both regression and classification tasks by combining many decision trees and a technique known as Bootstrap and Aggregation, or bagging. The core idea is to use numerous decision trees to determine the final output rather than depending on individual decision trees."
      ],
      "metadata": {
        "id": "DBXWt5_u6CDp"
      }
    },
    {
      "cell_type": "code",
      "execution_count": null,
      "metadata": {
        "id": "qBzs7gZBuMS8"
      },
      "outputs": [],
      "source": [
        "# import exploratory data analysis and plotting libraries\n",
        "import numpy as np\n",
        "import pandas as pd\n",
        "import matplotlib.pyplot as plt\n",
        "\n",
        "%matplotlib inline\n",
        "\n",
        "# models from scikit-learn\n",
        "from sklearn.ensemble import RandomForestRegressor\n",
        "\n",
        "# model evaluations\n",
        "from sklearn.model_selection import train_test_split\n",
        "from sklearn.model_selection import RandomizedSearchCV, GridSearchCV"
      ]
    },
    {
      "cell_type": "markdown",
      "source": [
        "#Inspect data"
      ],
      "metadata": {
        "id": "12dosoGSOwAG"
      }
    },
    {
      "cell_type": "markdown",
      "source": [
        "#Q1\n",
        "Import the training and validation dataset `TrainAndValid.csv` with `low_memory=False`and priint first 5 rows of the dataset. What is the `auctionerrID` for `SalesID=1139246`? \n",
        "\n"
      ],
      "metadata": {
        "id": "ShvNBef29oQW"
      }
    },
    {
      "cell_type": "code",
      "source": [
        "data = pd.read_csv('/content/sample_data/TrainAndValid.csv', low_memory=False)\n",
        "data[data['SalesID'] == 1139246]"
      ],
      "metadata": {
        "colab": {
          "base_uri": "https://localhost:8080/",
          "height": 191
        },
        "id": "9wuRnXFVy4xf",
        "outputId": "39761964-a55d-4990-b8ef-04622ba7b8fb"
      },
      "execution_count": null,
      "outputs": [
        {
          "output_type": "execute_result",
          "data": {
            "text/plain": [
              "   SalesID  SalePrice  MachineID  ModelID  datasource  auctioneerID  YearMade  \\\n",
              "0  1139246    66000.0     999089     3157         121           3.0      2004   \n",
              "\n",
              "   MachineHoursCurrentMeter UsageBand         saledate  ...  \\\n",
              "0                      68.0       Low  11/16/2006 0:00  ...   \n",
              "\n",
              "  Undercarriage_Pad_Width Stick_Length Thumb Pattern_Changer Grouser_Type  \\\n",
              "0                     NaN          NaN   NaN             NaN          NaN   \n",
              "\n",
              "  Backhoe_Mounting Blade_Type Travel_Controls Differential_Type  \\\n",
              "0              NaN        NaN             NaN          Standard   \n",
              "\n",
              "  Steering_Controls  \n",
              "0      Conventional  \n",
              "\n",
              "[1 rows x 53 columns]"
            ],
            "text/html": [
              "\n",
              "  <div id=\"df-7ca91024-58e9-495b-8c01-c18388624835\">\n",
              "    <div class=\"colab-df-container\">\n",
              "      <div>\n",
              "<style scoped>\n",
              "    .dataframe tbody tr th:only-of-type {\n",
              "        vertical-align: middle;\n",
              "    }\n",
              "\n",
              "    .dataframe tbody tr th {\n",
              "        vertical-align: top;\n",
              "    }\n",
              "\n",
              "    .dataframe thead th {\n",
              "        text-align: right;\n",
              "    }\n",
              "</style>\n",
              "<table border=\"1\" class=\"dataframe\">\n",
              "  <thead>\n",
              "    <tr style=\"text-align: right;\">\n",
              "      <th></th>\n",
              "      <th>SalesID</th>\n",
              "      <th>SalePrice</th>\n",
              "      <th>MachineID</th>\n",
              "      <th>ModelID</th>\n",
              "      <th>datasource</th>\n",
              "      <th>auctioneerID</th>\n",
              "      <th>YearMade</th>\n",
              "      <th>MachineHoursCurrentMeter</th>\n",
              "      <th>UsageBand</th>\n",
              "      <th>saledate</th>\n",
              "      <th>...</th>\n",
              "      <th>Undercarriage_Pad_Width</th>\n",
              "      <th>Stick_Length</th>\n",
              "      <th>Thumb</th>\n",
              "      <th>Pattern_Changer</th>\n",
              "      <th>Grouser_Type</th>\n",
              "      <th>Backhoe_Mounting</th>\n",
              "      <th>Blade_Type</th>\n",
              "      <th>Travel_Controls</th>\n",
              "      <th>Differential_Type</th>\n",
              "      <th>Steering_Controls</th>\n",
              "    </tr>\n",
              "  </thead>\n",
              "  <tbody>\n",
              "    <tr>\n",
              "      <th>0</th>\n",
              "      <td>1139246</td>\n",
              "      <td>66000.0</td>\n",
              "      <td>999089</td>\n",
              "      <td>3157</td>\n",
              "      <td>121</td>\n",
              "      <td>3.0</td>\n",
              "      <td>2004</td>\n",
              "      <td>68.0</td>\n",
              "      <td>Low</td>\n",
              "      <td>11/16/2006 0:00</td>\n",
              "      <td>...</td>\n",
              "      <td>NaN</td>\n",
              "      <td>NaN</td>\n",
              "      <td>NaN</td>\n",
              "      <td>NaN</td>\n",
              "      <td>NaN</td>\n",
              "      <td>NaN</td>\n",
              "      <td>NaN</td>\n",
              "      <td>NaN</td>\n",
              "      <td>Standard</td>\n",
              "      <td>Conventional</td>\n",
              "    </tr>\n",
              "  </tbody>\n",
              "</table>\n",
              "<p>1 rows × 53 columns</p>\n",
              "</div>\n",
              "      <button class=\"colab-df-convert\" onclick=\"convertToInteractive('df-7ca91024-58e9-495b-8c01-c18388624835')\"\n",
              "              title=\"Convert this dataframe to an interactive table.\"\n",
              "              style=\"display:none;\">\n",
              "        \n",
              "  <svg xmlns=\"http://www.w3.org/2000/svg\" height=\"24px\"viewBox=\"0 0 24 24\"\n",
              "       width=\"24px\">\n",
              "    <path d=\"M0 0h24v24H0V0z\" fill=\"none\"/>\n",
              "    <path d=\"M18.56 5.44l.94 2.06.94-2.06 2.06-.94-2.06-.94-.94-2.06-.94 2.06-2.06.94zm-11 1L8.5 8.5l.94-2.06 2.06-.94-2.06-.94L8.5 2.5l-.94 2.06-2.06.94zm10 10l.94 2.06.94-2.06 2.06-.94-2.06-.94-.94-2.06-.94 2.06-2.06.94z\"/><path d=\"M17.41 7.96l-1.37-1.37c-.4-.4-.92-.59-1.43-.59-.52 0-1.04.2-1.43.59L10.3 9.45l-7.72 7.72c-.78.78-.78 2.05 0 2.83L4 21.41c.39.39.9.59 1.41.59.51 0 1.02-.2 1.41-.59l7.78-7.78 2.81-2.81c.8-.78.8-2.07 0-2.86zM5.41 20L4 18.59l7.72-7.72 1.47 1.35L5.41 20z\"/>\n",
              "  </svg>\n",
              "      </button>\n",
              "      \n",
              "  <style>\n",
              "    .colab-df-container {\n",
              "      display:flex;\n",
              "      flex-wrap:wrap;\n",
              "      gap: 12px;\n",
              "    }\n",
              "\n",
              "    .colab-df-convert {\n",
              "      background-color: #E8F0FE;\n",
              "      border: none;\n",
              "      border-radius: 50%;\n",
              "      cursor: pointer;\n",
              "      display: none;\n",
              "      fill: #1967D2;\n",
              "      height: 32px;\n",
              "      padding: 0 0 0 0;\n",
              "      width: 32px;\n",
              "    }\n",
              "\n",
              "    .colab-df-convert:hover {\n",
              "      background-color: #E2EBFA;\n",
              "      box-shadow: 0px 1px 2px rgba(60, 64, 67, 0.3), 0px 1px 3px 1px rgba(60, 64, 67, 0.15);\n",
              "      fill: #174EA6;\n",
              "    }\n",
              "\n",
              "    [theme=dark] .colab-df-convert {\n",
              "      background-color: #3B4455;\n",
              "      fill: #D2E3FC;\n",
              "    }\n",
              "\n",
              "    [theme=dark] .colab-df-convert:hover {\n",
              "      background-color: #434B5C;\n",
              "      box-shadow: 0px 1px 3px 1px rgba(0, 0, 0, 0.15);\n",
              "      filter: drop-shadow(0px 1px 2px rgba(0, 0, 0, 0.3));\n",
              "      fill: #FFFFFF;\n",
              "    }\n",
              "  </style>\n",
              "\n",
              "      <script>\n",
              "        const buttonEl =\n",
              "          document.querySelector('#df-7ca91024-58e9-495b-8c01-c18388624835 button.colab-df-convert');\n",
              "        buttonEl.style.display =\n",
              "          google.colab.kernel.accessAllowed ? 'block' : 'none';\n",
              "\n",
              "        async function convertToInteractive(key) {\n",
              "          const element = document.querySelector('#df-7ca91024-58e9-495b-8c01-c18388624835');\n",
              "          const dataTable =\n",
              "            await google.colab.kernel.invokeFunction('convertToInteractive',\n",
              "                                                     [key], {});\n",
              "          if (!dataTable) return;\n",
              "\n",
              "          const docLinkHtml = 'Like what you see? Visit the ' +\n",
              "            '<a target=\"_blank\" href=https://colab.research.google.com/notebooks/data_table.ipynb>data table notebook</a>'\n",
              "            + ' to learn more about interactive tables.';\n",
              "          element.innerHTML = '';\n",
              "          dataTable['output_type'] = 'display_data';\n",
              "          await google.colab.output.renderOutput(dataTable, element);\n",
              "          const docLink = document.createElement('div');\n",
              "          docLink.innerHTML = docLinkHtml;\n",
              "          element.appendChild(docLink);\n",
              "        }\n",
              "      </script>\n",
              "    </div>\n",
              "  </div>\n",
              "  "
            ]
          },
          "metadata": {},
          "execution_count": 2
        }
      ]
    },
    {
      "cell_type": "code",
      "source": [
        "# from google.colab import drive\n",
        "# drive.mount('/content/drive')"
      ],
      "metadata": {
        "id": "Iklel1O0d2W7"
      },
      "execution_count": null,
      "outputs": []
    },
    {
      "cell_type": "markdown",
      "source": [
        "#Q2\n",
        "How many non-null values are there in the state column?\n",
        "\n",
        "**412698**\n",
        "\n"
      ],
      "metadata": {
        "id": "CNZojXK7_OqI"
      }
    },
    {
      "cell_type": "code",
      "source": [
        "# data['state'].isna().sum()\n",
        "data.info()"
      ],
      "metadata": {
        "colab": {
          "base_uri": "https://localhost:8080/"
        },
        "id": "R5EU5TI1zlpQ",
        "outputId": "1eaa1aac-bf1f-4072-bc29-5f336c7e6217"
      },
      "execution_count": null,
      "outputs": [
        {
          "output_type": "stream",
          "name": "stdout",
          "text": [
            "<class 'pandas.core.frame.DataFrame'>\n",
            "RangeIndex: 412698 entries, 0 to 412697\n",
            "Data columns (total 53 columns):\n",
            " #   Column                    Non-Null Count   Dtype  \n",
            "---  ------                    --------------   -----  \n",
            " 0   SalesID                   412698 non-null  int64  \n",
            " 1   SalePrice                 412698 non-null  float64\n",
            " 2   MachineID                 412698 non-null  int64  \n",
            " 3   ModelID                   412698 non-null  int64  \n",
            " 4   datasource                412698 non-null  int64  \n",
            " 5   auctioneerID              392562 non-null  float64\n",
            " 6   YearMade                  412698 non-null  int64  \n",
            " 7   MachineHoursCurrentMeter  147504 non-null  float64\n",
            " 8   UsageBand                 73670 non-null   object \n",
            " 9   saledate                  412698 non-null  object \n",
            " 10  fiModelDesc               412698 non-null  object \n",
            " 11  fiBaseModel               412698 non-null  object \n",
            " 12  fiSecondaryDesc           271971 non-null  object \n",
            " 13  fiModelSeries             58667 non-null   object \n",
            " 14  fiModelDescriptor         74816 non-null   object \n",
            " 15  ProductSize               196093 non-null  object \n",
            " 16  fiProductClassDesc        412698 non-null  object \n",
            " 17  state                     412698 non-null  object \n",
            " 18  ProductGroup              412698 non-null  object \n",
            " 19  ProductGroupDesc          412698 non-null  object \n",
            " 20  Drive_System              107087 non-null  object \n",
            " 21  Enclosure                 412364 non-null  object \n",
            " 22  Forks                     197715 non-null  object \n",
            " 23  Pad_Type                  81096 non-null   object \n",
            " 24  Ride_Control              152728 non-null  object \n",
            " 25  Stick                     81096 non-null   object \n",
            " 26  Transmission              188007 non-null  object \n",
            " 27  Turbocharged              81096 non-null   object \n",
            " 28  Blade_Extension           25983 non-null   object \n",
            " 29  Blade_Width               25983 non-null   object \n",
            " 30  Enclosure_Type            25983 non-null   object \n",
            " 31  Engine_Horsepower         25983 non-null   object \n",
            " 32  Hydraulics                330133 non-null  object \n",
            " 33  Pushblock                 25983 non-null   object \n",
            " 34  Ripper                    106945 non-null  object \n",
            " 35  Scarifier                 25994 non-null   object \n",
            " 36  Tip_Control               25983 non-null   object \n",
            " 37  Tire_Size                 97638 non-null   object \n",
            " 38  Coupler                   220679 non-null  object \n",
            " 39  Coupler_System            44974 non-null   object \n",
            " 40  Grouser_Tracks            44875 non-null   object \n",
            " 41  Hydraulics_Flow           44875 non-null   object \n",
            " 42  Track_Type                102193 non-null  object \n",
            " 43  Undercarriage_Pad_Width   102916 non-null  object \n",
            " 44  Stick_Length              102261 non-null  object \n",
            " 45  Thumb                     102332 non-null  object \n",
            " 46  Pattern_Changer           102261 non-null  object \n",
            " 47  Grouser_Type              102193 non-null  object \n",
            " 48  Backhoe_Mounting          80712 non-null   object \n",
            " 49  Blade_Type                81875 non-null   object \n",
            " 50  Travel_Controls           81877 non-null   object \n",
            " 51  Differential_Type         71564 non-null   object \n",
            " 52  Steering_Controls         71522 non-null   object \n",
            "dtypes: float64(3), int64(5), object(45)\n",
            "memory usage: 166.9+ MB\n"
          ]
        }
      ]
    },
    {
      "cell_type": "markdown",
      "source": [
        "#Q3\n",
        "Which of the following columns have missing values?"
      ],
      "metadata": {
        "id": "AObaYxil0BQY"
      }
    },
    {
      "cell_type": "code",
      "source": [
        "print('MachineHoursCurrentMeterdata: ', data['MachineHoursCurrentMeter'].isna().sum())\n",
        "print('fiModelDesc: ', data['fiModelDesc'].isna().sum())\n",
        "print('fiBaseModel: ', data['fiBaseModel'].isna().sum())\n",
        "print('ProductSize: ', data['ProductSize'].isna().sum())"
      ],
      "metadata": {
        "colab": {
          "base_uri": "https://localhost:8080/"
        },
        "id": "ONFrH6Cq0Dum",
        "outputId": "1e885e13-6ff0-4075-ffdb-e72dcde0a1fb"
      },
      "execution_count": null,
      "outputs": [
        {
          "output_type": "stream",
          "name": "stdout",
          "text": [
            "MachineHoursCurrentMeterdata:  265194\n",
            "fiModelDesc:  0\n",
            "fiBaseModel:  0\n",
            "ProductSize:  216605\n"
          ]
        }
      ]
    },
    {
      "cell_type": "markdown",
      "source": [
        "#Q4\n",
        "How many columns are there in the TrainAndValid dataset?"
      ],
      "metadata": {
        "id": "kFozNKWE0209"
      }
    },
    {
      "cell_type": "code",
      "source": [
        "data.shape"
      ],
      "metadata": {
        "colab": {
          "base_uri": "https://localhost:8080/"
        },
        "id": "z1GXRPbs0wHU",
        "outputId": "5460840d-bf20-4a17-fe04-aad8400410ec"
      },
      "execution_count": null,
      "outputs": [
        {
          "output_type": "execute_result",
          "data": {
            "text/plain": [
              "(412698, 53)"
            ]
          },
          "metadata": {},
          "execution_count": 5
        }
      ]
    },
    {
      "cell_type": "markdown",
      "source": [
        "#Q5\n",
        "Can you sort the dataframe in ascending order of saledate with inplace=True? Which of the following options represent the saledate of the salesID 1646770 ?\n",
        "\n",
        "**1989-01-17**\n",
        "\n",
        "1989-01-31\n",
        "\n",
        "1992-03-25\n",
        "\n",
        "2022-11-11"
      ],
      "metadata": {
        "id": "4ThMdDbk0601"
      }
    },
    {
      "cell_type": "code",
      "source": [
        "data.sort_values(by='saledate', inplace=True)"
      ],
      "metadata": {
        "id": "QINw8PAF06OB"
      },
      "execution_count": null,
      "outputs": []
    },
    {
      "cell_type": "code",
      "source": [
        "data[data['SalesID'] == 1646770].saledate"
      ],
      "metadata": {
        "colab": {
          "base_uri": "https://localhost:8080/"
        },
        "id": "vD-wQdgW3RVZ",
        "outputId": "ba46d158-f7e8-4abc-a700-9f95f0b2c7c1"
      },
      "execution_count": null,
      "outputs": [
        {
          "output_type": "execute_result",
          "data": {
            "text/plain": [
              "205615    1/17/1989 0:00\n",
              "Name: saledate, dtype: object"
            ]
          },
          "metadata": {},
          "execution_count": 7
        }
      ]
    },
    {
      "cell_type": "markdown",
      "source": [
        "#Q6\n",
        "Make a copy of the dataset. What is the year of making (YearMade) of the product with MachineID 1194089?\n",
        "\n",
        "**1980**\n",
        "\n",
        "1974\n",
        "\n",
        "1982\n",
        "\n",
        "1947"
      ],
      "metadata": {
        "id": "QWGUvyQo0-5B"
      }
    },
    {
      "cell_type": "code",
      "source": [
        "data_copy = data.copy()"
      ],
      "metadata": {
        "id": "h0SDigpG3jwn"
      },
      "execution_count": null,
      "outputs": []
    },
    {
      "cell_type": "code",
      "source": [
        "data[data['MachineID'] == 1194089].YearMade"
      ],
      "metadata": {
        "colab": {
          "base_uri": "https://localhost:8080/"
        },
        "id": "QAPGsKVS3okN",
        "outputId": "ed0c4ffc-c7ff-4fac-a424-d12d451762bf"
      },
      "execution_count": null,
      "outputs": [
        {
          "output_type": "execute_result",
          "data": {
            "text/plain": [
              "274835    1980\n",
              "Name: YearMade, dtype: int64"
            ]
          },
          "metadata": {},
          "execution_count": 9
        }
      ]
    },
    {
      "cell_type": "markdown",
      "source": [
        "#Q\n",
        "Import data again but this time parse dates"
      ],
      "metadata": {
        "id": "nO6sq-aYCjOj"
      }
    },
    {
      "cell_type": "code",
      "source": [
        "df = pd.read_csv(\"/content/sample_data/TrainAndValid.csv\",\n",
        "                 low_memory=False,\n",
        "                 parse_dates=[\"saledate\"])"
      ],
      "metadata": {
        "id": "b49XNof6Cp4L"
      },
      "execution_count": null,
      "outputs": []
    },
    {
      "cell_type": "code",
      "source": [
        "df.shape"
      ],
      "metadata": {
        "colab": {
          "base_uri": "https://localhost:8080/"
        },
        "id": "MQ-NHFWFcBZB",
        "outputId": "b6b33457-ea6d-4ee4-8dc4-4d167bef5192"
      },
      "execution_count": null,
      "outputs": [
        {
          "output_type": "execute_result",
          "data": {
            "text/plain": [
              "(412698, 53)"
            ]
          },
          "metadata": {},
          "execution_count": 35
        }
      ]
    },
    {
      "cell_type": "markdown",
      "source": [
        "#Q7\n",
        "Separate the saledate in saleYear,saleMonth,saleDay,saleDayOfWeek and saleDayOfYear and saledate column. Which numeric columns from the following options have null values?\n",
        "\n",
        "saleDayOfWeek\n",
        "\n",
        "SalePrice\n",
        "\n",
        "**auctioneerID**\n",
        "\n",
        "**MachineHoursCurrentMeter**"
      ],
      "metadata": {
        "id": "9KjCOhLL1B3Q"
      }
    },
    {
      "cell_type": "code",
      "source": [
        "df_copy = df.copy()"
      ],
      "metadata": {
        "id": "J8rhvDWF8xcs"
      },
      "execution_count": null,
      "outputs": []
    },
    {
      "cell_type": "code",
      "source": [
        "df_copy['saleYear'] = df_copy.saledate.dt.year\n",
        "df_copy['saleMonth'] = df_copy.saledate.dt.month\n",
        "df_copy['saleDay'] = df_copy.saledate.dt.day\n",
        "df_copy['saleDayOfWeek'] = df_copy.saledate.dt.day_of_week\n",
        "df_copy['saleDayOfYear'] = df_copy.saledate.dt.day_of_year\n",
        "df_copy.drop('saledate', axis=1, inplace=True)\n",
        "df_copy.head()"
      ],
      "metadata": {
        "colab": {
          "base_uri": "https://localhost:8080/",
          "height": 299
        },
        "id": "7Un05RD_4Eyd",
        "outputId": "37a04a46-bf2e-48b3-d325-778dbf0cf8d6"
      },
      "execution_count": null,
      "outputs": [
        {
          "output_type": "execute_result",
          "data": {
            "text/plain": [
              "   SalesID  SalePrice  MachineID  ModelID  datasource  auctioneerID  YearMade  \\\n",
              "0  1139246    66000.0     999089     3157         121           3.0      2004   \n",
              "1  1139248    57000.0     117657       77         121           3.0      1996   \n",
              "2  1139249    10000.0     434808     7009         121           3.0      2001   \n",
              "3  1139251    38500.0    1026470      332         121           3.0      2001   \n",
              "4  1139253    11000.0    1057373    17311         121           3.0      2007   \n",
              "\n",
              "   MachineHoursCurrentMeter UsageBand fiModelDesc  ... Backhoe_Mounting  \\\n",
              "0                      68.0       Low        521D  ...              NaN   \n",
              "1                    4640.0       Low      950FII  ...              NaN   \n",
              "2                    2838.0      High         226  ...              NaN   \n",
              "3                    3486.0      High    PC120-6E  ...              NaN   \n",
              "4                     722.0    Medium        S175  ...              NaN   \n",
              "\n",
              "  Blade_Type Travel_Controls Differential_Type Steering_Controls saleYear  \\\n",
              "0        NaN             NaN          Standard      Conventional     2006   \n",
              "1        NaN             NaN          Standard      Conventional     2004   \n",
              "2        NaN             NaN               NaN               NaN     2004   \n",
              "3        NaN             NaN               NaN               NaN     2011   \n",
              "4        NaN             NaN               NaN               NaN     2009   \n",
              "\n",
              "  saleMonth saleDay saleDayOfWeek saleDayOfYear  \n",
              "0        11      16             3           320  \n",
              "1         3      26             4            86  \n",
              "2         2      26             3            57  \n",
              "3         5      19             3           139  \n",
              "4         7      23             3           204  \n",
              "\n",
              "[5 rows x 57 columns]"
            ],
            "text/html": [
              "\n",
              "  <div id=\"df-dfc75785-7d9e-4468-a694-91909bb9c9b1\">\n",
              "    <div class=\"colab-df-container\">\n",
              "      <div>\n",
              "<style scoped>\n",
              "    .dataframe tbody tr th:only-of-type {\n",
              "        vertical-align: middle;\n",
              "    }\n",
              "\n",
              "    .dataframe tbody tr th {\n",
              "        vertical-align: top;\n",
              "    }\n",
              "\n",
              "    .dataframe thead th {\n",
              "        text-align: right;\n",
              "    }\n",
              "</style>\n",
              "<table border=\"1\" class=\"dataframe\">\n",
              "  <thead>\n",
              "    <tr style=\"text-align: right;\">\n",
              "      <th></th>\n",
              "      <th>SalesID</th>\n",
              "      <th>SalePrice</th>\n",
              "      <th>MachineID</th>\n",
              "      <th>ModelID</th>\n",
              "      <th>datasource</th>\n",
              "      <th>auctioneerID</th>\n",
              "      <th>YearMade</th>\n",
              "      <th>MachineHoursCurrentMeter</th>\n",
              "      <th>UsageBand</th>\n",
              "      <th>fiModelDesc</th>\n",
              "      <th>...</th>\n",
              "      <th>Backhoe_Mounting</th>\n",
              "      <th>Blade_Type</th>\n",
              "      <th>Travel_Controls</th>\n",
              "      <th>Differential_Type</th>\n",
              "      <th>Steering_Controls</th>\n",
              "      <th>saleYear</th>\n",
              "      <th>saleMonth</th>\n",
              "      <th>saleDay</th>\n",
              "      <th>saleDayOfWeek</th>\n",
              "      <th>saleDayOfYear</th>\n",
              "    </tr>\n",
              "  </thead>\n",
              "  <tbody>\n",
              "    <tr>\n",
              "      <th>0</th>\n",
              "      <td>1139246</td>\n",
              "      <td>66000.0</td>\n",
              "      <td>999089</td>\n",
              "      <td>3157</td>\n",
              "      <td>121</td>\n",
              "      <td>3.0</td>\n",
              "      <td>2004</td>\n",
              "      <td>68.0</td>\n",
              "      <td>Low</td>\n",
              "      <td>521D</td>\n",
              "      <td>...</td>\n",
              "      <td>NaN</td>\n",
              "      <td>NaN</td>\n",
              "      <td>NaN</td>\n",
              "      <td>Standard</td>\n",
              "      <td>Conventional</td>\n",
              "      <td>2006</td>\n",
              "      <td>11</td>\n",
              "      <td>16</td>\n",
              "      <td>3</td>\n",
              "      <td>320</td>\n",
              "    </tr>\n",
              "    <tr>\n",
              "      <th>1</th>\n",
              "      <td>1139248</td>\n",
              "      <td>57000.0</td>\n",
              "      <td>117657</td>\n",
              "      <td>77</td>\n",
              "      <td>121</td>\n",
              "      <td>3.0</td>\n",
              "      <td>1996</td>\n",
              "      <td>4640.0</td>\n",
              "      <td>Low</td>\n",
              "      <td>950FII</td>\n",
              "      <td>...</td>\n",
              "      <td>NaN</td>\n",
              "      <td>NaN</td>\n",
              "      <td>NaN</td>\n",
              "      <td>Standard</td>\n",
              "      <td>Conventional</td>\n",
              "      <td>2004</td>\n",
              "      <td>3</td>\n",
              "      <td>26</td>\n",
              "      <td>4</td>\n",
              "      <td>86</td>\n",
              "    </tr>\n",
              "    <tr>\n",
              "      <th>2</th>\n",
              "      <td>1139249</td>\n",
              "      <td>10000.0</td>\n",
              "      <td>434808</td>\n",
              "      <td>7009</td>\n",
              "      <td>121</td>\n",
              "      <td>3.0</td>\n",
              "      <td>2001</td>\n",
              "      <td>2838.0</td>\n",
              "      <td>High</td>\n",
              "      <td>226</td>\n",
              "      <td>...</td>\n",
              "      <td>NaN</td>\n",
              "      <td>NaN</td>\n",
              "      <td>NaN</td>\n",
              "      <td>NaN</td>\n",
              "      <td>NaN</td>\n",
              "      <td>2004</td>\n",
              "      <td>2</td>\n",
              "      <td>26</td>\n",
              "      <td>3</td>\n",
              "      <td>57</td>\n",
              "    </tr>\n",
              "    <tr>\n",
              "      <th>3</th>\n",
              "      <td>1139251</td>\n",
              "      <td>38500.0</td>\n",
              "      <td>1026470</td>\n",
              "      <td>332</td>\n",
              "      <td>121</td>\n",
              "      <td>3.0</td>\n",
              "      <td>2001</td>\n",
              "      <td>3486.0</td>\n",
              "      <td>High</td>\n",
              "      <td>PC120-6E</td>\n",
              "      <td>...</td>\n",
              "      <td>NaN</td>\n",
              "      <td>NaN</td>\n",
              "      <td>NaN</td>\n",
              "      <td>NaN</td>\n",
              "      <td>NaN</td>\n",
              "      <td>2011</td>\n",
              "      <td>5</td>\n",
              "      <td>19</td>\n",
              "      <td>3</td>\n",
              "      <td>139</td>\n",
              "    </tr>\n",
              "    <tr>\n",
              "      <th>4</th>\n",
              "      <td>1139253</td>\n",
              "      <td>11000.0</td>\n",
              "      <td>1057373</td>\n",
              "      <td>17311</td>\n",
              "      <td>121</td>\n",
              "      <td>3.0</td>\n",
              "      <td>2007</td>\n",
              "      <td>722.0</td>\n",
              "      <td>Medium</td>\n",
              "      <td>S175</td>\n",
              "      <td>...</td>\n",
              "      <td>NaN</td>\n",
              "      <td>NaN</td>\n",
              "      <td>NaN</td>\n",
              "      <td>NaN</td>\n",
              "      <td>NaN</td>\n",
              "      <td>2009</td>\n",
              "      <td>7</td>\n",
              "      <td>23</td>\n",
              "      <td>3</td>\n",
              "      <td>204</td>\n",
              "    </tr>\n",
              "  </tbody>\n",
              "</table>\n",
              "<p>5 rows × 57 columns</p>\n",
              "</div>\n",
              "      <button class=\"colab-df-convert\" onclick=\"convertToInteractive('df-dfc75785-7d9e-4468-a694-91909bb9c9b1')\"\n",
              "              title=\"Convert this dataframe to an interactive table.\"\n",
              "              style=\"display:none;\">\n",
              "        \n",
              "  <svg xmlns=\"http://www.w3.org/2000/svg\" height=\"24px\"viewBox=\"0 0 24 24\"\n",
              "       width=\"24px\">\n",
              "    <path d=\"M0 0h24v24H0V0z\" fill=\"none\"/>\n",
              "    <path d=\"M18.56 5.44l.94 2.06.94-2.06 2.06-.94-2.06-.94-.94-2.06-.94 2.06-2.06.94zm-11 1L8.5 8.5l.94-2.06 2.06-.94-2.06-.94L8.5 2.5l-.94 2.06-2.06.94zm10 10l.94 2.06.94-2.06 2.06-.94-2.06-.94-.94-2.06-.94 2.06-2.06.94z\"/><path d=\"M17.41 7.96l-1.37-1.37c-.4-.4-.92-.59-1.43-.59-.52 0-1.04.2-1.43.59L10.3 9.45l-7.72 7.72c-.78.78-.78 2.05 0 2.83L4 21.41c.39.39.9.59 1.41.59.51 0 1.02-.2 1.41-.59l7.78-7.78 2.81-2.81c.8-.78.8-2.07 0-2.86zM5.41 20L4 18.59l7.72-7.72 1.47 1.35L5.41 20z\"/>\n",
              "  </svg>\n",
              "      </button>\n",
              "      \n",
              "  <style>\n",
              "    .colab-df-container {\n",
              "      display:flex;\n",
              "      flex-wrap:wrap;\n",
              "      gap: 12px;\n",
              "    }\n",
              "\n",
              "    .colab-df-convert {\n",
              "      background-color: #E8F0FE;\n",
              "      border: none;\n",
              "      border-radius: 50%;\n",
              "      cursor: pointer;\n",
              "      display: none;\n",
              "      fill: #1967D2;\n",
              "      height: 32px;\n",
              "      padding: 0 0 0 0;\n",
              "      width: 32px;\n",
              "    }\n",
              "\n",
              "    .colab-df-convert:hover {\n",
              "      background-color: #E2EBFA;\n",
              "      box-shadow: 0px 1px 2px rgba(60, 64, 67, 0.3), 0px 1px 3px 1px rgba(60, 64, 67, 0.15);\n",
              "      fill: #174EA6;\n",
              "    }\n",
              "\n",
              "    [theme=dark] .colab-df-convert {\n",
              "      background-color: #3B4455;\n",
              "      fill: #D2E3FC;\n",
              "    }\n",
              "\n",
              "    [theme=dark] .colab-df-convert:hover {\n",
              "      background-color: #434B5C;\n",
              "      box-shadow: 0px 1px 3px 1px rgba(0, 0, 0, 0.15);\n",
              "      filter: drop-shadow(0px 1px 2px rgba(0, 0, 0, 0.3));\n",
              "      fill: #FFFFFF;\n",
              "    }\n",
              "  </style>\n",
              "\n",
              "      <script>\n",
              "        const buttonEl =\n",
              "          document.querySelector('#df-dfc75785-7d9e-4468-a694-91909bb9c9b1 button.colab-df-convert');\n",
              "        buttonEl.style.display =\n",
              "          google.colab.kernel.accessAllowed ? 'block' : 'none';\n",
              "\n",
              "        async function convertToInteractive(key) {\n",
              "          const element = document.querySelector('#df-dfc75785-7d9e-4468-a694-91909bb9c9b1');\n",
              "          const dataTable =\n",
              "            await google.colab.kernel.invokeFunction('convertToInteractive',\n",
              "                                                     [key], {});\n",
              "          if (!dataTable) return;\n",
              "\n",
              "          const docLinkHtml = 'Like what you see? Visit the ' +\n",
              "            '<a target=\"_blank\" href=https://colab.research.google.com/notebooks/data_table.ipynb>data table notebook</a>'\n",
              "            + ' to learn more about interactive tables.';\n",
              "          element.innerHTML = '';\n",
              "          dataTable['output_type'] = 'display_data';\n",
              "          await google.colab.output.renderOutput(dataTable, element);\n",
              "          const docLink = document.createElement('div');\n",
              "          docLink.innerHTML = docLinkHtml;\n",
              "          element.appendChild(docLink);\n",
              "        }\n",
              "      </script>\n",
              "    </div>\n",
              "  </div>\n",
              "  "
            ]
          },
          "metadata": {},
          "execution_count": 37
        }
      ]
    },
    {
      "cell_type": "code",
      "source": [
        "num_columns = df_copy.describe().columns\n",
        "print(num_columns)\n",
        "df_copy[num_columns].isna().sum()"
      ],
      "metadata": {
        "colab": {
          "base_uri": "https://localhost:8080/"
        },
        "id": "E7qyTFX_JKzd",
        "outputId": "985e52d1-d2bf-44da-8e10-bf0aaf8db8dc"
      },
      "execution_count": null,
      "outputs": [
        {
          "output_type": "stream",
          "name": "stdout",
          "text": [
            "Index(['SalesID', 'SalePrice', 'MachineID', 'ModelID', 'datasource',\n",
            "       'auctioneerID', 'YearMade', 'MachineHoursCurrentMeter', 'saleYear',\n",
            "       'saleMonth', 'saleDay', 'saleDayOfWeek', 'saleDayOfYear'],\n",
            "      dtype='object')\n"
          ]
        },
        {
          "output_type": "execute_result",
          "data": {
            "text/plain": [
              "SalesID                          0\n",
              "SalePrice                        0\n",
              "MachineID                        0\n",
              "ModelID                          0\n",
              "datasource                       0\n",
              "auctioneerID                 20136\n",
              "YearMade                         0\n",
              "MachineHoursCurrentMeter    265194\n",
              "saleYear                         0\n",
              "saleMonth                        0\n",
              "saleDay                          0\n",
              "saleDayOfWeek                    0\n",
              "saleDayOfYear                    0\n",
              "dtype: int64"
            ]
          },
          "metadata": {},
          "execution_count": 38
        }
      ]
    },
    {
      "cell_type": "markdown",
      "source": [
        "#Q8\n",
        "How many values are missing in the column auctioneerID_is_missing?\n",
        "\n",
        "**20136**\n",
        "\n",
        "21152\n",
        "\n",
        "41512\n",
        "\n",
        "None of these"
      ],
      "metadata": {
        "id": "j24PNZgA1Eo4"
      }
    },
    {
      "cell_type": "code",
      "source": [
        "df_copy['auctioneerID'].isna().sum()"
      ],
      "metadata": {
        "colab": {
          "base_uri": "https://localhost:8080/"
        },
        "id": "GuIGTGwYEx0G",
        "outputId": "b2d3d1cc-3fd1-4c19-bd9e-a087bb86939f"
      },
      "execution_count": null,
      "outputs": [
        {
          "output_type": "execute_result",
          "data": {
            "text/plain": [
              "20136"
            ]
          },
          "metadata": {},
          "execution_count": 39
        }
      ]
    },
    {
      "cell_type": "markdown",
      "source": [
        "#Q9\n",
        "Convert the state and Usageband to numbers. What is the datatype?\n",
        "\n",
        "\n",
        "[Hint: use pd.Categorical(df_tmp[\"feature_name\"]).codes]\n",
        "\n",
        "float\n",
        "\n",
        "**int**\n",
        "\n",
        "none of the above"
      ],
      "metadata": {
        "id": "Ye0S7O581H8s"
      }
    },
    {
      "cell_type": "code",
      "source": [
        "pd.Categorical(data['state']).codes"
      ],
      "metadata": {
        "colab": {
          "base_uri": "https://localhost:8080/"
        },
        "id": "6vSszhrwE-2_",
        "outputId": "01ce037a-e16d-4fda-ca30-92425d9d0c38"
      },
      "execution_count": null,
      "outputs": [
        {
          "output_type": "execute_result",
          "data": {
            "text/plain": [
              "array([21, 37, 37, ..., 42, 43,  4], dtype=int8)"
            ]
          },
          "metadata": {},
          "execution_count": 40
        }
      ]
    },
    {
      "cell_type": "markdown",
      "source": [
        "#Q10\n",
        "Add binary columns (with label+\"_is_missing\") to indicate whether sample had missing value.Turn all categories into numbers.All null values will be turned into \"-1\" so add +1 to all numbers. What is the value of Differential_Type_is_missing for SalesID=1646770?\n",
        "\n",
        "**True**\n",
        "\n",
        "False"
      ],
      "metadata": {
        "id": "epttvqsB1S0q"
      }
    },
    {
      "cell_type": "code",
      "source": [
        "cat_columns = [column for column in df_copy.columns if column not in num_columns]\n",
        "cat_columns"
      ],
      "metadata": {
        "colab": {
          "base_uri": "https://localhost:8080/"
        },
        "id": "dBvIBNsYXe03",
        "outputId": "f63c19b8-3202-4f80-bba7-5946221b7df4"
      },
      "execution_count": null,
      "outputs": [
        {
          "output_type": "execute_result",
          "data": {
            "text/plain": [
              "['UsageBand',\n",
              " 'fiModelDesc',\n",
              " 'fiBaseModel',\n",
              " 'fiSecondaryDesc',\n",
              " 'fiModelSeries',\n",
              " 'fiModelDescriptor',\n",
              " 'ProductSize',\n",
              " 'fiProductClassDesc',\n",
              " 'state',\n",
              " 'ProductGroup',\n",
              " 'ProductGroupDesc',\n",
              " 'Drive_System',\n",
              " 'Enclosure',\n",
              " 'Forks',\n",
              " 'Pad_Type',\n",
              " 'Ride_Control',\n",
              " 'Stick',\n",
              " 'Transmission',\n",
              " 'Turbocharged',\n",
              " 'Blade_Extension',\n",
              " 'Blade_Width',\n",
              " 'Enclosure_Type',\n",
              " 'Engine_Horsepower',\n",
              " 'Hydraulics',\n",
              " 'Pushblock',\n",
              " 'Ripper',\n",
              " 'Scarifier',\n",
              " 'Tip_Control',\n",
              " 'Tire_Size',\n",
              " 'Coupler',\n",
              " 'Coupler_System',\n",
              " 'Grouser_Tracks',\n",
              " 'Hydraulics_Flow',\n",
              " 'Track_Type',\n",
              " 'Undercarriage_Pad_Width',\n",
              " 'Stick_Length',\n",
              " 'Thumb',\n",
              " 'Pattern_Changer',\n",
              " 'Grouser_Type',\n",
              " 'Backhoe_Mounting',\n",
              " 'Blade_Type',\n",
              " 'Travel_Controls',\n",
              " 'Differential_Type',\n",
              " 'Steering_Controls']"
            ]
          },
          "metadata": {},
          "execution_count": 41
        }
      ]
    },
    {
      "cell_type": "code",
      "source": [
        "# for column in cat_columns:\n",
        "#   print(pd.Categorical(df_copy[column]).codes)\n",
        "\n",
        "for label, content in df_copy.items():\n",
        "  if label in num_columns:\n",
        "    if(pd.isnull(content).any()):\n",
        "      df_copy[label+'_is_missing'] = pd.isnull(content)\n",
        "      df_copy[label] = content.fillna(content.median())\n",
        "\n",
        "  if label in cat_columns:\n",
        "    if(pd.isnull(content).any()):\n",
        "      df_copy[label+'_is_missing'] = pd.isnull(content)\n",
        "    df_copy[label] = pd.Categorical(content).codes + 1\n",
        "df_copy.info()"
      ],
      "metadata": {
        "colab": {
          "base_uri": "https://localhost:8080/"
        },
        "id": "J2tpu_-WeGFY",
        "outputId": "63214c55-fbde-4748-d025-c82ec35529d0"
      },
      "execution_count": null,
      "outputs": [
        {
          "output_type": "stream",
          "name": "stdout",
          "text": [
            "<class 'pandas.core.frame.DataFrame'>\n",
            "RangeIndex: 412698 entries, 0 to 412697\n",
            "Data columns (total 97 columns):\n",
            " #   Column                               Non-Null Count   Dtype  \n",
            "---  ------                               --------------   -----  \n",
            " 0   SalesID                              412698 non-null  int64  \n",
            " 1   SalePrice                            412698 non-null  float64\n",
            " 2   MachineID                            412698 non-null  int64  \n",
            " 3   ModelID                              412698 non-null  int64  \n",
            " 4   datasource                           412698 non-null  int64  \n",
            " 5   auctioneerID                         412698 non-null  float64\n",
            " 6   YearMade                             412698 non-null  int64  \n",
            " 7   MachineHoursCurrentMeter             412698 non-null  float64\n",
            " 8   UsageBand                            412698 non-null  int8   \n",
            " 9   fiModelDesc                          412698 non-null  int16  \n",
            " 10  fiBaseModel                          412698 non-null  int16  \n",
            " 11  fiSecondaryDesc                      412698 non-null  int16  \n",
            " 12  fiModelSeries                        412698 non-null  int8   \n",
            " 13  fiModelDescriptor                    412698 non-null  int16  \n",
            " 14  ProductSize                          412698 non-null  int8   \n",
            " 15  fiProductClassDesc                   412698 non-null  int8   \n",
            " 16  state                                412698 non-null  int8   \n",
            " 17  ProductGroup                         412698 non-null  int8   \n",
            " 18  ProductGroupDesc                     412698 non-null  int8   \n",
            " 19  Drive_System                         412698 non-null  int8   \n",
            " 20  Enclosure                            412698 non-null  int8   \n",
            " 21  Forks                                412698 non-null  int8   \n",
            " 22  Pad_Type                             412698 non-null  int8   \n",
            " 23  Ride_Control                         412698 non-null  int8   \n",
            " 24  Stick                                412698 non-null  int8   \n",
            " 25  Transmission                         412698 non-null  int8   \n",
            " 26  Turbocharged                         412698 non-null  int8   \n",
            " 27  Blade_Extension                      412698 non-null  int8   \n",
            " 28  Blade_Width                          412698 non-null  int8   \n",
            " 29  Enclosure_Type                       412698 non-null  int8   \n",
            " 30  Engine_Horsepower                    412698 non-null  int8   \n",
            " 31  Hydraulics                           412698 non-null  int8   \n",
            " 32  Pushblock                            412698 non-null  int8   \n",
            " 33  Ripper                               412698 non-null  int8   \n",
            " 34  Scarifier                            412698 non-null  int8   \n",
            " 35  Tip_Control                          412698 non-null  int8   \n",
            " 36  Tire_Size                            412698 non-null  int8   \n",
            " 37  Coupler                              412698 non-null  int8   \n",
            " 38  Coupler_System                       412698 non-null  int8   \n",
            " 39  Grouser_Tracks                       412698 non-null  int8   \n",
            " 40  Hydraulics_Flow                      412698 non-null  int8   \n",
            " 41  Track_Type                           412698 non-null  int8   \n",
            " 42  Undercarriage_Pad_Width              412698 non-null  int8   \n",
            " 43  Stick_Length                         412698 non-null  int8   \n",
            " 44  Thumb                                412698 non-null  int8   \n",
            " 45  Pattern_Changer                      412698 non-null  int8   \n",
            " 46  Grouser_Type                         412698 non-null  int8   \n",
            " 47  Backhoe_Mounting                     412698 non-null  int8   \n",
            " 48  Blade_Type                           412698 non-null  int8   \n",
            " 49  Travel_Controls                      412698 non-null  int8   \n",
            " 50  Differential_Type                    412698 non-null  int8   \n",
            " 51  Steering_Controls                    412698 non-null  int8   \n",
            " 52  saleYear                             412698 non-null  int64  \n",
            " 53  saleMonth                            412698 non-null  int64  \n",
            " 54  saleDay                              412698 non-null  int64  \n",
            " 55  saleDayOfWeek                        412698 non-null  int64  \n",
            " 56  saleDayOfYear                        412698 non-null  int64  \n",
            " 57  auctioneerID_is_missing              412698 non-null  bool   \n",
            " 58  MachineHoursCurrentMeter_is_missing  412698 non-null  bool   \n",
            " 59  UsageBand_is_missing                 412698 non-null  bool   \n",
            " 60  fiSecondaryDesc_is_missing           412698 non-null  bool   \n",
            " 61  fiModelSeries_is_missing             412698 non-null  bool   \n",
            " 62  fiModelDescriptor_is_missing         412698 non-null  bool   \n",
            " 63  ProductSize_is_missing               412698 non-null  bool   \n",
            " 64  Drive_System_is_missing              412698 non-null  bool   \n",
            " 65  Enclosure_is_missing                 412698 non-null  bool   \n",
            " 66  Forks_is_missing                     412698 non-null  bool   \n",
            " 67  Pad_Type_is_missing                  412698 non-null  bool   \n",
            " 68  Ride_Control_is_missing              412698 non-null  bool   \n",
            " 69  Stick_is_missing                     412698 non-null  bool   \n",
            " 70  Transmission_is_missing              412698 non-null  bool   \n",
            " 71  Turbocharged_is_missing              412698 non-null  bool   \n",
            " 72  Blade_Extension_is_missing           412698 non-null  bool   \n",
            " 73  Blade_Width_is_missing               412698 non-null  bool   \n",
            " 74  Enclosure_Type_is_missing            412698 non-null  bool   \n",
            " 75  Engine_Horsepower_is_missing         412698 non-null  bool   \n",
            " 76  Hydraulics_is_missing                412698 non-null  bool   \n",
            " 77  Pushblock_is_missing                 412698 non-null  bool   \n",
            " 78  Ripper_is_missing                    412698 non-null  bool   \n",
            " 79  Scarifier_is_missing                 412698 non-null  bool   \n",
            " 80  Tip_Control_is_missing               412698 non-null  bool   \n",
            " 81  Tire_Size_is_missing                 412698 non-null  bool   \n",
            " 82  Coupler_is_missing                   412698 non-null  bool   \n",
            " 83  Coupler_System_is_missing            412698 non-null  bool   \n",
            " 84  Grouser_Tracks_is_missing            412698 non-null  bool   \n",
            " 85  Hydraulics_Flow_is_missing           412698 non-null  bool   \n",
            " 86  Track_Type_is_missing                412698 non-null  bool   \n",
            " 87  Undercarriage_Pad_Width_is_missing   412698 non-null  bool   \n",
            " 88  Stick_Length_is_missing              412698 non-null  bool   \n",
            " 89  Thumb_is_missing                     412698 non-null  bool   \n",
            " 90  Pattern_Changer_is_missing           412698 non-null  bool   \n",
            " 91  Grouser_Type_is_missing              412698 non-null  bool   \n",
            " 92  Backhoe_Mounting_is_missing          412698 non-null  bool   \n",
            " 93  Blade_Type_is_missing                412698 non-null  bool   \n",
            " 94  Travel_Controls_is_missing           412698 non-null  bool   \n",
            " 95  Differential_Type_is_missing         412698 non-null  bool   \n",
            " 96  Steering_Controls_is_missing         412698 non-null  bool   \n",
            "dtypes: bool(40), float64(3), int16(4), int64(10), int8(40)\n",
            "memory usage: 75.6 MB\n"
          ]
        }
      ]
    },
    {
      "cell_type": "code",
      "source": [
        "# for column in num_columns:\n",
        "#   if df_copy[column].isnull().any():\n",
        "#     # print(column, df_copy[column].isnull())\n",
        "#     df_copy[column+'_is_missing'] = df_copy[column].isnull()\n",
        "#     df_copy[column] = df_copy[column].fillna(df_copy[column].mean())   #### to fill median values in null columns\n",
        "\n",
        "# for column in cat_columns:\n",
        "#   if df_copy[column].isnull().any():\n",
        "#     # print(column, df_copy[column].isnull())\n",
        "#     df_copy[column+'_is_missing'] = df_copy[column].isnull()\n",
        "#     df_copy[column] = pd.Categorical(df_copy[column]).codes + 1"
      ],
      "metadata": {
        "id": "C08eja79P1su"
      },
      "execution_count": null,
      "outputs": []
    },
    {
      "cell_type": "code",
      "source": [
        "# df_copy.head()\n",
        "df_copy[df_copy['SalesID'] == 1646770].Differential_Type_is_missing"
      ],
      "metadata": {
        "colab": {
          "base_uri": "https://localhost:8080/"
        },
        "id": "gDuhC_KxRywU",
        "outputId": "97cd5c2f-3e4d-4828-e443-06bf3b5f42ab"
      },
      "execution_count": null,
      "outputs": [
        {
          "output_type": "execute_result",
          "data": {
            "text/plain": [
              "205615    True\n",
              "Name: Differential_Type_is_missing, dtype: bool"
            ]
          },
          "metadata": {},
          "execution_count": 43
        }
      ]
    },
    {
      "cell_type": "code",
      "source": [
        "df_copy.info()"
      ],
      "metadata": {
        "colab": {
          "base_uri": "https://localhost:8080/"
        },
        "id": "97UAPifBd238",
        "outputId": "c4700ea2-47b1-4fd8-f7a8-0313a6ee955b"
      },
      "execution_count": null,
      "outputs": [
        {
          "output_type": "stream",
          "name": "stdout",
          "text": [
            "<class 'pandas.core.frame.DataFrame'>\n",
            "RangeIndex: 412698 entries, 0 to 412697\n",
            "Data columns (total 97 columns):\n",
            " #   Column                               Non-Null Count   Dtype  \n",
            "---  ------                               --------------   -----  \n",
            " 0   SalesID                              412698 non-null  int64  \n",
            " 1   SalePrice                            412698 non-null  float64\n",
            " 2   MachineID                            412698 non-null  int64  \n",
            " 3   ModelID                              412698 non-null  int64  \n",
            " 4   datasource                           412698 non-null  int64  \n",
            " 5   auctioneerID                         412698 non-null  float64\n",
            " 6   YearMade                             412698 non-null  int64  \n",
            " 7   MachineHoursCurrentMeter             412698 non-null  float64\n",
            " 8   UsageBand                            412698 non-null  int8   \n",
            " 9   fiModelDesc                          412698 non-null  int16  \n",
            " 10  fiBaseModel                          412698 non-null  int16  \n",
            " 11  fiSecondaryDesc                      412698 non-null  int16  \n",
            " 12  fiModelSeries                        412698 non-null  int8   \n",
            " 13  fiModelDescriptor                    412698 non-null  int16  \n",
            " 14  ProductSize                          412698 non-null  int8   \n",
            " 15  fiProductClassDesc                   412698 non-null  int8   \n",
            " 16  state                                412698 non-null  int8   \n",
            " 17  ProductGroup                         412698 non-null  int8   \n",
            " 18  ProductGroupDesc                     412698 non-null  int8   \n",
            " 19  Drive_System                         412698 non-null  int8   \n",
            " 20  Enclosure                            412698 non-null  int8   \n",
            " 21  Forks                                412698 non-null  int8   \n",
            " 22  Pad_Type                             412698 non-null  int8   \n",
            " 23  Ride_Control                         412698 non-null  int8   \n",
            " 24  Stick                                412698 non-null  int8   \n",
            " 25  Transmission                         412698 non-null  int8   \n",
            " 26  Turbocharged                         412698 non-null  int8   \n",
            " 27  Blade_Extension                      412698 non-null  int8   \n",
            " 28  Blade_Width                          412698 non-null  int8   \n",
            " 29  Enclosure_Type                       412698 non-null  int8   \n",
            " 30  Engine_Horsepower                    412698 non-null  int8   \n",
            " 31  Hydraulics                           412698 non-null  int8   \n",
            " 32  Pushblock                            412698 non-null  int8   \n",
            " 33  Ripper                               412698 non-null  int8   \n",
            " 34  Scarifier                            412698 non-null  int8   \n",
            " 35  Tip_Control                          412698 non-null  int8   \n",
            " 36  Tire_Size                            412698 non-null  int8   \n",
            " 37  Coupler                              412698 non-null  int8   \n",
            " 38  Coupler_System                       412698 non-null  int8   \n",
            " 39  Grouser_Tracks                       412698 non-null  int8   \n",
            " 40  Hydraulics_Flow                      412698 non-null  int8   \n",
            " 41  Track_Type                           412698 non-null  int8   \n",
            " 42  Undercarriage_Pad_Width              412698 non-null  int8   \n",
            " 43  Stick_Length                         412698 non-null  int8   \n",
            " 44  Thumb                                412698 non-null  int8   \n",
            " 45  Pattern_Changer                      412698 non-null  int8   \n",
            " 46  Grouser_Type                         412698 non-null  int8   \n",
            " 47  Backhoe_Mounting                     412698 non-null  int8   \n",
            " 48  Blade_Type                           412698 non-null  int8   \n",
            " 49  Travel_Controls                      412698 non-null  int8   \n",
            " 50  Differential_Type                    412698 non-null  int8   \n",
            " 51  Steering_Controls                    412698 non-null  int8   \n",
            " 52  saleYear                             412698 non-null  int64  \n",
            " 53  saleMonth                            412698 non-null  int64  \n",
            " 54  saleDay                              412698 non-null  int64  \n",
            " 55  saleDayOfWeek                        412698 non-null  int64  \n",
            " 56  saleDayOfYear                        412698 non-null  int64  \n",
            " 57  auctioneerID_is_missing              412698 non-null  bool   \n",
            " 58  MachineHoursCurrentMeter_is_missing  412698 non-null  bool   \n",
            " 59  UsageBand_is_missing                 412698 non-null  bool   \n",
            " 60  fiSecondaryDesc_is_missing           412698 non-null  bool   \n",
            " 61  fiModelSeries_is_missing             412698 non-null  bool   \n",
            " 62  fiModelDescriptor_is_missing         412698 non-null  bool   \n",
            " 63  ProductSize_is_missing               412698 non-null  bool   \n",
            " 64  Drive_System_is_missing              412698 non-null  bool   \n",
            " 65  Enclosure_is_missing                 412698 non-null  bool   \n",
            " 66  Forks_is_missing                     412698 non-null  bool   \n",
            " 67  Pad_Type_is_missing                  412698 non-null  bool   \n",
            " 68  Ride_Control_is_missing              412698 non-null  bool   \n",
            " 69  Stick_is_missing                     412698 non-null  bool   \n",
            " 70  Transmission_is_missing              412698 non-null  bool   \n",
            " 71  Turbocharged_is_missing              412698 non-null  bool   \n",
            " 72  Blade_Extension_is_missing           412698 non-null  bool   \n",
            " 73  Blade_Width_is_missing               412698 non-null  bool   \n",
            " 74  Enclosure_Type_is_missing            412698 non-null  bool   \n",
            " 75  Engine_Horsepower_is_missing         412698 non-null  bool   \n",
            " 76  Hydraulics_is_missing                412698 non-null  bool   \n",
            " 77  Pushblock_is_missing                 412698 non-null  bool   \n",
            " 78  Ripper_is_missing                    412698 non-null  bool   \n",
            " 79  Scarifier_is_missing                 412698 non-null  bool   \n",
            " 80  Tip_Control_is_missing               412698 non-null  bool   \n",
            " 81  Tire_Size_is_missing                 412698 non-null  bool   \n",
            " 82  Coupler_is_missing                   412698 non-null  bool   \n",
            " 83  Coupler_System_is_missing            412698 non-null  bool   \n",
            " 84  Grouser_Tracks_is_missing            412698 non-null  bool   \n",
            " 85  Hydraulics_Flow_is_missing           412698 non-null  bool   \n",
            " 86  Track_Type_is_missing                412698 non-null  bool   \n",
            " 87  Undercarriage_Pad_Width_is_missing   412698 non-null  bool   \n",
            " 88  Stick_Length_is_missing              412698 non-null  bool   \n",
            " 89  Thumb_is_missing                     412698 non-null  bool   \n",
            " 90  Pattern_Changer_is_missing           412698 non-null  bool   \n",
            " 91  Grouser_Type_is_missing              412698 non-null  bool   \n",
            " 92  Backhoe_Mounting_is_missing          412698 non-null  bool   \n",
            " 93  Blade_Type_is_missing                412698 non-null  bool   \n",
            " 94  Travel_Controls_is_missing           412698 non-null  bool   \n",
            " 95  Differential_Type_is_missing         412698 non-null  bool   \n",
            " 96  Steering_Controls_is_missing         412698 non-null  bool   \n",
            "dtypes: bool(40), float64(3), int16(4), int64(10), int8(40)\n",
            "memory usage: 75.6 MB\n"
          ]
        }
      ]
    },
    {
      "cell_type": "markdown",
      "source": [
        "#Q11\n",
        "Is there any null value in the columns?\n",
        "\n",
        "True\n",
        "\n",
        "**False**"
      ],
      "metadata": {
        "id": "Neeb1XcZ1Wr9"
      }
    },
    {
      "cell_type": "code",
      "source": [
        "df_copy.isna().sum().sort_values(ascending=False)"
      ],
      "metadata": {
        "colab": {
          "base_uri": "https://localhost:8080/"
        },
        "id": "TwS2GzE7SX3o",
        "outputId": "a30340cd-2adb-4cda-e139-c3e4f64ccd75"
      },
      "execution_count": null,
      "outputs": [
        {
          "output_type": "execute_result",
          "data": {
            "text/plain": [
              "SalesID                         0\n",
              "Travel_Controls                 0\n",
              "Turbocharged_is_missing         0\n",
              "Transmission_is_missing         0\n",
              "Stick_is_missing                0\n",
              "                               ..\n",
              "Engine_Horsepower               0\n",
              "Enclosure_Type                  0\n",
              "Blade_Width                     0\n",
              "Blade_Extension                 0\n",
              "Steering_Controls_is_missing    0\n",
              "Length: 97, dtype: int64"
            ]
          },
          "metadata": {},
          "execution_count": 45
        }
      ]
    },
    {
      "cell_type": "markdown",
      "source": [
        "#Q12\n",
        "Split data into training and validation sets. Data from 2011 will be used for validation. What is the length of the training dataset?\n",
        "\n",
        "**(377501, 97)**"
      ],
      "metadata": {
        "id": "IHH6Y6z31b6U"
      }
    },
    {
      "cell_type": "code",
      "source": [
        "df_copy.head()"
      ],
      "metadata": {
        "colab": {
          "base_uri": "https://localhost:8080/",
          "height": 299
        },
        "id": "FYNb0c5UX2Dh",
        "outputId": "5087fc38-5570-4c73-d920-46d024312518"
      },
      "execution_count": null,
      "outputs": [
        {
          "output_type": "execute_result",
          "data": {
            "text/plain": [
              "   SalesID  SalePrice  MachineID  ModelID  datasource  auctioneerID  YearMade  \\\n",
              "0  1139246    66000.0     999089     3157         121           3.0      2004   \n",
              "1  1139248    57000.0     117657       77         121           3.0      1996   \n",
              "2  1139249    10000.0     434808     7009         121           3.0      2001   \n",
              "3  1139251    38500.0    1026470      332         121           3.0      2001   \n",
              "4  1139253    11000.0    1057373    17311         121           3.0      2007   \n",
              "\n",
              "   MachineHoursCurrentMeter  UsageBand  fiModelDesc  ...  \\\n",
              "0                      68.0          2          963  ...   \n",
              "1                    4640.0          2         1745  ...   \n",
              "2                    2838.0          1          336  ...   \n",
              "3                    3486.0          1         3716  ...   \n",
              "4                     722.0          3         4261  ...   \n",
              "\n",
              "   Undercarriage_Pad_Width_is_missing  Stick_Length_is_missing  \\\n",
              "0                                True                     True   \n",
              "1                                True                     True   \n",
              "2                                True                     True   \n",
              "3                                True                     True   \n",
              "4                                True                     True   \n",
              "\n",
              "   Thumb_is_missing  Pattern_Changer_is_missing  Grouser_Type_is_missing  \\\n",
              "0              True                        True                     True   \n",
              "1              True                        True                     True   \n",
              "2              True                        True                     True   \n",
              "3              True                        True                     True   \n",
              "4              True                        True                     True   \n",
              "\n",
              "   Backhoe_Mounting_is_missing  Blade_Type_is_missing  \\\n",
              "0                         True                   True   \n",
              "1                         True                   True   \n",
              "2                         True                   True   \n",
              "3                         True                   True   \n",
              "4                         True                   True   \n",
              "\n",
              "   Travel_Controls_is_missing  Differential_Type_is_missing  \\\n",
              "0                        True                         False   \n",
              "1                        True                         False   \n",
              "2                        True                          True   \n",
              "3                        True                          True   \n",
              "4                        True                          True   \n",
              "\n",
              "   Steering_Controls_is_missing  \n",
              "0                         False  \n",
              "1                         False  \n",
              "2                          True  \n",
              "3                          True  \n",
              "4                          True  \n",
              "\n",
              "[5 rows x 97 columns]"
            ],
            "text/html": [
              "\n",
              "  <div id=\"df-c33cd61c-fe8d-43ce-97eb-20f4177ca176\">\n",
              "    <div class=\"colab-df-container\">\n",
              "      <div>\n",
              "<style scoped>\n",
              "    .dataframe tbody tr th:only-of-type {\n",
              "        vertical-align: middle;\n",
              "    }\n",
              "\n",
              "    .dataframe tbody tr th {\n",
              "        vertical-align: top;\n",
              "    }\n",
              "\n",
              "    .dataframe thead th {\n",
              "        text-align: right;\n",
              "    }\n",
              "</style>\n",
              "<table border=\"1\" class=\"dataframe\">\n",
              "  <thead>\n",
              "    <tr style=\"text-align: right;\">\n",
              "      <th></th>\n",
              "      <th>SalesID</th>\n",
              "      <th>SalePrice</th>\n",
              "      <th>MachineID</th>\n",
              "      <th>ModelID</th>\n",
              "      <th>datasource</th>\n",
              "      <th>auctioneerID</th>\n",
              "      <th>YearMade</th>\n",
              "      <th>MachineHoursCurrentMeter</th>\n",
              "      <th>UsageBand</th>\n",
              "      <th>fiModelDesc</th>\n",
              "      <th>...</th>\n",
              "      <th>Undercarriage_Pad_Width_is_missing</th>\n",
              "      <th>Stick_Length_is_missing</th>\n",
              "      <th>Thumb_is_missing</th>\n",
              "      <th>Pattern_Changer_is_missing</th>\n",
              "      <th>Grouser_Type_is_missing</th>\n",
              "      <th>Backhoe_Mounting_is_missing</th>\n",
              "      <th>Blade_Type_is_missing</th>\n",
              "      <th>Travel_Controls_is_missing</th>\n",
              "      <th>Differential_Type_is_missing</th>\n",
              "      <th>Steering_Controls_is_missing</th>\n",
              "    </tr>\n",
              "  </thead>\n",
              "  <tbody>\n",
              "    <tr>\n",
              "      <th>0</th>\n",
              "      <td>1139246</td>\n",
              "      <td>66000.0</td>\n",
              "      <td>999089</td>\n",
              "      <td>3157</td>\n",
              "      <td>121</td>\n",
              "      <td>3.0</td>\n",
              "      <td>2004</td>\n",
              "      <td>68.0</td>\n",
              "      <td>2</td>\n",
              "      <td>963</td>\n",
              "      <td>...</td>\n",
              "      <td>True</td>\n",
              "      <td>True</td>\n",
              "      <td>True</td>\n",
              "      <td>True</td>\n",
              "      <td>True</td>\n",
              "      <td>True</td>\n",
              "      <td>True</td>\n",
              "      <td>True</td>\n",
              "      <td>False</td>\n",
              "      <td>False</td>\n",
              "    </tr>\n",
              "    <tr>\n",
              "      <th>1</th>\n",
              "      <td>1139248</td>\n",
              "      <td>57000.0</td>\n",
              "      <td>117657</td>\n",
              "      <td>77</td>\n",
              "      <td>121</td>\n",
              "      <td>3.0</td>\n",
              "      <td>1996</td>\n",
              "      <td>4640.0</td>\n",
              "      <td>2</td>\n",
              "      <td>1745</td>\n",
              "      <td>...</td>\n",
              "      <td>True</td>\n",
              "      <td>True</td>\n",
              "      <td>True</td>\n",
              "      <td>True</td>\n",
              "      <td>True</td>\n",
              "      <td>True</td>\n",
              "      <td>True</td>\n",
              "      <td>True</td>\n",
              "      <td>False</td>\n",
              "      <td>False</td>\n",
              "    </tr>\n",
              "    <tr>\n",
              "      <th>2</th>\n",
              "      <td>1139249</td>\n",
              "      <td>10000.0</td>\n",
              "      <td>434808</td>\n",
              "      <td>7009</td>\n",
              "      <td>121</td>\n",
              "      <td>3.0</td>\n",
              "      <td>2001</td>\n",
              "      <td>2838.0</td>\n",
              "      <td>1</td>\n",
              "      <td>336</td>\n",
              "      <td>...</td>\n",
              "      <td>True</td>\n",
              "      <td>True</td>\n",
              "      <td>True</td>\n",
              "      <td>True</td>\n",
              "      <td>True</td>\n",
              "      <td>True</td>\n",
              "      <td>True</td>\n",
              "      <td>True</td>\n",
              "      <td>True</td>\n",
              "      <td>True</td>\n",
              "    </tr>\n",
              "    <tr>\n",
              "      <th>3</th>\n",
              "      <td>1139251</td>\n",
              "      <td>38500.0</td>\n",
              "      <td>1026470</td>\n",
              "      <td>332</td>\n",
              "      <td>121</td>\n",
              "      <td>3.0</td>\n",
              "      <td>2001</td>\n",
              "      <td>3486.0</td>\n",
              "      <td>1</td>\n",
              "      <td>3716</td>\n",
              "      <td>...</td>\n",
              "      <td>True</td>\n",
              "      <td>True</td>\n",
              "      <td>True</td>\n",
              "      <td>True</td>\n",
              "      <td>True</td>\n",
              "      <td>True</td>\n",
              "      <td>True</td>\n",
              "      <td>True</td>\n",
              "      <td>True</td>\n",
              "      <td>True</td>\n",
              "    </tr>\n",
              "    <tr>\n",
              "      <th>4</th>\n",
              "      <td>1139253</td>\n",
              "      <td>11000.0</td>\n",
              "      <td>1057373</td>\n",
              "      <td>17311</td>\n",
              "      <td>121</td>\n",
              "      <td>3.0</td>\n",
              "      <td>2007</td>\n",
              "      <td>722.0</td>\n",
              "      <td>3</td>\n",
              "      <td>4261</td>\n",
              "      <td>...</td>\n",
              "      <td>True</td>\n",
              "      <td>True</td>\n",
              "      <td>True</td>\n",
              "      <td>True</td>\n",
              "      <td>True</td>\n",
              "      <td>True</td>\n",
              "      <td>True</td>\n",
              "      <td>True</td>\n",
              "      <td>True</td>\n",
              "      <td>True</td>\n",
              "    </tr>\n",
              "  </tbody>\n",
              "</table>\n",
              "<p>5 rows × 97 columns</p>\n",
              "</div>\n",
              "      <button class=\"colab-df-convert\" onclick=\"convertToInteractive('df-c33cd61c-fe8d-43ce-97eb-20f4177ca176')\"\n",
              "              title=\"Convert this dataframe to an interactive table.\"\n",
              "              style=\"display:none;\">\n",
              "        \n",
              "  <svg xmlns=\"http://www.w3.org/2000/svg\" height=\"24px\"viewBox=\"0 0 24 24\"\n",
              "       width=\"24px\">\n",
              "    <path d=\"M0 0h24v24H0V0z\" fill=\"none\"/>\n",
              "    <path d=\"M18.56 5.44l.94 2.06.94-2.06 2.06-.94-2.06-.94-.94-2.06-.94 2.06-2.06.94zm-11 1L8.5 8.5l.94-2.06 2.06-.94-2.06-.94L8.5 2.5l-.94 2.06-2.06.94zm10 10l.94 2.06.94-2.06 2.06-.94-2.06-.94-.94-2.06-.94 2.06-2.06.94z\"/><path d=\"M17.41 7.96l-1.37-1.37c-.4-.4-.92-.59-1.43-.59-.52 0-1.04.2-1.43.59L10.3 9.45l-7.72 7.72c-.78.78-.78 2.05 0 2.83L4 21.41c.39.39.9.59 1.41.59.51 0 1.02-.2 1.41-.59l7.78-7.78 2.81-2.81c.8-.78.8-2.07 0-2.86zM5.41 20L4 18.59l7.72-7.72 1.47 1.35L5.41 20z\"/>\n",
              "  </svg>\n",
              "      </button>\n",
              "      \n",
              "  <style>\n",
              "    .colab-df-container {\n",
              "      display:flex;\n",
              "      flex-wrap:wrap;\n",
              "      gap: 12px;\n",
              "    }\n",
              "\n",
              "    .colab-df-convert {\n",
              "      background-color: #E8F0FE;\n",
              "      border: none;\n",
              "      border-radius: 50%;\n",
              "      cursor: pointer;\n",
              "      display: none;\n",
              "      fill: #1967D2;\n",
              "      height: 32px;\n",
              "      padding: 0 0 0 0;\n",
              "      width: 32px;\n",
              "    }\n",
              "\n",
              "    .colab-df-convert:hover {\n",
              "      background-color: #E2EBFA;\n",
              "      box-shadow: 0px 1px 2px rgba(60, 64, 67, 0.3), 0px 1px 3px 1px rgba(60, 64, 67, 0.15);\n",
              "      fill: #174EA6;\n",
              "    }\n",
              "\n",
              "    [theme=dark] .colab-df-convert {\n",
              "      background-color: #3B4455;\n",
              "      fill: #D2E3FC;\n",
              "    }\n",
              "\n",
              "    [theme=dark] .colab-df-convert:hover {\n",
              "      background-color: #434B5C;\n",
              "      box-shadow: 0px 1px 3px 1px rgba(0, 0, 0, 0.15);\n",
              "      filter: drop-shadow(0px 1px 2px rgba(0, 0, 0, 0.3));\n",
              "      fill: #FFFFFF;\n",
              "    }\n",
              "  </style>\n",
              "\n",
              "      <script>\n",
              "        const buttonEl =\n",
              "          document.querySelector('#df-c33cd61c-fe8d-43ce-97eb-20f4177ca176 button.colab-df-convert');\n",
              "        buttonEl.style.display =\n",
              "          google.colab.kernel.accessAllowed ? 'block' : 'none';\n",
              "\n",
              "        async function convertToInteractive(key) {\n",
              "          const element = document.querySelector('#df-c33cd61c-fe8d-43ce-97eb-20f4177ca176');\n",
              "          const dataTable =\n",
              "            await google.colab.kernel.invokeFunction('convertToInteractive',\n",
              "                                                     [key], {});\n",
              "          if (!dataTable) return;\n",
              "\n",
              "          const docLinkHtml = 'Like what you see? Visit the ' +\n",
              "            '<a target=\"_blank\" href=https://colab.research.google.com/notebooks/data_table.ipynb>data table notebook</a>'\n",
              "            + ' to learn more about interactive tables.';\n",
              "          element.innerHTML = '';\n",
              "          dataTable['output_type'] = 'display_data';\n",
              "          await google.colab.output.renderOutput(dataTable, element);\n",
              "          const docLink = document.createElement('div');\n",
              "          docLink.innerHTML = docLinkHtml;\n",
              "          element.appendChild(docLink);\n",
              "        }\n",
              "      </script>\n",
              "    </div>\n",
              "  </div>\n",
              "  "
            ]
          },
          "metadata": {},
          "execution_count": 46
        }
      ]
    },
    {
      "cell_type": "code",
      "source": [
        "df_val = df_copy[df_copy['saleYear'] == 2011]\n",
        "df_train = df_copy[df_copy['saleYear'] != 2011]\n",
        "df_train.shape, df_val.shape\n",
        "len(df_train), len(df_val)"
      ],
      "metadata": {
        "colab": {
          "base_uri": "https://localhost:8080/"
        },
        "id": "Ck3o1IxPU5SZ",
        "outputId": "68b799dc-46a6-414b-f508-76dbe9f6f212"
      },
      "execution_count": null,
      "outputs": [
        {
          "output_type": "execute_result",
          "data": {
            "text/plain": [
              "(377501, 35197)"
            ]
          },
          "metadata": {},
          "execution_count": 47
        }
      ]
    },
    {
      "cell_type": "markdown",
      "source": [
        "#Q13\n",
        "Differentiate the training dataset into two different dataframes X_train and y_train where y_train is the SalePrice feature and X_train has the remaining features. Differentiate the validation dataframe into X_val and y_val in same manner.\n",
        "\n",
        "Which of the following options represent the shapes of X_train and y_val?\n",
        "\n",
        "**(377501, 102), (35197,)**  \n",
        "\n",
        "(377501,), (35197, 102)\n",
        "\n",
        "None of these"
      ],
      "metadata": {
        "id": "rBMrS9il1e4E"
      }
    },
    {
      "cell_type": "code",
      "source": [
        "X_train, y_train = df_train.drop('SalePrice', axis=1), df_train['SalePrice']\n",
        "X_val, y_val = df_val.drop('SalePrice', axis=1), df_val['SalePrice']\n",
        "print(X_train.shape, y_train.shape, X_val.shape, y_val.shape)"
      ],
      "metadata": {
        "colab": {
          "base_uri": "https://localhost:8080/"
        },
        "id": "JNlq3mdgVf5b",
        "outputId": "cb012bce-f7e5-4edc-eb9b-0a0f8d23c7c5"
      },
      "execution_count": null,
      "outputs": [
        {
          "output_type": "stream",
          "name": "stdout",
          "text": [
            "(377501, 96) (377501,) (35197, 96) (35197,)\n"
          ]
        }
      ]
    },
    {
      "cell_type": "code",
      "source": [
        "X_train.info()"
      ],
      "metadata": {
        "colab": {
          "base_uri": "https://localhost:8080/"
        },
        "id": "9wV-kBaLbLHZ",
        "outputId": "a13b6e19-3b1b-4723-d1c2-86d3b06efd0b"
      },
      "execution_count": null,
      "outputs": [
        {
          "output_type": "stream",
          "name": "stdout",
          "text": [
            "<class 'pandas.core.frame.DataFrame'>\n",
            "Int64Index: 377501 entries, 0 to 412697\n",
            "Data columns (total 96 columns):\n",
            " #   Column                               Non-Null Count   Dtype  \n",
            "---  ------                               --------------   -----  \n",
            " 0   SalesID                              377501 non-null  int64  \n",
            " 1   MachineID                            377501 non-null  int64  \n",
            " 2   ModelID                              377501 non-null  int64  \n",
            " 3   datasource                           377501 non-null  int64  \n",
            " 4   auctioneerID                         377501 non-null  float64\n",
            " 5   YearMade                             377501 non-null  int64  \n",
            " 6   MachineHoursCurrentMeter             377501 non-null  float64\n",
            " 7   UsageBand                            377501 non-null  int8   \n",
            " 8   fiModelDesc                          377501 non-null  int16  \n",
            " 9   fiBaseModel                          377501 non-null  int16  \n",
            " 10  fiSecondaryDesc                      377501 non-null  int16  \n",
            " 11  fiModelSeries                        377501 non-null  int8   \n",
            " 12  fiModelDescriptor                    377501 non-null  int16  \n",
            " 13  ProductSize                          377501 non-null  int8   \n",
            " 14  fiProductClassDesc                   377501 non-null  int8   \n",
            " 15  state                                377501 non-null  int8   \n",
            " 16  ProductGroup                         377501 non-null  int8   \n",
            " 17  ProductGroupDesc                     377501 non-null  int8   \n",
            " 18  Drive_System                         377501 non-null  int8   \n",
            " 19  Enclosure                            377501 non-null  int8   \n",
            " 20  Forks                                377501 non-null  int8   \n",
            " 21  Pad_Type                             377501 non-null  int8   \n",
            " 22  Ride_Control                         377501 non-null  int8   \n",
            " 23  Stick                                377501 non-null  int8   \n",
            " 24  Transmission                         377501 non-null  int8   \n",
            " 25  Turbocharged                         377501 non-null  int8   \n",
            " 26  Blade_Extension                      377501 non-null  int8   \n",
            " 27  Blade_Width                          377501 non-null  int8   \n",
            " 28  Enclosure_Type                       377501 non-null  int8   \n",
            " 29  Engine_Horsepower                    377501 non-null  int8   \n",
            " 30  Hydraulics                           377501 non-null  int8   \n",
            " 31  Pushblock                            377501 non-null  int8   \n",
            " 32  Ripper                               377501 non-null  int8   \n",
            " 33  Scarifier                            377501 non-null  int8   \n",
            " 34  Tip_Control                          377501 non-null  int8   \n",
            " 35  Tire_Size                            377501 non-null  int8   \n",
            " 36  Coupler                              377501 non-null  int8   \n",
            " 37  Coupler_System                       377501 non-null  int8   \n",
            " 38  Grouser_Tracks                       377501 non-null  int8   \n",
            " 39  Hydraulics_Flow                      377501 non-null  int8   \n",
            " 40  Track_Type                           377501 non-null  int8   \n",
            " 41  Undercarriage_Pad_Width              377501 non-null  int8   \n",
            " 42  Stick_Length                         377501 non-null  int8   \n",
            " 43  Thumb                                377501 non-null  int8   \n",
            " 44  Pattern_Changer                      377501 non-null  int8   \n",
            " 45  Grouser_Type                         377501 non-null  int8   \n",
            " 46  Backhoe_Mounting                     377501 non-null  int8   \n",
            " 47  Blade_Type                           377501 non-null  int8   \n",
            " 48  Travel_Controls                      377501 non-null  int8   \n",
            " 49  Differential_Type                    377501 non-null  int8   \n",
            " 50  Steering_Controls                    377501 non-null  int8   \n",
            " 51  saleYear                             377501 non-null  int64  \n",
            " 52  saleMonth                            377501 non-null  int64  \n",
            " 53  saleDay                              377501 non-null  int64  \n",
            " 54  saleDayOfWeek                        377501 non-null  int64  \n",
            " 55  saleDayOfYear                        377501 non-null  int64  \n",
            " 56  auctioneerID_is_missing              377501 non-null  bool   \n",
            " 57  MachineHoursCurrentMeter_is_missing  377501 non-null  bool   \n",
            " 58  UsageBand_is_missing                 377501 non-null  bool   \n",
            " 59  fiSecondaryDesc_is_missing           377501 non-null  bool   \n",
            " 60  fiModelSeries_is_missing             377501 non-null  bool   \n",
            " 61  fiModelDescriptor_is_missing         377501 non-null  bool   \n",
            " 62  ProductSize_is_missing               377501 non-null  bool   \n",
            " 63  Drive_System_is_missing              377501 non-null  bool   \n",
            " 64  Enclosure_is_missing                 377501 non-null  bool   \n",
            " 65  Forks_is_missing                     377501 non-null  bool   \n",
            " 66  Pad_Type_is_missing                  377501 non-null  bool   \n",
            " 67  Ride_Control_is_missing              377501 non-null  bool   \n",
            " 68  Stick_is_missing                     377501 non-null  bool   \n",
            " 69  Transmission_is_missing              377501 non-null  bool   \n",
            " 70  Turbocharged_is_missing              377501 non-null  bool   \n",
            " 71  Blade_Extension_is_missing           377501 non-null  bool   \n",
            " 72  Blade_Width_is_missing               377501 non-null  bool   \n",
            " 73  Enclosure_Type_is_missing            377501 non-null  bool   \n",
            " 74  Engine_Horsepower_is_missing         377501 non-null  bool   \n",
            " 75  Hydraulics_is_missing                377501 non-null  bool   \n",
            " 76  Pushblock_is_missing                 377501 non-null  bool   \n",
            " 77  Ripper_is_missing                    377501 non-null  bool   \n",
            " 78  Scarifier_is_missing                 377501 non-null  bool   \n",
            " 79  Tip_Control_is_missing               377501 non-null  bool   \n",
            " 80  Tire_Size_is_missing                 377501 non-null  bool   \n",
            " 81  Coupler_is_missing                   377501 non-null  bool   \n",
            " 82  Coupler_System_is_missing            377501 non-null  bool   \n",
            " 83  Grouser_Tracks_is_missing            377501 non-null  bool   \n",
            " 84  Hydraulics_Flow_is_missing           377501 non-null  bool   \n",
            " 85  Track_Type_is_missing                377501 non-null  bool   \n",
            " 86  Undercarriage_Pad_Width_is_missing   377501 non-null  bool   \n",
            " 87  Stick_Length_is_missing              377501 non-null  bool   \n",
            " 88  Thumb_is_missing                     377501 non-null  bool   \n",
            " 89  Pattern_Changer_is_missing           377501 non-null  bool   \n",
            " 90  Grouser_Type_is_missing              377501 non-null  bool   \n",
            " 91  Backhoe_Mounting_is_missing          377501 non-null  bool   \n",
            " 92  Blade_Type_is_missing                377501 non-null  bool   \n",
            " 93  Travel_Controls_is_missing           377501 non-null  bool   \n",
            " 94  Differential_Type_is_missing         377501 non-null  bool   \n",
            " 95  Steering_Controls_is_missing         377501 non-null  bool   \n",
            "dtypes: bool(40), float64(2), int16(4), int64(10), int8(40)\n",
            "memory usage: 69.1 MB\n"
          ]
        }
      ]
    },
    {
      "cell_type": "markdown",
      "source": [
        "#Q14\n",
        "Fit a RandomForestRegressor 'model' with n_jobs=-1, random state =42 and max_samples=10000 with X_tran and y_train.RMSLE calculates root mean squared log error between predictions (y_pred) and true labels (y). Create function to evaluate and return the values for aforementioned model using different metrics, such as MAE, RMSLE and R^2R \n",
        "2\n",
        "  for training set ,i.e. (y_train, train_preds) and validation set ,i.e. (y_val, val_preds). What is the R^2R \n",
        "2\n",
        "  value for validation dataset (upto 4 decimal points)?"
      ],
      "metadata": {
        "id": "JWAMcn4W1hq1"
      }
    },
    {
      "cell_type": "code",
      "source": [
        "model = RandomForestRegressor(n_jobs=1, random_state=42, max_samples=10000)\n",
        "model.fit(X_train, y_train)\n",
        "model.score(X_train, y_train)"
      ],
      "metadata": {
        "colab": {
          "base_uri": "https://localhost:8080/"
        },
        "id": "oP-LeJ32ag7q",
        "outputId": "6f498be8-3547-4d22-fba7-3d107c606784"
      },
      "execution_count": null,
      "outputs": [
        {
          "output_type": "execute_result",
          "data": {
            "text/plain": [
              "0.8615923789765196"
            ]
          },
          "metadata": {},
          "execution_count": 50
        }
      ]
    },
    {
      "cell_type": "code",
      "source": [
        "from sklearn.metrics import mean_squared_log_error, mean_absolute_error, r2_score\n",
        "\n",
        "def rmsle(y_true, y_pred):\n",
        "  return np.sqrt(mean_squared_log_error(y_true, y_pred))\n",
        "\n",
        "def show_scores(model, X_train, y_train, X_val, y_val):\n",
        "  y_train_pred = model.predict(X_train)\n",
        "  y_val_pred = model.predict(X_val)\n",
        "\n",
        "  scores = {\"training MAE\" : mean_absolute_error(y_train, y_train_pred), \n",
        "            \"validation MAE\" : mean_absolute_error(y_val, y_val_pred),\n",
        "            \"training RMSLE\" : rmsle(y_train, y_train_pred),\n",
        "            \"validation RMSLE\" : rmsle(y_val, y_val_pred),\n",
        "            \"training R2\" : r2_score(y_train, y_train_pred),\n",
        "            \"validation R2\" : r2_score(y_val, y_val_pred)\n",
        "  }\n",
        "  return scores"
      ],
      "metadata": {
        "id": "kMtKoqZ__pK9"
      },
      "execution_count": null,
      "outputs": []
    },
    {
      "cell_type": "code",
      "source": [
        "scores = show_scores(model, X_train, y_train, X_val, y_val)\n",
        "print(scores)\n",
        "print(scores['validation R2'])"
      ],
      "metadata": {
        "colab": {
          "base_uri": "https://localhost:8080/"
        },
        "id": "xjxRJcWrBgD9",
        "outputId": "3251a4d0-7216-467e-bb84-e607028e19c8"
      },
      "execution_count": null,
      "outputs": [
        {
          "output_type": "stream",
          "name": "stdout",
          "text": [
            "{'training MAE': 5524.837731131837, 'validation MAE': 6653.686115009802, 'training RMSLE': 0.2573101880684329, 'validation RMSLE': 0.27914137258136434, 'training R2': 0.8615923789765196, 'validation R2': 0.8297130950552913}\n",
            "0.8297130950552913\n"
          ]
        }
      ]
    },
    {
      "cell_type": "markdown",
      "source": [
        "#Q15\n",
        "### Hyperparameters tuning with RandomizedSearchCV\n",
        "Instantiate RandomiedSearchCV model with 5 fold cross validation, verbose=True, 10 iterations, n_jobs=-1, random state=42 and rf_grid as follows:\n",
        "\n",
        "             `\"n_estimators\": [30, 40, 50],\n",
        "       \"max_depth\": [None, 3, 5, 10],\n",
        "       \"min_samples_split\": [10, 14, 18]\n",
        "       \"min_samples_leaf\": [1, 2, 3],\n",
        "       \"max_features\": [0.5, 1, \"sqrt\", \"auto\"],\n",
        "       \"max_samples\": [10000]`\n",
        "\n",
        "Find the best model parameters and calculate  R^2R \n",
        "2\n",
        "   for training dataset (upto 4 decimal points)."
      ],
      "metadata": {
        "id": "KFPuM31m1kLc"
      }
    },
    {
      "cell_type": "code",
      "source": [
        "param_grid = {\"n_estimators\": [30, 40, 50],\n",
        "   \"max_depth\": [None, 3, 5, 10],\n",
        "   \"min_samples_split\": [10, 14, 18],\n",
        "   \"min_samples_leaf\": [1, 2, 3],\n",
        "   \"max_features\": [0.5, 1, \"sqrt\", \"auto\"],\n",
        "   \"max_samples\": [10000]\n",
        "}\n",
        "random_srch = RandomizedSearchCV(model, param_grid, cv=5, n_iter=10, verbose=True, n_jobs=-1, random_state=42)\n",
        "random_srch.fit(X_train, y_train)\n",
        "random_srch.best_estimator_"
      ],
      "metadata": {
        "colab": {
          "base_uri": "https://localhost:8080/"
        },
        "id": "lCKZK8o6B5Lu",
        "outputId": "465894b6-1a86-48e3-84b4-1ca091b59198"
      },
      "execution_count": null,
      "outputs": [
        {
          "output_type": "stream",
          "name": "stdout",
          "text": [
            "Fitting 5 folds for each of 10 candidates, totalling 50 fits\n"
          ]
        },
        {
          "output_type": "execute_result",
          "data": {
            "text/plain": [
              "RandomForestRegressor(max_depth=10, max_samples=10000, min_samples_leaf=3,\n",
              "                      min_samples_split=10, n_estimators=40, n_jobs=1,\n",
              "                      random_state=42)"
            ]
          },
          "metadata": {},
          "execution_count": 54
        }
      ]
    },
    {
      "cell_type": "code",
      "source": [
        "random_srch.best_params_"
      ],
      "metadata": {
        "colab": {
          "base_uri": "https://localhost:8080/"
        },
        "id": "XAodiTAxFvAe",
        "outputId": "c2653819-9d29-4989-9bee-8cded78322a9"
      },
      "execution_count": null,
      "outputs": [
        {
          "output_type": "execute_result",
          "data": {
            "text/plain": [
              "{'n_estimators': 40,\n",
              " 'min_samples_split': 10,\n",
              " 'min_samples_leaf': 3,\n",
              " 'max_samples': 10000,\n",
              " 'max_features': 'auto',\n",
              " 'max_depth': 10}"
            ]
          },
          "metadata": {},
          "execution_count": 55
        }
      ]
    },
    {
      "cell_type": "code",
      "source": [
        "y_train_pred = random_srch.best_estimator_.predict(X_train)\n",
        "score = r2_score(y_train, y_train_pred)\n",
        "print('R2 score of training dataset: ', score)\n",
        "# print(show_scores(random_srch, X_train, y_train, X_val, y_val))"
      ],
      "metadata": {
        "colab": {
          "base_uri": "https://localhost:8080/"
        },
        "id": "_DwP9j8HFCNc",
        "outputId": "444fb550-419e-4e4d-f29d-5d3ae2826ed5"
      },
      "execution_count": null,
      "outputs": [
        {
          "output_type": "stream",
          "name": "stdout",
          "text": [
            "R2 score of training dataset:  0.8156482312288763\n"
          ]
        }
      ]
    },
    {
      "cell_type": "markdown",
      "source": [
        "#Q16\n",
        "###Hyperparameters tuning with GridSearchCV\n",
        "Instantiate GridSearchCV model with 5 fold cross validation, verbose=True, 10 iterations, random state=42, n_jobs=-1 and param_grid as follows:\n",
        "\n",
        "      `\"n_estimators\": [170, 200],\n",
        "       \"min_samples_split\": [4, 5],\n",
        "       \"min_samples_leaf\": [2],\n",
        "       \"max_features\": [0.4, 0.45, 0.5],\n",
        "       \"max_samples\": [10000]`\n",
        "\n",
        "Find the best model parameters and calculate  R^2R \n",
        "2\n",
        "   for training dataset (upto 4 decimal points)."
      ],
      "metadata": {
        "id": "u9RzMlqH1rKK"
      }
    },
    {
      "cell_type": "code",
      "source": [
        "# param_grid = {\"n_estimators\": [170, 200],\n",
        "#    \"min_samples_split\": [4, 5],\n",
        "#    \"min_samples_leaf\": [2],\n",
        "#    \"max_features\": [0.4, 0.45, 0.5],\n",
        "#    \"max_samples\": [10000]    \n",
        "# }\n",
        "# grid_srch = GridSearchCV(model, param_grid=param_grid, cv=5, verbose=True, n_jobs=-1)\n",
        "# grid_srch.fit(X_train, y_train)"
      ],
      "metadata": {
        "colab": {
          "base_uri": "https://localhost:8080/"
        },
        "id": "Crd_Y7uTGUf8",
        "outputId": "9c6ff51f-9453-4b32-934c-0acc592dea5a"
      },
      "execution_count": null,
      "outputs": [
        {
          "output_type": "stream",
          "name": "stdout",
          "text": [
            "Fitting 5 folds for each of 12 candidates, totalling 60 fits\n"
          ]
        },
        {
          "output_type": "execute_result",
          "data": {
            "text/plain": [
              "GridSearchCV(cv=5,\n",
              "             estimator=RandomForestRegressor(max_samples=10000, n_jobs=1,\n",
              "                                             random_state=42),\n",
              "             n_jobs=-1,\n",
              "             param_grid={'max_features': [0.4, 0.45, 0.5],\n",
              "                         'max_samples': [10000], 'min_samples_leaf': [2],\n",
              "                         'min_samples_split': [4, 5],\n",
              "                         'n_estimators': [170, 200]},\n",
              "             verbose=True)"
            ]
          },
          "metadata": {},
          "execution_count": 57
        }
      ]
    },
    {
      "cell_type": "code",
      "source": [
        "# grid_srch.best_params_"
      ],
      "metadata": {
        "colab": {
          "base_uri": "https://localhost:8080/"
        },
        "id": "SOKgdkL4Gx3d",
        "outputId": "de74256b-466d-428e-e39f-bb20bc04e906"
      },
      "execution_count": null,
      "outputs": [
        {
          "output_type": "execute_result",
          "data": {
            "text/plain": [
              "{'max_features': 0.5,\n",
              " 'max_samples': 10000,\n",
              " 'min_samples_leaf': 2,\n",
              " 'min_samples_split': 4,\n",
              " 'n_estimators': 200}"
            ]
          },
          "metadata": {},
          "execution_count": 58
        }
      ]
    },
    {
      "cell_type": "code",
      "source": [
        "# grid_srch.best_estimator_"
      ],
      "metadata": {
        "colab": {
          "base_uri": "https://localhost:8080/"
        },
        "id": "2feL6gPFG1CC",
        "outputId": "0e8cd817-90a8-41cf-a2a9-22a7afc452ed"
      },
      "execution_count": null,
      "outputs": [
        {
          "output_type": "execute_result",
          "data": {
            "text/plain": [
              "RandomForestRegressor(max_features=0.5, max_samples=10000, min_samples_leaf=2,\n",
              "                      min_samples_split=4, n_estimators=200, n_jobs=1,\n",
              "                      random_state=42)"
            ]
          },
          "metadata": {},
          "execution_count": 59
        }
      ]
    },
    {
      "cell_type": "code",
      "source": [
        "# y_train_pred = grid_srch.best_estimator_.predict(X_train)\n",
        "# print(r2_score(y_train, y_train_pred))"
      ],
      "metadata": {
        "colab": {
          "base_uri": "https://localhost:8080/"
        },
        "id": "APsShrxdG42L",
        "outputId": "9860f26f-f784-4670-cc90-7f079bded517"
      },
      "execution_count": null,
      "outputs": [
        {
          "output_type": "stream",
          "name": "stdout",
          "text": [
            "0.8536129620756233\n"
          ]
        }
      ]
    },
    {
      "cell_type": "markdown",
      "source": [
        "#Q17\n",
        "###Make predictions on test data\n",
        "Import the test dataset Test.csv with low_memory=False and parse the saledate. Print the first 5 rows of test dataset. How many null values are there in the Hydraulics column of the test dataset df_test?\n",
        "\n",
        "**2142**"
      ],
      "metadata": {
        "id": "1vsOOPKa1vYt"
      }
    },
    {
      "cell_type": "code",
      "source": [
        "test_df = pd.read_csv('/content/sample_data/Test.csv', low_memory=False, parse_dates=['saledate'])"
      ],
      "metadata": {
        "id": "szIxCMItNwMM"
      },
      "execution_count": null,
      "outputs": []
    },
    {
      "cell_type": "code",
      "source": [
        "test_df.shape"
      ],
      "metadata": {
        "colab": {
          "base_uri": "https://localhost:8080/"
        },
        "id": "LR8O4xCkPZqz",
        "outputId": "58ce2e47-405a-4240-9739-9c9798d1a8fc"
      },
      "execution_count": null,
      "outputs": [
        {
          "output_type": "execute_result",
          "data": {
            "text/plain": [
              "(12457, 52)"
            ]
          },
          "metadata": {},
          "execution_count": 58
        }
      ]
    },
    {
      "cell_type": "code",
      "source": [
        "test_df.head()"
      ],
      "metadata": {
        "colab": {
          "base_uri": "https://localhost:8080/",
          "height": 386
        },
        "id": "rNM4CEaSOJib",
        "outputId": "f0a78919-47d2-454e-acdd-c908cccddd80"
      },
      "execution_count": null,
      "outputs": [
        {
          "output_type": "execute_result",
          "data": {
            "text/plain": [
              "   SalesID  MachineID  ModelID  datasource  auctioneerID  YearMade  \\\n",
              "0  1227829    1006309     3168         121             3      1999   \n",
              "1  1227844    1022817     7271         121             3      1000   \n",
              "2  1227847    1031560    22805         121             3      2004   \n",
              "3  1227848      56204     1269         121             3      2006   \n",
              "4  1227863    1053887    22312         121             3      2005   \n",
              "\n",
              "   MachineHoursCurrentMeter UsageBand   saledate fiModelDesc  ...  \\\n",
              "0                    3688.0       Low 2012-05-03        580G  ...   \n",
              "1                   28555.0      High 2012-05-10         936  ...   \n",
              "2                    6038.0    Medium 2012-05-10    EC210BLC  ...   \n",
              "3                    8940.0      High 2012-05-10       330CL  ...   \n",
              "4                    2286.0       Low 2012-05-10        650K  ...   \n",
              "\n",
              "  Undercarriage_Pad_Width         Stick_Length   Thumb      Pattern_Changer  \\\n",
              "0                     NaN                  NaN     NaN                  NaN   \n",
              "1                     NaN                  NaN     NaN                  NaN   \n",
              "2     None or Unspecified                9' 6\"  Manual  None or Unspecified   \n",
              "3     None or Unspecified  None or Unspecified  Manual                  Yes   \n",
              "4                     NaN                  NaN     NaN                  NaN   \n",
              "\n",
              "  Grouser_Type     Backhoe_Mounting Blade_Type      Travel_Controls  \\\n",
              "0          NaN                  NaN        NaN                  NaN   \n",
              "1          NaN                  NaN        NaN                  NaN   \n",
              "2       Double                  NaN        NaN                  NaN   \n",
              "3       Triple                  NaN        NaN                  NaN   \n",
              "4          NaN  None or Unspecified        PAT  None or Unspecified   \n",
              "\n",
              "  Differential_Type Steering_Controls  \n",
              "0               NaN               NaN  \n",
              "1          Standard      Conventional  \n",
              "2               NaN               NaN  \n",
              "3               NaN               NaN  \n",
              "4               NaN               NaN  \n",
              "\n",
              "[5 rows x 52 columns]"
            ],
            "text/html": [
              "\n",
              "  <div id=\"df-3e66596f-dcd1-402f-ad95-11c7fcfe2e41\">\n",
              "    <div class=\"colab-df-container\">\n",
              "      <div>\n",
              "<style scoped>\n",
              "    .dataframe tbody tr th:only-of-type {\n",
              "        vertical-align: middle;\n",
              "    }\n",
              "\n",
              "    .dataframe tbody tr th {\n",
              "        vertical-align: top;\n",
              "    }\n",
              "\n",
              "    .dataframe thead th {\n",
              "        text-align: right;\n",
              "    }\n",
              "</style>\n",
              "<table border=\"1\" class=\"dataframe\">\n",
              "  <thead>\n",
              "    <tr style=\"text-align: right;\">\n",
              "      <th></th>\n",
              "      <th>SalesID</th>\n",
              "      <th>MachineID</th>\n",
              "      <th>ModelID</th>\n",
              "      <th>datasource</th>\n",
              "      <th>auctioneerID</th>\n",
              "      <th>YearMade</th>\n",
              "      <th>MachineHoursCurrentMeter</th>\n",
              "      <th>UsageBand</th>\n",
              "      <th>saledate</th>\n",
              "      <th>fiModelDesc</th>\n",
              "      <th>...</th>\n",
              "      <th>Undercarriage_Pad_Width</th>\n",
              "      <th>Stick_Length</th>\n",
              "      <th>Thumb</th>\n",
              "      <th>Pattern_Changer</th>\n",
              "      <th>Grouser_Type</th>\n",
              "      <th>Backhoe_Mounting</th>\n",
              "      <th>Blade_Type</th>\n",
              "      <th>Travel_Controls</th>\n",
              "      <th>Differential_Type</th>\n",
              "      <th>Steering_Controls</th>\n",
              "    </tr>\n",
              "  </thead>\n",
              "  <tbody>\n",
              "    <tr>\n",
              "      <th>0</th>\n",
              "      <td>1227829</td>\n",
              "      <td>1006309</td>\n",
              "      <td>3168</td>\n",
              "      <td>121</td>\n",
              "      <td>3</td>\n",
              "      <td>1999</td>\n",
              "      <td>3688.0</td>\n",
              "      <td>Low</td>\n",
              "      <td>2012-05-03</td>\n",
              "      <td>580G</td>\n",
              "      <td>...</td>\n",
              "      <td>NaN</td>\n",
              "      <td>NaN</td>\n",
              "      <td>NaN</td>\n",
              "      <td>NaN</td>\n",
              "      <td>NaN</td>\n",
              "      <td>NaN</td>\n",
              "      <td>NaN</td>\n",
              "      <td>NaN</td>\n",
              "      <td>NaN</td>\n",
              "      <td>NaN</td>\n",
              "    </tr>\n",
              "    <tr>\n",
              "      <th>1</th>\n",
              "      <td>1227844</td>\n",
              "      <td>1022817</td>\n",
              "      <td>7271</td>\n",
              "      <td>121</td>\n",
              "      <td>3</td>\n",
              "      <td>1000</td>\n",
              "      <td>28555.0</td>\n",
              "      <td>High</td>\n",
              "      <td>2012-05-10</td>\n",
              "      <td>936</td>\n",
              "      <td>...</td>\n",
              "      <td>NaN</td>\n",
              "      <td>NaN</td>\n",
              "      <td>NaN</td>\n",
              "      <td>NaN</td>\n",
              "      <td>NaN</td>\n",
              "      <td>NaN</td>\n",
              "      <td>NaN</td>\n",
              "      <td>NaN</td>\n",
              "      <td>Standard</td>\n",
              "      <td>Conventional</td>\n",
              "    </tr>\n",
              "    <tr>\n",
              "      <th>2</th>\n",
              "      <td>1227847</td>\n",
              "      <td>1031560</td>\n",
              "      <td>22805</td>\n",
              "      <td>121</td>\n",
              "      <td>3</td>\n",
              "      <td>2004</td>\n",
              "      <td>6038.0</td>\n",
              "      <td>Medium</td>\n",
              "      <td>2012-05-10</td>\n",
              "      <td>EC210BLC</td>\n",
              "      <td>...</td>\n",
              "      <td>None or Unspecified</td>\n",
              "      <td>9' 6\"</td>\n",
              "      <td>Manual</td>\n",
              "      <td>None or Unspecified</td>\n",
              "      <td>Double</td>\n",
              "      <td>NaN</td>\n",
              "      <td>NaN</td>\n",
              "      <td>NaN</td>\n",
              "      <td>NaN</td>\n",
              "      <td>NaN</td>\n",
              "    </tr>\n",
              "    <tr>\n",
              "      <th>3</th>\n",
              "      <td>1227848</td>\n",
              "      <td>56204</td>\n",
              "      <td>1269</td>\n",
              "      <td>121</td>\n",
              "      <td>3</td>\n",
              "      <td>2006</td>\n",
              "      <td>8940.0</td>\n",
              "      <td>High</td>\n",
              "      <td>2012-05-10</td>\n",
              "      <td>330CL</td>\n",
              "      <td>...</td>\n",
              "      <td>None or Unspecified</td>\n",
              "      <td>None or Unspecified</td>\n",
              "      <td>Manual</td>\n",
              "      <td>Yes</td>\n",
              "      <td>Triple</td>\n",
              "      <td>NaN</td>\n",
              "      <td>NaN</td>\n",
              "      <td>NaN</td>\n",
              "      <td>NaN</td>\n",
              "      <td>NaN</td>\n",
              "    </tr>\n",
              "    <tr>\n",
              "      <th>4</th>\n",
              "      <td>1227863</td>\n",
              "      <td>1053887</td>\n",
              "      <td>22312</td>\n",
              "      <td>121</td>\n",
              "      <td>3</td>\n",
              "      <td>2005</td>\n",
              "      <td>2286.0</td>\n",
              "      <td>Low</td>\n",
              "      <td>2012-05-10</td>\n",
              "      <td>650K</td>\n",
              "      <td>...</td>\n",
              "      <td>NaN</td>\n",
              "      <td>NaN</td>\n",
              "      <td>NaN</td>\n",
              "      <td>NaN</td>\n",
              "      <td>NaN</td>\n",
              "      <td>None or Unspecified</td>\n",
              "      <td>PAT</td>\n",
              "      <td>None or Unspecified</td>\n",
              "      <td>NaN</td>\n",
              "      <td>NaN</td>\n",
              "    </tr>\n",
              "  </tbody>\n",
              "</table>\n",
              "<p>5 rows × 52 columns</p>\n",
              "</div>\n",
              "      <button class=\"colab-df-convert\" onclick=\"convertToInteractive('df-3e66596f-dcd1-402f-ad95-11c7fcfe2e41')\"\n",
              "              title=\"Convert this dataframe to an interactive table.\"\n",
              "              style=\"display:none;\">\n",
              "        \n",
              "  <svg xmlns=\"http://www.w3.org/2000/svg\" height=\"24px\"viewBox=\"0 0 24 24\"\n",
              "       width=\"24px\">\n",
              "    <path d=\"M0 0h24v24H0V0z\" fill=\"none\"/>\n",
              "    <path d=\"M18.56 5.44l.94 2.06.94-2.06 2.06-.94-2.06-.94-.94-2.06-.94 2.06-2.06.94zm-11 1L8.5 8.5l.94-2.06 2.06-.94-2.06-.94L8.5 2.5l-.94 2.06-2.06.94zm10 10l.94 2.06.94-2.06 2.06-.94-2.06-.94-.94-2.06-.94 2.06-2.06.94z\"/><path d=\"M17.41 7.96l-1.37-1.37c-.4-.4-.92-.59-1.43-.59-.52 0-1.04.2-1.43.59L10.3 9.45l-7.72 7.72c-.78.78-.78 2.05 0 2.83L4 21.41c.39.39.9.59 1.41.59.51 0 1.02-.2 1.41-.59l7.78-7.78 2.81-2.81c.8-.78.8-2.07 0-2.86zM5.41 20L4 18.59l7.72-7.72 1.47 1.35L5.41 20z\"/>\n",
              "  </svg>\n",
              "      </button>\n",
              "      \n",
              "  <style>\n",
              "    .colab-df-container {\n",
              "      display:flex;\n",
              "      flex-wrap:wrap;\n",
              "      gap: 12px;\n",
              "    }\n",
              "\n",
              "    .colab-df-convert {\n",
              "      background-color: #E8F0FE;\n",
              "      border: none;\n",
              "      border-radius: 50%;\n",
              "      cursor: pointer;\n",
              "      display: none;\n",
              "      fill: #1967D2;\n",
              "      height: 32px;\n",
              "      padding: 0 0 0 0;\n",
              "      width: 32px;\n",
              "    }\n",
              "\n",
              "    .colab-df-convert:hover {\n",
              "      background-color: #E2EBFA;\n",
              "      box-shadow: 0px 1px 2px rgba(60, 64, 67, 0.3), 0px 1px 3px 1px rgba(60, 64, 67, 0.15);\n",
              "      fill: #174EA6;\n",
              "    }\n",
              "\n",
              "    [theme=dark] .colab-df-convert {\n",
              "      background-color: #3B4455;\n",
              "      fill: #D2E3FC;\n",
              "    }\n",
              "\n",
              "    [theme=dark] .colab-df-convert:hover {\n",
              "      background-color: #434B5C;\n",
              "      box-shadow: 0px 1px 3px 1px rgba(0, 0, 0, 0.15);\n",
              "      filter: drop-shadow(0px 1px 2px rgba(0, 0, 0, 0.3));\n",
              "      fill: #FFFFFF;\n",
              "    }\n",
              "  </style>\n",
              "\n",
              "      <script>\n",
              "        const buttonEl =\n",
              "          document.querySelector('#df-3e66596f-dcd1-402f-ad95-11c7fcfe2e41 button.colab-df-convert');\n",
              "        buttonEl.style.display =\n",
              "          google.colab.kernel.accessAllowed ? 'block' : 'none';\n",
              "\n",
              "        async function convertToInteractive(key) {\n",
              "          const element = document.querySelector('#df-3e66596f-dcd1-402f-ad95-11c7fcfe2e41');\n",
              "          const dataTable =\n",
              "            await google.colab.kernel.invokeFunction('convertToInteractive',\n",
              "                                                     [key], {});\n",
              "          if (!dataTable) return;\n",
              "\n",
              "          const docLinkHtml = 'Like what you see? Visit the ' +\n",
              "            '<a target=\"_blank\" href=https://colab.research.google.com/notebooks/data_table.ipynb>data table notebook</a>'\n",
              "            + ' to learn more about interactive tables.';\n",
              "          element.innerHTML = '';\n",
              "          dataTable['output_type'] = 'display_data';\n",
              "          await google.colab.output.renderOutput(dataTable, element);\n",
              "          const docLink = document.createElement('div');\n",
              "          docLink.innerHTML = docLinkHtml;\n",
              "          element.appendChild(docLink);\n",
              "        }\n",
              "      </script>\n",
              "    </div>\n",
              "  </div>\n",
              "  "
            ]
          },
          "metadata": {},
          "execution_count": 59
        }
      ]
    },
    {
      "cell_type": "code",
      "source": [
        "print(test_df['Hydraulics'].isna().sum())\n",
        "test_df.isna().sum()"
      ],
      "metadata": {
        "colab": {
          "base_uri": "https://localhost:8080/"
        },
        "id": "TBVKCpCdONad",
        "outputId": "a6cc9e9f-0cdb-4796-fb36-7eca2ed8fd80"
      },
      "execution_count": null,
      "outputs": [
        {
          "output_type": "stream",
          "name": "stdout",
          "text": [
            "2142\n"
          ]
        },
        {
          "output_type": "execute_result",
          "data": {
            "text/plain": [
              "SalesID                         0\n",
              "MachineID                       0\n",
              "ModelID                         0\n",
              "datasource                      0\n",
              "auctioneerID                    0\n",
              "YearMade                        0\n",
              "MachineHoursCurrentMeter    10328\n",
              "UsageBand                   10623\n",
              "saledate                        0\n",
              "fiModelDesc                     0\n",
              "fiBaseModel                     0\n",
              "fiSecondaryDesc              3975\n",
              "fiModelSeries               10451\n",
              "fiModelDescriptor            9433\n",
              "ProductSize                  6409\n",
              "fiProductClassDesc              0\n",
              "state                           0\n",
              "ProductGroup                    0\n",
              "ProductGroupDesc                0\n",
              "Drive_System                 9698\n",
              "Enclosure                       2\n",
              "Forks                        6149\n",
              "Pad_Type                    10349\n",
              "Ride_Control                 8216\n",
              "Stick                       10349\n",
              "Transmission                 7639\n",
              "Turbocharged                10349\n",
              "Blade_Extension             11806\n",
              "Blade_Width                 11806\n",
              "Enclosure_Type              11806\n",
              "Engine_Horsepower           11806\n",
              "Hydraulics                   2142\n",
              "Pushblock                   11806\n",
              "Ripper                       9753\n",
              "Scarifier                   11806\n",
              "Tip_Control                 11806\n",
              "Tire_Size                    9679\n",
              "Coupler                      4856\n",
              "Coupler_System              10391\n",
              "Grouser_Tracks              10391\n",
              "Hydraulics_Flow             10391\n",
              "Track_Type                   9063\n",
              "Undercarriage_Pad_Width      9059\n",
              "Stick_Length                 9063\n",
              "Thumb                        9062\n",
              "Pattern_Changer              9063\n",
              "Grouser_Type                 9063\n",
              "Backhoe_Mounting            10406\n",
              "Blade_Type                  10399\n",
              "Travel_Controls             10399\n",
              "Differential_Type           10328\n",
              "Steering_Controls           10328\n",
              "dtype: int64"
            ]
          },
          "metadata": {},
          "execution_count": 60
        }
      ]
    },
    {
      "cell_type": "markdown",
      "source": [
        "#Q18\n",
        "###Preprocessing test data (getting it into same format as training dataset)\n",
        "Preprocess test data using the same stepsused in training dataset, i.e. separate saledate into saleYear,saleMonth, saleDay, saleDayOfWeek, saleDayOfYear and drop the original saledate feature. Add binary column which tells us if data was missing or not, fill numeric values with median, turn categorical variables into numbers and fill missing, add binart column to indicate whether sample had missing value and turn missing categories into number and add +1. Calculate the difference between sets of X_train and df_test columns and mark it from the given options.\n",
        "\n",
        "{'auctioneerID_is_missing'}\n",
        "\n",
        "{'Backhoe_Mounting_is_missing'}\n",
        "\n",
        "{'Differential_Type_is_missing'}\n",
        "\n",
        "None of these"
      ],
      "metadata": {
        "id": "TO45Pb6d10Ao"
      }
    },
    {
      "cell_type": "code",
      "source": [
        "test_df['saleYear'] = test_df['saledate'].dt.year\n",
        "test_df['saleMonth'] = test_df['saledate'].dt.month\n",
        "test_df['saleDay'] = test_df['saledate'].dt.day\n",
        "test_df['saleDayOfWeek'] = test_df['saledate'].dt.day_of_week\n",
        "test_df['saleDayOfYear'] = test_df['saledate'].dt.day_of_year\n",
        "test_df.drop('saledate', axis=1, inplace=True)\n",
        "test_df.shape"
      ],
      "metadata": {
        "colab": {
          "base_uri": "https://localhost:8080/"
        },
        "id": "4dmL2DBxOgGi",
        "outputId": "7ca3afc9-58e1-489c-d946-18e5204e961c"
      },
      "execution_count": null,
      "outputs": [
        {
          "output_type": "execute_result",
          "data": {
            "text/plain": [
              "(12457, 56)"
            ]
          },
          "metadata": {},
          "execution_count": 61
        }
      ]
    },
    {
      "cell_type": "code",
      "source": [
        "num_cols = test_df.describe().columns\n",
        "cat_cols = [column for column in test_df.columns if column not in num_cols]\n",
        "\n",
        "for label, content in test_df.items():\n",
        "  if label in num_cols:\n",
        "    if(pd.isnull(content).any()):\n",
        "      test_df[label+'_is_missing'] = pd.isnull(content)\n",
        "      test_df[label] = content.fillna(content.median())\n",
        "  if label in cat_cols:\n",
        "    if(pd.isnull(content).any()):\n",
        "      test_df[label+'_is_missing'] = pd.isnull(content)\n",
        "    test_df[label] = pd.Categorical(content).codes + 1\n",
        "\n",
        "test_df.shape"
      ],
      "metadata": {
        "colab": {
          "base_uri": "https://localhost:8080/"
        },
        "id": "BajATioRP0I4",
        "outputId": "82a0eaba-5937-4b5b-eee2-1f187a86e382"
      },
      "execution_count": null,
      "outputs": [
        {
          "output_type": "execute_result",
          "data": {
            "text/plain": [
              "(12457, 95)"
            ]
          },
          "metadata": {},
          "execution_count": 62
        }
      ]
    },
    {
      "cell_type": "code",
      "source": [
        "len(X_train.columns) - len(test_df.columns)"
      ],
      "metadata": {
        "colab": {
          "base_uri": "https://localhost:8080/"
        },
        "id": "7trKpDCgRtew",
        "outputId": "3a1759f5-2419-4186-a798-c19bac1875f6"
      },
      "execution_count": null,
      "outputs": [
        {
          "output_type": "execute_result",
          "data": {
            "text/plain": [
              "1"
            ]
          },
          "metadata": {},
          "execution_count": 63
        }
      ]
    },
    {
      "cell_type": "code",
      "source": [
        "missing = [col for col in X_train.columns if col not in test_df.columns]\n",
        "print(missing)"
      ],
      "metadata": {
        "colab": {
          "base_uri": "https://localhost:8080/"
        },
        "id": "no4tA9CRUadI",
        "outputId": "d4ba7811-8ebe-47eb-c1aa-953d6417cc0b"
      },
      "execution_count": null,
      "outputs": [
        {
          "output_type": "stream",
          "name": "stdout",
          "text": [
            "['auctioneerID_is_missing']\n"
          ]
        }
      ]
    }
  ]
}