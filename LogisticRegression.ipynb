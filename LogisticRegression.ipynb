{
  "nbformat": 4,
  "nbformat_minor": 0,
  "metadata": {
    "colab": {
      "provenance": [],
      "authorship_tag": "ABX9TyMkW9+pGU5Q4NTIIjDBm3aI"
    },
    "kernelspec": {
      "name": "python3",
      "display_name": "Python 3"
    },
    "language_info": {
      "name": "python"
    }
  },
  "cells": [
    {
      "cell_type": "markdown",
      "source": [
        "#Logistic Regression\n",
        "* sklearn uses solvers like liblinear, newton-cg, sag, saga and lbfgs to find optimal weights.\n",
        "* Regularization is applied by default.\n",
        "* Some important parameters:\n",
        "  * Regularization: penalty='l2'\n",
        "  * Regularization rate: C=1\n",
        "  * Solver: solver='lbfgs\n",
        "* Let us implement Logistic Regression without regularization by setting the parameter C = $∞$. Therefor we may expect performance close to SGDClassifier without regularization."
      ],
      "metadata": {
        "id": "eobA1ZLmLhFL"
      }
    },
    {
      "cell_type": "code",
      "source": [
        "import numpy as np\n",
        "import os\n",
        "import io\n",
        "import warnings\n",
        "\n",
        "from sklearn.datasets import fetch_openml\n",
        "from sklearn.preprocessing import MinMaxScaler\n",
        "from sklearn.pipeline import Pipeline, make_pipeline\n",
        "from sklearn.dummy import DummyClassifier\n",
        "from sklearn.linear_model import SGDClassifier, RidgeClassifier, LogisticRegressionCV\n",
        "from sklearn.metrics import hinge_loss\n",
        "from sklearn.metrics import ConfusionMatrixDisplay, confusion_matrix, precision_recall_curve\n",
        "from sklearn.metrics import precision_score, recall_score, classification_report\n",
        "from sklearn.metrics import make_scorer, roc_curve, roc_auc_score, log_loss\n",
        "from sklearn.model_selection import cross_validate, cross_val_predict, GridSearchCV, RandomizedSearchCV\n",
        "from pprint import pprint\n",
        "\n",
        "%matplotlib inline\n",
        "import matplotlib.pyplot as plt\n",
        "import matplotlib as mpl\n",
        "import seaborn as sns\n",
        "\n",
        "from scipy.stats import loguniform\n",
        "np.random.seed(42)\n",
        "\n",
        "#global settings\n",
        "mpl.rc('axes', labelsize=14)\n",
        "mpl.rc('xtick', labelsize=12)\n",
        "mpl.rc('ytick', labelsize=12)\n",
        "mpl.rc('figure', figsize=(8,6))"
      ],
      "metadata": {
        "id": "rgzr_D-gbWbG"
      },
      "execution_count": null,
      "outputs": []
    },
    {
      "cell_type": "code",
      "source": [
        "#Ignore all warnings\n",
        "def warn(*args, **kwargs):\n",
        "  pass\n",
        "warnings.warn = warn"
      ],
      "metadata": {
        "id": "HzT8WoHUcY7l"
      },
      "execution_count": null,
      "outputs": []
    },
    {
      "cell_type": "code",
      "source": [
        "X_pd, y_pd = fetch_openml('mnist_784', version=1, return_X_y=True)\n",
        "X = X_pd.to_numpy()\n",
        "y = y_pd.to_numpy()"
      ],
      "metadata": {
        "id": "AMi7nLvdbbV5"
      },
      "execution_count": null,
      "outputs": []
    },
    {
      "cell_type": "code",
      "source": [
        "X_train, X_test, y_train, y_test  = X[:60000], X[60000:], y[:60000], y[60000:]"
      ],
      "metadata": {
        "id": "bMc08Et8bxF0"
      },
      "execution_count": null,
      "outputs": []
    },
    {
      "cell_type": "code",
      "source": [
        "y_train_0 = np.zeros((len(y_train)))\n",
        "y_test_0 = np.zeros((len(y_test)))\n",
        "\n",
        "#find the indices of digit 0\n",
        "indx_0 = np.where(y_train == '0') # oroginal labels are str, not int\n",
        "#use these indices to modify y_train_0 and y_test_0\n",
        "y_train_0[indx_0] = 1 \n",
        "indx_0 = np.where(y_test == '0')\n",
        "y_test_0[indx_0] = 1"
      ],
      "metadata": {
        "id": "kiSXBzTSb4Z4"
      },
      "execution_count": null,
      "outputs": []
    },
    {
      "cell_type": "markdown",
      "source": [
        "##Training without Regularization\n",
        "* Step1: Instantiate Pipeline object with two stages\n",
        "  * The first stage contains MinMaxScaler for scaling the input.\n",
        "  * The second stage contains a LogisticRegression classifier with the regularization rate C=infinity.\n",
        "* Step2: Train the pipeline with feature matrix X_train and label vector y_train_0"
      ],
      "metadata": {
        "id": "pG4sLVVFMfLg"
      }
    },
    {
      "cell_type": "code",
      "execution_count": null,
      "metadata": {
        "colab": {
          "base_uri": "https://localhost:8080/"
        },
        "id": "1JGBzrn8LeKJ",
        "outputId": "71db3bea-48c5-4cd3-9d9d-9d381520c1a6"
      },
      "outputs": [
        {
          "output_type": "execute_result",
          "data": {
            "text/plain": [
              "Pipeline(steps=[('minmaxscaler', MinMaxScaler()),\n",
              "                ('logisticregression',\n",
              "                 LogisticRegression(C=inf, random_state=1729))])"
            ]
          },
          "metadata": {},
          "execution_count": 6
        }
      ],
      "source": [
        "pipe_logit = make_pipeline(MinMaxScaler(), LogisticRegression(random_state=1729, solver='lbfgs', C=np.infty))\n",
        "pipe_logit.fit(X_train, y_train_0)"
      ]
    },
    {
      "cell_type": "markdown",
      "source": [
        "#HyperParameter Search\n",
        "##With GridSearchCV\n",
        "In previous step, we trained Logistic Regression with default parameterization.   \n",
        "Now we will demonstrate how to search for the best parameter value for regularization rate C, using GridSearchCV\n",
        "\n",
        "\n",
        "In order to use GridSearchCV, we first define a set of values that we want to try for C. The best value of C will be found from this set. \n",
        "\n",
        "We define pipeline object exactly like before with one exception: we have set parameter value C to 1 in LogisticRegression estimator. You can set it to any value, as the best value would be searched with grid search.\n",
        "\n",
        "The additional step here is to instantiate a GridSearchCV object with a pipeline estimator, parameter grid specification and f1 as a scoring function.\n",
        "* Note that you can use other scoring functions like precision, recall, however the value of C is found such that the given scoring function is optimized. "
      ],
      "metadata": {
        "id": "sTBCWi1icdMR"
      }
    },
    {
      "cell_type": "code",
      "source": [
        "from sklearn.pipeline import Pipeline\n",
        "grid_Cs = [0, 1e-4, 1e-3, 1e-2, 1e-1, 1.0, 10.0, 100.0]\n",
        "scaler = MinMaxScaler()\n",
        "logreg = LogisticRegression(C=1.0, random_state=1729)\n",
        "pipe = Pipeline(steps=[('scaler', scaler),\n",
        "                       ('logistic', logreg)\n",
        "                       ])\n",
        "pipe_logit_cv = GridSearchCV(pipe,\n",
        "                             param_grid={'logistic__C':grid_Cs},\n",
        "                             scoring='f1'\n",
        "                             )\n",
        "pipe_logit_cv.fit(X_train, y_train_0)"
      ],
      "metadata": {
        "colab": {
          "base_uri": "https://localhost:8080/"
        },
        "id": "hLwZRa6lc60a",
        "outputId": "f0be9d17-0644-4e71-a4f4-3ae9b0c07131"
      },
      "execution_count": null,
      "outputs": [
        {
          "output_type": "execute_result",
          "data": {
            "text/plain": [
              "GridSearchCV(estimator=Pipeline(steps=[('scaler', MinMaxScaler()),\n",
              "                                       ('logistic',\n",
              "                                        LogisticRegression(random_state=1729))]),\n",
              "             param_grid={'logistic__C': [0, 0.0001, 0.001, 0.01, 0.1, 1.0, 10.0,\n",
              "                                         100.0]},\n",
              "             scoring='f1')"
            ]
          },
          "metadata": {},
          "execution_count": 7
        }
      ]
    },
    {
      "cell_type": "code",
      "source": [
        "pipe_logit_cv.best_params_"
      ],
      "metadata": {
        "colab": {
          "base_uri": "https://localhost:8080/"
        },
        "id": "ldg7pmtZfSBW",
        "outputId": "d0352b62-4253-42a5-d76d-d97fdf5811ce"
      },
      "execution_count": null,
      "outputs": [
        {
          "output_type": "execute_result",
          "data": {
            "text/plain": [
              "{'logistic__C': 0.1}"
            ]
          },
          "metadata": {},
          "execution_count": 8
        }
      ]
    },
    {
      "cell_type": "code",
      "source": [
        "pipe_logit_cv.best_score_"
      ],
      "metadata": {
        "colab": {
          "base_uri": "https://localhost:8080/"
        },
        "id": "KOqMbQH8fXar",
        "outputId": "ac482880-7f48-4408-9f39-df313c329b75"
      },
      "execution_count": null,
      "outputs": [
        {
          "output_type": "execute_result",
          "data": {
            "text/plain": [
              "0.9579654953103655"
            ]
          },
          "metadata": {},
          "execution_count": 9
        }
      ]
    },
    {
      "cell_type": "code",
      "source": [
        "pipe_logit_cv.best_estimator_"
      ],
      "metadata": {
        "colab": {
          "base_uri": "https://localhost:8080/"
        },
        "id": "yoi3SaJPfecW",
        "outputId": "41426ebd-8330-48c0-f00c-76da61a80863"
      },
      "execution_count": null,
      "outputs": [
        {
          "output_type": "execute_result",
          "data": {
            "text/plain": [
              "Pipeline(steps=[('scaler', MinMaxScaler()),\n",
              "                ('logistic', LogisticRegression(C=0.1, random_state=1729))])"
            ]
          },
          "metadata": {},
          "execution_count": 10
        }
      ]
    },
    {
      "cell_type": "markdown",
      "source": [
        "###With LogisticRegressionCV\n",
        "Instead of using GridSearchCV for finding the best value for parameter C, we can use LogisticRegressionCV for performing the same job.\n",
        "* STEP1: Here we make use of LogisticRegressionCV estimetor with number of cross validation folds cv=5, and scoring scheme, scoring='f1' in the pipeline object. \n",
        "* STEP2: In the second step, we train the pipeline object as before."
      ],
      "metadata": {
        "id": "jeVRHkhZfsHI"
      }
    },
    {
      "cell_type": "code",
      "source": [
        "estimator = LogisticRegressionCV(cv=5, scoring='f1', random_state=1729)\n",
        "logit_cv = make_pipeline(MinMaxScaler(), estimator)\n",
        "logit_cv.fit(X_train, y_train_0)"
      ],
      "metadata": {
        "colab": {
          "base_uri": "https://localhost:8080/"
        },
        "id": "CiMEG4_A0aRk",
        "outputId": "a3fb2eed-f66a-4329-c82c-ea1edea54c85"
      },
      "execution_count": null,
      "outputs": [
        {
          "output_type": "execute_result",
          "data": {
            "text/plain": [
              "Pipeline(steps=[('minmaxscaler', MinMaxScaler()),\n",
              "                ('logisticregressioncv',\n",
              "                 LogisticRegressionCV(cv=5, random_state=1729, scoring='f1'))])"
            ]
          },
          "metadata": {},
          "execution_count": 12
        }
      ]
    },
    {
      "cell_type": "markdown",
      "source": [
        "By default LogisticRegressionCV refits the model on the entire training set with the best parameter values obtained via cross validation."
      ],
      "metadata": {
        "id": "0w5rMylN1J4h"
      }
    },
    {
      "cell_type": "markdown",
      "source": [
        "##Performance Evaluation\n",
        "###Precision, Recall, F1 Score\n",
        "Let us evaluate the performance of these three different logistic regression classifiers for detecting 0 digit from the image.\n",
        "* Logistic Regression without regularization.\n",
        "* Best Logistic regression classifier found through GridSearchCV.\n",
        "* Best classifier found thru LogisticRegressionCV.\n",
        "\n",
        "GridSearchCV and LogisticRegressionCV by default refit the classifier for the best hyperparameter values.\n",
        "\n",
        "Let us get prediction for test set with these three classifiers."
      ],
      "metadata": {
        "id": "3kSK8zKe1Wnt"
      }
    },
    {
      "cell_type": "code",
      "source": [
        "lr_y_hat_0 = pipe_logit.predict(X_test)\n",
        "lr_gs_y_hat_0 = pipe_logit_cv.best_estimator_.predict(X_test)\n",
        "lr_cv_y_hat_0 = pipe_logit_cv.predict(X_test)"
      ],
      "metadata": {
        "id": "UYwJxuRn2ajE"
      },
      "execution_count": null,
      "outputs": []
    },
    {
      "cell_type": "code",
      "source": [
        "precision_lr = precision_score(y_test_0, lr_y_hat_0)\n",
        "recall_lr = recall_score(y_test_0, lr_y_hat_0)\n",
        "\n",
        "precision_lr_gs = precision_score(y_test_0, lr_gs_y_hat_0)\n",
        "recall_lr_gs = recall_score(y_test_0, lr_gs_y_hat_0)\n",
        "\n",
        "precision_lr_cv = precision_score(y_test_0, lr_cv_y_hat_0)\n",
        "recall_lr_cv = recall_score(y_test_0, lr_cv_y_hat_0)"
      ],
      "metadata": {
        "id": "oWtbQKuy2xhf"
      },
      "execution_count": null,
      "outputs": []
    },
    {
      "cell_type": "code",
      "source": [
        "print('LogReg Precision: ', precision_lr, 'Recall: ', recall_lr)\n",
        "print('GridSearch Precision: ', precision_lr_gs, 'Recall: ', recall_lr_gs)\n",
        "print('LogRegCV Precision: ', precision_lr_cv, 'Recall: ', recall_lr_cv)"
      ],
      "metadata": {
        "colab": {
          "base_uri": "https://localhost:8080/"
        },
        "id": "YHnRm8QA3bDK",
        "outputId": "c3bbd8bb-7db8-4719-fff6-d3124e5a11aa"
      },
      "execution_count": null,
      "outputs": [
        {
          "output_type": "stream",
          "name": "stdout",
          "text": [
            "LogReg Precision:  0.9515151515151515 Recall:  0.9612244897959183\n",
            "GridSearch Precision:  0.9564336372847011 Recall:  0.963265306122449\n",
            "LogRegCV Precision:  0.9564336372847011 Recall:  0.963265306122449\n"
          ]
        }
      ]
    },
    {
      "cell_type": "markdown",
      "source": [
        "###Using PR-Curve"
      ],
      "metadata": {
        "id": "GCEHoMcx34Ge"
      }
    },
    {
      "cell_type": "code",
      "source": [
        "y_scores_lr = pipe_logit.decision_function(X_test)\n",
        "precisions_lr, recalls_lr, thresholds_lr = precision_recall_curve(y_test_0, y_scores_lr)\n",
        "\n",
        "y_scores_lr_gs = pipe_logit_cv.decision_function(X_test)\n",
        "precisions_lr_gs, recalls_lr_gs, thresholds_lr_gs = precision_recall_curve(y_test_0, y_scores_lr_gs)\n",
        "\n",
        "y_scores_lr_cv = logit_cv.decision_function(X_test)\n",
        "precisions_lr_cv, recalls_lr_cv, thresholds_lr_cv = precision_recall_curve(y_test_0, y_scores_lr_cv)"
      ],
      "metadata": {
        "id": "bwYCASHY3_B9"
      },
      "execution_count": null,
      "outputs": []
    },
    {
      "cell_type": "code",
      "source": [
        "plt.figure()\n",
        "plt.plot(recalls_lr[:-1], precisions_lr[:-1], 'b--', label='LogReg')\n",
        "plt.plot(recalls_lr_gs[:-1], precisions_lr_gs[:-1], 'r--', label='GridSearchCV')\n",
        "plt.plot(recalls_lr_cv[:-1], precisions_lr_cv[:-1], 'g--', label='LogRegCV')\n",
        "plt.xlabel('Precision')\n",
        "plt.ylabel('Recall')\n",
        "plt.grid(True)\n",
        "plt.legend()\n",
        "plt.show()"
      ],
      "metadata": {
        "colab": {
          "base_uri": "https://localhost:8080/",
          "height": 395
        },
        "id": "3VSqs49y4oPO",
        "outputId": "b19bb526-514f-43d2-e238-96e1935719cb"
      },
      "execution_count": null,
      "outputs": [
        {
          "output_type": "display_data",
          "data": {
            "text/plain": [
              "<Figure size 576x432 with 1 Axes>"
            ],
            "image/png": "[encoded data removed]"
          },
          "metadata": {
            "needs_background": "light"
          }
        }
      ]
    },
    {
      "cell_type": "markdown",
      "source": [
        "Note that PR Curves for all three classes overlap significantly.\n",
        "\n",
        "Let us calculate the are under PR Curve"
      ],
      "metadata": {
        "id": "oxdDIDhJ5UyS"
      }
    },
    {
      "cell_type": "code",
      "source": [
        "from sklearn.metrics import auc\n",
        "auc_lr = auc(recalls_lr[:-1], precisions_lr[:-1])\n",
        "auc_lr_gs = auc(recalls_lr_gs[:-1], precisions_lr_gs[:-1])\n",
        "auc_lr_cv = auc(recalls_lr_cv[:-1], precisions_lr_cv[:-1])\n",
        "\n",
        "print('AUC-PR for Logistic Regression: ', auc_lr)\n",
        "print('AUC-PR for GridSearchCV: ', auc_lr_gs)\n",
        "print('AUC-PR for Logistic RegressionCV: ', auc_lr_cv)"
      ],
      "metadata": {
        "colab": {
          "base_uri": "https://localhost:8080/"
        },
        "id": "gmSDUb545e26",
        "outputId": "143cba18-29db-4de6-e453-32c83b91fee1"
      },
      "execution_count": null,
      "outputs": [
        {
          "output_type": "stream",
          "name": "stdout",
          "text": [
            "AUC-PR for Logistic Regression:  0.9871337497759658\n",
            "AUC-PR for GridSearchCV:  0.9886520703587929\n",
            "AUC-PR for Logistic RegressionCV:  0.9886328332116212\n"
          ]
        }
      ]
    },
    {
      "cell_type": "markdown",
      "source": [
        "AUC for all three classifiers are roughly the same with LogisticRegression Classifier obtained thru CV and gridsearch are slighly higher AUC under PR Curve.\n",
        "\n",
        "###Confusion Matrix\n",
        "*For LogisticRegression Classifier"
      ],
      "metadata": {
        "id": "2mq_64Jm6Kx0"
      }
    },
    {
      "cell_type": "code",
      "source": [
        "cm_display = ConfusionMatrixDisplay.from_predictions(y_test_0, lr_y_hat_0, values_format='.5g')\n",
        "plt.show()"
      ],
      "metadata": {
        "colab": {
          "base_uri": "https://localhost:8080/",
          "height": 395
        },
        "id": "NBvpBsas6io2",
        "outputId": "731ec6cb-8a09-451d-abe9-3c5c354e9924"
      },
      "execution_count": null,
      "outputs": [
        {
          "output_type": "display_data",
          "data": {
            "text/plain": [
              "<Figure size 576x432 with 2 Axes>"
            ],
            "image/png": "[encoded data removed]"
          },
          "metadata": {
            "needs_background": "light"
          }
        }
      ]
    },
    {
      "cell_type": "markdown",
      "source": [
        "* Confusion Matrix for GridSearchCV"
      ],
      "metadata": {
        "id": "qEQVs4MJ684D"
      }
    },
    {
      "cell_type": "code",
      "source": [
        "cm_display = ConfusionMatrixDisplay.from_predictions(y_test_0, lr_gs_y_hat_0, values_format='.5g')\n",
        "plt.show()"
      ],
      "metadata": {
        "colab": {
          "base_uri": "https://localhost:8080/",
          "height": 395
        },
        "id": "BydP7t2x7Dmb",
        "outputId": "23bdb11d-fb12-476d-ee86-bb31bbd85606"
      },
      "execution_count": null,
      "outputs": [
        {
          "output_type": "display_data",
          "data": {
            "text/plain": [
              "<Figure size 576x432 with 2 Axes>"
            ],
            "image/png": "[encoded data removed]"
          },
          "metadata": {
            "needs_background": "light"
          }
        }
      ]
    },
    {
      "cell_type": "markdown",
      "source": [
        "* Confudion Matrix for LogisticRegressionCV"
      ],
      "metadata": {
        "id": "8F4OXUio7EUv"
      }
    },
    {
      "cell_type": "code",
      "source": [
        "cm_display = ConfusionMatrixDisplay.from_predictions(y_test_0, lr_cv_y_hat_0, values_format='.5g')\n",
        "plt.show()"
      ],
      "metadata": {
        "colab": {
          "base_uri": "https://localhost:8080/",
          "height": 395
        },
        "id": "FStrujOD7IvA",
        "outputId": "d0d4b86a-b00c-402f-b8e0-f31bc6162cfa"
      },
      "execution_count": null,
      "outputs": [
        {
          "output_type": "display_data",
          "data": {
            "text/plain": [
              "<Figure size 576x432 with 2 Axes>"
            ],
            "image/png": "[encoded data removed]"
          },
          "metadata": {
            "needs_background": "light"
          }
        }
      ]
    }
  ]
}