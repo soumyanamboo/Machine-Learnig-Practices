{
  "nbformat": 4,
  "nbformat_minor": 0,
  "metadata": {
    "colab": {
      "provenance": []
    },
    "kernelspec": {
      "name": "python3",
      "display_name": "Python 3"
    },
    "language_info": {
      "name": "python"
    },
    "accelerator": "GPU"
  },
  "cells": [
    {
      "cell_type": "markdown",
      "source": [
        "# **MNIST classification problem - Support Vector Machine classifier**"
      ],
      "metadata": {
        "id": "_EsiE2EB5eeM"
      }
    },
    {
      "cell_type": "markdown",
      "source": [
        "In this colab, we will implement **multiclass MNIST digit recognition classifier** with **SVMs**."
      ],
      "metadata": {
        "id": "qt5KjXgGqHd6"
      }
    },
    {
      "cell_type": "markdown",
      "metadata": {
        "id": "tlM_Zzk8PnZ6"
      },
      "source": [
        "**Import basic libraries**"
      ]
    },
    {
      "cell_type": "code",
      "metadata": {
        "id": "hYMtC-VkLys3"
      },
      "source": [
        "import pandas as pd\n",
        "import matplotlib.pyplot as plt\n",
        "import seaborn as sns\n",
        "import numpy as np\n",
        "from pandas.plotting import scatter_matrix\n",
        "from sklearn.preprocessing import OrdinalEncoder\n",
        "from sklearn.model_selection import train_test_split"
      ],
      "execution_count": null,
      "outputs": []
    },
    {
      "cell_type": "code",
      "source": [
        "# Import the libraries for performing classification\n",
        "from keras.datasets import mnist\n",
        "from sklearn.svm import SVC\n",
        "from sklearn.metrics import confusion_matrix, ConfusionMatrixDisplay\n",
        "from sklearn.metrics import classification_report\n",
        "from sklearn.metrics import plot_roc_curve\n",
        "from sklearn.metrics import roc_auc_score\n",
        "from sklearn.preprocessing import StandardScaler, MinMaxScaler\n",
        "from sklearn.pipeline import Pipeline\n",
        "from sklearn import metrics\n",
        "from sklearn.metrics import plot_confusion_matrix\n",
        "from sklearn.model_selection import cross_val_score\n",
        "from sklearn.model_selection  import GridSearchCV\n",
        "from sklearn.model_selection import StratifiedShuffleSplit"
      ],
      "metadata": {
        "id": "NSs_rNgd9ZSq"
      },
      "execution_count": null,
      "outputs": []
    },
    {
      "cell_type": "markdown",
      "source": [
        "## Loading MNIST dataset"
      ],
      "metadata": {
        "id": "rFEHgb61sawh"
      }
    },
    {
      "cell_type": "code",
      "source": [
        "# Load dataset\n",
        "\n",
        "(X_train, y_train), (X_test, y_test) = mnist.load_data()"
      ],
      "metadata": {
        "id": "jzlQkd_G5uq9"
      },
      "execution_count": null,
      "outputs": []
    },
    {
      "cell_type": "code",
      "source": [
        "print('Shape of training data',X_train.shape)\n",
        "print('Shape of training labels', y_train.shape)\n",
        "print('Shape of testing data', X_test.shape)\n",
        "print('Shape of testing labels',y_test.shape)"
      ],
      "metadata": {
        "colab": {
          "base_uri": "https://localhost:8080/"
        },
        "id": "g0vZMs1a75Il",
        "outputId": "b5474757-0e91-4ecd-da26-4a1070bcbb36"
      },
      "execution_count": null,
      "outputs": [
        {
          "output_type": "stream",
          "name": "stdout",
          "text": [
            "Shape of training data (60000, 28, 28)\n",
            "Shape of training labels (60000,)\n",
            "Shape of testing data (10000, 28, 28)\n",
            "Shape of testing labels (10000,)\n"
          ]
        }
      ]
    },
    {
      "cell_type": "code",
      "source": [
        "# Plotting some data samples\n",
        "fig = plt.figure(figsize=(10,7))\n",
        "for i in range(15):  \n",
        "    ax = fig.add_subplot(3, 5, i+1)\n",
        "    ax.imshow(X_train[i], cmap=plt.get_cmap('gray'))\n",
        "    ax.set_title('Label (y): {y}'.format(y=y_train[i]))\n",
        "    plt.axis('off')"
      ],
      "metadata": {
        "colab": {
          "base_uri": "https://localhost:8080/",
          "height": 412
        },
        "id": "Dae2u9sc7UA2",
        "outputId": "2dd2396f-3d48-41eb-a393-0da27e7869c3"
      },
      "execution_count": null,
      "outputs": [
        {
          "output_type": "display_data",
          "data": {
            "image/png": "[encoded data removed]",
            "text/plain": [
              "<Figure size 720x504 with 15 Axes>"
            ]
          },
          "metadata": {
            "needs_background": "light"
          }
        }
      ]
    },
    {
      "cell_type": "code",
      "source": [
        "# Flatten each input image into a vector of length 784 \n",
        "X_train = X_train.reshape(X_train.shape[0], 28*28)\n",
        "X_test = X_test.reshape(X_test.shape[0], 28*28)\n",
        "\n",
        "# Normalizing. \n",
        "X_train = X_train/255\n",
        "X_test = X_test/255"
      ],
      "metadata": {
        "id": "cytEJobTqcB0"
      },
      "execution_count": null,
      "outputs": []
    },
    {
      "cell_type": "code",
      "source": [
        "print('Shape of training data after flattening',X_train.shape)\n",
        "print('Shape of testing data after flattening', X_test.shape)"
      ],
      "metadata": {
        "colab": {
          "base_uri": "https://localhost:8080/"
        },
        "id": "bWYx2MK6qnUD",
        "outputId": "935ac8ce-0455-40be-b685-20ccfa7b3078"
      },
      "execution_count": null,
      "outputs": [
        {
          "output_type": "stream",
          "name": "stdout",
          "text": [
            "Shape of training data after flattening (60000, 784)\n",
            "Shape of testing data after flattening (10000, 784)\n"
          ]
        }
      ]
    },
    {
      "cell_type": "markdown",
      "source": [
        "Let us consider the first 10,000 images in training dataset and first 2,000 images in testing dataset."
      ],
      "metadata": {
        "id": "5yOBallZzJ6g"
      }
    },
    {
      "cell_type": "code",
      "source": [
        "X_train = X_train[0:10000,:]\n",
        "y_train = y_train[0:10000]\n",
        "X_test = X_test[0:2000,:]\n",
        "y_test = y_test[0:2000]"
      ],
      "metadata": {
        "id": "TfFUQ-eryPxN"
      },
      "execution_count": null,
      "outputs": []
    },
    {
      "cell_type": "code",
      "source": [
        "print('Shape of training data',X_train.shape)\n",
        "print('Shape of training labels', y_train.shape)\n",
        "print('Shape of testing data', X_test.shape)\n",
        "print('Shape of testing labels',y_test.shape)"
      ],
      "metadata": {
        "colab": {
          "base_uri": "https://localhost:8080/"
        },
        "id": "RKNCBJsfyqyc",
        "outputId": "eaba9b76-e1c4-4950-a9f9-005337f7a978"
      },
      "execution_count": null,
      "outputs": [
        {
          "output_type": "stream",
          "name": "stdout",
          "text": [
            "Shape of training data (10000, 784)\n",
            "Shape of training labels (10000,)\n",
            "Shape of testing data (2000, 784)\n",
            "Shape of testing labels (2000,)\n"
          ]
        }
      ]
    },
    {
      "cell_type": "markdown",
      "source": [
        "# **Linear SVM for MNIST multiclass classification**"
      ],
      "metadata": {
        "id": "59qB0SYe7zZs"
      }
    },
    {
      "cell_type": "markdown",
      "source": [
        "## **Using Pipeline**"
      ],
      "metadata": {
        "id": "0ZeqfXAUj8A4"
      }
    },
    {
      "cell_type": "code",
      "source": [
        "pipe_1 = Pipeline([('scaler', MinMaxScaler()),\n",
        "                         (\"classifier\", SVC(kernel = 'linear', C = 1))])\n",
        "pipe_1.fit(X_train,y_train.ravel())\n",
        "\n",
        "# Evaluate the model using crossvalidation\n",
        "acc = cross_val_score(pipe_1, X_train, y_train.ravel(),cv=2)\n",
        "print(\"Training Accuracy: {:.2f} %\".format(acc.mean()*100))"
      ],
      "metadata": {
        "colab": {
          "base_uri": "https://localhost:8080/"
        },
        "id": "RycLYrGw81qo",
        "outputId": "11d44da6-d7ad-4a9e-92d4-f4fc085aeff5"
      },
      "execution_count": null,
      "outputs": [
        {
          "output_type": "stream",
          "name": "stdout",
          "text": [
            "Training Accuracy: 91.07 %\n"
          ]
        }
      ]
    },
    {
      "cell_type": "code",
      "source": [
        "# visualizing the confusion matrix\n",
        "y_pred = pipe_1.predict(X_test)\n",
        "cm = confusion_matrix(y_test, y_pred)\n",
        "disp = ConfusionMatrixDisplay(confusion_matrix=cm)\n",
        "disp.plot()\n",
        "plt.title('Confusion matrix')\n",
        "plt.show()"
      ],
      "metadata": {
        "id": "ysBNImPR9MPU",
        "colab": {
          "base_uri": "https://localhost:8080/",
          "height": 295
        },
        "outputId": "fca86eca-665f-446a-e6bb-c50bf10f114d"
      },
      "execution_count": null,
      "outputs": [
        {
          "output_type": "display_data",
          "data": {
            "image/png": "[encoded data removed]",
            "text/plain": [
              "<Figure size 432x288 with 2 Axes>"
            ]
          },
          "metadata": {
            "needs_background": "light"
          }
        }
      ]
    },
    {
      "cell_type": "code",
      "metadata": {
        "colab": {
          "base_uri": "https://localhost:8080/"
        },
        "id": "xh7ZZLgYhjpf",
        "outputId": "19a4f25b-a059-4da3-913e-69a3cda7869b"
      },
      "source": [
        "CR = classification_report(y_test, y_pred)\n",
        "print('Classification report \\n')\n",
        "print(CR)"
      ],
      "execution_count": null,
      "outputs": [
        {
          "output_type": "stream",
          "name": "stdout",
          "text": [
            "Classification report \n",
            "\n",
            "              precision    recall  f1-score   support\n",
            "\n",
            "           0       0.91      0.96      0.94       175\n",
            "           1       0.96      0.99      0.98       234\n",
            "           2       0.89      0.89      0.89       219\n",
            "           3       0.85      0.88      0.86       207\n",
            "           4       0.90      0.94      0.92       217\n",
            "           5       0.89      0.85      0.87       179\n",
            "           6       0.90      0.93      0.91       178\n",
            "           7       0.89      0.87      0.88       205\n",
            "           8       0.89      0.83      0.86       192\n",
            "           9       0.89      0.84      0.86       194\n",
            "\n",
            "    accuracy                           0.90      2000\n",
            "   macro avg       0.90      0.90      0.90      2000\n",
            "weighted avg       0.90      0.90      0.90      2000\n",
            "\n"
          ]
        }
      ]
    },
    {
      "cell_type": "markdown",
      "source": [
        "# **Nonlinear SVM for MNIST multiclass classification**"
      ],
      "metadata": {
        "id": "OUGiVLfWrSEY"
      }
    },
    {
      "cell_type": "markdown",
      "source": [
        "## **Using Pipeline**"
      ],
      "metadata": {
        "id": "Bj0L4ZG9rSEa"
      }
    },
    {
      "cell_type": "code",
      "source": [
        "pipe_2 = Pipeline([('scaler', MinMaxScaler()),\n",
        "                         (\"classifier\", SVC(kernel = 'rbf', gamma = 0.1, C = 1))])\n",
        "pipe_2.fit(X_train,y_train.ravel())\n",
        "\n",
        "# Evaluate the model using crossvalidation\n",
        "acc = cross_val_score(pipe_2, X_train, y_train.ravel(),cv=2)\n",
        "print(\"Training Accuracy: {:.2f} %\".format(acc.mean()*100))"
      ],
      "metadata": {
        "colab": {
          "base_uri": "https://localhost:8080/"
        },
        "id": "HCxEk7GSrSEb",
        "outputId": "08b64e5e-056e-4741-84cb-509e500f4234"
      },
      "execution_count": null,
      "outputs": [
        {
          "output_type": "stream",
          "name": "stdout",
          "text": [
            "Training Accuracy: 82.87 %\n"
          ]
        }
      ]
    },
    {
      "cell_type": "code",
      "source": [
        "# visualizing the confusion matrix\n",
        "y_pred = pipe_2.predict(X_test)\n",
        "cm = confusion_matrix(y_test, y_pred)\n",
        "disp = ConfusionMatrixDisplay(confusion_matrix=cm)\n",
        "disp.plot()\n",
        "plt.title('Confusion matrix')\n",
        "plt.show()"
      ],
      "metadata": {
        "colab": {
          "base_uri": "https://localhost:8080/",
          "height": 295
        },
        "outputId": "d424b14c-a86f-40ba-e4d1-7142c39c4739",
        "id": "-1CRnU4HrSEc"
      },
      "execution_count": null,
      "outputs": [
        {
          "output_type": "display_data",
          "data": {
            "image/png": "[encoded data removed]",
            "text/plain": [
              "<Figure size 432x288 with 2 Axes>"
            ]
          },
          "metadata": {
            "needs_background": "light"
          }
        }
      ]
    },
    {
      "cell_type": "code",
      "metadata": {
        "colab": {
          "base_uri": "https://localhost:8080/"
        },
        "outputId": "b8971866-06c8-41ce-a5eb-074650931ed3",
        "id": "ncnJXSM5rSEd"
      },
      "source": [
        "CR = classification_report(y_test, y_pred)\n",
        "print('Classification report \\n')\n",
        "print(CR)"
      ],
      "execution_count": null,
      "outputs": [
        {
          "output_type": "stream",
          "name": "stdout",
          "text": [
            "Classification report \n",
            "\n",
            "              precision    recall  f1-score   support\n",
            "\n",
            "           0       0.99      0.89      0.94       175\n",
            "           1       0.99      0.98      0.98       234\n",
            "           2       0.47      0.99      0.63       219\n",
            "           3       0.93      0.89      0.91       207\n",
            "           4       0.95      0.82      0.88       217\n",
            "           5       0.98      0.78      0.87       179\n",
            "           6       0.99      0.73      0.84       178\n",
            "           7       0.96      0.79      0.87       205\n",
            "           8       0.95      0.74      0.84       192\n",
            "           9       0.95      0.84      0.89       194\n",
            "\n",
            "    accuracy                           0.85      2000\n",
            "   macro avg       0.92      0.84      0.86      2000\n",
            "weighted avg       0.91      0.85      0.86      2000\n",
            "\n"
          ]
        }
      ]
    },
    {
      "cell_type": "markdown",
      "source": [
        "## **Using GridsearchCV**"
      ],
      "metadata": {
        "id": "nUOWkrIwj2RA"
      }
    },
    {
      "cell_type": "markdown",
      "source": [
        "We can use a grid search cross-validation to explore combinations of parameters. Here we will adjust ``C`` (which controls the margin hardness) and ``gamma`` (which controls the size of the radial basis function kernel), and determine the best model:"
      ],
      "metadata": {
        "id": "WODH5bxf90Wq"
      }
    },
    {
      "cell_type": "code",
      "source": [
        "scaler = StandardScaler()\n",
        "\n",
        "X_train = scaler.fit_transform(X_train[0:5000,:])\n",
        "#X_test = scaler.fit_transform(X_test[5500:6000,:])\n",
        "y_train=y_train[0:5000]\n",
        "C_range = np.logspace(-2, 10, 3)\n",
        "gamma_range = np.logspace(-9, 3, 3)\n",
        "param_grid = dict(gamma=gamma_range, C=C_range)\n",
        "cv = StratifiedShuffleSplit(n_splits=3, test_size=0.2, random_state=42)\n",
        "grid = GridSearchCV(SVC(kernel = 'rbf'), param_grid=param_grid, cv=cv)\n",
        "grid.fit(X_train, y_train.ravel())\n",
        "\n",
        "print(\"The best parameters are %s with a score of %0.2f\"\n",
        "    % (grid.best_params_, grid.best_score_))"
      ],
      "metadata": {
        "id": "ER4FM5zdhlre",
        "colab": {
          "base_uri": "https://localhost:8080/"
        },
        "outputId": "dd6e22b4-1741-474e-fea0-7420e1efd97a"
      },
      "execution_count": null,
      "outputs": [
        {
          "output_type": "stream",
          "name": "stdout",
          "text": [
            "The best parameters are {'C': 10000.0, 'gamma': 0.001} with a score of 0.93\n"
          ]
        }
      ]
    },
    {
      "cell_type": "code",
      "source": [
        "C_range"
      ],
      "metadata": {
        "colab": {
          "base_uri": "https://localhost:8080/"
        },
        "id": "GWjYkRrByN2E",
        "outputId": "d725f9ff-9a60-425b-fb8a-72d8cf86e3e0"
      },
      "execution_count": null,
      "outputs": [
        {
          "output_type": "execute_result",
          "data": {
            "text/plain": [
              "array([1.e-02, 1.e-01, 1.e+00, 1.e+01, 1.e+02, 1.e+03, 1.e+04, 1.e+05,\n",
              "       1.e+06, 1.e+07, 1.e+08, 1.e+09, 1.e+10])"
            ]
          },
          "metadata": {},
          "execution_count": 18
        }
      ]
    }
  ]
}