{
  "nbformat": 4,
  "nbformat_minor": 0,
  "metadata": {
    "colab": {
      "provenance": []
    },
    "kernelspec": {
      "name": "python3",
      "display_name": "Python 3"
    },
    "language_info": {
      "name": "python"
    }
  },
  "cells": [
    {
      "cell_type": "markdown",
      "source": [
        "In this colab, we will implement k-means algorithm with `sklearn`."
      ],
      "metadata": {
        "id": "_t7ECmZ9cc4F"
      }
    },
    {
      "cell_type": "code",
      "source": [
        "import matplotlib.pyplot as plt\n",
        "import numpy as np\n",
        "import pandas as pd\n",
        "\n",
        "# KMeans clustering\n",
        "from sklearn.cluster import KMeans\n",
        "\n",
        "# Loading the digit dataset\n",
        "from sklearn.datasets import load_digits\n",
        "\n",
        "# Selecting k through silhoutte score.\n",
        "from sklearn.metrics import silhouette_score\n",
        "\n",
        "# Normalization through MinMaxScaler\n",
        "from sklearn.preprocessing import MinMaxScaler\n",
        "\n",
        "from sklearn.pipeline import Pipeline"
      ],
      "metadata": {
        "id": "kPJgotEYe6cg"
      },
      "execution_count": null,
      "outputs": []
    },
    {
      "cell_type": "markdown",
      "source": [
        "# Clustering of digits\n",
        "\n",
        "We will use digit dataset for clustering, which is loaded through `load_digit` API.\n",
        "*  It loads `8x8` digit images with approximately 180 samples per class.  \n",
        "*  From 10 classes, it has total of 1797 images.  \n",
        "*  Each pixel has value between 0 and 16. "
      ],
      "metadata": {
        "id": "LDTbrcj6kbrk"
      }
    },
    {
      "cell_type": "code",
      "source": [
        "digits = load_digits()"
      ],
      "metadata": {
        "id": "K_yBQVuvke0-"
      },
      "execution_count": null,
      "outputs": []
    },
    {
      "cell_type": "markdown",
      "source": [
        "Let's quickly check `KMeans` class as implemented in `sklearn.cluster` module."
      ],
      "metadata": {
        "id": "LYevH9KenNqk"
      }
    },
    {
      "cell_type": "code",
      "source": [
        "?KMeans"
      ],
      "metadata": {
        "id": "YnInCpfZguoA"
      },
      "execution_count": null,
      "outputs": []
    },
    {
      "cell_type": "markdown",
      "source": [
        "Some of the important parameters are as follows:\n",
        "* `init`\n",
        "* `n_init`\n",
        "* `max_iter`\n",
        "* `random_state`\n"
      ],
      "metadata": {
        "id": "4PBToRz5ndO9"
      }
    },
    {
      "cell_type": "markdown",
      "source": [
        "Since `KMeans` algorithm is susceptible to local minima, we perform multiple `KMeans` fit and select the ones with the lowest value of sum of squared error.  \n",
        "\n",
        "The total number of time, we would like to run KMeans algorithm is specified through `n_init` parameter.\n",
        "\n",
        "`max_iter` specifies total number of iterations to perform before declaring the convergence."
      ],
      "metadata": {
        "id": "ft18yrUgqdP0"
      }
    },
    {
      "cell_type": "markdown",
      "source": [
        "Let's define parameters of KMeans clustering algorithm in a dictionary object:"
      ],
      "metadata": {
        "id": "_Y6EVTxDgjXo"
      }
    },
    {
      "cell_type": "code",
      "source": [
        "kmeans_kwargs = {\n",
        "        \"init\": \"random\",\n",
        "        \"n_init\": 50,\n",
        "        \"max_iter\": 500,\n",
        "        \"random_state\": 0,\n",
        "    }"
      ],
      "metadata": {
        "id": "tN2MboFigkBr"
      },
      "execution_count": null,
      "outputs": []
    },
    {
      "cell_type": "markdown",
      "source": [
        "Let's define a `pipeline` with two stages:\n",
        "* preprocessing for feature scaling with `MinMaxScaler`.\n",
        "* clsutering with `KMeans` clustering algorithm."
      ],
      "metadata": {
        "id": "R6NMgvcKnzrc"
      }
    },
    {
      "cell_type": "code",
      "source": [
        "pipeline = Pipeline([(\"Preprocess\", MinMaxScaler()), \n",
        "                     (\"Clustering\", KMeans(n_clusters=10, **kmeans_kwargs))])\n",
        "pipeline.fit(digits.data)"
      ],
      "metadata": {
        "colab": {
          "base_uri": "https://localhost:8080/"
        },
        "id": "6b1nct-if-XZ",
        "outputId": "815f54e1-481d-4566-ec75-485bd23f2f20"
      },
      "execution_count": null,
      "outputs": [
        {
          "output_type": "execute_result",
          "data": {
            "text/plain": [
              "Pipeline(steps=[('Preprocess', MinMaxScaler()),\n",
              "                ('Clustering',\n",
              "                 KMeans(init='random', max_iter=500, n_clusters=10, n_init=50,\n",
              "                        random_state=0))])"
            ]
          },
          "metadata": {},
          "execution_count": 5
        }
      ]
    },
    {
      "cell_type": "markdown",
      "source": [
        "The cluster centroids can be accessed via `cluster_centers_` member variable of `KMeans` class."
      ],
      "metadata": {
        "id": "G1mu9FpUl1mL"
      }
    },
    {
      "cell_type": "code",
      "source": [
        "cluster_centers = pipeline[-1].cluster_centers_"
      ],
      "metadata": {
        "id": "lfb8IHZhmB8E"
      },
      "execution_count": null,
      "outputs": []
    },
    {
      "cell_type": "markdown",
      "source": [
        "Let's display cluster centroids:"
      ],
      "metadata": {
        "id": "xDKu9bhlmKrG"
      }
    },
    {
      "cell_type": "code",
      "source": [
        "# displaying centroids\n",
        "fig, ax = plt.subplots(5, 2, figsize=(4, 4))\n",
        "for i,j in zip(ax.flat, cluster_centers.reshape(10,8, 8)):\n",
        "  i.imshow(j)"
      ],
      "metadata": {
        "colab": {
          "base_uri": "https://localhost:8080/",
          "height": 267
        },
        "id": "op1FX1CBlzCb",
        "outputId": "f7006496-44f1-45bf-cc89-a2c3164e8632"
      },
      "execution_count": null,
      "outputs": [
        {
          "output_type": "display_data",
          "data": {
            "image/png": "[encoded data removed]",
            "text/plain": [
              "<Figure size 288x288 with 10 Axes>"
            ]
          },
          "metadata": {
            "needs_background": "light"
          }
        }
      ]
    },
    {
      "cell_type": "markdown",
      "source": [
        "In this case, the number of clusters were known.  Hence we set `k=10` and got the clusters."
      ],
      "metadata": {
        "id": "F_itCRYzoUdQ"
      }
    },
    {
      "cell_type": "markdown",
      "source": [
        "For deciding the optimal number of clusters through elbow and silhoutte, we will pretend that we do not know the number of clusters in the data and we will try to discover the optimal number of clusters through these two methods one by one:"
      ],
      "metadata": {
        "id": "ZkK9rZRaoaw3"
      }
    },
    {
      "cell_type": "markdown",
      "source": [
        "## Elbow method\n",
        "\n",
        "Here we keep track of sum-of-squared error (SSE) in a list for each value of `k`."
      ],
      "metadata": {
        "id": "70SmLQ_3orma"
      }
    },
    {
      "cell_type": "code",
      "source": [
        "#Identifying the correct number of clusters\n",
        "sse_digit = []\n",
        "\n",
        "scaled_digits = MinMaxScaler().fit_transform(digits.data)\n",
        "for k in range(1,12):\n",
        "  kmeans = KMeans(n_clusters=k, **kmeans_kwargs)\n",
        "  kmeans.fit(scaled_digits)\n",
        "  sse_digit.append(kmeans.inertia_)"
      ],
      "metadata": {
        "id": "vpAJxvyUkk-D"
      },
      "execution_count": null,
      "outputs": []
    },
    {
      "cell_type": "markdown",
      "source": [
        "Note that the SSE for a given clustering output is obtained through `inertia_` member variable."
      ],
      "metadata": {
        "id": "bSlAeEjkrEKk"
      }
    },
    {
      "cell_type": "code",
      "source": [
        "plt.plot(range(1, 12), sse_digit)\n",
        "plt.xticks(range(1, 12))\n",
        "plt.xlabel(\"Number of Clusters\")\n",
        "plt.ylabel(\"SSE\")\n",
        "plt.show()"
      ],
      "metadata": {
        "colab": {
          "base_uri": "https://localhost:8080/",
          "height": 279
        },
        "id": "a-HYGHBhkiz6",
        "outputId": "afdc12ce-f1a8-44e9-8678-7880001bd07b"
      },
      "execution_count": null,
      "outputs": [
        {
          "output_type": "display_data",
          "data": {
            "image/png": "[encoded data removed]",
            "text/plain": [
              "<Figure size 432x288 with 1 Axes>"
            ]
          },
          "metadata": {
            "needs_background": "light"
          }
        }
      ]
    },
    {
      "cell_type": "markdown",
      "source": [
        "There is a slight elbow at `k=9`, which could point to the fact that a few digits may have been merged in one cluster."
      ],
      "metadata": {
        "id": "GGNsARnvlw8S"
      }
    },
    {
      "cell_type": "markdown",
      "source": [
        "## Silhoutte"
      ],
      "metadata": {
        "id": "vZJ2ErSnpeJw"
      }
    },
    {
      "cell_type": "code",
      "source": [
        "sil_coef_digits = []\n",
        "for k in range(2, 15):\n",
        "  kmeans = KMeans(n_clusters=k, **kmeans_kwargs)\n",
        "  kmeans.fit(scaled_digits)\n",
        "  score = silhouette_score(digits.data, kmeans.labels_)\n",
        "  sil_coef_digits.append(score)"
      ],
      "metadata": {
        "id": "pBINvNsBlzDV"
      },
      "execution_count": null,
      "outputs": []
    },
    {
      "cell_type": "code",
      "source": [
        "plt.plot(range(2, 15), sil_coef_digits)\n",
        "plt.xticks(range(2, 15))\n",
        "plt.xlabel(\"Number of Clusters\")\n",
        "plt.ylabel(\"silhouette score\")\n",
        "plt.grid(True)\n",
        "plt.show()"
      ],
      "metadata": {
        "colab": {
          "base_uri": "https://localhost:8080/",
          "height": 279
        },
        "id": "N8JBdsF1mDVW",
        "outputId": "9b97868e-95fb-44aa-ee69-d47e067df0f9"
      },
      "execution_count": null,
      "outputs": [
        {
          "output_type": "display_data",
          "data": {
            "image/png": "[encoded data removed]",
            "text/plain": [
              "<Figure size 432x288 with 1 Axes>"
            ]
          },
          "metadata": {
            "needs_background": "light"
          }
        }
      ]
    },
    {
      "cell_type": "code",
      "source": [
        "# get the value of K for which \n",
        "# sillhoutte coefficient is highest\n",
        "print(np.argmax(sil_coef_digits)+2)"
      ],
      "metadata": {
        "colab": {
          "base_uri": "https://localhost:8080/"
        },
        "id": "ZVThJhhqSafi",
        "outputId": "e488a792-1822-4778-d38b-aa0920726107"
      },
      "execution_count": null,
      "outputs": [
        {
          "output_type": "stream",
          "name": "stdout",
          "text": [
            "9\n"
          ]
        }
      ]
    },
    {
      "cell_type": "markdown",
      "source": [
        "This graph points the fact that n=9 this could be because some of the digits like 1 and 7 make have striking similarity."
      ],
      "metadata": {
        "id": "A27c2Og5mgVm"
      }
    }
  ]
}