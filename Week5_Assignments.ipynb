{
  "nbformat": 4,
  "nbformat_minor": 0,
  "metadata": {
    "colab": {
      "provenance": [],
      "authorship_tag": "ABX9TyPPVmsc0+HJLTw780Ckq2+X"
    },
    "kernelspec": {
      "name": "python3",
      "display_name": "Python 3"
    },
    "language_info": {
      "name": "python"
    }
  },
  "cells": [
    {
      "cell_type": "markdown",
      "source": [
        "#Practice Assignment\n",
        "\n",
        "\n",
        "Q1) Load the MNIST dataset (mnist_784, version=1) from openml. How many number of samples are there in the dataset?"
      ],
      "metadata": {
        "id": "pX8mFBXrOmhb"
      }
    },
    {
      "cell_type": "code",
      "execution_count": null,
      "metadata": {
        "id": "BCpnbNAiyxbW"
      },
      "outputs": [],
      "source": [
        "import numpy as np\n",
        "\n",
        "from sklearn.datasets import fetch_openml\n",
        "from sklearn.linear_model import Perceptron"
      ]
    },
    {
      "cell_type": "code",
      "execution_count": null,
      "metadata": {
        "colab": {
          "base_uri": "https://localhost:8080/"
        },
        "id": "l5jycPoROhz8",
        "outputId": "b04cc73e-f03b-4127-d574-6c481e5e58a8"
      },
      "outputs": [
        {
          "output_type": "stream",
          "name": "stdout",
          "text": [
            "70000\n"
          ]
        }
      ],
      "source": [
        "X, y = fetch_openml('mnist_784', version=1, return_X_y=True)\n",
        "X = X.to_numpy()\n",
        "y = y.to_numpy()\n",
        "print(X.shape[0])"
      ]
    },
    {
      "cell_type": "markdown",
      "source": [
        "Q2) Access the sample at the index 2022.\n",
        " * What is the label of the sample?  \n",
        " * What is the mean value of the sample?  \n",
        " * How many zeros are there in the sample? "
      ],
      "metadata": {
        "id": "mE2fc7AFPQef"
      }
    },
    {
      "cell_type": "code",
      "source": [
        "#print(X[2022])\n",
        "print('Label: ', y[2022])\n",
        "print('Mean: ', X[2022].mean())\n",
        "print('Number of zeroes: ',np.count_nonzero(X[2022] == 0))"
      ],
      "metadata": {
        "colab": {
          "base_uri": "https://localhost:8080/"
        },
        "id": "Y9PdsTIvPSXR",
        "outputId": "78af5de5-4f1f-4c46-f137-8ef07ceeda12"
      },
      "execution_count": null,
      "outputs": [
        {
          "output_type": "stream",
          "name": "stdout",
          "text": [
            "Label:  2\n",
            "Mean:  27.761479591836736\n",
            "Number of zeroes:  643\n"
          ]
        }
      ]
    },
    {
      "cell_type": "markdown",
      "source": [
        "Q3) Create a dataset by taking first 10000 images for training and next 2000 images for testing from the original dataset. Answer the following questions.\n",
        "\n",
        "* How many unique classes are there in the training set?\n",
        "* The number of training samples for the digit-6 are?\n",
        "* The number of training samples for the digit-9 are?\n",
        "* How many unique classes are there in the test set?\n",
        "* Which class has more number of test samples?\n",
        "\n",
        "Ans: b. (10,1014,978,10,1)"
      ],
      "metadata": {
        "id": "K_kjcq3nRQjr"
      }
    },
    {
      "cell_type": "code",
      "source": [
        "X_train, X_test, y_train, y_test = X[:10000], X[10000:12000], y[:10000], y[10000:12000]"
      ],
      "metadata": {
        "id": "jwudret1RU4K"
      },
      "execution_count": null,
      "outputs": []
    },
    {
      "cell_type": "code",
      "source": [
        "print('Unique classes in the training set:             ', np.unique(y_train))\n",
        "print('The number of training samples for the digit-6: ', np.count_nonzero(np.where(y_train == '6')))\n",
        "print('The number of training samples for the digit-9: ', np.count_nonzero(np.where(y_train == '9')))\n",
        "print('Unique classes in the test set:                 ', np.unique(y_test))\n",
        "print('The class has more number of test samples:      ', np.argmax(np.unique(y_test, return_counts=True)[1]))\n",
        "print(np.unique(y_test, return_counts=True)[1])"
      ],
      "metadata": {
        "colab": {
          "base_uri": "https://localhost:8080/"
        },
        "id": "YdoRK9iLRknJ",
        "outputId": "ce6e352b-deff-4142-b578-634543d38385"
      },
      "execution_count": null,
      "outputs": [
        {
          "output_type": "stream",
          "name": "stdout",
          "text": [
            "Unique classes in the training set:              ['0' '1' '2' '3' '4' '5' '6' '7' '8' '9']\n",
            "The number of training samples for the digit-6:  1014\n",
            "The number of training samples for the digit-9:  978\n",
            "Unique classes in the test set:                  ['0' '1' '2' '3' '4' '5' '6' '7' '8' '9']\n",
            "The class has more number of test samples:       1\n",
            "[205 224 185 196 204 185 194 209 183 215]\n"
          ]
        }
      ]
    },
    {
      "cell_type": "markdown",
      "source": [
        "Consider the above modified training and testing sets with first 10000 images for training and next 2000 images for testing.\n",
        "\n",
        "Steps to be followed\n",
        "\n",
        "* Collect all digit-6 (Positive class) and digit-9 (Negative class) images and stack them properly as a single datamatrix.\n",
        "* By convention, keep all digit-6 images from index 0 to i followed by digit-9 images from index i+1 to n (i denotes the end index of digit-6 images)\n",
        "* Similarly, collect the respective labels and store it in a variable (Do sanity check).\n",
        "* Set the label values to 1 for positive classes and -1 for negative classes.\n",
        "* Load from sklearn.utils import shuffle\n",
        "* Shuffle the datamatrix and labels. (Set random_state value to 1729)."
      ],
      "metadata": {
        "id": "CiePrEfyUuOI"
      }
    },
    {
      "cell_type": "code",
      "source": [
        "from sklearn.utils import shuffle\n",
        "\n",
        "idx_6 = np.where(y_train == '6')\n",
        "new_X_train_6 = X_train[idx_6]\n",
        "new_y_train_6 = np.ones(len(y_train[idx_6]))\n",
        "\n",
        "idx_9 = np.where(y_train == '9')\n",
        "new_X_train_9 = X_train[idx_9]\n",
        "new_y_train_9 = -1 * np.ones(len(y_train[idx_9]))\n",
        "print(new_X_train_6.shape, new_X_train_9.shape)\n",
        "print(new_y_train_6.shape, new_y_train_9.shape)\n",
        "new_X = np.row_stack((new_X_train_6, new_X_train_9))\n",
        "new_y = np.row_stack(((new_y_train_6).reshape(-1,1), (new_y_train_9).reshape(-1,1)))\n",
        "#new_y = new_y_train_6.extend(new_y_train_9)\n",
        "print(new_X.shape, new_y.shape)\n",
        "X_new = shuffle(new_X, random_state=1729)\n",
        "y_new = shuffle(new_y, random_state=1729)"
      ],
      "metadata": {
        "colab": {
          "base_uri": "https://localhost:8080/"
        },
        "id": "-rTGcyRSVNWm",
        "outputId": "ec544e1b-79e7-484f-852d-df2532b4cc42"
      },
      "execution_count": null,
      "outputs": [
        {
          "output_type": "stream",
          "name": "stdout",
          "text": [
            "(1014, 784) (978, 784)\n",
            "(1014,) (978,)\n",
            "(1992, 784) (1992, 1)\n"
          ]
        }
      ]
    },
    {
      "cell_type": "markdown",
      "source": [
        "Q4) what are the first three labels starting from the index 0?\n",
        "\n",
        "Ans: (1,-1,-1)"
      ],
      "metadata": {
        "id": "Kd_Qk2c6VIWO"
      }
    },
    {
      "cell_type": "code",
      "source": [
        "print(y_new[:3])"
      ],
      "metadata": {
        "colab": {
          "base_uri": "https://localhost:8080/"
        },
        "id": "P0vex3OEYNCp",
        "outputId": "70f52a30-b07a-4d1c-e086-b3284e04a3e3"
      },
      "execution_count": null,
      "outputs": [
        {
          "output_type": "stream",
          "name": "stdout",
          "text": [
            "[[ 1.]\n",
            " [-1.]\n",
            " [-1.]]\n"
          ]
        }
      ]
    },
    {
      "cell_type": "markdown",
      "source": [
        "Instantiate a perceptron classifier that meets the following requirements\n",
        "* random_state = 1729\n",
        "* learning rate = 1\n",
        "* Train for 10 iterations (epoch)\n",
        "* Set shuffle the dataset for each epoch (iteration) as False.\n",
        "* Include the intercept (bias) term.\n",
        "* No regularization\n",
        "* Fit the perceptron classifier on the training dataset. What is the value of **w** for the 69th feature after 10 iterations?\n",
        " (Note: Don't worry if it raises a convergence warning)"
      ],
      "metadata": {
        "id": "mVVGoY1XY8E6"
      }
    },
    {
      "cell_type": "code",
      "source": [
        "# percept = Perceptron(alpha=1,max_iter=10,fit_intercept=True, shuffle=False, random_state=1729)\n",
        "# #percept.fit(X_train, y_train)\n",
        "# percept.fit(X_new, y_new)\n",
        "# print('Dimension of weights {0}'.format(percept.coef_.shape))\n",
        "# print(percept.coef_[:,69])\n",
        "\n",
        "percept = Perceptron(eta0=1,max_iter=1,fit_intercept=True, shuffle=False, random_state=1729, warm_start=True)\n",
        "intercept = []\n",
        "for i in range(10):\n",
        "  percept.fit(X_new, y_new)\n",
        "  intercept.append(percept.intercept_[0])\n",
        "\n",
        "print(percept.coef_[:,69])\n",
        "print(percept.intercept_)"
      ],
      "metadata": {
        "colab": {
          "base_uri": "https://localhost:8080/"
        },
        "id": "sm74FFbbZIw9",
        "outputId": "ba76abcb-b4b8-436b-af8c-c3c1310f79e9"
      },
      "execution_count": null,
      "outputs": [
        {
          "output_type": "stream",
          "name": "stdout",
          "text": [
            "[605.]\n",
            "[-6.]\n"
          ]
        },
        {
          "output_type": "stream",
          "name": "stderr",
          "text": [
            "/usr/local/lib/python3.7/dist-packages/sklearn/utils/validation.py:993: DataConversionWarning: A column-vector y was passed when a 1d array was expected. Please change the shape of y to (n_samples, ), for example using ravel().\n",
            "  y = column_or_1d(y, warn=True)\n",
            "/usr/local/lib/python3.7/dist-packages/sklearn/linear_model/_stochastic_gradient.py:700: ConvergenceWarning: Maximum number of iteration reached before convergence. Consider increasing max_iter to improve the fit.\n",
            "  ConvergenceWarning,\n",
            "/usr/local/lib/python3.7/dist-packages/sklearn/utils/validation.py:993: DataConversionWarning: A column-vector y was passed when a 1d array was expected. Please change the shape of y to (n_samples, ), for example using ravel().\n",
            "  y = column_or_1d(y, warn=True)\n",
            "/usr/local/lib/python3.7/dist-packages/sklearn/linear_model/_stochastic_gradient.py:700: ConvergenceWarning: Maximum number of iteration reached before convergence. Consider increasing max_iter to improve the fit.\n",
            "  ConvergenceWarning,\n",
            "/usr/local/lib/python3.7/dist-packages/sklearn/utils/validation.py:993: DataConversionWarning: A column-vector y was passed when a 1d array was expected. Please change the shape of y to (n_samples, ), for example using ravel().\n",
            "  y = column_or_1d(y, warn=True)\n",
            "/usr/local/lib/python3.7/dist-packages/sklearn/linear_model/_stochastic_gradient.py:700: ConvergenceWarning: Maximum number of iteration reached before convergence. Consider increasing max_iter to improve the fit.\n",
            "  ConvergenceWarning,\n",
            "/usr/local/lib/python3.7/dist-packages/sklearn/utils/validation.py:993: DataConversionWarning: A column-vector y was passed when a 1d array was expected. Please change the shape of y to (n_samples, ), for example using ravel().\n",
            "  y = column_or_1d(y, warn=True)\n",
            "/usr/local/lib/python3.7/dist-packages/sklearn/linear_model/_stochastic_gradient.py:700: ConvergenceWarning: Maximum number of iteration reached before convergence. Consider increasing max_iter to improve the fit.\n",
            "  ConvergenceWarning,\n",
            "/usr/local/lib/python3.7/dist-packages/sklearn/utils/validation.py:993: DataConversionWarning: A column-vector y was passed when a 1d array was expected. Please change the shape of y to (n_samples, ), for example using ravel().\n",
            "  y = column_or_1d(y, warn=True)\n",
            "/usr/local/lib/python3.7/dist-packages/sklearn/linear_model/_stochastic_gradient.py:700: ConvergenceWarning: Maximum number of iteration reached before convergence. Consider increasing max_iter to improve the fit.\n",
            "  ConvergenceWarning,\n",
            "/usr/local/lib/python3.7/dist-packages/sklearn/utils/validation.py:993: DataConversionWarning: A column-vector y was passed when a 1d array was expected. Please change the shape of y to (n_samples, ), for example using ravel().\n",
            "  y = column_or_1d(y, warn=True)\n",
            "/usr/local/lib/python3.7/dist-packages/sklearn/linear_model/_stochastic_gradient.py:700: ConvergenceWarning: Maximum number of iteration reached before convergence. Consider increasing max_iter to improve the fit.\n",
            "  ConvergenceWarning,\n",
            "/usr/local/lib/python3.7/dist-packages/sklearn/utils/validation.py:993: DataConversionWarning: A column-vector y was passed when a 1d array was expected. Please change the shape of y to (n_samples, ), for example using ravel().\n",
            "  y = column_or_1d(y, warn=True)\n",
            "/usr/local/lib/python3.7/dist-packages/sklearn/linear_model/_stochastic_gradient.py:700: ConvergenceWarning: Maximum number of iteration reached before convergence. Consider increasing max_iter to improve the fit.\n",
            "  ConvergenceWarning,\n",
            "/usr/local/lib/python3.7/dist-packages/sklearn/utils/validation.py:993: DataConversionWarning: A column-vector y was passed when a 1d array was expected. Please change the shape of y to (n_samples, ), for example using ravel().\n",
            "  y = column_or_1d(y, warn=True)\n",
            "/usr/local/lib/python3.7/dist-packages/sklearn/linear_model/_stochastic_gradient.py:700: ConvergenceWarning: Maximum number of iteration reached before convergence. Consider increasing max_iter to improve the fit.\n",
            "  ConvergenceWarning,\n",
            "/usr/local/lib/python3.7/dist-packages/sklearn/utils/validation.py:993: DataConversionWarning: A column-vector y was passed when a 1d array was expected. Please change the shape of y to (n_samples, ), for example using ravel().\n",
            "  y = column_or_1d(y, warn=True)\n",
            "/usr/local/lib/python3.7/dist-packages/sklearn/linear_model/_stochastic_gradient.py:700: ConvergenceWarning: Maximum number of iteration reached before convergence. Consider increasing max_iter to improve the fit.\n",
            "  ConvergenceWarning,\n",
            "/usr/local/lib/python3.7/dist-packages/sklearn/utils/validation.py:993: DataConversionWarning: A column-vector y was passed when a 1d array was expected. Please change the shape of y to (n_samples, ), for example using ravel().\n",
            "  y = column_or_1d(y, warn=True)\n",
            "/usr/local/lib/python3.7/dist-packages/sklearn/linear_model/_stochastic_gradient.py:700: ConvergenceWarning: Maximum number of iteration reached before convergence. Consider increasing max_iter to improve the fit.\n",
            "  ConvergenceWarning,\n"
          ]
        }
      ]
    },
    {
      "cell_type": "markdown",
      "source": [
        "Q5) Which of the following is the sequence of bias (intercept) updates for the first 5 epochs?"
      ],
      "metadata": {
        "id": "E7cRmlfnbgfb"
      }
    },
    {
      "cell_type": "code",
      "source": [
        "print(intercept[:5])"
      ],
      "metadata": {
        "colab": {
          "base_uri": "https://localhost:8080/"
        },
        "id": "hUvEtRFTbdVV",
        "outputId": "d4f2a330-77a4-4030-e876-817790cdf194"
      },
      "execution_count": null,
      "outputs": [
        {
          "output_type": "stream",
          "name": "stdout",
          "text": [
            "[-1.0, -4.0, -4.0, -6.0, -5.0]\n"
          ]
        }
      ]
    },
    {
      "cell_type": "markdown",
      "source": [
        "#Graded Assignments\n",
        "(Common data for all the graded questions)\n",
        "\n",
        "* From the MNIST dataset, create a new dataset by taking first 10000 images for training and next 2000 images for testing.\n",
        "* Collect all digit-5 (Positive class) and digit-3 (Negative class) images and stack them properly as a single datamatrix.\n",
        "* By convention, keep all digit-5 images from index 0 to i followed by digit-3 images from index i+1 to n (i denotes the end index of digit-5 images)\n",
        "* Similarly, collect the respective labels and store it in a variable (Do sanity check).\n",
        "* Set the label values to 1 for positive class and -1 for negative class.\n",
        "* Instantiate a perceptron classifier with the below parameters\n",
        "    * random_state = 42\n",
        "    * learning rate = 1\n",
        "    * Train for 100 iterations (epoch)\n",
        "    * Should shuffle the dataset for each epoch (iteration)\n",
        "    * Include the intercept (bias) term.\n",
        "    * No regularization\n",
        "*Use the training set for fitting the perceptron model and use the test data to make the predictions. \n",
        "*Answer the below questions.\n",
        "\n"
      ],
      "metadata": {
        "id": "mpRGE2aWdAIT"
      }
    },
    {
      "cell_type": "code",
      "source": [
        "import numpy as np\n",
        "import matplotlib.pyplot as plt\n",
        "\n",
        "from sklearn.datasets import fetch_openml\n",
        "from sklearn.linear_model import Perceptron\n",
        "from sklearn.utils import shuffle\n",
        "from sklearn.metrics import ConfusionMatrixDisplay"
      ],
      "metadata": {
        "id": "YTa2mPTQdeh3"
      },
      "execution_count": null,
      "outputs": []
    },
    {
      "cell_type": "code",
      "source": [
        "X, y = fetch_openml('mnist_784', version=1, return_X_y=True)\n",
        "X = X.to_numpy()\n",
        "y = y.to_numpy()\n",
        "\n",
        "X_train, X_test, y_train, y_test = X[:10000], X[10000:12000], y[:10000], y[10000:12000]"
      ],
      "metadata": {
        "id": "5HNFReJGdoNB"
      },
      "execution_count": null,
      "outputs": []
    },
    {
      "cell_type": "code",
      "source": [
        "idx_5 = np.where(y_train == '5')\n",
        "new_X_train_5 = X_train[idx_5]\n",
        "new_y_train_5 = np.ones(len(y_train[idx_5]))\n",
        "\n",
        "idx_3 = np.where(y_train == '3')\n",
        "new_X_train_3 = X_train[idx_3]\n",
        "new_y_train_3 = -1 * np.ones(len(y_train[idx_3]))\n",
        "\n",
        "print('X train 5 , y_train 5: ', new_X_train_5.shape, new_y_train_5.shape)\n",
        "print('X train 3 , y_train 3: ', new_X_train_3.shape, new_y_train_3.shape)\n",
        "\n",
        "\n",
        "new_X1 = np.row_stack((new_X_train_5, new_X_train_3))\n",
        "new_y1 = np.row_stack(((new_y_train_5).reshape(-1,1), (new_y_train_3).reshape(-1,1)))\n",
        "\n",
        "X_train_new = new_X1\n",
        "y_train_new = new_y1\n",
        "print('X train new , y_train new: ', X_train_new.shape, y_train_new.shape)\n",
        "\n",
        "idx_5 = np.where(y_test == '5')\n",
        "new_X_test_5 = X_test[idx_5]\n",
        "new_y_test_5 = np.ones(len(y_test[idx_5]))\n",
        "\n",
        "idx_3 = np.where(y_test == '3')\n",
        "new_X_test_3 = X_test[idx_3]\n",
        "new_y_test_3 = -1 * np.ones(len(y_test[idx_3]))\n",
        "\n",
        "new_X_test = np.row_stack((new_X_test_5, new_X_test_3))\n",
        "new_y_test = np.row_stack(((new_y_test_5).reshape(-1,1), (new_y_test_3).reshape(-1,1)))\n",
        "X_test_new = new_X_test\n",
        "y_test_new = new_y_test\n",
        "print('X test new , y test new: ',X_test_new.shape, y_test_new.shape)"
      ],
      "metadata": {
        "colab": {
          "base_uri": "https://localhost:8080/"
        },
        "id": "xuDznQjLd0_T",
        "outputId": "e96b3a5a-070c-49ab-f571-9535d8e3b69b"
      },
      "execution_count": null,
      "outputs": [
        {
          "output_type": "stream",
          "name": "stdout",
          "text": [
            "X train 5 , y_train 5:  (863, 784) (863,)\n",
            "X train 3 , y_train 3:  (1032, 784) (1032,)\n",
            "X train new , y_train new:  (1895, 784) (1895, 1)\n",
            "X test new , y test new:  (381, 784) (381, 1)\n"
          ]
        }
      ]
    },
    {
      "cell_type": "code",
      "source": [
        "percept = Perceptron(eta0=1,max_iter=100,fit_intercept=True, shuffle=True, random_state=42, warm_start=True, penalty=None)\n",
        "percept.fit(X_train_new, y_train_new)\n",
        "y_hat_test = percept.predict(X_test_new)"
      ],
      "metadata": {
        "colab": {
          "base_uri": "https://localhost:8080/"
        },
        "id": "9N3Ij1cpd5tO",
        "outputId": "12f91b4a-7066-488a-e4ef-34698f5a8a0f"
      },
      "execution_count": null,
      "outputs": [
        {
          "output_type": "stream",
          "name": "stderr",
          "text": [
            "/usr/local/lib/python3.7/dist-packages/sklearn/utils/validation.py:993: DataConversionWarning: A column-vector y was passed when a 1d array was expected. Please change the shape of y to (n_samples, ), for example using ravel().\n",
            "  y = column_or_1d(y, warn=True)\n"
          ]
        }
      ]
    },
    {
      "cell_type": "markdown",
      "source": [
        "Q1) Which of the following is a pair that gives the number of training samples for digit 5 and digit 3?\n",
        "\n",
        "(1014, 1032)\n",
        "\n",
        "(980, 991)\n",
        "\n",
        "**(863, 1032)**\n",
        "\n",
        "(863, 991)"
      ],
      "metadata": {
        "id": "I3FWIveLkf-X"
      }
    },
    {
      "cell_type": "code",
      "source": [
        "print('X train 5 , X train 3: ', new_X_train_5.shape[0], new_X_train_3.shape[0])"
      ],
      "metadata": {
        "colab": {
          "base_uri": "https://localhost:8080/"
        },
        "id": "Kn6xFCenk8Dr",
        "outputId": "11fe86fb-3e03-46fb-8de4-1b91f67a7083"
      },
      "execution_count": null,
      "outputs": [
        {
          "output_type": "stream",
          "name": "stdout",
          "text": [
            "X train 5 , X train 3:  863 1032\n"
          ]
        }
      ]
    },
    {
      "cell_type": "markdown",
      "source": [
        "Q2) Obtain confusion matrix for the test samples and the predicted samples. How many True Positives are there?\n",
        "\n",
        "TP = 173"
      ],
      "metadata": {
        "id": "lmuIK_cPlRyg"
      }
    },
    {
      "cell_type": "code",
      "source": [
        "#plt.figure(figsize=(10,10))\n",
        "cm_display = ConfusionMatrixDisplay.from_predictions(y_test_new, y_hat_test, values_format='.5g')\n",
        "print(cm_display.text_)"
      ],
      "metadata": {
        "colab": {
          "base_uri": "https://localhost:8080/",
          "height": 314
        },
        "id": "AN1Md4WJlTJV",
        "outputId": "db24d5a8-7725-4b2c-96f1-d22ff0b06b2e"
      },
      "execution_count": null,
      "outputs": [
        {
          "output_type": "stream",
          "name": "stdout",
          "text": [
            "[[Text(0, 0, '190') Text(1, 0, '6')]\n",
            " [Text(0, 1, '12') Text(1, 1, '173')]]\n"
          ]
        },
        {
          "output_type": "display_data",
          "data": {
            "text/plain": [
              "<Figure size 432x288 with 2 Axes>"
            ],
            "image/png": "[encoded data removed]"
          },
          "metadata": {
            "needs_background": "light"
          }
        }
      ]
    },
    {
      "cell_type": "code",
      "source": [
        "cf_matrix = cm_display.confusion_matrix\n",
        "tn = cf_matrix[0,0]\n",
        "fn = cf_matrix[0,1]\n",
        "fp = cf_matrix[1,0]\n",
        "tp = cf_matrix[1,1]\n",
        "print('TN: ', tn)\n",
        "print('FN: ', fn)\n",
        "print('FP: ', fp)\n",
        "print('TP: ', tp)\n",
        "precision = tp/(tp+fp)\n",
        "print('Precision: ', precision)\n",
        "recall = tp/(tp+fn)\n",
        "print('Recall: ', recall)\n",
        "accuracy = (tn+tp)/(tn+tp+fn+fp)\n",
        "print('accuracy: ', accuracy)"
      ],
      "metadata": {
        "colab": {
          "base_uri": "https://localhost:8080/"
        },
        "id": "MjzVFMtOtYqy",
        "outputId": "2239e904-fc91-4549-a416-deddfc853ac8"
      },
      "execution_count": null,
      "outputs": [
        {
          "output_type": "stream",
          "name": "stdout",
          "text": [
            "TN:  190\n",
            "FN:  6\n",
            "FP:  12\n",
            "TP:  173\n",
            "Precision:  0.9351351351351351\n",
            "Recall:  0.9664804469273743\n",
            "accuracy:  0.952755905511811\n"
          ]
        }
      ]
    },
    {
      "cell_type": "markdown",
      "source": [
        "Q6) In the same model setup just change the shuffle parameter to False, refit the classifier on training data, make predictions on test data and observe the accuracy, precision score and recall score. Which of the following statements are True based on your observations?"
      ],
      "metadata": {
        "id": "6rUQLOgbvD4C"
      }
    },
    {
      "cell_type": "code",
      "source": [
        "percept1 = Perceptron(eta0=1,max_iter=100,fit_intercept=True, shuffle=False, random_state=42, warm_start=True, penalty=None)\n",
        "percept1.fit(X_train_new, y_train_new)\n",
        "y_hat_test1 = percept1.predict(X_test_new)\n",
        "cm_display = ConfusionMatrixDisplay.from_predictions(y_test_new, y_hat_test1, values_format='.5g')\n",
        "cf_matrix = cm_display.confusion_matrix\n",
        "tn = cf_matrix[0,0]\n",
        "fn = cf_matrix[0,1]\n",
        "fp = cf_matrix[1,0]\n",
        "tp = cf_matrix[1,1]\n",
        "print('TN: ', tn)\n",
        "print('FN: ', fn)\n",
        "print('FP: ', fp)\n",
        "print('TP: ', tp)\n",
        "precision = tp/(tp+fp)\n",
        "print('Precision: ', precision)\n",
        "recall = tp/(tp+fn)\n",
        "print('Recall: ', recall)\n",
        "accuracy = (tn+tp)/(tn+tp+fn+fp)\n",
        "print('accuracy: ', accuracy)"
      ],
      "metadata": {
        "colab": {
          "base_uri": "https://localhost:8080/",
          "height": 455
        },
        "id": "iZF3XEpJvEdQ",
        "outputId": "ec33646f-bdef-4974-fa9b-61c66bf72741"
      },
      "execution_count": null,
      "outputs": [
        {
          "output_type": "stream",
          "name": "stderr",
          "text": [
            "/usr/local/lib/python3.7/dist-packages/sklearn/utils/validation.py:993: DataConversionWarning: A column-vector y was passed when a 1d array was expected. Please change the shape of y to (n_samples, ), for example using ravel().\n",
            "  y = column_or_1d(y, warn=True)\n"
          ]
        },
        {
          "output_type": "stream",
          "name": "stdout",
          "text": [
            "TN:  196\n",
            "FN:  0\n",
            "FP:  172\n",
            "TP:  13\n",
            "Precision:  0.07027027027027027\n",
            "Recall:  1.0\n",
            "accuracy:  0.5485564304461942\n"
          ]
        },
        {
          "output_type": "display_data",
          "data": {
            "text/plain": [
              "<Figure size 432x288 with 2 Axes>"
            ],
            "image/png": "[encoded data removed]"
          },
          "metadata": {
            "needs_background": "light"
          }
        }
      ]
    }
  ]
}