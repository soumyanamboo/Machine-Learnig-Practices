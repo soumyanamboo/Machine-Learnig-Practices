{
  "nbformat": 4,
  "nbformat_minor": 0,
  "metadata": {
    "colab": {
      "provenance": [],
      "authorship_tag": "ABX9TyPG0OaZzU/DVB5hbvQ8gGfP"
    },
    "kernelspec": {
      "name": "python3",
      "display_name": "Python 3"
    },
    "language_info": {
      "name": "python"
    }
  },
  "cells": [
    {
      "cell_type": "markdown",
      "source": [
        "#Practice Assignment 9.1"
      ],
      "metadata": {
        "id": "mJ_YtztDMhdd"
      }
    },
    {
      "cell_type": "markdown",
      "source": [
        "(Consider the statement for Q1-Q4)\n",
        "Load the iris dataset from sklearn.\n",
        "\n",
        "Remove the rows if it contain NULL values.\n",
        "\n",
        "Train the model Using Kmeans Clustering by setting the parameter as following:\n",
        "   \"init\": \"random\",    \"n_init\": 50,    \"max_iter\": 500,    \"random_state\": 10"
      ],
      "metadata": {
        "id": "zrd9GVS72TiT"
      }
    },
    {
      "cell_type": "code",
      "execution_count": null,
      "metadata": {
        "id": "ah8W7QtE1jTF"
      },
      "outputs": [],
      "source": [
        "import numpy as np\n",
        "import pandas as pd\n",
        "from sklearn.datasets import load_iris\n",
        "from sklearn.cluster import KMeans\n",
        "import matplotlib.pyplot as plt"
      ]
    },
    {
      "cell_type": "code",
      "source": [
        "iris_data, y = load_iris(as_frame=True, return_X_y=True)\n",
        "print(iris_data.shape, y.shape, type(iris_data))\n",
        "# iris_data_df = pd.DataFrame(iris_data, columns=['sepal length', 'sepal width', 'petal length', 'petal width' ])\n",
        "# iris_data_df.isna().sum()\n",
        "# iris_data_df.shape"
      ],
      "metadata": {
        "colab": {
          "base_uri": "https://localhost:8080/"
        },
        "id": "_YbJeqIX2z5m",
        "outputId": "5868fccd-aad2-4bcb-fc01-3b3161ba2356"
      },
      "execution_count": null,
      "outputs": [
        {
          "output_type": "stream",
          "name": "stdout",
          "text": [
            "(150, 4) (150,) <class 'pandas.core.frame.DataFrame'>\n"
          ]
        }
      ]
    },
    {
      "cell_type": "code",
      "source": [
        "kMeans = KMeans(n_clusters=3, init=\"random\", n_init=50, max_iter=500, random_state=10)\n",
        "kMeans.fit(iris_data)"
      ],
      "metadata": {
        "colab": {
          "base_uri": "https://localhost:8080/"
        },
        "id": "VWZST6e84Ejr",
        "outputId": "9b7ae1fc-d508-4334-cf80-cc3162198dd8"
      },
      "execution_count": null,
      "outputs": [
        {
          "output_type": "execute_result",
          "data": {
            "text/plain": [
              "KMeans(init='random', max_iter=500, n_clusters=3, n_init=50, random_state=10)"
            ]
          },
          "metadata": {},
          "execution_count": 28
        }
      ]
    },
    {
      "cell_type": "markdown",
      "source": [
        "Q1) Which feature pair has the highest correlation cofficient value."
      ],
      "metadata": {
        "id": "KQFJ5Q5W4YX6"
      }
    },
    {
      "cell_type": "code",
      "source": [
        "corr_iris = iris_data.corr()\n",
        "corr_iris.style.background_gradient(cmap='coolwarm').set_precision(2)"
      ],
      "metadata": {
        "colab": {
          "base_uri": "https://localhost:8080/",
          "height": 229
        },
        "id": "zV3UK3bnP9Yi",
        "outputId": "3bec4817-cc8a-488a-bc3e-7e01a8f6b945"
      },
      "execution_count": null,
      "outputs": [
        {
          "output_type": "stream",
          "name": "stderr",
          "text": [
            "/usr/local/lib/python3.7/dist-packages/ipykernel_launcher.py:2: FutureWarning: this method is deprecated in favour of `Styler.format(precision=..)`\n",
            "  \n"
          ]
        },
        {
          "output_type": "execute_result",
          "data": {
            "text/plain": [
              "<pandas.io.formats.style.Styler at 0x7fbc661dbb10>"
            ],
            "text/html": [
              "<style type=\"text/css\">\n",
              "#T_9aaf0_row0_col0, #T_9aaf0_row1_col1, #T_9aaf0_row2_col2, #T_9aaf0_row3_col3 {\n",
              "  background-color: #b40426;\n",
              "  color: #f1f1f1;\n",
              "}\n",
              "#T_9aaf0_row0_col1 {\n",
              "  background-color: #81a4fb;\n",
              "  color: #f1f1f1;\n",
              "}\n",
              "#T_9aaf0_row0_col2 {\n",
              "  background-color: #d24b40;\n",
              "  color: #f1f1f1;\n",
              "}\n",
              "#T_9aaf0_row0_col3 {\n",
              "  background-color: #e0654f;\n",
              "  color: #f1f1f1;\n",
              "}\n",
              "#T_9aaf0_row1_col0, #T_9aaf0_row1_col2, #T_9aaf0_row1_col3, #T_9aaf0_row2_col1 {\n",
              "  background-color: #3b4cc0;\n",
              "  color: #f1f1f1;\n",
              "}\n",
              "#T_9aaf0_row2_col0 {\n",
              "  background-color: #da5a49;\n",
              "  color: #f1f1f1;\n",
              "}\n",
              "#T_9aaf0_row2_col3, #T_9aaf0_row3_col2 {\n",
              "  background-color: #bd1f2d;\n",
              "  color: #f1f1f1;\n",
              "}\n",
              "#T_9aaf0_row3_col0 {\n",
              "  background-color: #e67259;\n",
              "  color: #f1f1f1;\n",
              "}\n",
              "#T_9aaf0_row3_col1 {\n",
              "  background-color: #485fd1;\n",
              "  color: #f1f1f1;\n",
              "}\n",
              "</style>\n",
              "<table id=\"T_9aaf0_\" class=\"dataframe\">\n",
              "  <thead>\n",
              "    <tr>\n",
              "      <th class=\"blank level0\" >&nbsp;</th>\n",
              "      <th class=\"col_heading level0 col0\" >sepal length (cm)</th>\n",
              "      <th class=\"col_heading level0 col1\" >sepal width (cm)</th>\n",
              "      <th class=\"col_heading level0 col2\" >petal length (cm)</th>\n",
              "      <th class=\"col_heading level0 col3\" >petal width (cm)</th>\n",
              "    </tr>\n",
              "  </thead>\n",
              "  <tbody>\n",
              "    <tr>\n",
              "      <th id=\"T_9aaf0_level0_row0\" class=\"row_heading level0 row0\" >sepal length (cm)</th>\n",
              "      <td id=\"T_9aaf0_row0_col0\" class=\"data row0 col0\" >1.00</td>\n",
              "      <td id=\"T_9aaf0_row0_col1\" class=\"data row0 col1\" >-0.12</td>\n",
              "      <td id=\"T_9aaf0_row0_col2\" class=\"data row0 col2\" >0.87</td>\n",
              "      <td id=\"T_9aaf0_row0_col3\" class=\"data row0 col3\" >0.82</td>\n",
              "    </tr>\n",
              "    <tr>\n",
              "      <th id=\"T_9aaf0_level0_row1\" class=\"row_heading level0 row1\" >sepal width (cm)</th>\n",
              "      <td id=\"T_9aaf0_row1_col0\" class=\"data row1 col0\" >-0.12</td>\n",
              "      <td id=\"T_9aaf0_row1_col1\" class=\"data row1 col1\" >1.00</td>\n",
              "      <td id=\"T_9aaf0_row1_col2\" class=\"data row1 col2\" >-0.43</td>\n",
              "      <td id=\"T_9aaf0_row1_col3\" class=\"data row1 col3\" >-0.37</td>\n",
              "    </tr>\n",
              "    <tr>\n",
              "      <th id=\"T_9aaf0_level0_row2\" class=\"row_heading level0 row2\" >petal length (cm)</th>\n",
              "      <td id=\"T_9aaf0_row2_col0\" class=\"data row2 col0\" >0.87</td>\n",
              "      <td id=\"T_9aaf0_row2_col1\" class=\"data row2 col1\" >-0.43</td>\n",
              "      <td id=\"T_9aaf0_row2_col2\" class=\"data row2 col2\" >1.00</td>\n",
              "      <td id=\"T_9aaf0_row2_col3\" class=\"data row2 col3\" >0.96</td>\n",
              "    </tr>\n",
              "    <tr>\n",
              "      <th id=\"T_9aaf0_level0_row3\" class=\"row_heading level0 row3\" >petal width (cm)</th>\n",
              "      <td id=\"T_9aaf0_row3_col0\" class=\"data row3 col0\" >0.82</td>\n",
              "      <td id=\"T_9aaf0_row3_col1\" class=\"data row3 col1\" >-0.37</td>\n",
              "      <td id=\"T_9aaf0_row3_col2\" class=\"data row3 col2\" >0.96</td>\n",
              "      <td id=\"T_9aaf0_row3_col3\" class=\"data row3 col3\" >1.00</td>\n",
              "    </tr>\n",
              "  </tbody>\n",
              "</table>\n"
            ]
          },
          "metadata": {},
          "execution_count": 56
        }
      ]
    },
    {
      "cell_type": "code",
      "source": [
        "# kMeans.get_params\n",
        "kMeans.inertia_"
      ],
      "metadata": {
        "colab": {
          "base_uri": "https://localhost:8080/"
        },
        "id": "sIscW_7J4YF9",
        "outputId": "d5f64627-0ed4-4771-b1d7-095d414a2a40"
      },
      "execution_count": null,
      "outputs": [
        {
          "output_type": "execute_result",
          "data": {
            "text/plain": [
              "78.851441426146"
            ]
          },
          "metadata": {},
          "execution_count": 30
        }
      ]
    },
    {
      "cell_type": "markdown",
      "source": [
        "Q2) Enter the value of the ' inertia_' score Keeping k=5"
      ],
      "metadata": {
        "id": "opzcNIW08MiA"
      }
    },
    {
      "cell_type": "code",
      "source": [
        "kMeans = KMeans(n_clusters=5, init=\"random\", n_init=50, max_iter=500, random_state=10)\n",
        "kMeans.fit(iris_data)\n",
        "kMeans.inertia_"
      ],
      "metadata": {
        "colab": {
          "base_uri": "https://localhost:8080/"
        },
        "id": "edb3RY8G8OPV",
        "outputId": "307eec31-7f22-4e5b-f80c-6d83ffe76459"
      },
      "execution_count": null,
      "outputs": [
        {
          "output_type": "execute_result",
          "data": {
            "text/plain": [
              "46.446182051282065"
            ]
          },
          "metadata": {},
          "execution_count": 31
        }
      ]
    },
    {
      "cell_type": "markdown",
      "source": [
        "Q3) Plot the elbow chart for the given data by taking k=1 to k=12. At which k value elbow is formed?"
      ],
      "metadata": {
        "id": "nfIEV8oz_rl6"
      }
    },
    {
      "cell_type": "code",
      "source": [
        "sse = []\n",
        "for i in range(1, 13):\n",
        "  kMeans = KMeans(n_clusters=i, init=\"random\", n_init=50, max_iter=500, random_state=10)\n",
        "  kMeans.fit(iris_data)\n",
        "  sse.append(kMeans.inertia_)\n",
        "\n",
        "plt.plot(range(1, 13), sse)\n",
        "plt.xticks(range(1,13))\n",
        "plt.xlabel('No of clusters')\n",
        "plt.ylabel('SSE')\n",
        "plt.show()"
      ],
      "metadata": {
        "colab": {
          "base_uri": "https://localhost:8080/",
          "height": 279
        },
        "id": "pKZJl5vOJaU3",
        "outputId": "c282f032-5788-47d9-cff4-b1658bea0b07"
      },
      "execution_count": null,
      "outputs": [
        {
          "output_type": "display_data",
          "data": {
            "text/plain": [
              "<Figure size 432x288 with 1 Axes>"
            ],
            "image/png": "[encoded data removed]"
          },
          "metadata": {
            "needs_background": "light"
          }
        }
      ]
    },
    {
      "cell_type": "markdown",
      "source": [
        "Q4) What is the value of ' inertia_' score at k=3."
      ],
      "metadata": {
        "id": "2B8oQ1coKPL8"
      }
    },
    {
      "cell_type": "code",
      "source": [
        "sse[2]"
      ],
      "metadata": {
        "colab": {
          "base_uri": "https://localhost:8080/"
        },
        "id": "6MQp1wkxKOvk",
        "outputId": "a97ceab8-5b8e-43d4-9e80-0278f0e7df51"
      },
      "execution_count": null,
      "outputs": [
        {
          "output_type": "execute_result",
          "data": {
            "text/plain": [
              "78.851441426146"
            ]
          },
          "metadata": {},
          "execution_count": 34
        }
      ]
    },
    {
      "cell_type": "markdown",
      "source": [
        "Load the iris dataset from sklearn.\n",
        "\n",
        "Remove the rows if it contain NULL values.\n",
        "\n",
        "Train the model using Agglomerative Clustering by setting the parameter as following\n",
        "\n",
        "n_clusters=3,affinity='euclidean', linkage='ward'"
      ],
      "metadata": {
        "id": "m7G9Fmo1KaBL"
      }
    },
    {
      "cell_type": "code",
      "source": [
        "import scipy.cluster.hierarchy as shc\n",
        "from sklearn.cluster import AgglomerativeClustering \n",
        "iris_data, y = load_iris(as_frame=True, return_X_y=True)\n",
        "agg_cluster = AgglomerativeClustering(n_clusters=3, affinity='euclidean', linkage='ward')\n",
        "agg_cluster.fit(iris_data)"
      ],
      "metadata": {
        "colab": {
          "base_uri": "https://localhost:8080/"
        },
        "id": "1-OmbQ0bKdMp",
        "outputId": "bffd7ba3-8296-40fd-bf85-89baa90fe860"
      },
      "execution_count": null,
      "outputs": [
        {
          "output_type": "execute_result",
          "data": {
            "text/plain": [
              "AgglomerativeClustering(n_clusters=3)"
            ]
          },
          "metadata": {},
          "execution_count": 37
        }
      ]
    },
    {
      "cell_type": "markdown",
      "source": [
        "Q5) What is the label predicted for last row of samples"
      ],
      "metadata": {
        "id": "hoU4JboSLJMo"
      }
    },
    {
      "cell_type": "code",
      "source": [
        "agg_cluster.labels_[-1]"
      ],
      "metadata": {
        "colab": {
          "base_uri": "https://localhost:8080/"
        },
        "id": "-JBv2i-zLLBK",
        "outputId": "4d4ec55c-53fd-4f53-c3b9-2c96b8374cca"
      },
      "execution_count": null,
      "outputs": [
        {
          "output_type": "execute_result",
          "data": {
            "text/plain": [
              "0"
            ]
          },
          "metadata": {},
          "execution_count": 38
        }
      ]
    },
    {
      "cell_type": "markdown",
      "source": [
        "Q6) Enter the number of leaves in the hierarchical tree."
      ],
      "metadata": {
        "id": "6f2WgiHGLy7V"
      }
    },
    {
      "cell_type": "code",
      "source": [
        "agg_cluster.n_leaves_"
      ],
      "metadata": {
        "colab": {
          "base_uri": "https://localhost:8080/"
        },
        "id": "NINQLAXxL03H",
        "outputId": "dc6a6e3f-f1c0-4cc7-cd54-cfce84ba3039"
      },
      "execution_count": null,
      "outputs": [
        {
          "output_type": "execute_result",
          "data": {
            "text/plain": [
              "150"
            ]
          },
          "metadata": {},
          "execution_count": 39
        }
      ]
    },
    {
      "cell_type": "markdown",
      "source": [
        "#Practice Assignment 9.2"
      ],
      "metadata": {
        "id": "XEleRMTqMkAu"
      }
    },
    {
      "cell_type": "markdown",
      "source": [
        "About the dataset:\n",
        "This dataset is originally from the National Institute of Diabetes and Digestive and Kidney Diseases. The objective of the dataset is to diagnostically predict whether or not a patient has diabetes, based on certain diagnostic measurements included in the dataset.\n",
        "\n",
        "dataset - \"https://drive.google.com/file/d/10Dj5jGYoqc7T5AMV_jBXJzDQQscHbrQ9/view?usp=sharing\"\n",
        "\n",
        "Instructions for questions 1,2 and 3\n",
        "Load the diabetes dataset.\n",
        "Separate features and label."
      ],
      "metadata": {
        "id": "rngCzRHcMlSM"
      }
    },
    {
      "cell_type": "code",
      "source": [
        "diabetic_data = pd.read_csv('/content/sample_data/diabetes.csv')\n",
        "diabetic_data.shape\n",
        "diabetic_data.columns\n",
        "X = diabetic_data[diabetic_data.columns[:-1]]\n",
        "y = diabetic_data[diabetic_data.columns[-1]]\n",
        "X.shape, y.shape"
      ],
      "metadata": {
        "colab": {
          "base_uri": "https://localhost:8080/"
        },
        "id": "XSCcf8wwMqrt",
        "outputId": "f0694a62-adb4-4d7d-cebc-09e8d5bb7324"
      },
      "execution_count": null,
      "outputs": [
        {
          "output_type": "execute_result",
          "data": {
            "text/plain": [
              "((768, 8), (768,))"
            ]
          },
          "metadata": {},
          "execution_count": 48
        }
      ]
    },
    {
      "cell_type": "markdown",
      "source": [
        "Q1) Which of the following feature pairs have negative correlation?"
      ],
      "metadata": {
        "id": "azRIK7YkOBaK"
      }
    },
    {
      "cell_type": "code",
      "source": [
        "corr = diabetic_data.corr()\n",
        "corr.style.background_gradient(cmap='coolwarm').set_precision(2)"
      ],
      "metadata": {
        "colab": {
          "base_uri": "https://localhost:8080/",
          "height": 386
        },
        "id": "S1M55iB9OfnP",
        "outputId": "4c764e15-c9aa-4d50-eeee-addca82d718a"
      },
      "execution_count": null,
      "outputs": [
        {
          "output_type": "stream",
          "name": "stderr",
          "text": [
            "/usr/local/lib/python3.7/dist-packages/ipykernel_launcher.py:2: FutureWarning: this method is deprecated in favour of `Styler.format(precision=..)`\n",
            "  \n"
          ]
        },
        {
          "output_type": "execute_result",
          "data": {
            "text/plain": [
              "<pandas.io.formats.style.Styler at 0x7fbc661c4cd0>"
            ],
            "text/html": [
              "<style type=\"text/css\">\n",
              "#T_4d425_row0_col0, #T_4d425_row1_col1, #T_4d425_row2_col2, #T_4d425_row3_col3, #T_4d425_row4_col4, #T_4d425_row5_col5, #T_4d425_row6_col6, #T_4d425_row7_col7, #T_4d425_row8_col8 {\n",
              "  background-color: #b40426;\n",
              "  color: #f1f1f1;\n",
              "}\n",
              "#T_4d425_row0_col1 {\n",
              "  background-color: #516ddb;\n",
              "  color: #f1f1f1;\n",
              "}\n",
              "#T_4d425_row0_col2 {\n",
              "  background-color: #5a78e4;\n",
              "  color: #f1f1f1;\n",
              "}\n",
              "#T_4d425_row0_col3, #T_4d425_row7_col4 {\n",
              "  background-color: #4358cb;\n",
              "  color: #f1f1f1;\n",
              "}\n",
              "#T_4d425_row0_col4, #T_4d425_row0_col5, #T_4d425_row0_col6, #T_4d425_row2_col8, #T_4d425_row3_col0, #T_4d425_row3_col1, #T_4d425_row3_col7, #T_4d425_row6_col2, #T_4d425_row7_col3 {\n",
              "  background-color: #3b4cc0;\n",
              "  color: #f1f1f1;\n",
              "}\n",
              "#T_4d425_row0_col7 {\n",
              "  background-color: #f1cdba;\n",
              "  color: #000000;\n",
              "}\n",
              "#T_4d425_row0_col8, #T_4d425_row1_col6 {\n",
              "  background-color: #6f92f3;\n",
              "  color: #f1f1f1;\n",
              "}\n",
              "#T_4d425_row1_col0 {\n",
              "  background-color: #799cf8;\n",
              "  color: #f1f1f1;\n",
              "}\n",
              "#T_4d425_row1_col2, #T_4d425_row6_col8 {\n",
              "  background-color: #5e7de7;\n",
              "  color: #f1f1f1;\n",
              "}\n",
              "#T_4d425_row1_col3 {\n",
              "  background-color: #6b8df0;\n",
              "  color: #f1f1f1;\n",
              "}\n",
              "#T_4d425_row1_col4 {\n",
              "  background-color: #b9d0f9;\n",
              "  color: #000000;\n",
              "}\n",
              "#T_4d425_row1_col5, #T_4d425_row3_col6 {\n",
              "  background-color: #7ea1fa;\n",
              "  color: #f1f1f1;\n",
              "}\n",
              "#T_4d425_row1_col7 {\n",
              "  background-color: #abc8fd;\n",
              "  color: #000000;\n",
              "}\n",
              "#T_4d425_row1_col8 {\n",
              "  background-color: #c9d7f0;\n",
              "  color: #000000;\n",
              "}\n",
              "#T_4d425_row2_col0, #T_4d425_row7_col2 {\n",
              "  background-color: #7da0f9;\n",
              "  color: #f1f1f1;\n",
              "}\n",
              "#T_4d425_row2_col1 {\n",
              "  background-color: #5977e3;\n",
              "  color: #f1f1f1;\n",
              "}\n",
              "#T_4d425_row2_col3 {\n",
              "  background-color: #9abbff;\n",
              "  color: #000000;\n",
              "}\n",
              "#T_4d425_row2_col4 {\n",
              "  background-color: #6a8bef;\n",
              "  color: #f1f1f1;\n",
              "}\n",
              "#T_4d425_row2_col5, #T_4d425_row6_col3 {\n",
              "  background-color: #93b5fe;\n",
              "  color: #000000;\n",
              "}\n",
              "#T_4d425_row2_col6 {\n",
              "  background-color: #506bda;\n",
              "  color: #f1f1f1;\n",
              "}\n",
              "#T_4d425_row2_col7 {\n",
              "  background-color: #a5c3fe;\n",
              "  color: #000000;\n",
              "}\n",
              "#T_4d425_row3_col2, #T_4d425_row5_col1 {\n",
              "  background-color: #7295f4;\n",
              "  color: #f1f1f1;\n",
              "}\n",
              "#T_4d425_row3_col4 {\n",
              "  background-color: #d6dce4;\n",
              "  color: #000000;\n",
              "}\n",
              "#T_4d425_row3_col5 {\n",
              "  background-color: #bad0f8;\n",
              "  color: #000000;\n",
              "}\n",
              "#T_4d425_row3_col8 {\n",
              "  background-color: #3d50c3;\n",
              "  color: #f1f1f1;\n",
              "}\n",
              "#T_4d425_row4_col0 {\n",
              "  background-color: #3c4ec2;\n",
              "  color: #f1f1f1;\n",
              "}\n",
              "#T_4d425_row4_col1 {\n",
              "  background-color: #9bbcff;\n",
              "  color: #000000;\n",
              "}\n",
              "#T_4d425_row4_col2 {\n",
              "  background-color: #4961d2;\n",
              "  color: #f1f1f1;\n",
              "}\n",
              "#T_4d425_row4_col3 {\n",
              "  background-color: #dbdcde;\n",
              "  color: #000000;\n",
              "}\n",
              "#T_4d425_row4_col5 {\n",
              "  background-color: #7597f6;\n",
              "  color: #f1f1f1;\n",
              "}\n",
              "#T_4d425_row4_col6 {\n",
              "  background-color: #80a3fa;\n",
              "  color: #f1f1f1;\n",
              "}\n",
              "#T_4d425_row4_col7, #T_4d425_row7_col6 {\n",
              "  background-color: #4e68d8;\n",
              "  color: #f1f1f1;\n",
              "}\n",
              "#T_4d425_row4_col8 {\n",
              "  background-color: #4f69d9;\n",
              "  color: #f1f1f1;\n",
              "}\n",
              "#T_4d425_row5_col0 {\n",
              "  background-color: #5673e0;\n",
              "  color: #f1f1f1;\n",
              "}\n",
              "#T_4d425_row5_col2, #T_4d425_row5_col4 {\n",
              "  background-color: #8db0fe;\n",
              "  color: #000000;\n",
              "}\n",
              "#T_4d425_row5_col3 {\n",
              "  background-color: #d1dae9;\n",
              "  color: #000000;\n",
              "}\n",
              "#T_4d425_row5_col6, #T_4d425_row8_col3 {\n",
              "  background-color: #7093f3;\n",
              "  color: #f1f1f1;\n",
              "}\n",
              "#T_4d425_row5_col7 {\n",
              "  background-color: #6485ec;\n",
              "  color: #f1f1f1;\n",
              "}\n",
              "#T_4d425_row5_col8 {\n",
              "  background-color: #8badfd;\n",
              "  color: #000000;\n",
              "}\n",
              "#T_4d425_row6_col0 {\n",
              "  background-color: #485fd1;\n",
              "  color: #f1f1f1;\n",
              "}\n",
              "#T_4d425_row6_col1 {\n",
              "  background-color: #5470de;\n",
              "  color: #f1f1f1;\n",
              "}\n",
              "#T_4d425_row6_col4 {\n",
              "  background-color: #89acfd;\n",
              "  color: #000000;\n",
              "}\n",
              "#T_4d425_row6_col5 {\n",
              "  background-color: #6282ea;\n",
              "  color: #f1f1f1;\n",
              "}\n",
              "#T_4d425_row6_col7 {\n",
              "  background-color: #6384eb;\n",
              "  color: #f1f1f1;\n",
              "}\n",
              "#T_4d425_row7_col0 {\n",
              "  background-color: #efcfbf;\n",
              "  color: #000000;\n",
              "}\n",
              "#T_4d425_row7_col1 {\n",
              "  background-color: #81a4fb;\n",
              "  color: #f1f1f1;\n",
              "}\n",
              "#T_4d425_row7_col5 {\n",
              "  background-color: #3f53c6;\n",
              "  color: #f1f1f1;\n",
              "}\n",
              "#T_4d425_row7_col8 {\n",
              "  background-color: #7699f6;\n",
              "  color: #f1f1f1;\n",
              "}\n",
              "#T_4d425_row8_col0, #T_4d425_row8_col5 {\n",
              "  background-color: #97b8ff;\n",
              "  color: #000000;\n",
              "}\n",
              "#T_4d425_row8_col1 {\n",
              "  background-color: #cbd8ee;\n",
              "  color: #000000;\n",
              "}\n",
              "#T_4d425_row8_col2 {\n",
              "  background-color: #4257c9;\n",
              "  color: #f1f1f1;\n",
              "}\n",
              "#T_4d425_row8_col4 {\n",
              "  background-color: #779af7;\n",
              "  color: #f1f1f1;\n",
              "}\n",
              "#T_4d425_row8_col6 {\n",
              "  background-color: #7b9ff9;\n",
              "  color: #f1f1f1;\n",
              "}\n",
              "#T_4d425_row8_col7 {\n",
              "  background-color: #a3c2fe;\n",
              "  color: #000000;\n",
              "}\n",
              "</style>\n",
              "<table id=\"T_4d425_\" class=\"dataframe\">\n",
              "  <thead>\n",
              "    <tr>\n",
              "      <th class=\"blank level0\" >&nbsp;</th>\n",
              "      <th class=\"col_heading level0 col0\" >Pregnancies</th>\n",
              "      <th class=\"col_heading level0 col1\" >Glucose</th>\n",
              "      <th class=\"col_heading level0 col2\" >BloodPressure</th>\n",
              "      <th class=\"col_heading level0 col3\" >SkinThickness</th>\n",
              "      <th class=\"col_heading level0 col4\" >Insulin</th>\n",
              "      <th class=\"col_heading level0 col5\" >BMI</th>\n",
              "      <th class=\"col_heading level0 col6\" >DiabetesPedigreeFunction</th>\n",
              "      <th class=\"col_heading level0 col7\" >Age</th>\n",
              "      <th class=\"col_heading level0 col8\" >Outcome</th>\n",
              "    </tr>\n",
              "  </thead>\n",
              "  <tbody>\n",
              "    <tr>\n",
              "      <th id=\"T_4d425_level0_row0\" class=\"row_heading level0 row0\" >Pregnancies</th>\n",
              "      <td id=\"T_4d425_row0_col0\" class=\"data row0 col0\" >1.00</td>\n",
              "      <td id=\"T_4d425_row0_col1\" class=\"data row0 col1\" >0.13</td>\n",
              "      <td id=\"T_4d425_row0_col2\" class=\"data row0 col2\" >0.14</td>\n",
              "      <td id=\"T_4d425_row0_col3\" class=\"data row0 col3\" >-0.08</td>\n",
              "      <td id=\"T_4d425_row0_col4\" class=\"data row0 col4\" >-0.07</td>\n",
              "      <td id=\"T_4d425_row0_col5\" class=\"data row0 col5\" >0.02</td>\n",
              "      <td id=\"T_4d425_row0_col6\" class=\"data row0 col6\" >-0.03</td>\n",
              "      <td id=\"T_4d425_row0_col7\" class=\"data row0 col7\" >0.54</td>\n",
              "      <td id=\"T_4d425_row0_col8\" class=\"data row0 col8\" >0.22</td>\n",
              "    </tr>\n",
              "    <tr>\n",
              "      <th id=\"T_4d425_level0_row1\" class=\"row_heading level0 row1\" >Glucose</th>\n",
              "      <td id=\"T_4d425_row1_col0\" class=\"data row1 col0\" >0.13</td>\n",
              "      <td id=\"T_4d425_row1_col1\" class=\"data row1 col1\" >1.00</td>\n",
              "      <td id=\"T_4d425_row1_col2\" class=\"data row1 col2\" >0.15</td>\n",
              "      <td id=\"T_4d425_row1_col3\" class=\"data row1 col3\" >0.06</td>\n",
              "      <td id=\"T_4d425_row1_col4\" class=\"data row1 col4\" >0.33</td>\n",
              "      <td id=\"T_4d425_row1_col5\" class=\"data row1 col5\" >0.22</td>\n",
              "      <td id=\"T_4d425_row1_col6\" class=\"data row1 col6\" >0.14</td>\n",
              "      <td id=\"T_4d425_row1_col7\" class=\"data row1 col7\" >0.26</td>\n",
              "      <td id=\"T_4d425_row1_col8\" class=\"data row1 col8\" >0.47</td>\n",
              "    </tr>\n",
              "    <tr>\n",
              "      <th id=\"T_4d425_level0_row2\" class=\"row_heading level0 row2\" >BloodPressure</th>\n",
              "      <td id=\"T_4d425_row2_col0\" class=\"data row2 col0\" >0.14</td>\n",
              "      <td id=\"T_4d425_row2_col1\" class=\"data row2 col1\" >0.15</td>\n",
              "      <td id=\"T_4d425_row2_col2\" class=\"data row2 col2\" >1.00</td>\n",
              "      <td id=\"T_4d425_row2_col3\" class=\"data row2 col3\" >0.21</td>\n",
              "      <td id=\"T_4d425_row2_col4\" class=\"data row2 col4\" >0.09</td>\n",
              "      <td id=\"T_4d425_row2_col5\" class=\"data row2 col5\" >0.28</td>\n",
              "      <td id=\"T_4d425_row2_col6\" class=\"data row2 col6\" >0.04</td>\n",
              "      <td id=\"T_4d425_row2_col7\" class=\"data row2 col7\" >0.24</td>\n",
              "      <td id=\"T_4d425_row2_col8\" class=\"data row2 col8\" >0.07</td>\n",
              "    </tr>\n",
              "    <tr>\n",
              "      <th id=\"T_4d425_level0_row3\" class=\"row_heading level0 row3\" >SkinThickness</th>\n",
              "      <td id=\"T_4d425_row3_col0\" class=\"data row3 col0\" >-0.08</td>\n",
              "      <td id=\"T_4d425_row3_col1\" class=\"data row3 col1\" >0.06</td>\n",
              "      <td id=\"T_4d425_row3_col2\" class=\"data row3 col2\" >0.21</td>\n",
              "      <td id=\"T_4d425_row3_col3\" class=\"data row3 col3\" >1.00</td>\n",
              "      <td id=\"T_4d425_row3_col4\" class=\"data row3 col4\" >0.44</td>\n",
              "      <td id=\"T_4d425_row3_col5\" class=\"data row3 col5\" >0.39</td>\n",
              "      <td id=\"T_4d425_row3_col6\" class=\"data row3 col6\" >0.18</td>\n",
              "      <td id=\"T_4d425_row3_col7\" class=\"data row3 col7\" >-0.11</td>\n",
              "      <td id=\"T_4d425_row3_col8\" class=\"data row3 col8\" >0.07</td>\n",
              "    </tr>\n",
              "    <tr>\n",
              "      <th id=\"T_4d425_level0_row4\" class=\"row_heading level0 row4\" >Insulin</th>\n",
              "      <td id=\"T_4d425_row4_col0\" class=\"data row4 col0\" >-0.07</td>\n",
              "      <td id=\"T_4d425_row4_col1\" class=\"data row4 col1\" >0.33</td>\n",
              "      <td id=\"T_4d425_row4_col2\" class=\"data row4 col2\" >0.09</td>\n",
              "      <td id=\"T_4d425_row4_col3\" class=\"data row4 col3\" >0.44</td>\n",
              "      <td id=\"T_4d425_row4_col4\" class=\"data row4 col4\" >1.00</td>\n",
              "      <td id=\"T_4d425_row4_col5\" class=\"data row4 col5\" >0.20</td>\n",
              "      <td id=\"T_4d425_row4_col6\" class=\"data row4 col6\" >0.19</td>\n",
              "      <td id=\"T_4d425_row4_col7\" class=\"data row4 col7\" >-0.04</td>\n",
              "      <td id=\"T_4d425_row4_col8\" class=\"data row4 col8\" >0.13</td>\n",
              "    </tr>\n",
              "    <tr>\n",
              "      <th id=\"T_4d425_level0_row5\" class=\"row_heading level0 row5\" >BMI</th>\n",
              "      <td id=\"T_4d425_row5_col0\" class=\"data row5 col0\" >0.02</td>\n",
              "      <td id=\"T_4d425_row5_col1\" class=\"data row5 col1\" >0.22</td>\n",
              "      <td id=\"T_4d425_row5_col2\" class=\"data row5 col2\" >0.28</td>\n",
              "      <td id=\"T_4d425_row5_col3\" class=\"data row5 col3\" >0.39</td>\n",
              "      <td id=\"T_4d425_row5_col4\" class=\"data row5 col4\" >0.20</td>\n",
              "      <td id=\"T_4d425_row5_col5\" class=\"data row5 col5\" >1.00</td>\n",
              "      <td id=\"T_4d425_row5_col6\" class=\"data row5 col6\" >0.14</td>\n",
              "      <td id=\"T_4d425_row5_col7\" class=\"data row5 col7\" >0.04</td>\n",
              "      <td id=\"T_4d425_row5_col8\" class=\"data row5 col8\" >0.29</td>\n",
              "    </tr>\n",
              "    <tr>\n",
              "      <th id=\"T_4d425_level0_row6\" class=\"row_heading level0 row6\" >DiabetesPedigreeFunction</th>\n",
              "      <td id=\"T_4d425_row6_col0\" class=\"data row6 col0\" >-0.03</td>\n",
              "      <td id=\"T_4d425_row6_col1\" class=\"data row6 col1\" >0.14</td>\n",
              "      <td id=\"T_4d425_row6_col2\" class=\"data row6 col2\" >0.04</td>\n",
              "      <td id=\"T_4d425_row6_col3\" class=\"data row6 col3\" >0.18</td>\n",
              "      <td id=\"T_4d425_row6_col4\" class=\"data row6 col4\" >0.19</td>\n",
              "      <td id=\"T_4d425_row6_col5\" class=\"data row6 col5\" >0.14</td>\n",
              "      <td id=\"T_4d425_row6_col6\" class=\"data row6 col6\" >1.00</td>\n",
              "      <td id=\"T_4d425_row6_col7\" class=\"data row6 col7\" >0.03</td>\n",
              "      <td id=\"T_4d425_row6_col8\" class=\"data row6 col8\" >0.17</td>\n",
              "    </tr>\n",
              "    <tr>\n",
              "      <th id=\"T_4d425_level0_row7\" class=\"row_heading level0 row7\" >Age</th>\n",
              "      <td id=\"T_4d425_row7_col0\" class=\"data row7 col0\" >0.54</td>\n",
              "      <td id=\"T_4d425_row7_col1\" class=\"data row7 col1\" >0.26</td>\n",
              "      <td id=\"T_4d425_row7_col2\" class=\"data row7 col2\" >0.24</td>\n",
              "      <td id=\"T_4d425_row7_col3\" class=\"data row7 col3\" >-0.11</td>\n",
              "      <td id=\"T_4d425_row7_col4\" class=\"data row7 col4\" >-0.04</td>\n",
              "      <td id=\"T_4d425_row7_col5\" class=\"data row7 col5\" >0.04</td>\n",
              "      <td id=\"T_4d425_row7_col6\" class=\"data row7 col6\" >0.03</td>\n",
              "      <td id=\"T_4d425_row7_col7\" class=\"data row7 col7\" >1.00</td>\n",
              "      <td id=\"T_4d425_row7_col8\" class=\"data row7 col8\" >0.24</td>\n",
              "    </tr>\n",
              "    <tr>\n",
              "      <th id=\"T_4d425_level0_row8\" class=\"row_heading level0 row8\" >Outcome</th>\n",
              "      <td id=\"T_4d425_row8_col0\" class=\"data row8 col0\" >0.22</td>\n",
              "      <td id=\"T_4d425_row8_col1\" class=\"data row8 col1\" >0.47</td>\n",
              "      <td id=\"T_4d425_row8_col2\" class=\"data row8 col2\" >0.07</td>\n",
              "      <td id=\"T_4d425_row8_col3\" class=\"data row8 col3\" >0.07</td>\n",
              "      <td id=\"T_4d425_row8_col4\" class=\"data row8 col4\" >0.13</td>\n",
              "      <td id=\"T_4d425_row8_col5\" class=\"data row8 col5\" >0.29</td>\n",
              "      <td id=\"T_4d425_row8_col6\" class=\"data row8 col6\" >0.17</td>\n",
              "      <td id=\"T_4d425_row8_col7\" class=\"data row8 col7\" >0.24</td>\n",
              "      <td id=\"T_4d425_row8_col8\" class=\"data row8 col8\" >1.00</td>\n",
              "    </tr>\n",
              "  </tbody>\n",
              "</table>\n"
            ]
          },
          "metadata": {},
          "execution_count": 55
        }
      ]
    },
    {
      "cell_type": "markdown",
      "source": [
        "Q2) Which of the following features has the highest standard deviation?"
      ],
      "metadata": {
        "id": "Nmn83QKNOFVZ"
      }
    },
    {
      "cell_type": "code",
      "source": [
        "diabetic_data.describe()"
      ],
      "metadata": {
        "colab": {
          "base_uri": "https://localhost:8080/",
          "height": 364
        },
        "id": "l4gDd_DUQHYr",
        "outputId": "60b5ed2d-bb3b-4baf-e7ad-044772b7b20c"
      },
      "execution_count": null,
      "outputs": [
        {
          "output_type": "execute_result",
          "data": {
            "text/plain": [
              "       Pregnancies     Glucose  BloodPressure  SkinThickness     Insulin  \\\n",
              "count   768.000000  768.000000     768.000000     768.000000  768.000000   \n",
              "mean      3.845052  120.894531      69.105469      20.536458   79.799479   \n",
              "std       3.369578   31.972618      19.355807      15.952218  115.244002   \n",
              "min       0.000000    0.000000       0.000000       0.000000    0.000000   \n",
              "25%       1.000000   99.000000      62.000000       0.000000    0.000000   \n",
              "50%       3.000000  117.000000      72.000000      23.000000   30.500000   \n",
              "75%       6.000000  140.250000      80.000000      32.000000  127.250000   \n",
              "max      17.000000  199.000000     122.000000      99.000000  846.000000   \n",
              "\n",
              "              BMI  DiabetesPedigreeFunction         Age     Outcome  \n",
              "count  768.000000                768.000000  768.000000  768.000000  \n",
              "mean    31.992578                  0.471876   33.240885    0.348958  \n",
              "std      7.884160                  0.331329   11.760232    0.476951  \n",
              "min      0.000000                  0.078000   21.000000    0.000000  \n",
              "25%     27.300000                  0.243750   24.000000    0.000000  \n",
              "50%     32.000000                  0.372500   29.000000    0.000000  \n",
              "75%     36.600000                  0.626250   41.000000    1.000000  \n",
              "max     67.100000                  2.420000   81.000000    1.000000  "
            ],
            "text/html": [
              "\n",
              "  <div id=\"df-3cc095a5-b08d-41d4-97be-c9fa0af9c314\">\n",
              "    <div class=\"colab-df-container\">\n",
              "      <div>\n",
              "<style scoped>\n",
              "    .dataframe tbody tr th:only-of-type {\n",
              "        vertical-align: middle;\n",
              "    }\n",
              "\n",
              "    .dataframe tbody tr th {\n",
              "        vertical-align: top;\n",
              "    }\n",
              "\n",
              "    .dataframe thead th {\n",
              "        text-align: right;\n",
              "    }\n",
              "</style>\n",
              "<table border=\"1\" class=\"dataframe\">\n",
              "  <thead>\n",
              "    <tr style=\"text-align: right;\">\n",
              "      <th></th>\n",
              "      <th>Pregnancies</th>\n",
              "      <th>Glucose</th>\n",
              "      <th>BloodPressure</th>\n",
              "      <th>SkinThickness</th>\n",
              "      <th>Insulin</th>\n",
              "      <th>BMI</th>\n",
              "      <th>DiabetesPedigreeFunction</th>\n",
              "      <th>Age</th>\n",
              "      <th>Outcome</th>\n",
              "    </tr>\n",
              "  </thead>\n",
              "  <tbody>\n",
              "    <tr>\n",
              "      <th>count</th>\n",
              "      <td>768.000000</td>\n",
              "      <td>768.000000</td>\n",
              "      <td>768.000000</td>\n",
              "      <td>768.000000</td>\n",
              "      <td>768.000000</td>\n",
              "      <td>768.000000</td>\n",
              "      <td>768.000000</td>\n",
              "      <td>768.000000</td>\n",
              "      <td>768.000000</td>\n",
              "    </tr>\n",
              "    <tr>\n",
              "      <th>mean</th>\n",
              "      <td>3.845052</td>\n",
              "      <td>120.894531</td>\n",
              "      <td>69.105469</td>\n",
              "      <td>20.536458</td>\n",
              "      <td>79.799479</td>\n",
              "      <td>31.992578</td>\n",
              "      <td>0.471876</td>\n",
              "      <td>33.240885</td>\n",
              "      <td>0.348958</td>\n",
              "    </tr>\n",
              "    <tr>\n",
              "      <th>std</th>\n",
              "      <td>3.369578</td>\n",
              "      <td>31.972618</td>\n",
              "      <td>19.355807</td>\n",
              "      <td>15.952218</td>\n",
              "      <td>115.244002</td>\n",
              "      <td>7.884160</td>\n",
              "      <td>0.331329</td>\n",
              "      <td>11.760232</td>\n",
              "      <td>0.476951</td>\n",
              "    </tr>\n",
              "    <tr>\n",
              "      <th>min</th>\n",
              "      <td>0.000000</td>\n",
              "      <td>0.000000</td>\n",
              "      <td>0.000000</td>\n",
              "      <td>0.000000</td>\n",
              "      <td>0.000000</td>\n",
              "      <td>0.000000</td>\n",
              "      <td>0.078000</td>\n",
              "      <td>21.000000</td>\n",
              "      <td>0.000000</td>\n",
              "    </tr>\n",
              "    <tr>\n",
              "      <th>25%</th>\n",
              "      <td>1.000000</td>\n",
              "      <td>99.000000</td>\n",
              "      <td>62.000000</td>\n",
              "      <td>0.000000</td>\n",
              "      <td>0.000000</td>\n",
              "      <td>27.300000</td>\n",
              "      <td>0.243750</td>\n",
              "      <td>24.000000</td>\n",
              "      <td>0.000000</td>\n",
              "    </tr>\n",
              "    <tr>\n",
              "      <th>50%</th>\n",
              "      <td>3.000000</td>\n",
              "      <td>117.000000</td>\n",
              "      <td>72.000000</td>\n",
              "      <td>23.000000</td>\n",
              "      <td>30.500000</td>\n",
              "      <td>32.000000</td>\n",
              "      <td>0.372500</td>\n",
              "      <td>29.000000</td>\n",
              "      <td>0.000000</td>\n",
              "    </tr>\n",
              "    <tr>\n",
              "      <th>75%</th>\n",
              "      <td>6.000000</td>\n",
              "      <td>140.250000</td>\n",
              "      <td>80.000000</td>\n",
              "      <td>32.000000</td>\n",
              "      <td>127.250000</td>\n",
              "      <td>36.600000</td>\n",
              "      <td>0.626250</td>\n",
              "      <td>41.000000</td>\n",
              "      <td>1.000000</td>\n",
              "    </tr>\n",
              "    <tr>\n",
              "      <th>max</th>\n",
              "      <td>17.000000</td>\n",
              "      <td>199.000000</td>\n",
              "      <td>122.000000</td>\n",
              "      <td>99.000000</td>\n",
              "      <td>846.000000</td>\n",
              "      <td>67.100000</td>\n",
              "      <td>2.420000</td>\n",
              "      <td>81.000000</td>\n",
              "      <td>1.000000</td>\n",
              "    </tr>\n",
              "  </tbody>\n",
              "</table>\n",
              "</div>\n",
              "      <button class=\"colab-df-convert\" onclick=\"convertToInteractive('df-3cc095a5-b08d-41d4-97be-c9fa0af9c314')\"\n",
              "              title=\"Convert this dataframe to an interactive table.\"\n",
              "              style=\"display:none;\">\n",
              "        \n",
              "  <svg xmlns=\"http://www.w3.org/2000/svg\" height=\"24px\"viewBox=\"0 0 24 24\"\n",
              "       width=\"24px\">\n",
              "    <path d=\"M0 0h24v24H0V0z\" fill=\"none\"/>\n",
              "    <path d=\"M18.56 5.44l.94 2.06.94-2.06 2.06-.94-2.06-.94-.94-2.06-.94 2.06-2.06.94zm-11 1L8.5 8.5l.94-2.06 2.06-.94-2.06-.94L8.5 2.5l-.94 2.06-2.06.94zm10 10l.94 2.06.94-2.06 2.06-.94-2.06-.94-.94-2.06-.94 2.06-2.06.94z\"/><path d=\"M17.41 7.96l-1.37-1.37c-.4-.4-.92-.59-1.43-.59-.52 0-1.04.2-1.43.59L10.3 9.45l-7.72 7.72c-.78.78-.78 2.05 0 2.83L4 21.41c.39.39.9.59 1.41.59.51 0 1.02-.2 1.41-.59l7.78-7.78 2.81-2.81c.8-.78.8-2.07 0-2.86zM5.41 20L4 18.59l7.72-7.72 1.47 1.35L5.41 20z\"/>\n",
              "  </svg>\n",
              "      </button>\n",
              "      \n",
              "  <style>\n",
              "    .colab-df-container {\n",
              "      display:flex;\n",
              "      flex-wrap:wrap;\n",
              "      gap: 12px;\n",
              "    }\n",
              "\n",
              "    .colab-df-convert {\n",
              "      background-color: #E8F0FE;\n",
              "      border: none;\n",
              "      border-radius: 50%;\n",
              "      cursor: pointer;\n",
              "      display: none;\n",
              "      fill: #1967D2;\n",
              "      height: 32px;\n",
              "      padding: 0 0 0 0;\n",
              "      width: 32px;\n",
              "    }\n",
              "\n",
              "    .colab-df-convert:hover {\n",
              "      background-color: #E2EBFA;\n",
              "      box-shadow: 0px 1px 2px rgba(60, 64, 67, 0.3), 0px 1px 3px 1px rgba(60, 64, 67, 0.15);\n",
              "      fill: #174EA6;\n",
              "    }\n",
              "\n",
              "    [theme=dark] .colab-df-convert {\n",
              "      background-color: #3B4455;\n",
              "      fill: #D2E3FC;\n",
              "    }\n",
              "\n",
              "    [theme=dark] .colab-df-convert:hover {\n",
              "      background-color: #434B5C;\n",
              "      box-shadow: 0px 1px 3px 1px rgba(0, 0, 0, 0.15);\n",
              "      filter: drop-shadow(0px 1px 2px rgba(0, 0, 0, 0.3));\n",
              "      fill: #FFFFFF;\n",
              "    }\n",
              "  </style>\n",
              "\n",
              "      <script>\n",
              "        const buttonEl =\n",
              "          document.querySelector('#df-3cc095a5-b08d-41d4-97be-c9fa0af9c314 button.colab-df-convert');\n",
              "        buttonEl.style.display =\n",
              "          google.colab.kernel.accessAllowed ? 'block' : 'none';\n",
              "\n",
              "        async function convertToInteractive(key) {\n",
              "          const element = document.querySelector('#df-3cc095a5-b08d-41d4-97be-c9fa0af9c314');\n",
              "          const dataTable =\n",
              "            await google.colab.kernel.invokeFunction('convertToInteractive',\n",
              "                                                     [key], {});\n",
              "          if (!dataTable) return;\n",
              "\n",
              "          const docLinkHtml = 'Like what you see? Visit the ' +\n",
              "            '<a target=\"_blank\" href=https://colab.research.google.com/notebooks/data_table.ipynb>data table notebook</a>'\n",
              "            + ' to learn more about interactive tables.';\n",
              "          element.innerHTML = '';\n",
              "          dataTable['output_type'] = 'display_data';\n",
              "          await google.colab.output.renderOutput(dataTable, element);\n",
              "          const docLink = document.createElement('div');\n",
              "          docLink.innerHTML = docLinkHtml;\n",
              "          element.appendChild(docLink);\n",
              "        }\n",
              "      </script>\n",
              "    </div>\n",
              "  </div>\n",
              "  "
            ]
          },
          "metadata": {},
          "execution_count": 57
        }
      ]
    },
    {
      "cell_type": "markdown",
      "source": [
        "Q3) Is there any missing values in the dataset?"
      ],
      "metadata": {
        "id": "vvKenUJuOHqL"
      }
    },
    {
      "cell_type": "code",
      "source": [
        "diabetic_data.isna().sum()"
      ],
      "metadata": {
        "colab": {
          "base_uri": "https://localhost:8080/"
        },
        "id": "8gnIEDkDOKmK",
        "outputId": "0ae7a203-979d-406d-e7ca-36425535fb21"
      },
      "execution_count": null,
      "outputs": [
        {
          "output_type": "execute_result",
          "data": {
            "text/plain": [
              "Pregnancies                 0\n",
              "Glucose                     0\n",
              "BloodPressure               0\n",
              "SkinThickness               0\n",
              "Insulin                     0\n",
              "BMI                         0\n",
              "DiabetesPedigreeFunction    0\n",
              "Age                         0\n",
              "Outcome                     0\n",
              "dtype: int64"
            ]
          },
          "metadata": {},
          "execution_count": 49
        }
      ]
    },
    {
      "cell_type": "markdown",
      "source": [
        "* split the dataset into training and test dataset in 80:20 proportion with \"random_state\": 1\n",
        "* Create a pipeline with scaler as StandardScaler and classifier as MLPClassifier.\n",
        "* Classifier should have the following properties:\n",
        "  * Classifier should have three hidden layers with 10 neurons each.\n",
        "  * set activation='relu', solver='sgd', alpha= 1e-4, learning_rate_init= 0.2 ,max_iter=500, random_state=1"
      ],
      "metadata": {
        "id": "McC_ftrmQRXZ"
      }
    },
    {
      "cell_type": "code",
      "source": [
        "from sklearn.model_selection import train_test_split\n",
        "from sklearn.neural_network import MLPClassifier \n",
        "from sklearn.preprocessing import StandardScaler\n",
        "from sklearn.metrics import accuracy_score\n",
        "from sklearn.pipeline import Pipeline\n",
        "from sklearn.model_selection import cross_val_score\n",
        "\n",
        "X_train, X_test, y_train, y_test = train_test_split(X, y, test_size=0.2, random_state=1)\n",
        "mlp_clf = MLPClassifier(hidden_layer_sizes=(10, 10, 10), activation='relu', solver='sgd', \n",
        "                        alpha=1e-4, learning_rate_init=0.2, max_iter=500, random_state=1)\n",
        "mlp_pipe = Pipeline([('scalar', StandardScaler()),\n",
        "             ('mlp', mlp_clf)\n",
        "             ])\n",
        "mlp_pipe.fit(X_train, y_train)"
      ],
      "metadata": {
        "colab": {
          "base_uri": "https://localhost:8080/"
        },
        "id": "dLLkboCtQcXc",
        "outputId": "2c501953-2d20-4250-cd8d-71e407c5a864"
      },
      "execution_count": null,
      "outputs": [
        {
          "output_type": "execute_result",
          "data": {
            "text/plain": [
              "Pipeline(steps=[('scalar', StandardScaler()),\n",
              "                ('mlp',\n",
              "                 MLPClassifier(hidden_layer_sizes=(10, 10, 10),\n",
              "                               learning_rate_init=0.2, max_iter=500,\n",
              "                               random_state=1, solver='sgd'))])"
            ]
          },
          "metadata": {},
          "execution_count": 61
        }
      ]
    },
    {
      "cell_type": "markdown",
      "source": [
        "Q4) What will be the mean accuracy of the model on the training data?"
      ],
      "metadata": {
        "id": "KfmCozXRR7by"
      }
    },
    {
      "cell_type": "code",
      "source": [
        "accuracy_score(y_train, mlp_pipe.predict(X_train))"
      ],
      "metadata": {
        "colab": {
          "base_uri": "https://localhost:8080/"
        },
        "id": "k620ETWfR9Sj",
        "outputId": "6859ac5e-1abc-4389-f756-cf327392e2cc"
      },
      "execution_count": null,
      "outputs": [
        {
          "output_type": "execute_result",
          "data": {
            "text/plain": [
              "0.7915309446254072"
            ]
          },
          "metadata": {},
          "execution_count": 63
        }
      ]
    },
    {
      "cell_type": "markdown",
      "source": [
        "Q5) What will be the mean accuracy of the model on the test data?"
      ],
      "metadata": {
        "id": "l15YSiHFTufO"
      }
    },
    {
      "cell_type": "code",
      "source": [
        "accuracy_score(y_test, mlp_pipe.predict(X_test))"
      ],
      "metadata": {
        "colab": {
          "base_uri": "https://localhost:8080/"
        },
        "id": "whlEOzz_Tv1X",
        "outputId": "40f228c9-caa8-4f9c-9fe6-b98a0fc65551"
      },
      "execution_count": null,
      "outputs": [
        {
          "output_type": "execute_result",
          "data": {
            "text/plain": [
              "0.7662337662337663"
            ]
          },
          "metadata": {},
          "execution_count": 64
        }
      ]
    },
    {
      "cell_type": "markdown",
      "source": [
        "Q6) What is the output activation function used by the classifier?"
      ],
      "metadata": {
        "id": "fZo1rqcST2bl"
      }
    },
    {
      "cell_type": "code",
      "source": [
        "mlp_clf.out_activation_"
      ],
      "metadata": {
        "colab": {
          "base_uri": "https://localhost:8080/",
          "height": 36
        },
        "id": "Ub3sE5OST49T",
        "outputId": "de4ec8c5-ccef-4908-f767-8ba0d9666f8f"
      },
      "execution_count": null,
      "outputs": [
        {
          "output_type": "execute_result",
          "data": {
            "text/plain": [
              "'logistic'"
            ],
            "application/vnd.google.colaboratory.intrinsic+json": {
              "type": "string"
            }
          },
          "metadata": {},
          "execution_count": 67
        }
      ]
    },
    {
      "cell_type": "markdown",
      "source": [
        "Q7) How many weights (excluding intercepts) between input layer and first hidden layer were learnt by the classifier?"
      ],
      "metadata": {
        "id": "LX0bTUJbUPID"
      }
    },
    {
      "cell_type": "code",
      "source": [],
      "metadata": {
        "id": "743kaCGpUSfv"
      },
      "execution_count": null,
      "outputs": []
    },
    {
      "cell_type": "markdown",
      "source": [
        "# Graded Assignment - 9 (PART - A)\n",
        "Data Set Information:\n",
        "\n",
        "Live selling is becoming increasingly popular in Asian countries. Small vendors can now reach a wider audience and connect with many customers. Analyze The variability of consumer engagement on Facebook Live data which can help sellers to build selling approach and activities for the company.\n",
        "\n"
      ],
      "metadata": {
        "id": "f_W2g1p3VY8t"
      }
    },
    {
      "cell_type": "markdown",
      "source": [
        "Consider the statement for Q1- Q8) Load the dataset using following link\n",
        "Url= \"https://archive.ics.uci.edu/ml/machine-learning-databases/00488/Live_20210128.csv\"\n",
        "* Check if any feature contains Null values.\n",
        "* Drop all the features which have Null values.\n",
        "* Save 'status_type' as target variable.\n",
        "* Drop the feature \"status_id\", \"status_type\" and \"status_published\" from training set.\n",
        "* Use LabelEncoder to transform the target variable.\n",
        "* Use standard scaler to scale the features.\n",
        "* For Q4,Q5 Train the model using Kmeans clustering (Take Random state=10)\n",
        "* For Q6,Q7,Q8 Train the model using Agglomerative Clustering by setting the parameter as following\n",
        "  * n_clusters=4,affinity='euclidean', linkage='ward'\n",
        "\n",
        "https://archive.ics.uci.edu/ml/machine-learning-databases/00488/Live_20210128.csv"
      ],
      "metadata": {
        "id": "xwau7U19ViyE"
      }
    },
    {
      "cell_type": "code",
      "source": [
        "dataset = pd.read_csv('https://archive.ics.uci.edu/ml/machine-learning-databases/00488/Live_20210128.csv')\n",
        "dataset.shape"
      ],
      "metadata": {
        "colab": {
          "base_uri": "https://localhost:8080/"
        },
        "id": "YXmfM4YQVwQ9",
        "outputId": "3c8e32e6-e6fa-4f1a-a6e2-3807a0e0ed9a"
      },
      "execution_count": null,
      "outputs": [
        {
          "output_type": "execute_result",
          "data": {
            "text/plain": [
              "(7050, 16)"
            ]
          },
          "metadata": {},
          "execution_count": 74
        }
      ]
    },
    {
      "cell_type": "code",
      "source": [
        "dataset.isna().sum()\n",
        "dataset.drop(columns=['Column1', 'Column2', 'Column3', 'Column4'], inplace=True)\n",
        "dataset.isna().sum()"
      ],
      "metadata": {
        "colab": {
          "base_uri": "https://localhost:8080/"
        },
        "id": "ZsYiWFi8Ya7l",
        "outputId": "072e57dc-d408-4db9-99a9-7ca09840c2bc"
      },
      "execution_count": null,
      "outputs": [
        {
          "output_type": "execute_result",
          "data": {
            "text/plain": [
              "status_id           0\n",
              "status_type         0\n",
              "status_published    0\n",
              "num_reactions       0\n",
              "num_comments        0\n",
              "num_shares          0\n",
              "num_likes           0\n",
              "num_loves           0\n",
              "num_wows            0\n",
              "num_hahas           0\n",
              "num_sads            0\n",
              "num_angrys          0\n",
              "dtype: int64"
            ]
          },
          "metadata": {},
          "execution_count": 89
        }
      ]
    },
    {
      "cell_type": "code",
      "source": [
        "target = dataset['status_type']\n",
        "target.shape"
      ],
      "metadata": {
        "colab": {
          "base_uri": "https://localhost:8080/"
        },
        "id": "amejW-6SYxpR",
        "outputId": "cf5c0373-1fe2-4abc-c206-8542690ecfbe"
      },
      "execution_count": null,
      "outputs": [
        {
          "output_type": "execute_result",
          "data": {
            "text/plain": [
              "(7050,)"
            ]
          },
          "metadata": {},
          "execution_count": 90
        }
      ]
    },
    {
      "cell_type": "code",
      "source": [
        "target.value_counts()"
      ],
      "metadata": {
        "colab": {
          "base_uri": "https://localhost:8080/"
        },
        "id": "3_uxj0eFcmd3",
        "outputId": "1a75a7e5-4be8-4124-aedf-a1dbbb51eba8"
      },
      "execution_count": null,
      "outputs": [
        {
          "output_type": "execute_result",
          "data": {
            "text/plain": [
              "photo     4288\n",
              "video     2334\n",
              "status     365\n",
              "link        63\n",
              "Name: status_type, dtype: int64"
            ]
          },
          "metadata": {},
          "execution_count": 100
        }
      ]
    },
    {
      "cell_type": "code",
      "source": [
        "features = dataset.drop(columns=['status_id', 'status_type', 'status_published'], inplace=False)\n",
        "features.shape"
      ],
      "metadata": {
        "colab": {
          "base_uri": "https://localhost:8080/"
        },
        "id": "f4KDH7YbY8gL",
        "outputId": "b5482541-9151-4ce0-b5a1-129894f4dc06"
      },
      "execution_count": null,
      "outputs": [
        {
          "output_type": "execute_result",
          "data": {
            "text/plain": [
              "(7050, 9)"
            ]
          },
          "metadata": {},
          "execution_count": 92
        }
      ]
    },
    {
      "cell_type": "code",
      "source": [
        "type(target)\n",
        "target.unique\n",
        "from sklearn.preprocessing import LabelEncoder\n",
        "label_enc = LabelEncoder()\n",
        "encoded_label = label_enc.fit_transform(target)\n",
        "np.unique(encoded_label)"
      ],
      "metadata": {
        "colab": {
          "base_uri": "https://localhost:8080/"
        },
        "id": "jlLHxNiNZZ8B",
        "outputId": "e788bf5c-06c2-4d49-d93d-4ca4ad3d74c2"
      },
      "execution_count": null,
      "outputs": [
        {
          "output_type": "execute_result",
          "data": {
            "text/plain": [
              "array([0, 1, 2, 3])"
            ]
          },
          "metadata": {},
          "execution_count": 97
        }
      ]
    },
    {
      "cell_type": "code",
      "source": [
        "from sklearn.preprocessing import StandardScaler\n",
        "ss = StandardScaler()\n",
        "scaled_fetures = ss.fit_transform(features)"
      ],
      "metadata": {
        "id": "yy7TVz-aaON9"
      },
      "execution_count": null,
      "outputs": []
    },
    {
      "cell_type": "markdown",
      "source": [
        "For Q4,Q5 Train the model using Kmeans clustering (Take Random state=10)\n",
        "\n",
        "Q4) Enter the inertia score at k=2"
      ],
      "metadata": {
        "id": "Y2boGhpeZW4r"
      }
    },
    {
      "cell_type": "code",
      "source": [
        "kMeans1 = KMeans(n_clusters=2, random_state=10)\n",
        "kMeans1.fit(scaled_fetures)\n",
        "kMeans1.inertia_"
      ],
      "metadata": {
        "colab": {
          "base_uri": "https://localhost:8080/"
        },
        "id": "0yvXtfjTan-P",
        "outputId": "d4377a56-5bb0-414f-e34f-415a546358d9"
      },
      "execution_count": null,
      "outputs": [
        {
          "output_type": "execute_result",
          "data": {
            "text/plain": [
              "48278.09824220544"
            ]
          },
          "metadata": {},
          "execution_count": 99
        }
      ]
    },
    {
      "cell_type": "markdown",
      "source": [
        "Q5) How many labels were predicted accurately at k=4?"
      ],
      "metadata": {
        "id": "EPu3MSyzbWxI"
      }
    },
    {
      "cell_type": "code",
      "source": [
        "kMeans2 = KMeans(n_clusters=4, random_state=10)\n",
        "kMeans2.fit(scaled_fetures)\n",
        "y_predict = kMeans2.fit_predict(scaled_fetures, encoded_label)\n",
        "len(np.where(y_predict == encoded_label)[0])"
      ],
      "metadata": {
        "colab": {
          "base_uri": "https://localhost:8080/"
        },
        "id": "U2QuPnHfbZGC",
        "outputId": "2e18c9c5-1081-4a35-a985-c720d3670f75"
      },
      "execution_count": null,
      "outputs": [
        {
          "output_type": "execute_result",
          "data": {
            "text/plain": [
              "4421"
            ]
          },
          "metadata": {},
          "execution_count": 104
        }
      ]
    },
    {
      "cell_type": "markdown",
      "source": [
        "Q6) What is the label predicted for first row of samples."
      ],
      "metadata": {
        "id": "M_IXvVRmcEOd"
      }
    },
    {
      "cell_type": "code",
      "source": [
        "from sklearn.cluster import AgglomerativeClustering \n",
        "\n",
        "agg_cluster1 = AgglomerativeClustering(n_clusters=4, affinity='euclidean', linkage='ward')\n",
        "agg_cluster1.fit(scaled_fetures)\n",
        "predictions = agg_cluster1.fit_predict(scaled_fetures, encoded_label)\n",
        "predictions[0]"
      ],
      "metadata": {
        "colab": {
          "base_uri": "https://localhost:8080/"
        },
        "id": "O6B481lSduPC",
        "outputId": "7c9dda99-1148-497c-a759-118a7053fd4b"
      },
      "execution_count": null,
      "outputs": [
        {
          "output_type": "execute_result",
          "data": {
            "text/plain": [
              "3"
            ]
          },
          "metadata": {},
          "execution_count": 105
        }
      ]
    },
    {
      "cell_type": "markdown",
      "source": [
        "Q7) Enter the number of leaves in the hierarchical tree."
      ],
      "metadata": {
        "id": "qctnyJILcIOq"
      }
    },
    {
      "cell_type": "code",
      "source": [
        "agg_cluster1.n_leaves_"
      ],
      "metadata": {
        "colab": {
          "base_uri": "https://localhost:8080/"
        },
        "id": "xV4SHztQeTGB",
        "outputId": "d25f1d19-d53a-4226-ba97-19dc152b9c17"
      },
      "execution_count": null,
      "outputs": [
        {
          "output_type": "execute_result",
          "data": {
            "text/plain": [
              "7050"
            ]
          },
          "metadata": {},
          "execution_count": 106
        }
      ]
    },
    {
      "cell_type": "markdown",
      "source": [
        "Q8) What is the accuracy of the model(in Percentage)?"
      ],
      "metadata": {
        "id": "YCQlQcr2cLJJ"
      }
    },
    {
      "cell_type": "code",
      "source": [
        "accuracy_score(encoded_label, predictions)*100"
      ],
      "metadata": {
        "colab": {
          "base_uri": "https://localhost:8080/"
        },
        "id": "yuWpwIpmea9V",
        "outputId": "642c9042-fc5d-41e8-bceb-d6965bae42e1"
      },
      "execution_count": null,
      "outputs": [
        {
          "output_type": "execute_result",
          "data": {
            "text/plain": [
              "28.496453900709216"
            ]
          },
          "metadata": {},
          "execution_count": 108
        }
      ]
    },
    {
      "cell_type": "markdown",
      "source": [
        "# Graded Assignment - 9 (PART - B)\n",
        "https://drive.google.com/file/d/1cBPurUshGKrK72SWsCatRHomjMnAWK6f/view?usp=sharing  \n",
        "\n",
        "The dataset contains 9471 instances of hourly averaged responses from an array of 5 metal oxide chemical sensors embedded in an Air Quality Chemical Multisensor Device. The device was located on the field in a significantly polluted area, at road level,within an Italian city. Data were recorded from March 2004 to February 2005 (one year)representing the longest freely available recordings of on field deployed air quality chemical sensor devices responses. Ground Truth hourly averaged concentrations for CO, Non Metanic Hydrocarbons, Benzene, Total Nitrogen Oxides (NOx) and Nitrogen Dioxide (NO2) and were provided by a co-located reference certified analyzer.\n",
        "\n",
        "Attributes:\n",
        "\n",
        "* Date (DD/MM/YYYY)\n",
        "* Time (HH.MM.SS)\n",
        "* True hourly averaged concentration CO in mg/m^3 (reference analyzer)\n",
        "* PT08.S1 (tin oxide) hourly averaged sensor response (nominally CO targeted)\n",
        "* True hourly averaged overall Non Metanic HydroCarbons concentration in microg/m^3 (reference analyzer)\n",
        "* True hourly averaged Benzene concentration in microg/m^3 (reference analyzer)\n",
        "* PT08.S2 (titania) hourly averaged sensor response (nominally NMHC targeted)\n",
        "* True hourly averaged NOx concentration in ppb (reference analyzer)\n",
        "* PT08.S3 (tungsten oxide) hourly averaged sensor response (nominally NOx targeted)\n",
        "* True hourly averaged NO2 concentration in microg/m^3 (reference analyzer)\n",
        "* PT08.S4 (tungsten oxide) hourly averaged sensor response (nominally NO2 targeted)\n",
        "* PT08.S5 (indium oxide) hourly averaged sensor response (nominally O3 targeted)\n",
        "* Temperature in Â°C\n",
        "* Relative Humidity (%)\n",
        "* AH Absolute Humidity"
      ],
      "metadata": {
        "id": "v4xmVz3bey-b"
      }
    },
    {
      "cell_type": "markdown",
      "source": [
        "Information for questions 1 and 2 and 3.\n",
        "* Load the AirQualityUCI dataset.\n",
        "* Drop 'Date', 'Time', 'Unnamed: 15', 'Unnnamed: 16' columns.\n",
        "* Drop all the rows which has at-least one missing value."
      ],
      "metadata": {
        "id": "lIMBmbTJfXSq"
      }
    },
    {
      "cell_type": "code",
      "source": [
        "air_quality_data = pd.read_csv('/content/sample_data/AirQualityUCI.csv')\n",
        "print(air_quality_data.shape)\n",
        "air_quality_data.columns\n",
        "air_quality_data.drop(columns=['Date', 'Time', 'Unnamed: 15', 'Unnamed: 16'], inplace=True)"
      ],
      "metadata": {
        "colab": {
          "base_uri": "https://localhost:8080/"
        },
        "id": "l1l5vCStfbNq",
        "outputId": "80c17025-b0c4-4cbb-8264-fcf3942d2bcf"
      },
      "execution_count": null,
      "outputs": [
        {
          "output_type": "stream",
          "name": "stdout",
          "text": [
            "(9471, 17)\n"
          ]
        }
      ]
    },
    {
      "cell_type": "code",
      "source": [
        "air_quality_data.isna().sum()"
      ],
      "metadata": {
        "colab": {
          "base_uri": "https://localhost:8080/"
        },
        "id": "cH_MEQrfgOO3",
        "outputId": "4f3160a0-392f-474d-b07d-fbc6e61382ec"
      },
      "execution_count": null,
      "outputs": [
        {
          "output_type": "execute_result",
          "data": {
            "text/plain": [
              "CO(GT)           114\n",
              "PT08.S1(CO)      114\n",
              "NMHC(GT)         114\n",
              "C6H6(GT)         114\n",
              "PT08.S2(NMHC)    114\n",
              "NOx(GT)          114\n",
              "PT08.S3(NOx)     114\n",
              "NO2(GT)          114\n",
              "PT08.S4(NO2)     114\n",
              "PT08.S5(O3)      114\n",
              "T                114\n",
              "RH               114\n",
              "AH               114\n",
              "dtype: int64"
            ]
          },
          "metadata": {},
          "execution_count": 121
        }
      ]
    },
    {
      "cell_type": "code",
      "source": [
        "air_quality_data_final = air_quality_data.dropna(axis=0)\n",
        "print(air_quality_data_final.shape)\n",
        "air_quality_data_final.isna().sum()"
      ],
      "metadata": {
        "colab": {
          "base_uri": "https://localhost:8080/"
        },
        "id": "DA4rxxtWgp_T",
        "outputId": "dd24b92a-f1f4-4dc9-8f5c-f5e3d5c6cd3c"
      },
      "execution_count": null,
      "outputs": [
        {
          "output_type": "stream",
          "name": "stdout",
          "text": [
            "(9357, 13)\n"
          ]
        },
        {
          "output_type": "execute_result",
          "data": {
            "text/plain": [
              "CO(GT)           0\n",
              "PT08.S1(CO)      0\n",
              "NMHC(GT)         0\n",
              "C6H6(GT)         0\n",
              "PT08.S2(NMHC)    0\n",
              "NOx(GT)          0\n",
              "PT08.S3(NOx)     0\n",
              "NO2(GT)          0\n",
              "PT08.S4(NO2)     0\n",
              "PT08.S5(O3)      0\n",
              "T                0\n",
              "RH               0\n",
              "AH               0\n",
              "dtype: int64"
            ]
          },
          "metadata": {},
          "execution_count": 122
        }
      ]
    },
    {
      "cell_type": "markdown",
      "source": [
        "Q1) What is the shape of the dataset after dropping the rows and colums as mentioned above?"
      ],
      "metadata": {
        "id": "OkVss8L3i_F9"
      }
    },
    {
      "cell_type": "code",
      "source": [
        "air_quality_data_final.shape"
      ],
      "metadata": {
        "colab": {
          "base_uri": "https://localhost:8080/"
        },
        "id": "UiIxtEpti64m",
        "outputId": "8fa24239-4411-48d5-c2d6-f0e05bc644cc"
      },
      "execution_count": null,
      "outputs": [
        {
          "output_type": "execute_result",
          "data": {
            "text/plain": [
              "(9357, 13)"
            ]
          },
          "metadata": {},
          "execution_count": 123
        }
      ]
    },
    {
      "cell_type": "markdown",
      "source": [
        "Q2) The task is to predict the absolute humidity at a particular time based on other features. So, we will have AH as the target variable. Under which category does this task fall?"
      ],
      "metadata": {
        "id": "skR3lvNgjDxx"
      }
    },
    {
      "cell_type": "code",
      "source": [
        "air_quality_data_final.head()"
      ],
      "metadata": {
        "colab": {
          "base_uri": "https://localhost:8080/",
          "height": 270
        },
        "id": "UiOJynWdjFKH",
        "outputId": "37d3feda-fa62-4ee4-e99b-b39d6f4bdc0b"
      },
      "execution_count": null,
      "outputs": [
        {
          "output_type": "execute_result",
          "data": {
            "text/plain": [
              "   CO(GT)  PT08.S1(CO)  NMHC(GT)  C6H6(GT)  PT08.S2(NMHC)  NOx(GT)  \\\n",
              "0     2.6       1360.0     150.0      11.9         1046.0    166.0   \n",
              "1     2.0       1292.0     112.0       9.4          955.0    103.0   \n",
              "2     2.2       1402.0      88.0       9.0          939.0    131.0   \n",
              "3     2.2       1376.0      80.0       9.2          948.0    172.0   \n",
              "4     1.6       1272.0      51.0       6.5          836.0    131.0   \n",
              "\n",
              "   PT08.S3(NOx)  NO2(GT)  PT08.S4(NO2)  PT08.S5(O3)     T    RH      AH  \n",
              "0        1056.0    113.0        1692.0       1268.0  13.6  48.9  0.7578  \n",
              "1        1174.0     92.0        1559.0        972.0  13.3  47.7  0.7255  \n",
              "2        1140.0    114.0        1555.0       1074.0  11.9  54.0  0.7502  \n",
              "3        1092.0    122.0        1584.0       1203.0  11.0  60.0  0.7867  \n",
              "4        1205.0    116.0        1490.0       1110.0  11.2  59.6  0.7888  "
            ],
            "text/html": [
              "\n",
              "  <div id=\"df-db0c68d1-c912-4a9c-883c-3f2cda76c758\">\n",
              "    <div class=\"colab-df-container\">\n",
              "      <div>\n",
              "<style scoped>\n",
              "    .dataframe tbody tr th:only-of-type {\n",
              "        vertical-align: middle;\n",
              "    }\n",
              "\n",
              "    .dataframe tbody tr th {\n",
              "        vertical-align: top;\n",
              "    }\n",
              "\n",
              "    .dataframe thead th {\n",
              "        text-align: right;\n",
              "    }\n",
              "</style>\n",
              "<table border=\"1\" class=\"dataframe\">\n",
              "  <thead>\n",
              "    <tr style=\"text-align: right;\">\n",
              "      <th></th>\n",
              "      <th>CO(GT)</th>\n",
              "      <th>PT08.S1(CO)</th>\n",
              "      <th>NMHC(GT)</th>\n",
              "      <th>C6H6(GT)</th>\n",
              "      <th>PT08.S2(NMHC)</th>\n",
              "      <th>NOx(GT)</th>\n",
              "      <th>PT08.S3(NOx)</th>\n",
              "      <th>NO2(GT)</th>\n",
              "      <th>PT08.S4(NO2)</th>\n",
              "      <th>PT08.S5(O3)</th>\n",
              "      <th>T</th>\n",
              "      <th>RH</th>\n",
              "      <th>AH</th>\n",
              "    </tr>\n",
              "  </thead>\n",
              "  <tbody>\n",
              "    <tr>\n",
              "      <th>0</th>\n",
              "      <td>2.6</td>\n",
              "      <td>1360.0</td>\n",
              "      <td>150.0</td>\n",
              "      <td>11.9</td>\n",
              "      <td>1046.0</td>\n",
              "      <td>166.0</td>\n",
              "      <td>1056.0</td>\n",
              "      <td>113.0</td>\n",
              "      <td>1692.0</td>\n",
              "      <td>1268.0</td>\n",
              "      <td>13.6</td>\n",
              "      <td>48.9</td>\n",
              "      <td>0.7578</td>\n",
              "    </tr>\n",
              "    <tr>\n",
              "      <th>1</th>\n",
              "      <td>2.0</td>\n",
              "      <td>1292.0</td>\n",
              "      <td>112.0</td>\n",
              "      <td>9.4</td>\n",
              "      <td>955.0</td>\n",
              "      <td>103.0</td>\n",
              "      <td>1174.0</td>\n",
              "      <td>92.0</td>\n",
              "      <td>1559.0</td>\n",
              "      <td>972.0</td>\n",
              "      <td>13.3</td>\n",
              "      <td>47.7</td>\n",
              "      <td>0.7255</td>\n",
              "    </tr>\n",
              "    <tr>\n",
              "      <th>2</th>\n",
              "      <td>2.2</td>\n",
              "      <td>1402.0</td>\n",
              "      <td>88.0</td>\n",
              "      <td>9.0</td>\n",
              "      <td>939.0</td>\n",
              "      <td>131.0</td>\n",
              "      <td>1140.0</td>\n",
              "      <td>114.0</td>\n",
              "      <td>1555.0</td>\n",
              "      <td>1074.0</td>\n",
              "      <td>11.9</td>\n",
              "      <td>54.0</td>\n",
              "      <td>0.7502</td>\n",
              "    </tr>\n",
              "    <tr>\n",
              "      <th>3</th>\n",
              "      <td>2.2</td>\n",
              "      <td>1376.0</td>\n",
              "      <td>80.0</td>\n",
              "      <td>9.2</td>\n",
              "      <td>948.0</td>\n",
              "      <td>172.0</td>\n",
              "      <td>1092.0</td>\n",
              "      <td>122.0</td>\n",
              "      <td>1584.0</td>\n",
              "      <td>1203.0</td>\n",
              "      <td>11.0</td>\n",
              "      <td>60.0</td>\n",
              "      <td>0.7867</td>\n",
              "    </tr>\n",
              "    <tr>\n",
              "      <th>4</th>\n",
              "      <td>1.6</td>\n",
              "      <td>1272.0</td>\n",
              "      <td>51.0</td>\n",
              "      <td>6.5</td>\n",
              "      <td>836.0</td>\n",
              "      <td>131.0</td>\n",
              "      <td>1205.0</td>\n",
              "      <td>116.0</td>\n",
              "      <td>1490.0</td>\n",
              "      <td>1110.0</td>\n",
              "      <td>11.2</td>\n",
              "      <td>59.6</td>\n",
              "      <td>0.7888</td>\n",
              "    </tr>\n",
              "  </tbody>\n",
              "</table>\n",
              "</div>\n",
              "      <button class=\"colab-df-convert\" onclick=\"convertToInteractive('df-db0c68d1-c912-4a9c-883c-3f2cda76c758')\"\n",
              "              title=\"Convert this dataframe to an interactive table.\"\n",
              "              style=\"display:none;\">\n",
              "        \n",
              "  <svg xmlns=\"http://www.w3.org/2000/svg\" height=\"24px\"viewBox=\"0 0 24 24\"\n",
              "       width=\"24px\">\n",
              "    <path d=\"M0 0h24v24H0V0z\" fill=\"none\"/>\n",
              "    <path d=\"M18.56 5.44l.94 2.06.94-2.06 2.06-.94-2.06-.94-.94-2.06-.94 2.06-2.06.94zm-11 1L8.5 8.5l.94-2.06 2.06-.94-2.06-.94L8.5 2.5l-.94 2.06-2.06.94zm10 10l.94 2.06.94-2.06 2.06-.94-2.06-.94-.94-2.06-.94 2.06-2.06.94z\"/><path d=\"M17.41 7.96l-1.37-1.37c-.4-.4-.92-.59-1.43-.59-.52 0-1.04.2-1.43.59L10.3 9.45l-7.72 7.72c-.78.78-.78 2.05 0 2.83L4 21.41c.39.39.9.59 1.41.59.51 0 1.02-.2 1.41-.59l7.78-7.78 2.81-2.81c.8-.78.8-2.07 0-2.86zM5.41 20L4 18.59l7.72-7.72 1.47 1.35L5.41 20z\"/>\n",
              "  </svg>\n",
              "      </button>\n",
              "      \n",
              "  <style>\n",
              "    .colab-df-container {\n",
              "      display:flex;\n",
              "      flex-wrap:wrap;\n",
              "      gap: 12px;\n",
              "    }\n",
              "\n",
              "    .colab-df-convert {\n",
              "      background-color: #E8F0FE;\n",
              "      border: none;\n",
              "      border-radius: 50%;\n",
              "      cursor: pointer;\n",
              "      display: none;\n",
              "      fill: #1967D2;\n",
              "      height: 32px;\n",
              "      padding: 0 0 0 0;\n",
              "      width: 32px;\n",
              "    }\n",
              "\n",
              "    .colab-df-convert:hover {\n",
              "      background-color: #E2EBFA;\n",
              "      box-shadow: 0px 1px 2px rgba(60, 64, 67, 0.3), 0px 1px 3px 1px rgba(60, 64, 67, 0.15);\n",
              "      fill: #174EA6;\n",
              "    }\n",
              "\n",
              "    [theme=dark] .colab-df-convert {\n",
              "      background-color: #3B4455;\n",
              "      fill: #D2E3FC;\n",
              "    }\n",
              "\n",
              "    [theme=dark] .colab-df-convert:hover {\n",
              "      background-color: #434B5C;\n",
              "      box-shadow: 0px 1px 3px 1px rgba(0, 0, 0, 0.15);\n",
              "      filter: drop-shadow(0px 1px 2px rgba(0, 0, 0, 0.3));\n",
              "      fill: #FFFFFF;\n",
              "    }\n",
              "  </style>\n",
              "\n",
              "      <script>\n",
              "        const buttonEl =\n",
              "          document.querySelector('#df-db0c68d1-c912-4a9c-883c-3f2cda76c758 button.colab-df-convert');\n",
              "        buttonEl.style.display =\n",
              "          google.colab.kernel.accessAllowed ? 'block' : 'none';\n",
              "\n",
              "        async function convertToInteractive(key) {\n",
              "          const element = document.querySelector('#df-db0c68d1-c912-4a9c-883c-3f2cda76c758');\n",
              "          const dataTable =\n",
              "            await google.colab.kernel.invokeFunction('convertToInteractive',\n",
              "                                                     [key], {});\n",
              "          if (!dataTable) return;\n",
              "\n",
              "          const docLinkHtml = 'Like what you see? Visit the ' +\n",
              "            '<a target=\"_blank\" href=https://colab.research.google.com/notebooks/data_table.ipynb>data table notebook</a>'\n",
              "            + ' to learn more about interactive tables.';\n",
              "          element.innerHTML = '';\n",
              "          dataTable['output_type'] = 'display_data';\n",
              "          await google.colab.output.renderOutput(dataTable, element);\n",
              "          const docLink = document.createElement('div');\n",
              "          docLink.innerHTML = docLinkHtml;\n",
              "          element.appendChild(docLink);\n",
              "        }\n",
              "      </script>\n",
              "    </div>\n",
              "  </div>\n",
              "  "
            ]
          },
          "metadata": {},
          "execution_count": 124
        }
      ]
    },
    {
      "cell_type": "markdown",
      "source": [
        "Q3) What is the value of correlation co-efficient between temperature (T) and relative humidity (RH)?"
      ],
      "metadata": {
        "id": "P1tcGT5ajXyL"
      }
    },
    {
      "cell_type": "code",
      "source": [
        "corr = air_quality_data_final.corr()\n",
        "corr.style.background_gradient(cmap='coolwarm').set_precision(4)"
      ],
      "metadata": {
        "colab": {
          "base_uri": "https://localhost:8080/",
          "height": 512
        },
        "id": "7ejo6cZwjSYV",
        "outputId": "d816535f-68c9-4220-b2ca-ed77e2d44be5"
      },
      "execution_count": null,
      "outputs": [
        {
          "output_type": "stream",
          "name": "stderr",
          "text": [
            "/usr/local/lib/python3.7/dist-packages/ipykernel_launcher.py:2: FutureWarning: this method is deprecated in favour of `Styler.format(precision=..)`\n",
            "  \n"
          ]
        },
        {
          "output_type": "execute_result",
          "data": {
            "text/plain": [
              "<pandas.io.formats.style.Styler at 0x7fbc6609d510>"
            ],
            "text/html": [
              "<style type=\"text/css\">\n",
              "#T_4eb36_row0_col0, #T_4eb36_row1_col1, #T_4eb36_row2_col2, #T_4eb36_row3_col3, #T_4eb36_row4_col4, #T_4eb36_row5_col5, #T_4eb36_row6_col6, #T_4eb36_row7_col7, #T_4eb36_row8_col8, #T_4eb36_row9_col9, #T_4eb36_row10_col10, #T_4eb36_row11_col11, #T_4eb36_row12_col12 {\n",
              "  background-color: #b40426;\n",
              "  color: #f1f1f1;\n",
              "}\n",
              "#T_4eb36_row0_col1, #T_4eb36_row0_col3, #T_4eb36_row0_col8, #T_4eb36_row5_col2, #T_4eb36_row5_col6, #T_4eb36_row5_col10, #T_4eb36_row5_col12, #T_4eb36_row6_col0, #T_4eb36_row6_col4, #T_4eb36_row6_col5, #T_4eb36_row6_col7, #T_4eb36_row6_col9, #T_4eb36_row7_col11 {\n",
              "  background-color: #3b4cc0;\n",
              "  color: #f1f1f1;\n",
              "}\n",
              "#T_4eb36_row0_col2 {\n",
              "  background-color: #6384eb;\n",
              "  color: #f1f1f1;\n",
              "}\n",
              "#T_4eb36_row0_col4 {\n",
              "  background-color: #5875e1;\n",
              "  color: #f1f1f1;\n",
              "}\n",
              "#T_4eb36_row0_col5, #T_4eb36_row12_col4 {\n",
              "  background-color: #f7b79b;\n",
              "  color: #000000;\n",
              "}\n",
              "#T_4eb36_row0_col6, #T_4eb36_row0_col9 {\n",
              "  background-color: #89acfd;\n",
              "  color: #000000;\n",
              "}\n",
              "#T_4eb36_row0_col7, #T_4eb36_row11_col1, #T_4eb36_row12_col6 {\n",
              "  background-color: #f59f80;\n",
              "  color: #000000;\n",
              "}\n",
              "#T_4eb36_row0_col10 {\n",
              "  background-color: #4c66d6;\n",
              "  color: #f1f1f1;\n",
              "}\n",
              "#T_4eb36_row0_col11, #T_4eb36_row5_col3 {\n",
              "  background-color: #4358cb;\n",
              "  color: #f1f1f1;\n",
              "}\n",
              "#T_4eb36_row0_col12 {\n",
              "  background-color: #485fd1;\n",
              "  color: #f1f1f1;\n",
              "}\n",
              "#T_4eb36_row1_col0, #T_4eb36_row7_col1 {\n",
              "  background-color: #5f7fe8;\n",
              "  color: #f1f1f1;\n",
              "}\n",
              "#T_4eb36_row1_col2 {\n",
              "  background-color: #7295f4;\n",
              "  color: #f1f1f1;\n",
              "}\n",
              "#T_4eb36_row1_col3, #T_4eb36_row1_col8 {\n",
              "  background-color: #e26952;\n",
              "  color: #f1f1f1;\n",
              "}\n",
              "#T_4eb36_row1_col4 {\n",
              "  background-color: #ca3b37;\n",
              "  color: #f1f1f1;\n",
              "}\n",
              "#T_4eb36_row1_col5 {\n",
              "  background-color: #dcdddd;\n",
              "  color: #000000;\n",
              "}\n",
              "#T_4eb36_row1_col6 {\n",
              "  background-color: #b5cdfa;\n",
              "  color: #000000;\n",
              "}\n",
              "#T_4eb36_row1_col7 {\n",
              "  background-color: #a7c5fe;\n",
              "  color: #000000;\n",
              "}\n",
              "#T_4eb36_row1_col9 {\n",
              "  background-color: #d24b40;\n",
              "  color: #f1f1f1;\n",
              "}\n",
              "#T_4eb36_row1_col10, #T_4eb36_row3_col4, #T_4eb36_row8_col3, #T_4eb36_row8_col10 {\n",
              "  background-color: #f08b6e;\n",
              "  color: #f1f1f1;\n",
              "}\n",
              "#T_4eb36_row1_col11 {\n",
              "  background-color: #f39475;\n",
              "  color: #000000;\n",
              "}\n",
              "#T_4eb36_row1_col12 {\n",
              "  background-color: #f08a6c;\n",
              "  color: #f1f1f1;\n",
              "}\n",
              "#T_4eb36_row2_col0 {\n",
              "  background-color: #7b9ff9;\n",
              "  color: #f1f1f1;\n",
              "}\n",
              "#T_4eb36_row2_col1 {\n",
              "  background-color: #6485ec;\n",
              "  color: #f1f1f1;\n",
              "}\n",
              "#T_4eb36_row2_col3 {\n",
              "  background-color: #4f69d9;\n",
              "  color: #f1f1f1;\n",
              "}\n",
              "#T_4eb36_row2_col4 {\n",
              "  background-color: #7093f3;\n",
              "  color: #f1f1f1;\n",
              "}\n",
              "#T_4eb36_row2_col5 {\n",
              "  background-color: #9ebeff;\n",
              "  color: #000000;\n",
              "}\n",
              "#T_4eb36_row2_col6 {\n",
              "  background-color: #abc8fd;\n",
              "  color: #000000;\n",
              "}\n",
              "#T_4eb36_row2_col7 {\n",
              "  background-color: #9abbff;\n",
              "  color: #000000;\n",
              "}\n",
              "#T_4eb36_row2_col8 {\n",
              "  background-color: #82a6fb;\n",
              "  color: #f1f1f1;\n",
              "}\n",
              "#T_4eb36_row2_col9 {\n",
              "  background-color: #8fb1fe;\n",
              "  color: #000000;\n",
              "}\n",
              "#T_4eb36_row2_col10 {\n",
              "  background-color: #6180e9;\n",
              "  color: #f1f1f1;\n",
              "}\n",
              "#T_4eb36_row2_col11 {\n",
              "  background-color: #5470de;\n",
              "  color: #f1f1f1;\n",
              "}\n",
              "#T_4eb36_row2_col12 {\n",
              "  background-color: #5977e3;\n",
              "  color: #f1f1f1;\n",
              "}\n",
              "#T_4eb36_row3_col0, #T_4eb36_row6_col2 {\n",
              "  background-color: #4a63d3;\n",
              "  color: #f1f1f1;\n",
              "}\n",
              "#T_4eb36_row3_col1 {\n",
              "  background-color: #e46e56;\n",
              "  color: #f1f1f1;\n",
              "}\n",
              "#T_4eb36_row3_col2, #T_4eb36_row12_col0 {\n",
              "  background-color: #465ecf;\n",
              "  color: #f1f1f1;\n",
              "}\n",
              "#T_4eb36_row3_col5 {\n",
              "  background-color: #9fbfff;\n",
              "  color: #000000;\n",
              "}\n",
              "#T_4eb36_row3_col6 {\n",
              "  background-color: #f7b99e;\n",
              "  color: #000000;\n",
              "}\n",
              "#T_4eb36_row3_col7 {\n",
              "  background-color: #799cf8;\n",
              "  color: #f1f1f1;\n",
              "}\n",
              "#T_4eb36_row3_col8 {\n",
              "  background-color: #ef886b;\n",
              "  color: #f1f1f1;\n",
              "}\n",
              "#T_4eb36_row3_col9 {\n",
              "  background-color: #f7aa8c;\n",
              "  color: #000000;\n",
              "}\n",
              "#T_4eb36_row3_col10 {\n",
              "  background-color: #bd1f2d;\n",
              "  color: #f1f1f1;\n",
              "}\n",
              "#T_4eb36_row3_col11, #T_4eb36_row4_col1 {\n",
              "  background-color: #cc403a;\n",
              "  color: #f1f1f1;\n",
              "}\n",
              "#T_4eb36_row3_col12, #T_4eb36_row12_col3 {\n",
              "  background-color: #b8122a;\n",
              "  color: #f1f1f1;\n",
              "}\n",
              "#T_4eb36_row4_col0 {\n",
              "  background-color: #5d7ce6;\n",
              "  color: #f1f1f1;\n",
              "}\n",
              "#T_4eb36_row4_col2 {\n",
              "  background-color: #5e7de7;\n",
              "  color: #f1f1f1;\n",
              "}\n",
              "#T_4eb36_row4_col3 {\n",
              "  background-color: #f18f71;\n",
              "  color: #f1f1f1;\n",
              "}\n",
              "#T_4eb36_row4_col5 {\n",
              "  background-color: #e5d8d1;\n",
              "  color: #000000;\n",
              "}\n",
              "#T_4eb36_row4_col6 {\n",
              "  background-color: #8db0fe;\n",
              "  color: #000000;\n",
              "}\n",
              "#T_4eb36_row4_col7 {\n",
              "  background-color: #aec9fc;\n",
              "  color: #000000;\n",
              "}\n",
              "#T_4eb36_row4_col8, #T_4eb36_row8_col4 {\n",
              "  background-color: #da5a49;\n",
              "  color: #f1f1f1;\n",
              "}\n",
              "#T_4eb36_row4_col9 {\n",
              "  background-color: #cf453c;\n",
              "  color: #f1f1f1;\n",
              "}\n",
              "#T_4eb36_row4_col10 {\n",
              "  background-color: #f7a98b;\n",
              "  color: #000000;\n",
              "}\n",
              "#T_4eb36_row4_col11, #T_4eb36_row11_col4 {\n",
              "  background-color: #f3c7b1;\n",
              "  color: #000000;\n",
              "}\n",
              "#T_4eb36_row4_col12 {\n",
              "  background-color: #f7b497;\n",
              "  color: #000000;\n",
              "}\n",
              "#T_4eb36_row5_col0, #T_4eb36_row9_col10 {\n",
              "  background-color: #ecd3c5;\n",
              "  color: #000000;\n",
              "}\n",
              "#T_4eb36_row5_col1 {\n",
              "  background-color: #8caffe;\n",
              "  color: #000000;\n",
              "}\n",
              "#T_4eb36_row5_col4 {\n",
              "  background-color: #b9d0f9;\n",
              "  color: #000000;\n",
              "}\n",
              "#T_4eb36_row5_col7 {\n",
              "  background-color: #e36b54;\n",
              "  color: #f1f1f1;\n",
              "}\n",
              "#T_4eb36_row5_col8, #T_4eb36_row9_col2 {\n",
              "  background-color: #5a78e4;\n",
              "  color: #f1f1f1;\n",
              "}\n",
              "#T_4eb36_row5_col9 {\n",
              "  background-color: #ead4c8;\n",
              "  color: #000000;\n",
              "}\n",
              "#T_4eb36_row5_col11 {\n",
              "  background-color: #4257c9;\n",
              "  color: #f1f1f1;\n",
              "}\n",
              "#T_4eb36_row6_col1, #T_4eb36_row7_col8, #T_4eb36_row7_col10 {\n",
              "  background-color: #4961d2;\n",
              "  color: #f1f1f1;\n",
              "}\n",
              "#T_4eb36_row6_col3 {\n",
              "  background-color: #e3d9d3;\n",
              "  color: #000000;\n",
              "}\n",
              "#T_4eb36_row6_col8 {\n",
              "  background-color: #7597f6;\n",
              "  color: #f1f1f1;\n",
              "}\n",
              "#T_4eb36_row6_col10 {\n",
              "  background-color: #f5c0a7;\n",
              "  color: #000000;\n",
              "}\n",
              "#T_4eb36_row6_col11, #T_4eb36_row11_col9 {\n",
              "  background-color: #f2c9b4;\n",
              "  color: #000000;\n",
              "}\n",
              "#T_4eb36_row6_col12 {\n",
              "  background-color: #f7bca1;\n",
              "  color: #000000;\n",
              "}\n",
              "#T_4eb36_row7_col0 {\n",
              "  background-color: #f7ad90;\n",
              "  color: #000000;\n",
              "}\n",
              "#T_4eb36_row7_col2 {\n",
              "  background-color: #5b7ae5;\n",
              "  color: #f1f1f1;\n",
              "}\n",
              "#T_4eb36_row7_col3 {\n",
              "  background-color: #4055c8;\n",
              "  color: #f1f1f1;\n",
              "}\n",
              "#T_4eb36_row7_col4 {\n",
              "  background-color: #86a9fc;\n",
              "  color: #f1f1f1;\n",
              "}\n",
              "#T_4eb36_row7_col5 {\n",
              "  background-color: #de614d;\n",
              "  color: #f1f1f1;\n",
              "}\n",
              "#T_4eb36_row7_col6 {\n",
              "  background-color: #6282ea;\n",
              "  color: #f1f1f1;\n",
              "}\n",
              "#T_4eb36_row7_col9 {\n",
              "  background-color: #bad0f8;\n",
              "  color: #000000;\n",
              "}\n",
              "#T_4eb36_row7_col12 {\n",
              "  background-color: #445acc;\n",
              "  color: #f1f1f1;\n",
              "}\n",
              "#T_4eb36_row8_col0, #T_4eb36_row11_col2 {\n",
              "  background-color: #3e51c5;\n",
              "  color: #f1f1f1;\n",
              "}\n",
              "#T_4eb36_row8_col1 {\n",
              "  background-color: #e67259;\n",
              "  color: #f1f1f1;\n",
              "}\n",
              "#T_4eb36_row8_col2 {\n",
              "  background-color: #6f92f3;\n",
              "  color: #f1f1f1;\n",
              "}\n",
              "#T_4eb36_row8_col5 {\n",
              "  background-color: #a9c6fd;\n",
              "  color: #000000;\n",
              "}\n",
              "#T_4eb36_row8_col6 {\n",
              "  background-color: #bcd2f7;\n",
              "  color: #000000;\n",
              "}\n",
              "#T_4eb36_row8_col7 {\n",
              "  background-color: #7699f6;\n",
              "  color: #f1f1f1;\n",
              "}\n",
              "#T_4eb36_row8_col9, #T_4eb36_row10_col8 {\n",
              "  background-color: #f29072;\n",
              "  color: #f1f1f1;\n",
              "}\n",
              "#T_4eb36_row8_col11, #T_4eb36_row11_col8 {\n",
              "  background-color: #f7b89c;\n",
              "  color: #000000;\n",
              "}\n",
              "#T_4eb36_row8_col12 {\n",
              "  background-color: #f6a586;\n",
              "  color: #000000;\n",
              "}\n",
              "#T_4eb36_row9_col0, #T_4eb36_row12_col7 {\n",
              "  background-color: #6b8df0;\n",
              "  color: #f1f1f1;\n",
              "}\n",
              "#T_4eb36_row9_col1 {\n",
              "  background-color: #d95847;\n",
              "  color: #f1f1f1;\n",
              "}\n",
              "#T_4eb36_row9_col3 {\n",
              "  background-color: #f6bda2;\n",
              "  color: #000000;\n",
              "}\n",
              "#T_4eb36_row9_col4 {\n",
              "  background-color: #d1493f;\n",
              "  color: #f1f1f1;\n",
              "}\n",
              "#T_4eb36_row9_col5 {\n",
              "  background-color: #f5c4ac;\n",
              "  color: #000000;\n",
              "}\n",
              "#T_4eb36_row9_col6 {\n",
              "  background-color: #6c8ff1;\n",
              "  color: #f1f1f1;\n",
              "}\n",
              "#T_4eb36_row9_col7 {\n",
              "  background-color: #c1d4f4;\n",
              "  color: #000000;\n",
              "}\n",
              "#T_4eb36_row9_col8, #T_4eb36_row10_col1 {\n",
              "  background-color: #f59c7d;\n",
              "  color: #000000;\n",
              "}\n",
              "#T_4eb36_row9_col11, #T_4eb36_row9_col12 {\n",
              "  background-color: #ebd3c6;\n",
              "  color: #000000;\n",
              "}\n",
              "#T_4eb36_row10_col0, #T_4eb36_row12_col2 {\n",
              "  background-color: #3f53c6;\n",
              "  color: #f1f1f1;\n",
              "}\n",
              "#T_4eb36_row10_col2 {\n",
              "  background-color: #3c4ec2;\n",
              "  color: #f1f1f1;\n",
              "}\n",
              "#T_4eb36_row10_col3 {\n",
              "  background-color: #be242e;\n",
              "  color: #f1f1f1;\n",
              "}\n",
              "#T_4eb36_row10_col4 {\n",
              "  background-color: #f7af91;\n",
              "  color: #000000;\n",
              "}\n",
              "#T_4eb36_row10_col5 {\n",
              "  background-color: #7ea1fa;\n",
              "  color: #f1f1f1;\n",
              "}\n",
              "#T_4eb36_row10_col6, #T_4eb36_row12_col8 {\n",
              "  background-color: #f7a889;\n",
              "  color: #000000;\n",
              "}\n",
              "#T_4eb36_row10_col7, #T_4eb36_row11_col7 {\n",
              "  background-color: #6687ed;\n",
              "  color: #f1f1f1;\n",
              "}\n",
              "#T_4eb36_row10_col9 {\n",
              "  background-color: #f0cdbb;\n",
              "  color: #000000;\n",
              "}\n",
              "#T_4eb36_row10_col11 {\n",
              "  background-color: #d85646;\n",
              "  color: #f1f1f1;\n",
              "}\n",
              "#T_4eb36_row10_col12, #T_4eb36_row12_col10 {\n",
              "  background-color: #ba162b;\n",
              "  color: #f1f1f1;\n",
              "}\n",
              "#T_4eb36_row11_col0 {\n",
              "  background-color: #455cce;\n",
              "  color: #f1f1f1;\n",
              "}\n",
              "#T_4eb36_row11_col3 {\n",
              "  background-color: #cd423b;\n",
              "  color: #f1f1f1;\n",
              "}\n",
              "#T_4eb36_row11_col5 {\n",
              "  background-color: #93b5fe;\n",
              "  color: #000000;\n",
              "}\n",
              "#T_4eb36_row11_col6 {\n",
              "  background-color: #f7ac8e;\n",
              "  color: #000000;\n",
              "}\n",
              "#T_4eb36_row11_col10 {\n",
              "  background-color: #d65244;\n",
              "  color: #f1f1f1;\n",
              "}\n",
              "#T_4eb36_row11_col12, #T_4eb36_row12_col11 {\n",
              "  background-color: #c73635;\n",
              "  color: #f1f1f1;\n",
              "}\n",
              "#T_4eb36_row12_col1 {\n",
              "  background-color: #f39778;\n",
              "  color: #000000;\n",
              "}\n",
              "#T_4eb36_row12_col5 {\n",
              "  background-color: #88abfd;\n",
              "  color: #000000;\n",
              "}\n",
              "#T_4eb36_row12_col9 {\n",
              "  background-color: #f2cab5;\n",
              "  color: #000000;\n",
              "}\n",
              "</style>\n",
              "<table id=\"T_4eb36_\" class=\"dataframe\">\n",
              "  <thead>\n",
              "    <tr>\n",
              "      <th class=\"blank level0\" >&nbsp;</th>\n",
              "      <th class=\"col_heading level0 col0\" >CO(GT)</th>\n",
              "      <th class=\"col_heading level0 col1\" >PT08.S1(CO)</th>\n",
              "      <th class=\"col_heading level0 col2\" >NMHC(GT)</th>\n",
              "      <th class=\"col_heading level0 col3\" >C6H6(GT)</th>\n",
              "      <th class=\"col_heading level0 col4\" >PT08.S2(NMHC)</th>\n",
              "      <th class=\"col_heading level0 col5\" >NOx(GT)</th>\n",
              "      <th class=\"col_heading level0 col6\" >PT08.S3(NOx)</th>\n",
              "      <th class=\"col_heading level0 col7\" >NO2(GT)</th>\n",
              "      <th class=\"col_heading level0 col8\" >PT08.S4(NO2)</th>\n",
              "      <th class=\"col_heading level0 col9\" >PT08.S5(O3)</th>\n",
              "      <th class=\"col_heading level0 col10\" >T</th>\n",
              "      <th class=\"col_heading level0 col11\" >RH</th>\n",
              "      <th class=\"col_heading level0 col12\" >AH</th>\n",
              "    </tr>\n",
              "  </thead>\n",
              "  <tbody>\n",
              "    <tr>\n",
              "      <th id=\"T_4eb36_level0_row0\" class=\"row_heading level0 row0\" >CO(GT)</th>\n",
              "      <td id=\"T_4eb36_row0_col0\" class=\"data row0 col0\" >1.0000</td>\n",
              "      <td id=\"T_4eb36_row0_col1\" class=\"data row0 col1\" >0.0414</td>\n",
              "      <td id=\"T_4eb36_row0_col2\" class=\"data row0 col2\" >0.1284</td>\n",
              "      <td id=\"T_4eb36_row0_col3\" class=\"data row0 col3\" >-0.0314</td>\n",
              "      <td id=\"T_4eb36_row0_col4\" class=\"data row0 col4\" >0.0299</td>\n",
              "      <td id=\"T_4eb36_row0_col5\" class=\"data row0 col5\" >0.5265</td>\n",
              "      <td id=\"T_4eb36_row0_col6\" class=\"data row0 col6\" >-0.0900</td>\n",
              "      <td id=\"T_4eb36_row0_col7\" class=\"data row0 col7\" >0.6711</td>\n",
              "      <td id=\"T_4eb36_row0_col8\" class=\"data row0 col8\" >-0.0737</td>\n",
              "      <td id=\"T_4eb36_row0_col9\" class=\"data row0 col9\" >0.0803</td>\n",
              "      <td id=\"T_4eb36_row0_col10\" class=\"data row0 col10\" >-0.0689</td>\n",
              "      <td id=\"T_4eb36_row0_col11\" class=\"data row0 col11\" >-0.0482</td>\n",
              "      <td id=\"T_4eb36_row0_col12\" class=\"data row0 col12\" >-0.0459</td>\n",
              "    </tr>\n",
              "    <tr>\n",
              "      <th id=\"T_4eb36_level0_row1\" class=\"row_heading level0 row1\" >PT08.S1(CO)</th>\n",
              "      <td id=\"T_4eb36_row1_col0\" class=\"data row1 col0\" >0.0414</td>\n",
              "      <td id=\"T_4eb36_row1_col1\" class=\"data row1 col1\" >1.0000</td>\n",
              "      <td id=\"T_4eb36_row1_col2\" class=\"data row1 col2\" >0.1700</td>\n",
              "      <td id=\"T_4eb36_row1_col3\" class=\"data row1 col3\" >0.8527</td>\n",
              "      <td id=\"T_4eb36_row1_col4\" class=\"data row1 col4\" >0.9331</td>\n",
              "      <td id=\"T_4eb36_row1_col5\" class=\"data row1 col5\" >0.2780</td>\n",
              "      <td id=\"T_4eb36_row1_col6\" class=\"data row1 col6\" >0.0870</td>\n",
              "      <td id=\"T_4eb36_row1_col7\" class=\"data row1 col7\" >0.1540</td>\n",
              "      <td id=\"T_4eb36_row1_col8\" class=\"data row1 col8\" >0.8451</td>\n",
              "      <td id=\"T_4eb36_row1_col9\" class=\"data row1 col9\" >0.8924</td>\n",
              "      <td id=\"T_4eb36_row1_col10\" class=\"data row1 col10\" >0.7548</td>\n",
              "      <td id=\"T_4eb36_row1_col11\" class=\"data row1 col11\" >0.7454</td>\n",
              "      <td id=\"T_4eb36_row1_col12\" class=\"data row1 col12\" >0.7649</td>\n",
              "    </tr>\n",
              "    <tr>\n",
              "      <th id=\"T_4eb36_level0_row2\" class=\"row_heading level0 row2\" >NMHC(GT)</th>\n",
              "      <td id=\"T_4eb36_row2_col0\" class=\"data row2 col0\" >0.1284</td>\n",
              "      <td id=\"T_4eb36_row2_col1\" class=\"data row2 col1\" >0.1700</td>\n",
              "      <td id=\"T_4eb36_row2_col2\" class=\"data row2 col2\" >1.0000</td>\n",
              "      <td id=\"T_4eb36_row2_col3\" class=\"data row2 col3\" >0.0373</td>\n",
              "      <td id=\"T_4eb36_row2_col4\" class=\"data row2 col4\" >0.1101</td>\n",
              "      <td id=\"T_4eb36_row2_col5\" class=\"data row2 col5\" >-0.0044</td>\n",
              "      <td id=\"T_4eb36_row2_col6\" class=\"data row2 col6\" >0.0488</td>\n",
              "      <td id=\"T_4eb36_row2_col7\" class=\"data row2 col7\" >0.1033</td>\n",
              "      <td id=\"T_4eb36_row2_col8\" class=\"data row2 col8\" >0.1627</td>\n",
              "      <td id=\"T_4eb36_row2_col9\" class=\"data row2 col9\" >0.1012</td>\n",
              "      <td id=\"T_4eb36_row2_col10\" class=\"data row2 col10\" >-0.0000</td>\n",
              "      <td id=\"T_4eb36_row2_col11\" class=\"data row2 col11\" >0.0083</td>\n",
              "      <td id=\"T_4eb36_row2_col12\" class=\"data row2 col12\" >0.0125</td>\n",
              "    </tr>\n",
              "    <tr>\n",
              "      <th id=\"T_4eb36_level0_row3\" class=\"row_heading level0 row3\" >C6H6(GT)</th>\n",
              "      <td id=\"T_4eb36_row3_col0\" class=\"data row3 col0\" >-0.0314</td>\n",
              "      <td id=\"T_4eb36_row3_col1\" class=\"data row3 col1\" >0.8527</td>\n",
              "      <td id=\"T_4eb36_row3_col2\" class=\"data row3 col2\" >0.0373</td>\n",
              "      <td id=\"T_4eb36_row3_col3\" class=\"data row3 col3\" >1.0000</td>\n",
              "      <td id=\"T_4eb36_row3_col4\" class=\"data row3 col4\" >0.7674</td>\n",
              "      <td id=\"T_4eb36_row3_col5\" class=\"data row3 col5\" >-0.0012</td>\n",
              "      <td id=\"T_4eb36_row3_col6\" class=\"data row3 col6\" >0.5122</td>\n",
              "      <td id=\"T_4eb36_row3_col7\" class=\"data row3 col7\" >-0.0110</td>\n",
              "      <td id=\"T_4eb36_row3_col8\" class=\"data row3 col8\" >0.7747</td>\n",
              "      <td id=\"T_4eb36_row3_col9\" class=\"data row3 col9\" >0.6413</td>\n",
              "      <td id=\"T_4eb36_row3_col10\" class=\"data row3 col10\" >0.9714</td>\n",
              "      <td id=\"T_4eb36_row3_col11\" class=\"data row3 col11\" >0.9251</td>\n",
              "      <td id=\"T_4eb36_row3_col12\" class=\"data row3 col12\" >0.9846</td>\n",
              "    </tr>\n",
              "    <tr>\n",
              "      <th id=\"T_4eb36_level0_row4\" class=\"row_heading level0 row4\" >PT08.S2(NMHC)</th>\n",
              "      <td id=\"T_4eb36_row4_col0\" class=\"data row4 col0\" >0.0299</td>\n",
              "      <td id=\"T_4eb36_row4_col1\" class=\"data row4 col1\" >0.9331</td>\n",
              "      <td id=\"T_4eb36_row4_col2\" class=\"data row4 col2\" >0.1101</td>\n",
              "      <td id=\"T_4eb36_row4_col3\" class=\"data row4 col3\" >0.7674</td>\n",
              "      <td id=\"T_4eb36_row4_col4\" class=\"data row4 col4\" >1.0000</td>\n",
              "      <td id=\"T_4eb36_row4_col5\" class=\"data row4 col5\" >0.3313</td>\n",
              "      <td id=\"T_4eb36_row4_col6\" class=\"data row4 col6\" >-0.0737</td>\n",
              "      <td id=\"T_4eb36_row4_col7\" class=\"data row4 col7\" >0.1765</td>\n",
              "      <td id=\"T_4eb36_row4_col8\" class=\"data row4 col8\" >0.8748</td>\n",
              "      <td id=\"T_4eb36_row4_col9\" class=\"data row4 col9\" >0.9099</td>\n",
              "      <td id=\"T_4eb36_row4_col10\" class=\"data row4 col10\" >0.6690</td>\n",
              "      <td id=\"T_4eb36_row4_col11\" class=\"data row4 col11\" >0.5858</td>\n",
              "      <td id=\"T_4eb36_row4_col12\" class=\"data row4 col12\" >0.6466</td>\n",
              "    </tr>\n",
              "    <tr>\n",
              "      <th id=\"T_4eb36_level0_row5\" class=\"row_heading level0 row5\" >NOx(GT)</th>\n",
              "      <td id=\"T_4eb36_row5_col0\" class=\"data row5 col0\" >0.5265</td>\n",
              "      <td id=\"T_4eb36_row5_col1\" class=\"data row5 col1\" >0.2780</td>\n",
              "      <td id=\"T_4eb36_row5_col2\" class=\"data row5 col2\" >-0.0044</td>\n",
              "      <td id=\"T_4eb36_row5_col3\" class=\"data row5 col3\" >-0.0012</td>\n",
              "      <td id=\"T_4eb36_row5_col4\" class=\"data row5 col4\" >0.3313</td>\n",
              "      <td id=\"T_4eb36_row5_col5\" class=\"data row5 col5\" >1.0000</td>\n",
              "      <td id=\"T_4eb36_row5_col6\" class=\"data row5 col6\" >-0.4361</td>\n",
              "      <td id=\"T_4eb36_row5_col7\" class=\"data row5 col7\" >0.8171</td>\n",
              "      <td id=\"T_4eb36_row5_col8\" class=\"data row5 col8\" >0.0355</td>\n",
              "      <td id=\"T_4eb36_row5_col9\" class=\"data row5 col9\" >0.4619</td>\n",
              "      <td id=\"T_4eb36_row5_col10\" class=\"data row5 col10\" >-0.1385</td>\n",
              "      <td id=\"T_4eb36_row5_col11\" class=\"data row5 col11\" >-0.0530</td>\n",
              "      <td id=\"T_4eb36_row5_col12\" class=\"data row5 col12\" >-0.0958</td>\n",
              "    </tr>\n",
              "    <tr>\n",
              "      <th id=\"T_4eb36_level0_row6\" class=\"row_heading level0 row6\" >PT08.S3(NOx)</th>\n",
              "      <td id=\"T_4eb36_row6_col0\" class=\"data row6 col0\" >-0.0900</td>\n",
              "      <td id=\"T_4eb36_row6_col1\" class=\"data row6 col1\" >0.0870</td>\n",
              "      <td id=\"T_4eb36_row6_col2\" class=\"data row6 col2\" >0.0488</td>\n",
              "      <td id=\"T_4eb36_row6_col3\" class=\"data row6 col3\" >0.5122</td>\n",
              "      <td id=\"T_4eb36_row6_col4\" class=\"data row6 col4\" >-0.0737</td>\n",
              "      <td id=\"T_4eb36_row6_col5\" class=\"data row6 col5\" >-0.4361</td>\n",
              "      <td id=\"T_4eb36_row6_col6\" class=\"data row6 col6\" >1.0000</td>\n",
              "      <td id=\"T_4eb36_row6_col7\" class=\"data row6 col7\" >-0.2562</td>\n",
              "      <td id=\"T_4eb36_row6_col8\" class=\"data row6 col8\" >0.1227</td>\n",
              "      <td id=\"T_4eb36_row6_col9\" class=\"data row6 col9\" >-0.2089</td>\n",
              "      <td id=\"T_4eb36_row6_col10\" class=\"data row6 col10\" >0.5881</td>\n",
              "      <td id=\"T_4eb36_row6_col11\" class=\"data row6 col11\" >0.5735</td>\n",
              "      <td id=\"T_4eb36_row6_col12\" class=\"data row6 col12\" >0.6216</td>\n",
              "    </tr>\n",
              "    <tr>\n",
              "      <th id=\"T_4eb36_level0_row7\" class=\"row_heading level0 row7\" >NO2(GT)</th>\n",
              "      <td id=\"T_4eb36_row7_col0\" class=\"data row7 col0\" >0.6711</td>\n",
              "      <td id=\"T_4eb36_row7_col1\" class=\"data row7 col1\" >0.1540</td>\n",
              "      <td id=\"T_4eb36_row7_col2\" class=\"data row7 col2\" >0.1033</td>\n",
              "      <td id=\"T_4eb36_row7_col3\" class=\"data row7 col3\" >-0.0110</td>\n",
              "      <td id=\"T_4eb36_row7_col4\" class=\"data row7 col4\" >0.1765</td>\n",
              "      <td id=\"T_4eb36_row7_col5\" class=\"data row7 col5\" >0.8171</td>\n",
              "      <td id=\"T_4eb36_row7_col6\" class=\"data row7 col6\" >-0.2562</td>\n",
              "      <td id=\"T_4eb36_row7_col7\" class=\"data row7 col7\" >1.0000</td>\n",
              "      <td id=\"T_4eb36_row7_col8\" class=\"data row7 col8\" >-0.0222</td>\n",
              "      <td id=\"T_4eb36_row7_col9\" class=\"data row7 col9\" >0.2534</td>\n",
              "      <td id=\"T_4eb36_row7_col10\" class=\"data row7 col10\" >-0.0841</td>\n",
              "      <td id=\"T_4eb36_row7_col11\" class=\"data row7 col11\" >-0.0813</td>\n",
              "      <td id=\"T_4eb36_row7_col12\" class=\"data row7 col12\" >-0.0604</td>\n",
              "    </tr>\n",
              "    <tr>\n",
              "      <th id=\"T_4eb36_level0_row8\" class=\"row_heading level0 row8\" >PT08.S4(NO2)</th>\n",
              "      <td id=\"T_4eb36_row8_col0\" class=\"data row8 col0\" >-0.0737</td>\n",
              "      <td id=\"T_4eb36_row8_col1\" class=\"data row8 col1\" >0.8451</td>\n",
              "      <td id=\"T_4eb36_row8_col2\" class=\"data row8 col2\" >0.1627</td>\n",
              "      <td id=\"T_4eb36_row8_col3\" class=\"data row8 col3\" >0.7747</td>\n",
              "      <td id=\"T_4eb36_row8_col4\" class=\"data row8 col4\" >0.8748</td>\n",
              "      <td id=\"T_4eb36_row8_col5\" class=\"data row8 col5\" >0.0355</td>\n",
              "      <td id=\"T_4eb36_row8_col6\" class=\"data row8 col6\" >0.1227</td>\n",
              "      <td id=\"T_4eb36_row8_col7\" class=\"data row8 col7\" >-0.0222</td>\n",
              "      <td id=\"T_4eb36_row8_col8\" class=\"data row8 col8\" >1.0000</td>\n",
              "      <td id=\"T_4eb36_row8_col9\" class=\"data row8 col9\" >0.7237</td>\n",
              "      <td id=\"T_4eb36_row8_col10\" class=\"data row8 col10\" >0.7551</td>\n",
              "      <td id=\"T_4eb36_row8_col11\" class=\"data row8 col11\" >0.6407</td>\n",
              "      <td id=\"T_4eb36_row8_col12\" class=\"data row8 col12\" >0.6919</td>\n",
              "    </tr>\n",
              "    <tr>\n",
              "      <th id=\"T_4eb36_level0_row9\" class=\"row_heading level0 row9\" >PT08.S5(O3)</th>\n",
              "      <td id=\"T_4eb36_row9_col0\" class=\"data row9 col0\" >0.0803</td>\n",
              "      <td id=\"T_4eb36_row9_col1\" class=\"data row9 col1\" >0.8924</td>\n",
              "      <td id=\"T_4eb36_row9_col2\" class=\"data row9 col2\" >0.1012</td>\n",
              "      <td id=\"T_4eb36_row9_col3\" class=\"data row9 col3\" >0.6413</td>\n",
              "      <td id=\"T_4eb36_row9_col4\" class=\"data row9 col4\" >0.9099</td>\n",
              "      <td id=\"T_4eb36_row9_col5\" class=\"data row9 col5\" >0.4619</td>\n",
              "      <td id=\"T_4eb36_row9_col6\" class=\"data row9 col6\" >-0.2089</td>\n",
              "      <td id=\"T_4eb36_row9_col7\" class=\"data row9 col7\" >0.2534</td>\n",
              "      <td id=\"T_4eb36_row9_col8\" class=\"data row9 col8\" >0.7237</td>\n",
              "      <td id=\"T_4eb36_row9_col9\" class=\"data row9 col9\" >1.0000</td>\n",
              "      <td id=\"T_4eb36_row9_col10\" class=\"data row9 col10\" >0.5037</td>\n",
              "      <td id=\"T_4eb36_row9_col11\" class=\"data row9 col11\" >0.5250</td>\n",
              "      <td id=\"T_4eb36_row9_col12\" class=\"data row9 col12\" >0.5195</td>\n",
              "    </tr>\n",
              "    <tr>\n",
              "      <th id=\"T_4eb36_level0_row10\" class=\"row_heading level0 row10\" >T</th>\n",
              "      <td id=\"T_4eb36_row10_col0\" class=\"data row10 col0\" >-0.0689</td>\n",
              "      <td id=\"T_4eb36_row10_col1\" class=\"data row10 col1\" >0.7548</td>\n",
              "      <td id=\"T_4eb36_row10_col2\" class=\"data row10 col2\" >-0.0000</td>\n",
              "      <td id=\"T_4eb36_row10_col3\" class=\"data row10 col3\" >0.9714</td>\n",
              "      <td id=\"T_4eb36_row10_col4\" class=\"data row10 col4\" >0.6690</td>\n",
              "      <td id=\"T_4eb36_row10_col5\" class=\"data row10 col5\" >-0.1385</td>\n",
              "      <td id=\"T_4eb36_row10_col6\" class=\"data row10 col6\" >0.5881</td>\n",
              "      <td id=\"T_4eb36_row10_col7\" class=\"data row10 col7\" >-0.0841</td>\n",
              "      <td id=\"T_4eb36_row10_col8\" class=\"data row10 col8\" >0.7551</td>\n",
              "      <td id=\"T_4eb36_row10_col9\" class=\"data row10 col9\" >0.5037</td>\n",
              "      <td id=\"T_4eb36_row10_col10\" class=\"data row10 col10\" >1.0000</td>\n",
              "      <td id=\"T_4eb36_row10_col11\" class=\"data row10 col11\" >0.8859</td>\n",
              "      <td id=\"T_4eb36_row10_col12\" class=\"data row10 col12\" >0.9810</td>\n",
              "    </tr>\n",
              "    <tr>\n",
              "      <th id=\"T_4eb36_level0_row11\" class=\"row_heading level0 row11\" >RH</th>\n",
              "      <td id=\"T_4eb36_row11_col0\" class=\"data row11 col0\" >-0.0482</td>\n",
              "      <td id=\"T_4eb36_row11_col1\" class=\"data row11 col1\" >0.7454</td>\n",
              "      <td id=\"T_4eb36_row11_col2\" class=\"data row11 col2\" >0.0083</td>\n",
              "      <td id=\"T_4eb36_row11_col3\" class=\"data row11 col3\" >0.9251</td>\n",
              "      <td id=\"T_4eb36_row11_col4\" class=\"data row11 col4\" >0.5858</td>\n",
              "      <td id=\"T_4eb36_row11_col5\" class=\"data row11 col5\" >-0.0530</td>\n",
              "      <td id=\"T_4eb36_row11_col6\" class=\"data row11 col6\" >0.5735</td>\n",
              "      <td id=\"T_4eb36_row11_col7\" class=\"data row11 col7\" >-0.0813</td>\n",
              "      <td id=\"T_4eb36_row11_col8\" class=\"data row11 col8\" >0.6407</td>\n",
              "      <td id=\"T_4eb36_row11_col9\" class=\"data row11 col9\" >0.5250</td>\n",
              "      <td id=\"T_4eb36_row11_col10\" class=\"data row11 col10\" >0.8859</td>\n",
              "      <td id=\"T_4eb36_row11_col11\" class=\"data row11 col11\" >1.0000</td>\n",
              "      <td id=\"T_4eb36_row11_col12\" class=\"data row11 col12\" >0.9440</td>\n",
              "    </tr>\n",
              "    <tr>\n",
              "      <th id=\"T_4eb36_level0_row12\" class=\"row_heading level0 row12\" >AH</th>\n",
              "      <td id=\"T_4eb36_row12_col0\" class=\"data row12 col0\" >-0.0459</td>\n",
              "      <td id=\"T_4eb36_row12_col1\" class=\"data row12 col1\" >0.7649</td>\n",
              "      <td id=\"T_4eb36_row12_col2\" class=\"data row12 col2\" >0.0125</td>\n",
              "      <td id=\"T_4eb36_row12_col3\" class=\"data row12 col3\" >0.9846</td>\n",
              "      <td id=\"T_4eb36_row12_col4\" class=\"data row12 col4\" >0.6466</td>\n",
              "      <td id=\"T_4eb36_row12_col5\" class=\"data row12 col5\" >-0.0958</td>\n",
              "      <td id=\"T_4eb36_row12_col6\" class=\"data row12 col6\" >0.6216</td>\n",
              "      <td id=\"T_4eb36_row12_col7\" class=\"data row12 col7\" >-0.0604</td>\n",
              "      <td id=\"T_4eb36_row12_col8\" class=\"data row12 col8\" >0.6919</td>\n",
              "      <td id=\"T_4eb36_row12_col9\" class=\"data row12 col9\" >0.5195</td>\n",
              "      <td id=\"T_4eb36_row12_col10\" class=\"data row12 col10\" >0.9810</td>\n",
              "      <td id=\"T_4eb36_row12_col11\" class=\"data row12 col11\" >0.9440</td>\n",
              "      <td id=\"T_4eb36_row12_col12\" class=\"data row12 col12\" >1.0000</td>\n",
              "    </tr>\n",
              "  </tbody>\n",
              "</table>\n"
            ]
          },
          "metadata": {},
          "execution_count": 126
        }
      ]
    },
    {
      "cell_type": "markdown",
      "source": [
        "* Separate features and target variable.\n",
        "* split the dataset into training and test dataset in 80:20 proportion with \"random_state=1\"\n",
        "* Create a pipeline with scaler as StandardScaler and classifier as MLPRegressor.\n",
        "* Classifier should have the following properties:\n",
        "* Classifier should have three hidden layers with 50 neurons each.\n",
        "  * set tol=1e-2, alpha=1e-4,solver=\"adam\", learning_rate_init=0.1, max_iter=50, random_state=1"
      ],
      "metadata": {
        "id": "t7u6DlpPjnoT"
      }
    },
    {
      "cell_type": "code",
      "source": [
        "air_target = air_quality_data_final['AH']\n",
        "print(target.shape)\n",
        "air_features = air_quality_data_final.drop(columns=['AH'])\n",
        "print(air_features.shape)"
      ],
      "metadata": {
        "colab": {
          "base_uri": "https://localhost:8080/"
        },
        "id": "S_KhOtM7jz4H",
        "outputId": "871b264e-ac9f-47e9-e811-fbadd2df2bb6"
      },
      "execution_count": null,
      "outputs": [
        {
          "output_type": "stream",
          "name": "stdout",
          "text": [
            "(9357,)\n",
            "(9357, 12)\n"
          ]
        }
      ]
    },
    {
      "cell_type": "code",
      "source": [
        "from sklearn.neural_network import MLPRegressor\n",
        "X_train, X_test, y_train, y_test = train_test_split(air_features, air_target, test_size=0.2, random_state=1)\n",
        "mlp_reg = MLPRegressor(hidden_layer_sizes=(50,50,50), tol=1e-2, alpha=1e-4, solver='adam',\n",
        "                       learning_rate_init=0.1, max_iter=50, random_state=1)\n",
        "air_pipe = Pipeline([('scaler', StandardScaler()),\n",
        "                     ('mlp_reg', mlp_reg)\n",
        "                     ])\n",
        "air_pipe.fit(X_train, y_train)"
      ],
      "metadata": {
        "colab": {
          "base_uri": "https://localhost:8080/"
        },
        "id": "x-tk0B_jkWhp",
        "outputId": "0c4d288a-f2d9-4faf-9f08-b5220630d7c4"
      },
      "execution_count": null,
      "outputs": [
        {
          "output_type": "execute_result",
          "data": {
            "text/plain": [
              "Pipeline(steps=[('scaler', StandardScaler()),\n",
              "                ('mlp_reg',\n",
              "                 MLPRegressor(hidden_layer_sizes=(50, 50, 50),\n",
              "                              learning_rate_init=0.1, max_iter=50,\n",
              "                              random_state=1, tol=0.01))])"
            ]
          },
          "metadata": {},
          "execution_count": 138
        }
      ]
    },
    {
      "cell_type": "markdown",
      "source": [
        "Q4) How many samples are there in the test dataset?"
      ],
      "metadata": {
        "id": "-KNmAvJWlx1p"
      }
    },
    {
      "cell_type": "code",
      "source": [
        "X_test.shape, y_test.shape"
      ],
      "metadata": {
        "colab": {
          "base_uri": "https://localhost:8080/"
        },
        "id": "Ei7U7wshlzvW",
        "outputId": "ee6d59b9-aab6-4bd0-d544-5bd7bac0faa0"
      },
      "execution_count": null,
      "outputs": [
        {
          "output_type": "execute_result",
          "data": {
            "text/plain": [
              "((1872, 12), (1872,))"
            ]
          },
          "metadata": {},
          "execution_count": 139
        }
      ]
    },
    {
      "cell_type": "markdown",
      "source": [
        "Q5) What is the value of coefficient of determination of the prediction on the training dataset?"
      ],
      "metadata": {
        "id": "1urX2IMil7cm"
      }
    },
    {
      "cell_type": "code",
      "source": [
        "# predictions = air_pipe.predict(X_train)\n",
        "train_score = air_pipe.score(X_train, y_train)\n",
        "print(train_score)"
      ],
      "metadata": {
        "colab": {
          "base_uri": "https://localhost:8080/"
        },
        "id": "eDCe9cDGl8tQ",
        "outputId": "df081c8d-2575-4974-b054-08e2088fa5f5"
      },
      "execution_count": null,
      "outputs": [
        {
          "output_type": "stream",
          "name": "stdout",
          "text": [
            "0.999992602958679\n"
          ]
        }
      ]
    },
    {
      "cell_type": "markdown",
      "source": [
        "Q6) What is the value of coefficient of determination of the prediction on the test dataset?"
      ],
      "metadata": {
        "id": "E0DeqL7fmA5U"
      }
    },
    {
      "cell_type": "code",
      "source": [
        "test_score = air_pipe.score(X_test, y_test)\n",
        "print(test_score)"
      ],
      "metadata": {
        "colab": {
          "base_uri": "https://localhost:8080/"
        },
        "id": "unoj9civnWKL",
        "outputId": "deea08d3-0ce9-44b3-b164-13977e2ebb11"
      },
      "execution_count": null,
      "outputs": [
        {
          "output_type": "stream",
          "name": "stdout",
          "text": [
            "0.9999920781245708\n"
          ]
        }
      ]
    },
    {
      "cell_type": "markdown",
      "source": [
        "Q7) What will be the prediction of the model on the first intance of training set?"
      ],
      "metadata": {
        "id": "rwrqCfccmCgq"
      }
    },
    {
      "cell_type": "code",
      "source": [
        "predictions = air_pipe.predict(X_train)\n",
        "print(predictions[0])"
      ],
      "metadata": {
        "colab": {
          "base_uri": "https://localhost:8080/"
        },
        "id": "pBdHqdtJniGA",
        "outputId": "9c49df13-39a8-4c21-c62c-0c350f4cc197"
      },
      "execution_count": null,
      "outputs": [
        {
          "output_type": "stream",
          "name": "stdout",
          "text": [
            "1.5977531509180736\n"
          ]
        }
      ]
    }
  ]
}