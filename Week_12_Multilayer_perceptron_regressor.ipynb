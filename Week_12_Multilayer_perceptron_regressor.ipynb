{
  "cells": [
    {
      "cell_type": "markdown",
      "metadata": {
        "id": "CP7BBXhszu34"
      },
      "source": [
        "# **Neural networks model in scikit-learn**"
      ]
    },
    {
      "cell_type": "markdown",
      "metadata": {
        "id": "j6y1PY0r0upn"
      },
      "source": [
        "# **MLP Regressor**\n",
        "\n",
        "MLPRegressor implements a multi-layer perceptron (MLP) that trains using backpropagation with no activation function in the output layer.\n",
        "\n",
        "Therefore, it uses the square error as the loss function, and the output is a set of continuous values."
      ]
    },
    {
      "cell_type": "markdown",
      "metadata": {
        "id": "tlM_Zzk8PnZ6"
      },
      "source": [
        "## **Import basic libraries**"
      ]
    },
    {
      "cell_type": "code",
      "execution_count": null,
      "metadata": {
        "id": "hYMtC-VkLys3"
      },
      "outputs": [],
      "source": [
        "import pandas as pd\n",
        "import matplotlib.pyplot as plt\n",
        "import seaborn as sns\n",
        "import numpy as np\n",
        "import sklearn as sklearn\n",
        "from sklearn import datasets"
      ]
    },
    {
      "cell_type": "code",
      "execution_count": null,
      "metadata": {
        "id": "NSs_rNgd9ZSq"
      },
      "outputs": [],
      "source": [
        "# Import the libraries for performing classification\n",
        "from sklearn.model_selection import train_test_split\n",
        "from sklearn.neural_network import MLPRegressor\n",
        "from sklearn.preprocessing import StandardScaler\n",
        "from sklearn.pipeline import Pipeline\n",
        "from sklearn.metrics import mean_absolute_error\n",
        "from sklearn.metrics import mean_absolute_percentage_error\n",
        "from sklearn.model_selection import cross_validate, ShuffleSplit"
      ]
    },
    {
      "cell_type": "code",
      "source": [
        "np.random.seed(306)\n",
        "cv = ShuffleSplit(n_splits=5, test_size=0.2, random_state=42)"
      ],
      "metadata": {
        "id": "dRCnI63HOI7x"
      },
      "execution_count": null,
      "outputs": []
    },
    {
      "cell_type": "markdown",
      "metadata": {
        "id": "kV-HUNCLEHWe"
      },
      "source": [
        "## **Load dataset**"
      ]
    },
    {
      "cell_type": "markdown",
      "metadata": {
        "id": "7ZHV2XLJ0337"
      },
      "source": [
        "Let us use the California Housing dataset for the demo of MLPRegressor"
      ]
    },
    {
      "cell_type": "code",
      "execution_count": null,
      "metadata": {
        "id": "jzlQkd_G5uq9"
      },
      "outputs": [],
      "source": [
        "# Load dataset\n",
        "dataset = sklearn.datasets.fetch_california_housing()\n",
        "X, y = dataset.data, dataset.target\n",
        "\n",
        "X_train, X_test, y_train, y_test = train_test_split(\n",
        "    X, y, test_size=0.2, random_state=1)"
      ]
    },
    {
      "cell_type": "code",
      "execution_count": null,
      "metadata": {
        "colab": {
          "base_uri": "https://localhost:8080/"
        },
        "id": "bWYx2MK6qnUD",
        "outputId": "4d043ab3-030a-42bb-b375-13043c3e3c1c"
      },
      "outputs": [
        {
          "output_type": "stream",
          "name": "stdout",
          "text": [
            "Shape of training data (16512, 8)\n",
            "Shape of testing data (4128, 8)\n"
          ]
        }
      ],
      "source": [
        "print('Shape of training data',X_train.shape)\n",
        "print('Shape of testing data', X_test.shape)"
      ]
    },
    {
      "cell_type": "markdown",
      "metadata": {
        "id": "Iw0AGm0rEMGC"
      },
      "source": [
        "## **Fit a pipeline to implement MLPRegressor on California housing dataset**"
      ]
    },
    {
      "cell_type": "markdown",
      "metadata": {
        "id": "R7FVfFBEJVFy"
      },
      "source": [
        "Let us train a MLP regressor with three hidden layers each with 32 neurons."
      ]
    },
    {
      "cell_type": "code",
      "execution_count": null,
      "metadata": {
        "colab": {
          "base_uri": "https://localhost:8080/"
        },
        "id": "Yhwnwga0t-__",
        "outputId": "7b56f926-9eab-40dd-e645-6509b95ac86b"
      },
      "outputs": [
        {
          "output_type": "stream",
          "name": "stdout",
          "text": [
            "Mean absolute error of linear regression model on the train set:\n",
            "0.212 +/- 0.006\n",
            "Mean absolute error of linear regression model on the test set:\n",
            "0.212 +/- 0.007\n"
          ]
        }
      ],
      "source": [
        "pipe = Pipeline([('scaler', StandardScaler()),\n",
        "                 (\"regressor\", MLPRegressor(hidden_layer_sizes=(32)))])\n",
        "\n",
        "cv_results = cross_validate(pipe, \n",
        "                            X_train, \n",
        "                            y_train,\n",
        "                            cv=cv, \n",
        "                            scoring=\"neg_mean_absolute_percentage_error\",\n",
        "                            return_train_score=True,\n",
        "                            return_estimator=True,\n",
        "                            n_jobs=2)\n",
        "\n",
        "mlp_train_error = -1 * cv_results['train_score']\n",
        "mlp_test_error = -1 * cv_results['test_score']\n",
        "\n",
        "print(f\"Mean absolute error of linear regression model on the train set:\\n\"\n",
        "      f\"{mlp_train_error.mean():.3f} +/- {mlp_train_error.std():.3f}\")\n",
        "print(f\"Mean absolute error of linear regression model on the test set:\\n\"\n",
        "      f\"{mlp_test_error.mean():.3f} +/- {mlp_test_error.std():.3f}\")"
      ]
    },
    {
      "cell_type": "code",
      "source": [
        "pipe.fit(X_train, y_train)"
      ],
      "metadata": {
        "colab": {
          "base_uri": "https://localhost:8080/"
        },
        "id": "HUNL4UGAVpi5",
        "outputId": "1aff4421-bf6a-402c-c08c-0b89e0656795"
      },
      "execution_count": null,
      "outputs": [
        {
          "output_type": "execute_result",
          "data": {
            "text/plain": [
              "Pipeline(steps=[('scaler', StandardScaler()),\n",
              "                ('regressor', MLPRegressor(hidden_layer_sizes=32))])"
            ]
          },
          "metadata": {},
          "execution_count": 7
        }
      ]
    },
    {
      "cell_type": "code",
      "source": [
        "mean_absolute_percentage_error(y_train, pipe.predict(X_train))"
      ],
      "metadata": {
        "colab": {
          "base_uri": "https://localhost:8080/"
        },
        "id": "rvlnp1D9Wh7R",
        "outputId": "69eb6a77-cadd-4e99-e8b4-5eec2d31082b"
      },
      "execution_count": null,
      "outputs": [
        {
          "output_type": "execute_result",
          "data": {
            "text/plain": [
              "0.20517616916407086"
            ]
          },
          "metadata": {},
          "execution_count": 8
        }
      ]
    },
    {
      "cell_type": "code",
      "source": [
        "mean_absolute_percentage_error(y_test, pipe.predict(X_test))"
      ],
      "metadata": {
        "colab": {
          "base_uri": "https://localhost:8080/"
        },
        "id": "WJraRCShQkNA",
        "outputId": "8c0fa067-e9f4-4637-fecb-c4ef0d7980ef"
      },
      "execution_count": null,
      "outputs": [
        {
          "output_type": "execute_result",
          "data": {
            "text/plain": [
              "0.21680164186883186"
            ]
          },
          "metadata": {},
          "execution_count": 10
        }
      ]
    },
    {
      "cell_type": "code",
      "source": [
        "plt.plot(y_test, pipe.predict(X_test), 'b*')\n",
        "plt.plot(y_test, y_test, 'g-')\n",
        "plt.xlabel('actual')\n",
        "plt.ylabel('predicted')"
      ],
      "metadata": {
        "colab": {
          "base_uri": "https://localhost:8080/",
          "height": 297
        },
        "id": "wRJv7WC8KmIK",
        "outputId": "b4d974f8-82fd-443c-b1a4-6f4fc467d32c"
      },
      "execution_count": null,
      "outputs": [
        {
          "output_type": "execute_result",
          "data": {
            "text/plain": [
              "Text(0, 0.5, 'predicted')"
            ]
          },
          "metadata": {},
          "execution_count": 11
        },
        {
          "output_type": "display_data",
          "data": {
            "text/plain": [
              "<Figure size 432x288 with 1 Axes>"
            ],
            "image/png": "[encoded data removed]"
          },
          "metadata": {
            "needs_background": "light"
          }
        }
      ]
    },
    {
      "cell_type": "markdown",
      "metadata": {
        "id": "nUOWkrIwj2RA"
      },
      "source": [
        "## **Using GridsearchCV**"
      ]
    },
    {
      "cell_type": "markdown",
      "metadata": {
        "id": "WODH5bxf90Wq"
      },
      "source": [
        "Let us use a grid search cross-validation to explore combinations of parameters of MLPClassifier. \n",
        "1. Learning rate strategies\n",
        "2. Alpha"
      ]
    },
    {
      "cell_type": "code",
      "execution_count": null,
      "metadata": {
        "id": "ER4FM5zdhlre"
      },
      "outputs": [],
      "source": [
        "# scaler = StandardScaler()\n",
        "# X_train = scaler.fit_transform(X_train)\n",
        "\n",
        "# learning_strategy=['constant','invscaling']\n",
        "# alphas = np.logspace(-1, 1, 5)\n",
        "\n",
        "# parameters = dict(learning_rate=learning_strategy, alpha=alphas)\n",
        "# grid = GridSearchCV(MLPRegressor(learning_rate_init=0.01, tol=1e-2, max_iter=500,solver='sgd'), param_grid=parameters, cv=3)\n",
        "# grid.fit(X_train, y_train)\n",
        "# "
      ]
    },
    {
      "cell_type": "code",
      "execution_count": null,
      "metadata": {
        "id": "o4Y4QJ1leuPW"
      },
      "outputs": [],
      "source": [
        "# print(\"The best parameters are : \", grid.best_params_)\n",
        "# print(\"The best score is : \", grid.best_score_*100)"
      ]
    }
  ],
  "metadata": {
    "colab": {
      "provenance": []
    },
    "kernelspec": {
      "display_name": "Python 3",
      "name": "python3"
    },
    "language_info": {
      "name": "python"
    }
  },
  "nbformat": 4,
  "nbformat_minor": 0
}