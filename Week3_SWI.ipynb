{
  "nbformat": 4,
  "nbformat_minor": 0,
  "metadata": {
    "colab": {
      "provenance": [],
      "authorship_tag": "ABX9TyP2KvBFeqZPJXebdQ3Ga0hE"
    },
    "kernelspec": {
      "name": "python3",
      "display_name": "Python 3"
    },
    "language_info": {
      "name": "python"
    }
  },
  "cells": [
    {
      "cell_type": "code",
      "execution_count": null,
      "metadata": {
        "id": "iiUf_i_sAEIP"
      },
      "outputs": [],
      "source": [
        "import numpy as np\n",
        "import pandas as pd\n",
        "\n",
        "from sklearn.datasets import fetch_california_housing, load_diabetes\n",
        "from sklearn.model_selection import train_test_split\n",
        "from sklearn.metrics import r2_score"
      ]
    },
    {
      "cell_type": "code",
      "source": [
        "X, y = fetch_california_housing(as_frame=True, return_X_y=True)\n",
        "X_train, X_test, y_train, y_test = train_test_split(X, y, test_size=0.3, random_state=42)"
      ],
      "metadata": {
        "id": "IgNv0wOJAVab"
      },
      "execution_count": null,
      "outputs": []
    },
    {
      "cell_type": "code",
      "source": [
        "print(X.shape, y.shape, X_train.shape, y_train.shape)"
      ],
      "metadata": {
        "colab": {
          "base_uri": "https://localhost:8080/"
        },
        "id": "aDhY1OraA0HB",
        "outputId": "d42918a4-62be-43a0-9ab7-423c3d157f1f"
      },
      "execution_count": null,
      "outputs": [
        {
          "output_type": "stream",
          "name": "stdout",
          "text": [
            "(20640, 8) (20640,) (14448, 8) (14448,)\n"
          ]
        }
      ]
    },
    {
      "cell_type": "markdown",
      "source": [
        "* Import Linear regression\n",
        "* fit the data split to earlier model\n",
        "* Test and calculate the score"
      ],
      "metadata": {
        "id": "d7cM3bOsFD8l"
      }
    },
    {
      "cell_type": "code",
      "source": [
        "from sklearn.linear_model import LinearRegression\n",
        "lin_reg = LinearRegression()\n",
        "lin_reg.fit(X_train, y_train)\n",
        "y_predict = lin_reg.predict(X_test)\n",
        "train_score = lin_reg.score(X_train, y_train)\n",
        "test_score = lin_reg.score(X_test, y_test)\n",
        "r2score = r2_score(y_test, y_predict)\n",
        "print('train_score: ', train_score)\n",
        "print('test_score: ', test_score)\n",
        "print('r2_score: ', r2score)\n",
        "print(lin_reg.intercept_)"
      ],
      "metadata": {
        "colab": {
          "base_uri": "https://localhost:8080/"
        },
        "id": "Ym1vpC5oFPVD",
        "outputId": "44874d0b-eb95-412c-9ab2-e840f528cd5b"
      },
      "execution_count": null,
      "outputs": [
        {
          "output_type": "stream",
          "name": "stdout",
          "text": [
            "train_score:  0.609345972797216\n",
            "test_score:  0.595770232606166\n",
            "r2_score:  0.595770232606166\n",
            "-37.05624133152533\n"
          ]
        }
      ]
    },
    {
      "cell_type": "markdown",
      "source": [
        "* "
      ],
      "metadata": {
        "id": "wTzaONAcKtGq"
      }
    },
    {
      "cell_type": "code",
      "source": [
        "X_diabetic, y_diabetic = load_diabetes(as_frame=True, return_X_y=True)\n",
        "X_train1, X_test1, y_train1, y_test1 = train_test_split(X_diabetic, y_diabetic, test_size=0.4, random_state=42)"
      ],
      "metadata": {
        "id": "OzvROow0K-8f"
      },
      "execution_count": null,
      "outputs": []
    },
    {
      "cell_type": "markdown",
      "source": [
        "* Import LineraRegression model with intercept\n",
        "* Fit the data\n",
        "* Test and calculate the score with intercept"
      ],
      "metadata": {
        "id": "IiaqxXXbLUeh"
      }
    },
    {
      "cell_type": "code",
      "source": [
        "from sklearn.linear_model import LinearRegression\n",
        "lin_reg = LinearRegression(fit_intercept=True)\n",
        "lin_reg.fit(X_train1, y_train1)\n",
        "y_predict1 = lin_reg.predict(X_test1)\n",
        "train_score = lin_reg.score(X_train1, y_train1)\n",
        "test_score = lin_reg.score(X_test1, y_test1)\n",
        "r2score = r2_score(y_test1, y_predict1)\n",
        "print('train_score: ', train_score)\n",
        "print('test_score: ', test_score)\n",
        "print('r2_score: ', r2score)\n",
        "print('intercept: ', lin_reg.intercept_)\n",
        "print('coeffients : ', lin_reg.coef_)"
      ],
      "metadata": {
        "colab": {
          "base_uri": "https://localhost:8080/"
        },
        "id": "wJvqYpgyLinY",
        "outputId": "9835d5ee-4434-46b6-8897-f4fc9d64188d"
      },
      "execution_count": null,
      "outputs": [
        {
          "output_type": "stream",
          "name": "stdout",
          "text": [
            "train_score:  0.5072199968937584\n",
            "test_score:  0.5157444756897698\n",
            "r2_score:  0.5157444756897698\n",
            "intercept:  148.92850899668235\n",
            "coeffients :  [  18.08383103 -227.04654841  592.2754776   361.54657801 -655.89624143\n",
            "  353.71022539   14.40233952  142.86622578  594.01401521   31.67348554]\n"
          ]
        }
      ]
    },
    {
      "cell_type": "markdown",
      "source": [
        "without intercept"
      ],
      "metadata": {
        "id": "lBpi4jXBUOFp"
      }
    },
    {
      "cell_type": "code",
      "source": [
        "from sklearn.linear_model import LinearRegression\n",
        "lin_reg = LinearRegression(fit_intercept=False)\n",
        "lin_reg.fit(X_train1, y_train1)\n",
        "y_predict1 = lin_reg.predict(X_test1)\n",
        "train_score = lin_reg.score(X_train1, y_train1)\n",
        "test_score = lin_reg.score(X_test1, y_test1)\n",
        "r2score = r2_score(y_test1, y_predict1)\n",
        "\n",
        "print('test_score: ', test_score)\n",
        "\n",
        "print('intercept: ', lin_reg.intercept_)\n",
        "print('coeffients : ', lin_reg.coef_)"
      ],
      "metadata": {
        "colab": {
          "base_uri": "https://localhost:8080/"
        },
        "id": "-SLY6opoURVC",
        "outputId": "24111946-5923-452b-d945-1f84db84f616"
      },
      "execution_count": null,
      "outputs": [
        {
          "output_type": "stream",
          "name": "stdout",
          "text": [
            "test_score:  -3.7861093338014173\n",
            "intercept:  0.0\n",
            "coeffients :  [  21.4116396  -251.46942516  805.83148774  287.96985345 -356.12098013\n",
            "   19.57062432  115.66733098  210.7775154   508.31873399  141.85938945]\n"
          ]
        }
      ]
    },
    {
      "cell_type": "markdown",
      "source": [
        "* load diabetics dataset\n",
        "* split with test size = 0.4\n",
        "* fit with SGDRegressor and calculate score"
      ],
      "metadata": {
        "id": "2G9B_dFAUue4"
      }
    },
    {
      "cell_type": "code",
      "source": [
        "X_diabetic, y_diabetic = load_diabetes(as_frame=True, return_X_y=True)\n",
        "X_train1, X_test1, y_train1, y_test1 = train_test_split(X_diabetic, y_diabetic, test_size=0.4, random_state=42)\n",
        "\n",
        "from sklearn.linear_model import SGDRegressor\n",
        "sgd = SGDRegressor()\n",
        "sgd.fit(X_train1, y_train1)\n",
        "y_predict1 = sgd.predict(X_test1)\n",
        "train_score = sgd.score(X_train1, y_train1)\n",
        "test_score = sgd.score(X_test1, y_test1)\n",
        "r2score = r2_score(y_test1, y_predict1)\n",
        "\n",
        "print('test_score: ', test_score)"
      ],
      "metadata": {
        "colab": {
          "base_uri": "https://localhost:8080/"
        },
        "id": "KCHVZJ61U-Fl",
        "outputId": "ebc4d319-b796-40bb-9ef2-6d386d2d045f"
      },
      "execution_count": null,
      "outputs": [
        {
          "output_type": "stream",
          "name": "stdout",
          "text": [
            "test_score:  0.40554663828474036\n"
          ]
        },
        {
          "output_type": "stream",
          "name": "stderr",
          "text": [
            "/usr/local/lib/python3.7/dist-packages/sklearn/linear_model/_stochastic_gradient.py:1507: ConvergenceWarning: Maximum number of iteration reached before convergence. Consider increasing max_iter to improve the fit.\n",
            "  ConvergenceWarning,\n"
          ]
        }
      ]
    }
  ]
}