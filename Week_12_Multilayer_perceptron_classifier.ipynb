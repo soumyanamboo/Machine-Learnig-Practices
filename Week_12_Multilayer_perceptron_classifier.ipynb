{
  "cells": [
    {
      "cell_type": "markdown",
      "metadata": {
        "id": "J79Pr6dCc186"
      },
      "source": [
        "In this colab, we will demonstrate working of `MLPClassifier` to classify handwritten digits in `MNIST` dataset."
      ]
    },
    {
      "cell_type": "markdown",
      "metadata": {
        "id": "GX6ratbOlmLR"
      },
      "source": [
        "## **Imports**\n",
        "\n",
        "* We will begin by importing basic python libraries like `numpy` and `pandas`.\n",
        "* `matplotlib.pyplot` and `seaborn` for plotting.\n",
        "* The `mnist` dataset is downloaded using `fetch_openml` library.\n",
        "* The `MLPClassifier` is imported from `sklearn.neural_network` module.\n",
        "* The model training and evaluation is performed with cross validation using a bunch of model selection utilities like `cross_val_score`, `train_test_split`, `StratifiedShuffleSplit` etc.\n",
        "* The performance on the test samples is obtained via `accuracy_score`, `confusion_matrix` and `classification_report`."
      ]
    },
    {
      "cell_type": "code",
      "execution_count": null,
      "metadata": {
        "colab": {
          "background_save": true
        },
        "id": "NSs_rNgd9ZSq"
      },
      "outputs": [],
      "source": [
        "import matplotlib.pyplot as plt\n",
        "import seaborn as sns\n",
        "\n",
        "import pandas as pd\n",
        "import numpy as np\n",
        "\n",
        "from sklearn.datasets import fetch_openml\n",
        "from sklearn.neural_network import MLPClassifier\n",
        "\n",
        "from sklearn.metrics import accuracy_score, confusion_matrix, \\\n",
        "  ConfusionMatrixDisplay, plot_confusion_matrix, classification_report\n",
        "\n",
        "from sklearn.model_selection import cross_val_score, train_test_split, \\\n",
        "  GridSearchCV, StratifiedShuffleSplit"
      ]
    },
    {
      "cell_type": "code",
      "execution_count": null,
      "metadata": {
        "colab": {
          "background_save": true
        },
        "id": "aAl3mnGqPhmU"
      },
      "outputs": [],
      "source": [
        "cv = StratifiedShuffleSplit(n_splits=5, test_size=0.2, random_state=42)"
      ]
    },
    {
      "cell_type": "markdown",
      "metadata": {
        "id": "kV-HUNCLEHWe"
      },
      "source": [
        "## **Load dataset**"
      ]
    },
    {
      "cell_type": "markdown",
      "metadata": {
        "id": "7ZHV2XLJ0337"
      },
      "source": [
        "Let us use the MNIST Dataset for the demo of MLPClassifier"
      ]
    },
    {
      "cell_type": "code",
      "execution_count": null,
      "metadata": {
        "id": "jzlQkd_G5uq9"
      },
      "outputs": [],
      "source": [
        "# Load dataset\n",
        "X,y= fetch_openml('mnist_784',version=1,return_X_y=True) \n",
        "X = X.to_numpy()\n",
        "y = y.to_numpy()\n",
        "X_train, X_test, y_train, y_test = X[:60000], X[60000:], y[:60000], y[60000:]"
      ]
    },
    {
      "cell_type": "code",
      "execution_count": null,
      "metadata": {
        "id": "cytEJobTqcB0"
      },
      "outputs": [],
      "source": [
        "# Flatten each input image into a vector of length 784 \n",
        "X_train = X_train.reshape(X_train.shape[0], 28*28)\n",
        "X_test = X_test.reshape(X_test.shape[0], 28*28)\n",
        "\n",
        "# Normalizing. \n",
        "X_train = X_train/255\n",
        "X_test = X_test/255"
      ]
    },
    {
      "cell_type": "code",
      "execution_count": null,
      "metadata": {
        "colab": {
          "base_uri": "https://localhost:8080/"
        },
        "id": "bWYx2MK6qnUD",
        "outputId": "0e8db330-9e25-4f06-80de-e57aae58e6f9"
      },
      "outputs": [
        {
          "name": "stdout",
          "output_type": "stream",
          "text": [
            "Shape of training data after flattening (60000, 784)\n",
            "Shape of testing data after flattening (10000, 784)\n"
          ]
        }
      ],
      "source": [
        "print('Shape of training data after flattening',X_train.shape)\n",
        "print('Shape of testing data after flattening', X_test.shape)"
      ]
    },
    {
      "cell_type": "code",
      "execution_count": null,
      "metadata": {
        "colab": {
          "base_uri": "https://localhost:8080/"
        },
        "id": "RKNCBJsfyqyc",
        "outputId": "49b3549b-4ae7-483f-a90a-51d4f5966854"
      },
      "outputs": [
        {
          "name": "stdout",
          "output_type": "stream",
          "text": [
            "Shape of training data (60000, 784)\n",
            "Shape of training labels (60000,)\n",
            "Shape of testing data (10000, 784)\n",
            "Shape of testing labels (10000,)\n"
          ]
        }
      ],
      "source": [
        "print('Shape of training data',X_train.shape)\n",
        "print('Shape of training labels', y_train.shape)\n",
        "print('Shape of testing data', X_test.shape)\n",
        "print('Shape of testing labels',y_test.shape)"
      ]
    },
    {
      "cell_type": "markdown",
      "metadata": {
        "id": "Iw0AGm0rEMGC"
      },
      "source": [
        "## **Fit MLPClassifer on MNIST dataset**"
      ]
    },
    {
      "cell_type": "markdown",
      "metadata": {
        "id": "R7FVfFBEJVFy"
      },
      "source": [
        "Let us train a MLP classifier with one hidden layer having 128 neurons."
      ]
    },
    {
      "cell_type": "code",
      "execution_count": null,
      "metadata": {
        "colab": {
          "base_uri": "https://localhost:8080/"
        },
        "id": "pXMjRfsgPq4T",
        "outputId": "7f0f13e0-8470-46d8-c4b3-5900c719b911"
      },
      "outputs": [
        {
          "data": {
            "text/plain": [
              "MLPClassifier(hidden_layer_sizes=(128,))"
            ]
          },
          "execution_count": 8,
          "metadata": {},
          "output_type": "execute_result"
        }
      ],
      "source": [
        "mlpc = MLPClassifier(hidden_layer_sizes=(128,))\n",
        "mlpc.fit(X_train, y_train)"
      ]
    },
    {
      "cell_type": "code",
      "execution_count": null,
      "metadata": {
        "id": "Y5zLXy1OAhQO"
      },
      "outputs": [],
      "source": []
    },
    {
      "cell_type": "code",
      "execution_count": null,
      "metadata": {
        "colab": {
          "base_uri": "https://localhost:8080/"
        },
        "id": "QpYZkpSyRb6t",
        "outputId": "98e74cd2-78cc-4bc4-fab4-77e80e909797"
      },
      "outputs": [
        {
          "name": "stdout",
          "output_type": "stream",
          "text": [
            "Training Accuracy: 97.76 %\n"
          ]
        }
      ],
      "source": [
        "cv_score = cross_val_score(mlpc, X_train, y_train.ravel(),cv=cv)\n",
        "print(\"Training Accuracy: {:.2f} %\".format(cv_score.mean()*100))"
      ]
    },
    {
      "cell_type": "code",
      "execution_count": null,
      "metadata": {
        "colab": {
          "base_uri": "https://localhost:8080/"
        },
        "id": "cb25ALL_zBfi",
        "outputId": "26510bfb-d69d-4240-929a-c64617ecc954"
      },
      "outputs": [
        {
          "data": {
            "text/plain": [
              "array([[1.06138669e-14, 1.77613729e-18, 4.86222198e-11, 9.86435121e-09,\n",
              "        4.74936807e-20, 1.95241908e-15, 2.22562272e-21, 9.99999990e-01,\n",
              "        1.13984812e-10, 1.50664103e-11],\n",
              "       [8.25634627e-16, 4.10916659e-11, 1.00000000e+00, 1.09330419e-15,\n",
              "        2.85975297e-37, 9.08010005e-14, 1.28867634e-15, 6.38071579e-26,\n",
              "        1.50561107e-13, 2.73934572e-27],\n",
              "       [1.47808357e-11, 9.99982209e-01, 6.99324982e-06, 1.87356336e-10,\n",
              "        3.08202451e-10, 1.50705265e-10, 9.62829961e-10, 1.70848524e-06,\n",
              "        9.08726472e-06, 4.51337574e-13],\n",
              "       [9.99999999e-01, 2.00493268e-19, 4.47908857e-13, 7.31215250e-14,\n",
              "        3.15567674e-18, 2.61214926e-14, 5.88279815e-13, 1.06207332e-09,\n",
              "        1.06206537e-21, 1.23088390e-16],\n",
              "       [3.01269603e-12, 2.83033346e-23, 7.95568726e-11, 1.24637365e-17,\n",
              "        9.99997732e-01, 1.28147323e-14, 4.01228947e-14, 1.02490893e-10,\n",
              "        5.04514572e-11, 2.26808974e-06]])"
            ]
          },
          "execution_count": 8,
          "metadata": {},
          "output_type": "execute_result"
        }
      ],
      "source": [
        "# prediction probabilities of test data\n",
        "mlpc.predict_proba(X_test[:5])"
      ]
    },
    {
      "cell_type": "code",
      "execution_count": null,
      "metadata": {
        "id": "PCKm99H40YfF"
      },
      "outputs": [],
      "source": [
        "# prediction class labels of test data\n",
        "y_pred = mlpc.predict(X_test)"
      ]
    },
    {
      "cell_type": "code",
      "execution_count": null,
      "metadata": {
        "colab": {
          "base_uri": "https://localhost:8080/"
        },
        "id": "EhveeNO9odcu",
        "outputId": "856fe951-a997-417b-86e5-815f0ae3919c"
      },
      "outputs": [
        {
          "name": "stdout",
          "output_type": "stream",
          "text": [
            "Train accuracy: 100.00%\n",
            "Test accuracy: 98.07%\n"
          ]
        }
      ],
      "source": [
        "print(\"Train accuracy: {:.2f}%\".format(\n",
        "    accuracy_score(y_train, mlpc.predict(X_train))*100))\n",
        "print(\"Test accuracy: {:.2f}%\".format(\n",
        "    accuracy_score(y_test, y_pred)*100))"
      ]
    },
    {
      "cell_type": "markdown",
      "metadata": {
        "id": "9l1auCKnK5aj"
      },
      "source": [
        "## **Confusion matrix plot**"
      ]
    },
    {
      "cell_type": "code",
      "execution_count": null,
      "metadata": {
        "colab": {
          "base_uri": "https://localhost:8080/",
          "height": 295
        },
        "id": "JXD_XAdv2qUA",
        "outputId": "0b1b4d3c-31ef-4bd9-f1e8-ec74eba22f0e"
      },
      "outputs": [
        {
          "data": {
            "image/png": "[encoded data removed]",
            "text/plain": [
              "<Figure size 432x288 with 2 Axes>"
            ]
          },
          "metadata": {},
          "output_type": "display_data"
        }
      ],
      "source": [
        "# visualizing the confusion matrix\n",
        "cm = confusion_matrix(y_test, y_pred)\n",
        "disp = ConfusionMatrixDisplay(confusion_matrix=cm)\n",
        "disp.plot()\n",
        "plt.title('Confusion matrix')\n",
        "plt.show()"
      ]
    },
    {
      "cell_type": "code",
      "execution_count": null,
      "metadata": {
        "colab": {
          "base_uri": "https://localhost:8080/"
        },
        "id": "apwav9sp26_0",
        "outputId": "b9fe4c5c-2f31-49c5-a74f-0f49aa752819"
      },
      "outputs": [
        {
          "name": "stdout",
          "output_type": "stream",
          "text": [
            "Classification report \n",
            "\n",
            "              precision    recall  f1-score   support\n",
            "\n",
            "           0       0.98      0.99      0.99       980\n",
            "           1       0.99      0.99      0.99      1135\n",
            "           2       0.98      0.98      0.98      1032\n",
            "           3       0.97      0.98      0.98      1010\n",
            "           4       0.98      0.98      0.98       982\n",
            "           5       0.98      0.98      0.98       892\n",
            "           6       0.99      0.98      0.98       958\n",
            "           7       0.99      0.98      0.98      1028\n",
            "           8       0.97      0.97      0.97       974\n",
            "           9       0.98      0.98      0.98      1009\n",
            "\n",
            "    accuracy                           0.98     10000\n",
            "   macro avg       0.98      0.98      0.98     10000\n",
            "weighted avg       0.98      0.98      0.98     10000\n",
            "\n"
          ]
        }
      ],
      "source": [
        "CR = classification_report(y_test, y_pred)\n",
        "print('Classification report \\n')\n",
        "print(CR)"
      ]
    },
    {
      "cell_type": "markdown",
      "metadata": {
        "id": "CLy3zoC4EgBM"
      },
      "source": [
        "## Plot of test data along with predicted class labels"
      ]
    },
    {
      "cell_type": "code",
      "execution_count": null,
      "metadata": {
        "colab": {
          "base_uri": "https://localhost:8080/",
          "height": 412
        },
        "id": "YPzSA7Pr3eW2",
        "outputId": "d461fe3b-4e54-4297-ab7c-38a1a5d0fd0e"
      },
      "outputs": [
        {
          "data": {
            "image/png": "[encoded data removed]",
            "text/plain": [
              "<Figure size 720x504 with 15 Axes>"
            ]
          },
          "metadata": {},
          "output_type": "display_data"
        }
      ],
      "source": [
        "# Plotting some test samples and \n",
        "fig = plt.figure(figsize=(10,7))\n",
        "for i in range(15):  \n",
        "    ax = fig.add_subplot(3, 5, i+1)\n",
        "    ax.imshow(X_test[i].reshape(28, 28), cmap=plt.get_cmap('gray'))\n",
        "    ax.set_title('Label (y): {y}'.format(y=y_pred[i]))\n",
        "    plt.axis('off')"
      ]
    },
    {
      "cell_type": "markdown",
      "metadata": {
        "id": "yQeiALuaD9Iu"
      },
      "source": [
        "## **Visualization of multi layer perceptron weights in hidden layer**"
      ]
    },
    {
      "cell_type": "markdown",
      "metadata": {
        "id": "_IxRq7-3Ph1L"
      },
      "source": [
        "- Looking at the learned coefficients of a neural network can provide insight into the learning behavior. \n",
        "- The input data consists 784 features in the dataset. \n",
        "- We have used one hidden layer with 128 neurons. Therefore weight matrix has the shape (784, 128). \n",
        "- We can therefore visualize a single column of the weight matrix as a 28 x 28 pixel image."
      ]
    },
    {
      "cell_type": "code",
      "execution_count": null,
      "metadata": {
        "colab": {
          "base_uri": "https://localhost:8080/"
        },
        "id": "q3J7spHHMwKk",
        "outputId": "4541c9cd-8f68-4012-9337-31ab5af8f68c"
      },
      "outputs": [
        {
          "data": {
            "text/plain": [
              "(784, 128)"
            ]
          },
          "execution_count": 12,
          "metadata": {},
          "output_type": "execute_result"
        }
      ],
      "source": [
        "w = mlpc.coefs_\n",
        "w = np.array(w[0])\n",
        "w.shape"
      ]
    },
    {
      "cell_type": "code",
      "execution_count": null,
      "metadata": {
        "colab": {
          "base_uri": "https://localhost:8080/"
        },
        "id": "Q2kpJFf3N-3q",
        "outputId": "cf532dc9-e778-439e-9a58-2332b70c6626"
      },
      "outputs": [
        {
          "data": {
            "text/plain": [
              "(784,)"
            ]
          },
          "execution_count": 16,
          "metadata": {},
          "output_type": "execute_result"
        }
      ],
      "source": [
        "w1 = np.array(w[:,0])\n",
        "w1.shape"
      ]
    },
    {
      "cell_type": "code",
      "execution_count": null,
      "metadata": {
        "colab": {
          "base_uri": "https://localhost:8080/",
          "height": 248
        },
        "id": "e5drYAc4MX9C",
        "outputId": "fe9ee9fd-31af-4c98-c755-c3613cb8b0d0"
      },
      "outputs": [
        {
          "data": {
            "image/png": "[encoded data removed]",
            "text/plain": [
              "<Figure size 432x288 with 2 Axes>"
            ]
          },
          "metadata": {},
          "output_type": "display_data"
        }
      ],
      "source": [
        "w_matrix = w1.reshape(28,28)\n",
        "fig = plt.figure()\n",
        "plt.imshow(w_matrix,cmap='gray')\n",
        "plt.grid(False)\n",
        "plt.axis(False)\n",
        "plt.colorbar()\n",
        "plt.show()"
      ]
    },
    {
      "cell_type": "code",
      "execution_count": null,
      "metadata": {
        "colab": {
          "base_uri": "https://localhost:8080/",
          "height": 255
        },
        "id": "tyWrnge5D8z4",
        "outputId": "57289572-3df9-4775-e0ca-44065f8664a7"
      },
      "outputs": [
        {
          "data": {
            "image/png": "[encoded data removed]",
            "text/plain": [
              "<Figure size 432x288 with 16 Axes>"
            ]
          },
          "metadata": {},
          "output_type": "display_data"
        }
      ],
      "source": [
        "fig, axes = plt.subplots(4, 4)\n",
        "vmin, vmax = mlpc.coefs_[0].min(), mlpc.coefs_[0].max()\n",
        "for coef, ax in zip(mlpc.coefs_[0].T, axes.ravel()):\n",
        "    ax.matshow(coef.reshape(28, 28), cmap=plt.cm.gray,\n",
        "               vmin=0.5 * vmin, vmax=0.5 * vmax)\n",
        "    ax.set_xticks(())\n",
        "    ax.set_yticks(())\n",
        "plt.show()"
      ]
    },
    {
      "cell_type": "code",
      "execution_count": null,
      "metadata": {
        "colab": {
          "base_uri": "https://localhost:8080/",
          "height": 313
        },
        "id": "prjNRdD84kXO",
        "outputId": "e3eee1f8-3e8e-4908-9479-b2e478a5a4ad"
      },
      "outputs": [
        {
          "data": {
            "text/plain": [
              "Text(0.5, 1.0, 'Loss curve')"
            ]
          },
          "execution_count": 19,
          "metadata": {},
          "output_type": "execute_result"
        },
        {
          "data": {
            "image/png": "[encoded data removed]",
            "text/plain": [
              "<Figure size 432x288 with 1 Axes>"
            ]
          },
          "metadata": {},
          "output_type": "display_data"
        }
      ],
      "source": [
        "plt.plot(mlpc.loss_curve_, 'b-')\n",
        "plt.xlabel('epoch')\n",
        "plt.ylabel('loss')\n",
        "plt.title('Loss curve')"
      ]
    },
    {
      "cell_type": "markdown",
      "metadata": {
        "id": "nUOWkrIwj2RA"
      },
      "source": [
        "## **Using GridsearchCV**"
      ]
    },
    {
      "cell_type": "markdown",
      "metadata": {
        "id": "WODH5bxf90Wq"
      },
      "source": [
        "Let us use a grid search cross-validation to explore combinations of parameters of MLPClassifier. \n",
        "1. Activation functions\n",
        "2. Learning rate strategies\n",
        "3. Alpha"
      ]
    },
    {
      "cell_type": "code",
      "execution_count": null,
      "metadata": {
        "id": "ER4FM5zdhlre"
      },
      "outputs": [],
      "source": [
        "# scaler = StandardScaler()\n",
        "# X_train = scaler.fit_transform(X_train)\n",
        "\n",
        "# learning_strategy=['constant','invscaling']\n",
        "# activation_func=['identity', 'logistic', 'tanh', 'relu']\n",
        "# alphas = np.logspace(-1, 1, 5)\n",
        "\n",
        "\n",
        "# param_grid = dict(activation = activation_func, learning_rate=learning_strategy, alpha=alphas)\n",
        "# cv = StratifiedShuffleSplit(n_splits=3, test_size=0.2, random_state=42)\n",
        "# grid = GridSearchCV(MLPClassifier(learning_rate_init=0.1, max_iter=100,solver='adam'), param_grid=param_grid, cv=cv)\n",
        "# grid.fit(X_train, y_train)\n",
        "# "
      ]
    },
    {
      "cell_type": "code",
      "execution_count": null,
      "metadata": {
        "id": "o4Y4QJ1leuPW"
      },
      "outputs": [],
      "source": [
        "# print(\"The best parameters are : \", grid.best_params_)\n",
        "# print(\"The best score is : \", grid.best_score_*100)"
      ]
    }
  ],
  "metadata": {
    "colab": {
      "provenance": []
    },
    "kernelspec": {
      "display_name": "Python 3",
      "name": "python3"
    },
    "language_info": {
      "name": "python"
    }
  },
  "nbformat": 4,
  "nbformat_minor": 0
}