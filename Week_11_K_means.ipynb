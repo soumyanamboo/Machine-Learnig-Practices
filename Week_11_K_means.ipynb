{
  "nbformat": 4,
  "nbformat_minor": 0,
  "metadata": {
    "colab": {
      "provenance": []
    },
    "kernelspec": {
      "name": "python3",
      "display_name": "Python 3"
    },
    "language_info": {
      "name": "python"
    }
  },
  "cells": [
    {
      "cell_type": "markdown",
      "source": [
        "#Clustering\n",
        "\n",
        "It refers to the task of partioning the dataset into groups, called clusters. This partion is done in a way that elements in the same cluster are similar and elements of the different clusters are different."
      ],
      "metadata": {
        "id": "AIzo7H4W6H-C"
      }
    },
    {
      "cell_type": "markdown",
      "source": [
        "There are a number of clustering techniques, one of them is k-means. In this module we will see how to use k-means on a real world dataset."
      ],
      "metadata": {
        "id": "2ZZliwp26fOc"
      }
    },
    {
      "cell_type": "markdown",
      "source": [
        "k-means clustering helps in coming up with k-clusters (groups) in an unlabelled dataset."
      ],
      "metadata": {
        "id": "JgPiuNAbI41x"
      }
    },
    {
      "cell_type": "markdown",
      "source": [
        "The following steps are included in the algorithm-\n",
        "\n",
        "\n",
        "1.   Start with k data points (centroid)\n",
        "2.   Find the distance of all the points from these centroids.\n",
        "3. Allocate all to points to 1 group that are closer to a particular centroid forming k-clusters\n",
        "4. Recompute the centroid for each cluster.\n",
        "5. Repeat 3 and 4 till until the distance between the old clusters and new clusters is constant.\n",
        "\n"
      ],
      "metadata": {
        "id": "_cNueF_t6wFC"
      }
    },
    {
      "cell_type": "markdown",
      "source": [
        "### Using k-means for artificial data."
      ],
      "metadata": {
        "id": "XoVYuH6IJRxx"
      }
    },
    {
      "cell_type": "code",
      "source": [
        "#importing libraries\n",
        "import statistics\n",
        "from sklearn.cluster import KMeans\n",
        "import matplotlib.pyplot as plt\n",
        "import numpy as np\n",
        "import pandas as pd\n",
        "from sklearn.model_selection import train_test_split\n",
        "from sklearn.datasets import make_blobs\n",
        "from sklearn.preprocessing import StandardScaler\n",
        "from sklearn.metrics import silhouette_score\n",
        "from sklearn.metrics import accuracy_score\n",
        "from sklearn.metrics import confusion_matrix"
      ],
      "metadata": {
        "id": "CAjv8dS99qwi"
      },
      "execution_count": null,
      "outputs": []
    },
    {
      "cell_type": "code",
      "source": [
        "#generating the artificial dataset\n",
        "X_a, y_a = make_blobs(n_samples=200, centers=3,\n",
        "                       cluster_std=0.5, random_state=0)\n"
      ],
      "metadata": {
        "id": "WKfIkp6KJWMW"
      },
      "execution_count": null,
      "outputs": []
    },
    {
      "cell_type": "code",
      "source": [
        "# plotting the data\n",
        "plt.scatter(X_a[:, 0], X_a[:, 1], s=10)\n",
        "plt.show()"
      ],
      "metadata": {
        "colab": {
          "base_uri": "https://localhost:8080/",
          "height": 265
        },
        "id": "4gFsh87gJnVr",
        "outputId": "44d026f3-eff7-4e88-f714-58b7d2008907"
      },
      "execution_count": null,
      "outputs": [
        {
          "output_type": "display_data",
          "data": {
            "image/png": "[encoded data removed]",
            "text/plain": [
              "<Figure size 432x288 with 1 Axes>"
            ]
          },
          "metadata": {
            "needs_background": "light"
          }
        }
      ]
    },
    {
      "cell_type": "code",
      "source": [
        "#pre-processing the data\n",
        "scaler = StandardScaler()\n",
        "scaled_X = scaler.fit_transform(X_a)"
      ],
      "metadata": {
        "id": "BgGD3LmnKpqR"
      },
      "execution_count": null,
      "outputs": []
    },
    {
      "cell_type": "code",
      "source": [
        "kmeans = KMeans(\n",
        "        init=\"random\",\n",
        "        n_clusters=3,\n",
        "        n_init=50,\n",
        "        max_iter=500,\n",
        "        random_state=0)"
      ],
      "metadata": {
        "id": "fiEZzIS4LFTx"
      },
      "execution_count": null,
      "outputs": []
    },
    {
      "cell_type": "code",
      "source": [
        "kmeans.fit(scaled_X)"
      ],
      "metadata": {
        "colab": {
          "base_uri": "https://localhost:8080/"
        },
        "id": "TWiNX2aBLReI",
        "outputId": "4ce5cb6c-28d7-4e6e-e222-b008f62fc2ba"
      },
      "execution_count": null,
      "outputs": [
        {
          "output_type": "execute_result",
          "data": {
            "text/plain": [
              "KMeans(init='random', max_iter=500, n_clusters=3, n_init=50, random_state=0)"
            ]
          },
          "metadata": {},
          "execution_count": 6
        }
      ]
    },
    {
      "cell_type": "code",
      "source": [
        "# The SSE value\n",
        "print(kmeans.inertia_)"
      ],
      "metadata": {
        "colab": {
          "base_uri": "https://localhost:8080/"
        },
        "id": "UYzFRez6L-5_",
        "outputId": "3692533b-2ca5-4d8d-850b-fd64776dc46a"
      },
      "execution_count": null,
      "outputs": [
        {
          "output_type": "stream",
          "name": "stdout",
          "text": [
            "38.05406829425628\n"
          ]
        }
      ]
    },
    {
      "cell_type": "code",
      "source": [
        "# The three centroids in this case\n",
        "C=kmeans.cluster_centers_\n",
        "\n",
        "# plotting them with data\n",
        "plt.scatter(X_a[:, 0], X_a[:, 1], s=10)\n",
        "plt.scatter(C[:, 0], C[:, 1], s=10)\n",
        "plt.show()"
      ],
      "metadata": {
        "colab": {
          "base_uri": "https://localhost:8080/",
          "height": 265
        },
        "id": "V-_vcyGpMIZg",
        "outputId": "62d3f6fe-f7f0-4f31-d2ca-ff92895f2548"
      },
      "execution_count": null,
      "outputs": [
        {
          "output_type": "display_data",
          "data": {
            "image/png": "[encoded data removed]",
            "text/plain": [
              "<Figure size 432x288 with 1 Axes>"
            ]
          },
          "metadata": {
            "needs_background": "light"
          }
        }
      ]
    },
    {
      "cell_type": "code",
      "source": [
        "kmeans_kwargs = {\n",
        "        \"init\": \"random\",\n",
        "        \"n_init\": 50,\n",
        "        \"max_iter\": 500,\n",
        "        \"random_state\": 0,\n",
        "    }\n",
        "   \n",
        "    \n",
        "sse = []\n",
        "for k in range(1,10):\n",
        "  kmeans = KMeans(n_clusters=k, **kmeans_kwargs)\n",
        "  kmeans.fit(scaled_X)\n",
        "  sse.append(kmeans.inertia_)"
      ],
      "metadata": {
        "id": "j36XXXC3NTLO"
      },
      "execution_count": null,
      "outputs": []
    },
    {
      "cell_type": "code",
      "source": [
        "plt.plot(range(1, 10), sse)\n",
        "plt.xticks(range(1, 10))\n",
        "plt.xlabel(\"Number of Clusters\")\n",
        "plt.ylabel(\"SSE\")\n",
        "plt.show()"
      ],
      "metadata": {
        "colab": {
          "base_uri": "https://localhost:8080/",
          "height": 279
        },
        "id": "BD4xO6vPNuci",
        "outputId": "48d38979-420e-4d4b-b999-b3f51d29b489"
      },
      "execution_count": null,
      "outputs": [
        {
          "output_type": "display_data",
          "data": {
            "image/png": "[encoded data removed]",
            "text/plain": [
              "<Figure size 432x288 with 1 Axes>"
            ]
          },
          "metadata": {
            "needs_background": "light"
          }
        }
      ]
    },
    {
      "cell_type": "markdown",
      "source": [
        "From the chart above it can be observed that the elbow is formed at n=3, hence the optimal number of clusters should be 3"
      ],
      "metadata": {
        "id": "PJFIt54bOHxC"
      }
    },
    {
      "cell_type": "markdown",
      "source": [
        "There is another way to identify the optimal number of clusters and that is through a measure called silhouette coefficient. This coefficient clusters the points using two parameters-\n",
        "\n",
        "1.   Proximity of points in the same clusters\n",
        "2.   The remoteness of points in different clusters.\n",
        "\n",
        "The range of this coefficient is from -1 to 1. Higher score implis that the data points are closer to their centroids.\n",
        "\n"
      ],
      "metadata": {
        "id": "FQbMXnSAQwMk"
      }
    },
    {
      "cell_type": "code",
      "source": [
        "sil_coef = []\n",
        "for k in range(2, 10):\n",
        "  kmeans = KMeans(n_clusters=k, **kmeans_kwargs)\n",
        "  kmeans.fit(scaled_X)\n",
        "  score = silhouette_score(scaled_X, kmeans.labels_)\n",
        "  sil_coef.append(score)"
      ],
      "metadata": {
        "id": "t2NqgcQSOHHi"
      },
      "execution_count": null,
      "outputs": []
    },
    {
      "cell_type": "code",
      "source": [
        "plt.plot(range(2, 10), sil_coef)\n",
        "plt.xticks(range(2, 10))\n",
        "plt.xlabel(\"Number of Clusters\")\n",
        "plt.ylabel(\"silhouette score\")\n",
        "plt.show()"
      ],
      "metadata": {
        "colab": {
          "base_uri": "https://localhost:8080/",
          "height": 279
        },
        "id": "DRVpSPYTSalS",
        "outputId": "3122812d-349a-4070-d42f-f92430bb7b8b"
      },
      "execution_count": null,
      "outputs": [
        {
          "output_type": "display_data",
          "data": {
            "image/png": "[encoded data removed]",
            "text/plain": [
              "<Figure size 432x288 with 1 Axes>"
            ]
          },
          "metadata": {
            "needs_background": "light"
          }
        }
      ]
    },
    {
      "cell_type": "markdown",
      "source": [
        "Since the sil_coef obtains maximum value for n=3, hence we choose k=3."
      ],
      "metadata": {
        "id": "aQZV7PI_S87g"
      }
    },
    {
      "cell_type": "markdown",
      "source": [
        "### Real data set"
      ],
      "metadata": {
        "id": "LDTbrcj6kbrk"
      }
    },
    {
      "cell_type": "code",
      "source": [
        "from sklearn.datasets import load_digits\n",
        "digits = load_digits()"
      ],
      "metadata": {
        "id": "K_yBQVuvke0-"
      },
      "execution_count": null,
      "outputs": []
    },
    {
      "cell_type": "code",
      "source": [
        "#Identifying the correct number of clusters\n",
        "\n",
        "kmeans_kwargs = {\n",
        "        \"init\": \"random\",\n",
        "        \"n_init\": 50,\n",
        "        \"max_iter\": 500,\n",
        "        \"random_state\": 0,\n",
        "    }\n",
        "   \n",
        "    \n",
        "sse_digit = []\n",
        "for k in range(1,12):\n",
        "  kmeans = KMeans(n_clusters=k, **kmeans_kwargs)\n",
        "  kmeans.fit(digits.data)\n",
        "  sse_digit.append(kmeans.inertia_)\n",
        "\n"
      ],
      "metadata": {
        "id": "vpAJxvyUkk-D"
      },
      "execution_count": null,
      "outputs": []
    },
    {
      "cell_type": "code",
      "source": [
        "plt.plot(range(1, 12), sse_digit)\n",
        "plt.xticks(range(1, 12))\n",
        "plt.xlabel(\"Number of Clusters\")\n",
        "plt.ylabel(\"SSE\")\n",
        "plt.show()"
      ],
      "metadata": {
        "colab": {
          "base_uri": "https://localhost:8080/",
          "height": 290
        },
        "id": "a-HYGHBhkiz6",
        "outputId": "87731e6c-260a-4381-86ff-290a0a8f228f"
      },
      "execution_count": null,
      "outputs": [
        {
          "output_type": "display_data",
          "data": {
            "image/png": "[encoded data removed]",
            "text/plain": [
              "<Figure size 432x288 with 1 Axes>"
            ]
          },
          "metadata": {
            "needs_background": "light"
          }
        }
      ]
    },
    {
      "cell_type": "markdown",
      "source": [
        "NO clear elbow is seen"
      ],
      "metadata": {
        "id": "GGNsARnvlw8S"
      }
    },
    {
      "cell_type": "code",
      "source": [
        "sil_coef_digits = []\n",
        "for k in range(2, 15):\n",
        "  kmeans = KMeans(n_clusters=k, **kmeans_kwargs)\n",
        "  kmeans.fit(digits.data)\n",
        "  score = silhouette_score(digits.data, kmeans.labels_)\n",
        "  sil_coef_digits.append(score)"
      ],
      "metadata": {
        "id": "pBINvNsBlzDV"
      },
      "execution_count": null,
      "outputs": []
    },
    {
      "cell_type": "code",
      "source": [
        "plt.plot(range(2, 15), sil_coef_digits)\n",
        "plt.xticks(range(2, 15))\n",
        "plt.xlabel(\"Number of Clusters\")\n",
        "plt.ylabel(\"silhouette score\")\n",
        "plt.grid(True)\n",
        "plt.show()"
      ],
      "metadata": {
        "colab": {
          "base_uri": "https://localhost:8080/",
          "height": 279
        },
        "id": "N8JBdsF1mDVW",
        "outputId": "4d794ead-137d-4652-9075-92d96dd13d5e"
      },
      "execution_count": null,
      "outputs": [
        {
          "output_type": "display_data",
          "data": {
            "image/png": "[encoded data removed]",
            "text/plain": [
              "<Figure size 432x288 with 1 Axes>"
            ]
          },
          "metadata": {
            "needs_background": "light"
          }
        }
      ]
    },
    {
      "cell_type": "code",
      "source": [
        "# get the value of K for which \n",
        "# sillhoutte coefficient is highest\n",
        "print(np.argmax(sil_coef_digits)+2)"
      ],
      "metadata": {
        "colab": {
          "base_uri": "https://localhost:8080/"
        },
        "id": "ZVThJhhqSafi",
        "outputId": "028f79ba-f3b6-4396-aea9-742ee25b3559"
      },
      "execution_count": null,
      "outputs": [
        {
          "output_type": "stream",
          "name": "stdout",
          "text": [
            "7\n"
          ]
        }
      ]
    },
    {
      "cell_type": "markdown",
      "source": [
        "This graph points the fact that n=9 this could be because some of the digits like 1 and 7 make have striking similarity."
      ],
      "metadata": {
        "id": "A27c2Og5mgVm"
      }
    },
    {
      "cell_type": "code",
      "source": [
        "# k-means for k=10 as there are 10 digits\n",
        "\n",
        "kmeans = KMeans(n_clusters=10, **kmeans_kwargs)\n",
        "kmeans.fit(digits.data)\n",
        "\n",
        "# obtaining centroids\n",
        "C_digit=kmeans.cluster_centers_\n"
      ],
      "metadata": {
        "id": "ROROqMIemw5K"
      },
      "execution_count": null,
      "outputs": []
    },
    {
      "cell_type": "code",
      "source": [
        "# displaying centroids\n",
        "fig, ax = plt.subplots(5, 2, figsize=(4, 4))\n",
        "C_digit_reshaped=C_digit.reshape(10,8, 8)\n",
        "for i,j in zip(ax.flat, C_digit_reshaped):\n",
        "\n",
        "  i.imshow(j)"
      ],
      "metadata": {
        "colab": {
          "base_uri": "https://localhost:8080/",
          "height": 267
        },
        "id": "3QQlNRyS47s_",
        "outputId": "0fd84705-2587-4c00-bffe-fe4b0ca895ab"
      },
      "execution_count": null,
      "outputs": [
        {
          "output_type": "display_data",
          "data": {
            "image/png": "[encoded data removed]",
            "text/plain": [
              "<Figure size 288x288 with 10 Axes>"
            ]
          },
          "metadata": {
            "needs_background": "light"
          }
        }
      ]
    },
    {
      "cell_type": "code",
      "source": [
        "#model evaluation\n",
        "labels=np.zeros_like(digits.target)\n",
        "for i in range(10):\n",
        "  c=(kmeans.labels_==i)\n",
        "  labels[c]=(statistics.mode(digits.target[c]))\n",
        "print(accuracy_score(digits.target, labels))\n",
        "#confusion matrix\n",
        "c_m = confusion_matrix(digits.target, labels)\n",
        "print(c_m)"
      ],
      "metadata": {
        "colab": {
          "base_uri": "https://localhost:8080/"
        },
        "id": "x8uoI8C8DkW6",
        "outputId": "94cca982-4c26-4514-90d4-1fc56a585ba6"
      },
      "execution_count": null,
      "outputs": [
        {
          "output_type": "stream",
          "name": "stdout",
          "text": [
            "0.7924318308291597\n",
            "[[177   0   0   0   1   0   0   0   0   0]\n",
            " [  0  55  24   1   0   1   2   0  99   0]\n",
            " [  1   2 148  13   0   0   0   3   8   2]\n",
            " [  0   0   0 154   0   2   0   7   7  13]\n",
            " [  0   7   0   0 162   0   0   9   3   0]\n",
            " [  0   0   0   0   2 136   1   0   0  43]\n",
            " [  1   1   0   0   0   0 177   0   2   0]\n",
            " [  0   2   0   0   0   0   0 175   2   0]\n",
            " [  0   6   3   2   0   4   2   5 101  51]\n",
            " [  0  20   0   6   0   6   0   7   2 139]]\n"
          ]
        }
      ]
    },
    {
      "cell_type": "code",
      "source": [],
      "metadata": {
        "id": "1j_P3O-wGJYc"
      },
      "execution_count": null,
      "outputs": []
    }
  ]
}