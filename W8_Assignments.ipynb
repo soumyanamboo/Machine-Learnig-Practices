{
  "nbformat": 4,
  "nbformat_minor": 0,
  "metadata": {
    "colab": {
      "provenance": [],
      "authorship_tag": "ABX9TyNX94Ae+iCiB1czndHLQPZb"
    },
    "kernelspec": {
      "name": "python3",
      "display_name": "Python 3"
    },
    "language_info": {
      "name": "python"
    }
  },
  "cells": [
    {
      "cell_type": "markdown",
      "source": [
        "# Practice Assignment 8.1\n",
        "Instructions for Practice Questions 1-3\n",
        "* Load sklearn's wine dataset.\n",
        "* Split the dataset into train and test set with 70:30 ratio with random_state = 1\n",
        "* Train using DecisionTreeClassifier with random_state = 1  and other values being default"
      ],
      "metadata": {
        "id": "66dbzHNQCuwE"
      }
    },
    {
      "cell_type": "code",
      "execution_count": null,
      "metadata": {
        "id": "7TxNyTRNCrBj"
      },
      "outputs": [],
      "source": [
        "import numpy as np\n",
        "import pandas as pd\n",
        "from sklearn.datasets import load_wine\n",
        "from sklearn.model_selection import train_test_split"
      ]
    },
    {
      "cell_type": "code",
      "source": [
        "from sklearn.tree import DecisionTreeClassifier\n",
        "X, y = load_wine(return_X_y=True)\n",
        "X_train, X_test, y_train, y_test = train_test_split(X, y, test_size=0.3, random_state=1)\n",
        "dtc = DecisionTreeClassifier(random_state=1)\n",
        "dtc.fit(X_train, y_train)"
      ],
      "metadata": {
        "colab": {
          "base_uri": "https://localhost:8080/"
        },
        "id": "YzxziaspDggf",
        "outputId": "2fcc47f2-e1b3-4c69-a861-3d27554c6837"
      },
      "execution_count": null,
      "outputs": [
        {
          "output_type": "execute_result",
          "data": {
            "text/plain": [
              "DecisionTreeClassifier(random_state=1)"
            ]
          },
          "metadata": {},
          "execution_count": 3
        }
      ]
    },
    {
      "cell_type": "markdown",
      "source": [
        "Q1) Enter the value of the 'score' on training set."
      ],
      "metadata": {
        "id": "qGWKwxf8DEN_"
      }
    },
    {
      "cell_type": "code",
      "source": [
        "train_score = dtc.score(X_train, y_train)\n",
        "print(train_score)"
      ],
      "metadata": {
        "colab": {
          "base_uri": "https://localhost:8080/"
        },
        "id": "gJ7rg0auEHRJ",
        "outputId": "633558ca-19fd-4287-e555-ba1c7ec2a5fc"
      },
      "execution_count": null,
      "outputs": [
        {
          "output_type": "stream",
          "name": "stdout",
          "text": [
            "1.0\n"
          ]
        }
      ]
    },
    {
      "cell_type": "markdown",
      "source": [
        "Q2) Enter the value of the 'score' on testing set."
      ],
      "metadata": {
        "id": "2HfinC1jESmD"
      }
    },
    {
      "cell_type": "code",
      "source": [
        "test_score = dtc.score(X_test, y_test)\n",
        "print(test_score)"
      ],
      "metadata": {
        "colab": {
          "base_uri": "https://localhost:8080/"
        },
        "id": "MgYCppOFEXf1",
        "outputId": "b9ef2cb8-b16c-4774-e9e2-144939c81a58"
      },
      "execution_count": null,
      "outputs": [
        {
          "output_type": "stream",
          "name": "stdout",
          "text": [
            "0.9444444444444444\n"
          ]
        }
      ]
    },
    {
      "cell_type": "markdown",
      "source": [
        "Q3) What is the level of depth of the trained decision tree."
      ],
      "metadata": {
        "id": "8O6ZjYs5EgF0"
      }
    },
    {
      "cell_type": "code",
      "source": [
        "print(dtc.get_depth())"
      ],
      "metadata": {
        "colab": {
          "base_uri": "https://localhost:8080/"
        },
        "id": "sg694KNtEiE0",
        "outputId": "96e1c318-8b13-4f9d-c3de-14d07ab846b4"
      },
      "execution_count": null,
      "outputs": [
        {
          "output_type": "stream",
          "name": "stdout",
          "text": [
            "6\n"
          ]
        }
      ]
    },
    {
      "cell_type": "markdown",
      "source": [
        "Instructions for Practice Questions 4-6\n",
        "* Load sklearn's wine dataset.\n",
        "* Split the dataset into train and test set with 70:30 ratio with random_state = 1\n",
        "* Train using DecisionTreeClassifier with random_state = 1 and the following parameters:\n",
        "  * Use criterion as 'entropy'\n",
        "  * Use splitter as 'random'; default is 'best'\n",
        "  * maximum depth = 3\n",
        "  * minimum samples required to split = 4\n",
        "  * Use minimum impurity decrease as 0.1\n",
        "  * Train the 'model' and compute the 'score' on training data and test data."
      ],
      "metadata": {
        "id": "TWc8yJqpE2RM"
      }
    },
    {
      "cell_type": "code",
      "source": [
        "from sklearn.tree import DecisionTreeClassifier\n",
        "X, y = load_wine(return_X_y=True)\n",
        "X_train, X_test, y_train, y_test = train_test_split(X, y, test_size=0.3, random_state=1)\n",
        "dtc = DecisionTreeClassifier(criterion='entropy', splitter='random',max_depth=3, min_samples_split=4, min_impurity_decrease=0.1, random_state=1)\n",
        "dtc.fit(X_train, y_train)"
      ],
      "metadata": {
        "colab": {
          "base_uri": "https://localhost:8080/"
        },
        "id": "OWaJ8XGbE1jS",
        "outputId": "fc0b77ed-86c5-4994-8d8c-d2d70e51ba96"
      },
      "execution_count": null,
      "outputs": [
        {
          "output_type": "execute_result",
          "data": {
            "text/plain": [
              "DecisionTreeClassifier(criterion='entropy', max_depth=3,\n",
              "                       min_impurity_decrease=0.1, min_samples_split=4,\n",
              "                       random_state=1, splitter='random')"
            ]
          },
          "metadata": {},
          "execution_count": 10
        }
      ]
    },
    {
      "cell_type": "markdown",
      "source": [
        "Q4) Enter the value of the 'score' on training set."
      ],
      "metadata": {
        "id": "ChHfMAmDFp9Z"
      }
    },
    {
      "cell_type": "code",
      "source": [
        "train_score = dtc.score(X_train, y_train)\n",
        "print(train_score)"
      ],
      "metadata": {
        "colab": {
          "base_uri": "https://localhost:8080/"
        },
        "id": "ouYeHX6kFstS",
        "outputId": "c87a38af-20d5-4396-ab63-7417f6ed9e04"
      },
      "execution_count": null,
      "outputs": [
        {
          "output_type": "stream",
          "name": "stdout",
          "text": [
            "0.8145161290322581\n"
          ]
        }
      ]
    },
    {
      "cell_type": "markdown",
      "source": [
        "Q5) Enter the value of the 'score' on testing set."
      ],
      "metadata": {
        "id": "NB9VI5kQF7Qg"
      }
    },
    {
      "cell_type": "code",
      "source": [
        "test_score = dtc.score(X_test, y_test)\n",
        "print(test_score)"
      ],
      "metadata": {
        "colab": {
          "base_uri": "https://localhost:8080/"
        },
        "id": "0reqddryGAlp",
        "outputId": "099306bb-2488-4f8e-d0ae-4f651a3c6afa"
      },
      "execution_count": null,
      "outputs": [
        {
          "output_type": "stream",
          "name": "stdout",
          "text": [
            "0.7777777777777778\n"
          ]
        }
      ]
    },
    {
      "cell_type": "markdown",
      "source": [
        "Q6) What is the value of entropy at the root node."
      ],
      "metadata": {
        "id": "EdRpXIBWF7IK"
      }
    },
    {
      "cell_type": "code",
      "source": [
        "import matplotlib.pyplot as plt\n",
        "from sklearn.tree import plot_tree\n",
        "\n",
        "data = load_wine(as_frame=True)\n",
        "feature_names = data.feature_names\n",
        "class_names = [str(cls) for cls in data.target.unique()]\n",
        "\n",
        "plt.figure(figsize=(40, 10), facecolor='w')\n",
        "plot_tree(dtc, feature_names=feature_names, class_names=class_names, rounded=True, filled=True, fontsize=12)"
      ],
      "metadata": {
        "colab": {
          "base_uri": "https://localhost:8080/",
          "height": 450
        },
        "id": "JhVBhkD9GGaG",
        "outputId": "061c2a3c-1e71-49e1-eb7a-fa0145bfdb56"
      },
      "execution_count": null,
      "outputs": [
        {
          "output_type": "execute_result",
          "data": {
            "text/plain": [
              "[Text(0.5555555555555556, 0.875, 'color_intensity <= 6.508\\nentropy = 1.562\\nsamples = 124\\nvalue = [36, 52, 36]\\nclass = 1'),\n",
              " Text(0.3333333333333333, 0.625, 'proline <= 994.339\\nentropy = 1.419\\nsamples = 96\\nvalue = [29, 52, 15]\\nclass = 1'),\n",
              " Text(0.2222222222222222, 0.375, 'od280/od315_of_diluted_wines <= 2.668\\nentropy = 1.175\\nsamples = 75\\nvalue = [8, 52, 15]\\nclass = 1'),\n",
              " Text(0.1111111111111111, 0.125, 'entropy = 0.99\\nsamples = 34\\nvalue = [0, 19, 15]\\nclass = 1'),\n",
              " Text(0.3333333333333333, 0.125, 'entropy = 0.712\\nsamples = 41\\nvalue = [8, 33, 0]\\nclass = 1'),\n",
              " Text(0.4444444444444444, 0.375, 'entropy = 0.0\\nsamples = 21\\nvalue = [21, 0, 0]\\nclass = 0'),\n",
              " Text(0.7777777777777778, 0.625, 'proline <= 890.421\\nentropy = 0.811\\nsamples = 28\\nvalue = [7, 0, 21]\\nclass = 2'),\n",
              " Text(0.6666666666666666, 0.375, 'entropy = 0.0\\nsamples = 21\\nvalue = [0, 0, 21]\\nclass = 2'),\n",
              " Text(0.8888888888888888, 0.375, 'entropy = 0.0\\nsamples = 7\\nvalue = [7, 0, 0]\\nclass = 0')]"
            ]
          },
          "metadata": {},
          "execution_count": 15
        },
        {
          "output_type": "display_data",
          "data": {
            "text/plain": [
              "<Figure size 2880x720 with 1 Axes>"
            ],
            "image/png": "[encoded data removed]"
          },
          "metadata": {}
        }
      ]
    },
    {
      "cell_type": "markdown",
      "source": [
        "#Practice Assignment 8.2\n",
        "(Consider the statement for Q1 and Q2)\n",
        "* Load the wine dataset from sklearn.\n",
        "* Split the dataset into train and test set with 70:30 ratio with random_state = 1\n",
        "* Use AdaBoostClassifier with random_state = 1 (other values being default).\n",
        "* Train the 'model' and compute the 'score' on training data and test data."
      ],
      "metadata": {
        "id": "EWaxUQhFHfxJ"
      }
    },
    {
      "cell_type": "code",
      "source": [
        "from sklearn.ensemble import AdaBoostClassifier\n",
        "X, y = load_wine(return_X_y=True)\n",
        "X_train, X_test, y_train, y_test = train_test_split(X, y, test_size=0.3, random_state=1)\n",
        "adaBoost = AdaBoostClassifier(random_state=1)\n",
        "adaBoost.fit(X_train, y_train)"
      ],
      "metadata": {
        "colab": {
          "base_uri": "https://localhost:8080/"
        },
        "id": "cxo2NG_eHtWH",
        "outputId": "9ce2c53c-5083-4188-dee3-3cd959344433"
      },
      "execution_count": null,
      "outputs": [
        {
          "output_type": "execute_result",
          "data": {
            "text/plain": [
              "AdaBoostClassifier(random_state=1)"
            ]
          },
          "metadata": {},
          "execution_count": 16
        }
      ]
    },
    {
      "cell_type": "markdown",
      "source": [
        "Q1) Enter the value of the 'score' on training set."
      ],
      "metadata": {
        "id": "5W2J0eGkIHgr"
      }
    },
    {
      "cell_type": "code",
      "source": [
        "print(adaBoost.score(X_train, y_train))"
      ],
      "metadata": {
        "colab": {
          "base_uri": "https://localhost:8080/"
        },
        "id": "r8t-xJN2IHF-",
        "outputId": "96f4834a-3817-4de9-d198-ba0c31467e5c"
      },
      "execution_count": null,
      "outputs": [
        {
          "output_type": "stream",
          "name": "stdout",
          "text": [
            "0.6774193548387096\n"
          ]
        }
      ]
    },
    {
      "cell_type": "markdown",
      "source": [
        "Q2)Enter the value of the 'score' on testing set."
      ],
      "metadata": {
        "id": "dECCcYyZISoz"
      }
    },
    {
      "cell_type": "code",
      "source": [
        "print(adaBoost.score(X_test, y_test))"
      ],
      "metadata": {
        "colab": {
          "base_uri": "https://localhost:8080/"
        },
        "id": "kO6eL1g3IG97",
        "outputId": "46f7f415-bdb7-4129-f3d1-2e847799e02f"
      },
      "execution_count": null,
      "outputs": [
        {
          "output_type": "stream",
          "name": "stdout",
          "text": [
            "0.5370370370370371\n"
          ]
        }
      ]
    },
    {
      "cell_type": "markdown",
      "source": [
        "(Consider the statement for Q3,Q4 and Q5)\n",
        "\n",
        "* Load the wine dataset from sklearn.\n",
        "* Split the dataset into train and test set with 70:30 ratio with random_state = 1.\n",
        "* Use AdaBoostClassifier with random_state = 1 (other values being default).\n",
        "* Perform Hyperparameter tuning using GridSearchCV over the following:\n",
        "  * Use n_estimators as [100,500,1000]\n",
        "  * Use learning_rate as [0.5,1,2]\n",
        "*Train the 'model' and compute the 'score' on training data and test data."
      ],
      "metadata": {
        "id": "TmbStAAhIfTh"
      }
    },
    {
      "cell_type": "code",
      "source": [
        "from sklearn.ensemble import AdaBoostClassifier\n",
        "from sklearn.model_selection import GridSearchCV\n",
        "X, y = load_wine(return_X_y=True)\n",
        "X_train, X_test, y_train, y_test = train_test_split(X, y, test_size=0.3, random_state=1)\n",
        "adaBoost = AdaBoostClassifier(random_state=1)\n",
        "adaBoost.fit(X_train, y_train)\n",
        "param_grid = {'n_estimators': [100, 500, 1000],\n",
        "              'learning_rate': [0.5, 1, 2]}\n",
        "gcv = GridSearchCV(adaBoost, param_grid=param_grid, cv=4, return_train_score=True)\n",
        "gcv.fit(X_train, y_train)"
      ],
      "metadata": {
        "colab": {
          "base_uri": "https://localhost:8080/"
        },
        "id": "C7k1zUL_ISIx",
        "outputId": "9722afcc-060e-4581-abee-3757baa97f44"
      },
      "execution_count": null,
      "outputs": [
        {
          "output_type": "execute_result",
          "data": {
            "text/plain": [
              "GridSearchCV(cv=4, estimator=AdaBoostClassifier(random_state=1),\n",
              "             param_grid={'learning_rate': [0.5, 1, 2],\n",
              "                         'n_estimators': [100, 500, 1000]},\n",
              "             return_train_score=True)"
            ]
          },
          "metadata": {},
          "execution_count": 21
        }
      ]
    },
    {
      "cell_type": "markdown",
      "source": [
        "Q3) Enter the value of the 'score' on testing set. (Take cv value = 4)"
      ],
      "metadata": {
        "id": "IepmC9Q7MInC"
      }
    },
    {
      "cell_type": "code",
      "source": [
        "print(gcv.score(X_test, y_test))"
      ],
      "metadata": {
        "colab": {
          "base_uri": "https://localhost:8080/"
        },
        "id": "irH0S8DhMKk5",
        "outputId": "430fdc1b-6080-458f-8411-69227933fc2c"
      },
      "execution_count": null,
      "outputs": [
        {
          "output_type": "stream",
          "name": "stdout",
          "text": [
            "0.9629629629629629\n"
          ]
        }
      ]
    },
    {
      "cell_type": "markdown",
      "source": [
        "Q4) Enter the value of best n_estimators of the model after training with GridSearchCV (Take cv value = 4)"
      ],
      "metadata": {
        "id": "tIZp5NdZMLB4"
      }
    },
    {
      "cell_type": "code",
      "source": [
        "print(gcv.best_estimator_)"
      ],
      "metadata": {
        "colab": {
          "base_uri": "https://localhost:8080/"
        },
        "id": "-x1sgavMMoiM",
        "outputId": "02d2fc34-52dc-41a9-a469-477baae567f9"
      },
      "execution_count": null,
      "outputs": [
        {
          "output_type": "stream",
          "name": "stdout",
          "text": [
            "AdaBoostClassifier(learning_rate=0.5, n_estimators=100, random_state=1)\n"
          ]
        }
      ]
    },
    {
      "cell_type": "markdown",
      "source": [
        "Q5) Enter the value of best learning_rate of the model after training with GridSearchCV (take cv =4 )"
      ],
      "metadata": {
        "id": "usGb3y5qMTri"
      }
    },
    {
      "cell_type": "code",
      "source": [
        "print(gcv.best_estimator_.learning_rate)"
      ],
      "metadata": {
        "colab": {
          "base_uri": "https://localhost:8080/"
        },
        "id": "9Y7gM8AJNJp5",
        "outputId": "093c8ba0-15dd-46ae-f1f5-4a3ff71c0da9"
      },
      "execution_count": null,
      "outputs": [
        {
          "output_type": "stream",
          "name": "stdout",
          "text": [
            "0.5\n"
          ]
        }
      ]
    },
    {
      "cell_type": "markdown",
      "source": [
        "(Consider the statement for Q6 and Q7)\n",
        "\n",
        "* Write a code to predict the score on the training set and the testing set using Voting Classifier on wine dataset.\n",
        "\n",
        "Write your code based on the following keypoints:\n",
        "* Split the dataset into train and test set with 70:30 ratio with random_state = 1\n",
        "* Import model. Keep estimators as BaggingClassifier, Random Forest, GradientBoosting Classifier with random_state = 1\n",
        "* Train the 'model' and compute the 'score' on training data and test data."
      ],
      "metadata": {
        "id": "Z9iyAAHTNXp-"
      }
    },
    {
      "cell_type": "code",
      "source": [
        "from sklearn.ensemble import VotingClassifier, BaggingClassifier, RandomForestClassifier, GradientBoostingClassifier\n",
        "X, y = load_wine(return_X_y=True)\n",
        "X_train, X_test, y_train, y_test = train_test_split(X, y, test_size=0.3, random_state=1)\n",
        "bc = BaggingClassifier(random_state=1)\n",
        "rfc = RandomForestClassifier(random_state=1)\n",
        "gbc = GradientBoostingClassifier(random_state=1)\n",
        "estimators = [('bc',bc), ('rfc', rfc), ('gbc', gbc)]\n",
        "vc = VotingClassifier(estimators=estimators)\n",
        "vc.fit(X_train, y_train)"
      ],
      "metadata": {
        "colab": {
          "base_uri": "https://localhost:8080/"
        },
        "id": "MxOCGO5UNjoQ",
        "outputId": "1f0f2b3e-0e71-41b9-8efb-1756cbfbcd50"
      },
      "execution_count": null,
      "outputs": [
        {
          "output_type": "execute_result",
          "data": {
            "text/plain": [
              "VotingClassifier(estimators=[('bc', BaggingClassifier(random_state=1)),\n",
              "                             ('rfc', RandomForestClassifier(random_state=1)),\n",
              "                             ('gbc',\n",
              "                              GradientBoostingClassifier(random_state=1))])"
            ]
          },
          "metadata": {},
          "execution_count": 28
        }
      ]
    },
    {
      "cell_type": "markdown",
      "source": [
        "Q6) Enter the value of the 'score' on training set. (Enter your answer in four decimal places)"
      ],
      "metadata": {
        "id": "NDT1IvWPOI5V"
      }
    },
    {
      "cell_type": "code",
      "source": [
        "print(vc.score(X_train, y_train))"
      ],
      "metadata": {
        "colab": {
          "base_uri": "https://localhost:8080/"
        },
        "id": "DlsetDleO3_S",
        "outputId": "fc1e5d1c-bfa8-42f9-8d2d-6e590f6d7b0b"
      },
      "execution_count": null,
      "outputs": [
        {
          "output_type": "stream",
          "name": "stdout",
          "text": [
            "1.0\n"
          ]
        }
      ]
    },
    {
      "cell_type": "markdown",
      "source": [
        "Q7) Enter the value of the 'score' on testing set. (Enter your answer in four decimal places)"
      ],
      "metadata": {
        "id": "DZGdAFH5OKOy"
      }
    },
    {
      "cell_type": "code",
      "source": [
        "print(vc.score(X_test, y_test))"
      ],
      "metadata": {
        "colab": {
          "base_uri": "https://localhost:8080/"
        },
        "id": "ZTMTigvxPgk0",
        "outputId": "a184d2c7-5dda-441f-e068-fac3dde40a6d"
      },
      "execution_count": null,
      "outputs": [
        {
          "output_type": "stream",
          "name": "stdout",
          "text": [
            "0.9814814814814815\n"
          ]
        }
      ]
    },
    {
      "cell_type": "markdown",
      "source": [
        "# Graded Assignment - 8 (PART - A)"
      ],
      "metadata": {
        "id": "teLL85g0PzXa"
      }
    },
    {
      "cell_type": "markdown",
      "source": [
        "Instructions for Graded Questions 1-3\n",
        "* Load sklearn's Wine dataset.\n",
        "* Split the dataset into train and test set with 70:30 ratio with random_state = 1\n",
        "* Use DecisionTreeClassifier with random_state = 1\n",
        "\n",
        "Hyperparameter tuning to be done over the following parameters:\n",
        "* Use criterion as 'entropy' or 'gini'\n",
        "* Use splitter as 'random' or 'best'\n",
        "* Use minimum number of samples per leaf as [2,4,6,8,10]\n",
        "* Use maximum depth as [3,4,5,6]\n",
        "* Use cross validation = 4\n",
        "* Train the 'model'"
      ],
      "metadata": {
        "id": "SfZQcx2QP6a4"
      }
    },
    {
      "cell_type": "code",
      "source": [
        "from sklearn.tree import DecisionTreeClassifier\n",
        "from sklearn.model_selection import GridSearchCV\n",
        "X, y = load_wine(return_X_y=True)\n",
        "X_train, X_test, y_train, y_test = train_test_split(X, y, test_size=0.3, random_state=1)\n",
        "dtc = DecisionTreeClassifier(random_state=1)\n",
        "param_grid = {'criterion': ['entropy', 'gini'],\n",
        "              'splitter': ['random', 'best'],\n",
        "              'min_samples_leaf': [2,4,6,8,10],\n",
        "              'max_depth': [3,4,5,6],\n",
        "              }\n",
        "gscv = GridSearchCV(dtc, param_grid=param_grid, cv=4, return_train_score=True)\n",
        "gscv.fit(X_train, y_train)"
      ],
      "metadata": {
        "colab": {
          "base_uri": "https://localhost:8080/"
        },
        "id": "l8LZWXpQQIe0",
        "outputId": "50442183-f99b-45f6-8006-41e80eada787"
      },
      "execution_count": null,
      "outputs": [
        {
          "output_type": "execute_result",
          "data": {
            "text/plain": [
              "GridSearchCV(cv=4, estimator=DecisionTreeClassifier(random_state=1),\n",
              "             param_grid={'criterion': ['entropy', 'gini'],\n",
              "                         'max_depth': [3, 4, 5, 6],\n",
              "                         'min_samples_leaf': [2, 4, 6, 8, 10],\n",
              "                         'splitter': ['random', 'best']},\n",
              "             return_train_score=True)"
            ]
          },
          "metadata": {},
          "execution_count": 34
        }
      ]
    },
    {
      "cell_type": "markdown",
      "source": [
        "Q1) Enter the value of the 'score' on testing set."
      ],
      "metadata": {
        "id": "GsDZS3M1RRwc"
      }
    },
    {
      "cell_type": "code",
      "source": [
        "print(gscv.score(X_test, y_test))"
      ],
      "metadata": {
        "colab": {
          "base_uri": "https://localhost:8080/"
        },
        "id": "XIPobTAMRTOq",
        "outputId": "73dd4db2-bd22-4755-efb0-76ce6c0e91f4"
      },
      "execution_count": null,
      "outputs": [
        {
          "output_type": "stream",
          "name": "stdout",
          "text": [
            "0.9074074074074074\n"
          ]
        }
      ]
    },
    {
      "cell_type": "markdown",
      "source": [
        "Q2) Enter the value of best max_depth of the model after training with GridSearchCV.  \n",
        "Q3) Enter the value of best min_samples_leaf of the model after training with GridSearchCV"
      ],
      "metadata": {
        "id": "5Afih4e7RTpt"
      }
    },
    {
      "cell_type": "code",
      "source": [
        "print(gscv.best_estimator_)"
      ],
      "metadata": {
        "colab": {
          "base_uri": "https://localhost:8080/"
        },
        "id": "XoRyO8BkRe4x",
        "outputId": "419b52fa-e515-416d-b41b-a3f5b9cea5e7"
      },
      "execution_count": null,
      "outputs": [
        {
          "output_type": "stream",
          "name": "stdout",
          "text": [
            "DecisionTreeClassifier(max_depth=4, min_samples_leaf=2, random_state=1)\n"
          ]
        }
      ]
    },
    {
      "cell_type": "markdown",
      "source": [
        "Instructions for Graded Questions 4-7\n",
        "* Load sklearn's Diabetes dataset.\n",
        "* Split the dataset into train and test set with 70:30 ratio with  random_state = 1\n",
        "* Use DecisionTreeRegressor with random_state = 1 and the following parameters:\n",
        "  * Use criterion as 'squared_error'\n",
        "  * Use splitter as 'random'\n",
        "  * Use max_leaf_nodes= 10,\n",
        "*Train the 'model' and compute the 'score' on training data and test data\n"
      ],
      "metadata": {
        "id": "k0f6JCQ-RkOL"
      }
    },
    {
      "cell_type": "code",
      "source": [
        "from sklearn.datasets import load_diabetes\n",
        "from sklearn.tree import DecisionTreeRegressor\n",
        "\n",
        "X, y = load_diabetes(return_X_y=True)\n",
        "X_train, X_test, y_train, y_test = train_test_split(X, y, test_size=0.3, random_state=1)\n",
        "dtr = DecisionTreeRegressor(criterion='squared_error',splitter='random', max_leaf_nodes=10, random_state=1)\n",
        "\n",
        "dtr.fit(X_train, y_train)"
      ],
      "metadata": {
        "colab": {
          "base_uri": "https://localhost:8080/"
        },
        "id": "UC8RqBpaSAfg",
        "outputId": "89b19c7c-dbb9-425d-f5e2-6657eb219566"
      },
      "execution_count": null,
      "outputs": [
        {
          "output_type": "execute_result",
          "data": {
            "text/plain": [
              "DecisionTreeRegressor(max_leaf_nodes=10, random_state=1, splitter='random')"
            ]
          },
          "metadata": {},
          "execution_count": 37
        }
      ]
    },
    {
      "cell_type": "markdown",
      "source": [
        "Q4) Enter the value of the 'score' on training set."
      ],
      "metadata": {
        "id": "E5DYvDssSoVv"
      }
    },
    {
      "cell_type": "code",
      "source": [
        "dtr.score(X_train, y_train)"
      ],
      "metadata": {
        "colab": {
          "base_uri": "https://localhost:8080/"
        },
        "id": "LEekl7NJSqRd",
        "outputId": "4f4ae2e7-0d20-4a60-c39f-0e361172360f"
      },
      "execution_count": null,
      "outputs": [
        {
          "output_type": "execute_result",
          "data": {
            "text/plain": [
              "0.5032060624566737"
            ]
          },
          "metadata": {},
          "execution_count": 38
        }
      ]
    },
    {
      "cell_type": "markdown",
      "source": [
        "Q5) Enter the value of the 'score' on testing set."
      ],
      "metadata": {
        "id": "i0XkztwESwE3"
      }
    },
    {
      "cell_type": "code",
      "source": [
        "dtr.score(X_test, y_test)"
      ],
      "metadata": {
        "colab": {
          "base_uri": "https://localhost:8080/"
        },
        "id": "bhQ9zoq9Svnn",
        "outputId": "d7376f52-2af4-4939-d3b9-6310d751540f"
      },
      "execution_count": null,
      "outputs": [
        {
          "output_type": "execute_result",
          "data": {
            "text/plain": [
              "0.218771375137222"
            ]
          },
          "metadata": {},
          "execution_count": 39
        }
      ]
    },
    {
      "cell_type": "markdown",
      "source": [
        "Q6) What is the value of squared_error at the root node"
      ],
      "metadata": {
        "id": "VtYyBrghS_qF"
      }
    },
    {
      "cell_type": "code",
      "source": [
        "data = load_diabetes(as_frame=True)\n",
        "feature_names = data.feature_names\n",
        "class_names = [str(cls) for cls in data.target.unique()]\n",
        "\n",
        "plt.figure(figsize=(40, 10), facecolor='w')\n",
        "plot_tree(dtr, feature_names=feature_names, class_names=class_names, rounded=True, filled=True, fontsize=12)"
      ],
      "metadata": {
        "colab": {
          "base_uri": "https://localhost:8080/",
          "height": 623
        },
        "id": "R4SEHb4MS_Fa",
        "outputId": "96a057d0-3057-404f-f787-6ee4b93fd140"
      },
      "execution_count": null,
      "outputs": [
        {
          "output_type": "execute_result",
          "data": {
            "text/plain": [
              "[Text(0.3076923076923077, 0.9285714285714286, 'bmi <= -0.045\\nsquared_error = 6302.895\\nsamples = 309\\nvalue = 154.065'),\n",
              " Text(0.23076923076923078, 0.7857142857142857, 'squared_error = 1343.27\\nsamples = 48\\nvalue = 89.646'),\n",
              " Text(0.38461538461538464, 0.7857142857142857, 'bmi <= -0.008\\nsquared_error = 6311.475\\nsamples = 261\\nvalue = 165.912'),\n",
              " Text(0.15384615384615385, 0.6428571428571429, 's4 <= 0.025\\nsquared_error = 3253.924\\nsamples = 96\\nvalue = 115.615'),\n",
              " Text(0.07692307692307693, 0.5, 'squared_error = 2446.901\\nsamples = 72\\nvalue = 101.625'),\n",
              " Text(0.23076923076923078, 0.5, 'squared_error = 3326.493\\nsamples = 24\\nvalue = 157.583'),\n",
              " Text(0.6153846153846154, 0.6428571428571429, 's5 <= -0.005\\nsquared_error = 5762.145\\nsamples = 165\\nvalue = 195.176'),\n",
              " Text(0.38461538461538464, 0.5, 's3 <= -0.016\\nsquared_error = 4794.095\\nsamples = 47\\nvalue = 148.106'),\n",
              " Text(0.3076923076923077, 0.35714285714285715, 'squared_error = 2804.102\\nsamples = 14\\nvalue = 192.429'),\n",
              " Text(0.46153846153846156, 0.35714285714285715, 'bmi <= 0.008\\nsquared_error = 4451.363\\nsamples = 33\\nvalue = 129.303'),\n",
              " Text(0.38461538461538464, 0.21428571428571427, 's4 <= 0.02\\nsquared_error = 3130.521\\nsamples = 13\\nvalue = 95.308'),\n",
              " Text(0.3076923076923077, 0.07142857142857142, 'squared_error = 1753.576\\nsamples = 12\\nvalue = 84.083'),\n",
              " Text(0.46153846153846156, 0.07142857142857142, 'squared_error = 0.0\\nsamples = 1\\nvalue = 230.0'),\n",
              " Text(0.5384615384615384, 0.21428571428571427, 'squared_error = 4070.44\\nsamples = 20\\nvalue = 151.4'),\n",
              " Text(0.8461538461538461, 0.5, 'bmi <= 0.019\\nsquared_error = 4913.782\\nsamples = 118\\nvalue = 213.924'),\n",
              " Text(0.7692307692307693, 0.35714285714285715, 's3 <= 0.015\\nsquared_error = 4193.057\\nsamples = 42\\nvalue = 185.548'),\n",
              " Text(0.6923076923076923, 0.21428571428571427, 'squared_error = 3388.982\\nsamples = 27\\nvalue = 202.593'),\n",
              " Text(0.8461538461538461, 0.21428571428571427, 'squared_error = 4176.116\\nsamples = 15\\nvalue = 154.867'),\n",
              " Text(0.9230769230769231, 0.35714285714285715, 'squared_error = 4621.186\\nsamples = 76\\nvalue = 229.605')]"
            ]
          },
          "metadata": {},
          "execution_count": 40
        },
        {
          "output_type": "display_data",
          "data": {
            "text/plain": [
              "<Figure size 2880x720 with 1 Axes>"
            ],
            "image/png": "[encoded data removed]"
          },
          "metadata": {}
        }
      ]
    },
    {
      "cell_type": "markdown",
      "source": [
        "Instructions for Graded Questions 8-10\n",
        "* Load the diabetes dataset from sklearn.\n",
        "* Split the dataset into train and test set with 70:30 ratio with random_state = 1\n",
        "* Use DecisionTreeRegressor with max_depth = 4 and random_state = 1 and other values being default.\n",
        "\n",
        "Perform Hyperparameter tuning over the following parameters:\n",
        "* Use criterion as ['squared_error', 'friedman_mse', 'absolute_error', 'poisson']\n",
        "* Use splitter as 'random' or 'best'\n",
        "* Use max number of features as ['auto','sqrt', 'log2'],\n",
        "* Use cost complexity pruning parameter as [0.001,0.01,0.02,0.05]\n",
        "* Use cross validation = 4"
      ],
      "metadata": {
        "id": "u-YOegWjTRo7"
      }
    },
    {
      "cell_type": "code",
      "source": [
        "from sklearn.datasets import load_diabetes\n",
        "from sklearn.tree import DecisionTreeRegressor\n",
        "\n",
        "X, y = load_diabetes(return_X_y=True)\n",
        "X_train, X_test, y_train, y_test = train_test_split(X, y, test_size=0.3, random_state=1)\n",
        "dtr = DecisionTreeRegressor(max_depth=4, random_state=1)\n",
        "\n",
        "param_grid = {'criterion': ['squared_error', 'friedman_mse', 'absolute_error', 'poisson'],\n",
        "              'splitter': ['random', 'best'],\n",
        "              'max_features': ['auto', 'sqrt', 'log2'],\n",
        "              'ccp_alpha': [0.001,0.01,0.02,0.05]\n",
        "              }\n",
        "gscv = GridSearchCV(dtr, param_grid=param_grid, cv=4, return_train_score=True)\n",
        "gscv.fit(X_train, y_train)"
      ],
      "metadata": {
        "colab": {
          "base_uri": "https://localhost:8080/"
        },
        "id": "vCfUMdLuTiRn",
        "outputId": "d5b710df-2611-4421-94f6-282155edec5f"
      },
      "execution_count": null,
      "outputs": [
        {
          "output_type": "execute_result",
          "data": {
            "text/plain": [
              "GridSearchCV(cv=4, estimator=DecisionTreeRegressor(max_depth=4, random_state=1),\n",
              "             param_grid={'ccp_alpha': [0.001, 0.01, 0.02, 0.05],\n",
              "                         'criterion': ['squared_error', 'friedman_mse',\n",
              "                                       'absolute_error', 'poisson'],\n",
              "                         'max_features': ['auto', 'sqrt', 'log2'],\n",
              "                         'splitter': ['random', 'best']},\n",
              "             return_train_score=True)"
            ]
          },
          "metadata": {},
          "execution_count": 42
        }
      ]
    },
    {
      "cell_type": "markdown",
      "source": [
        "Q8) Enter the value of the 'score' on testing set."
      ],
      "metadata": {
        "id": "oVpqijIFUhq0"
      }
    },
    {
      "cell_type": "code",
      "source": [
        "gscv.score(X_test, y_test)"
      ],
      "metadata": {
        "colab": {
          "base_uri": "https://localhost:8080/"
        },
        "id": "mztU_ypLUkT5",
        "outputId": "307575ab-210d-40d4-c6d3-9e2ed09bece6"
      },
      "execution_count": null,
      "outputs": [
        {
          "output_type": "execute_result",
          "data": {
            "text/plain": [
              "0.10873445074064803"
            ]
          },
          "metadata": {},
          "execution_count": 43
        }
      ]
    },
    {
      "cell_type": "markdown",
      "source": [
        "Q9) Enter the value of the best ccp_alpha of the model after performing GridSearchCV."
      ],
      "metadata": {
        "id": "JZvxHglQUk79"
      }
    },
    {
      "cell_type": "markdown",
      "source": [
        "Q10) What is the value of the best max_features criteria after performing GridSearchCV?"
      ],
      "metadata": {
        "id": "2rfqx-IoUn_T"
      }
    },
    {
      "cell_type": "code",
      "source": [
        "gscv.best_estimator_"
      ],
      "metadata": {
        "colab": {
          "base_uri": "https://localhost:8080/"
        },
        "id": "9s1Ywf0EU4Vp",
        "outputId": "54c1800a-bc28-4f38-c273-819b87bf9c9c"
      },
      "execution_count": null,
      "outputs": [
        {
          "output_type": "execute_result",
          "data": {
            "text/plain": [
              "DecisionTreeRegressor(ccp_alpha=0.02, criterion='absolute_error', max_depth=4,\n",
              "                      max_features='auto', random_state=1)"
            ]
          },
          "metadata": {},
          "execution_count": 44
        }
      ]
    },
    {
      "cell_type": "markdown",
      "source": [
        "#Graded Assignment - 8 (PART - B)"
      ],
      "metadata": {
        "id": "cCTaxjmVVvUV"
      }
    },
    {
      "cell_type": "markdown",
      "source": [
        "Load Used Cars Price Prediction dataset available at following\n",
        "\n",
        "https://drive.google.com/uc?export=download&id=1tKqddJuIiRqrm7ml2qyVGJlAW3JQjaZX\n",
        "\n",
        "(Consider the statement for Q1,Q2,Q3 and Q4)\n",
        "* Load the used cars' dataset.\n",
        "* The target variable is 'MSRP'.\n",
        "* Remove the rows that contain NULL values.\n",
        "* Drop 'Invoice' feature.\n",
        "* Preprocess to remove comma and dollar sign from MSRP (and cast its type as integer).\n",
        "* Use Pandas.get_dummies() on the categorical features : 'Make','Model','Type','Origin', 'DriveTrain'\n",
        "* Split the data into X and y and then train and test subsets using 70:30 ratio with random_state = 1.\n",
        "* Train the model using the following (All with default values and random_state = 1):\n",
        "  * BaggingRegressor\n",
        "  * RandomForestRegressor\n",
        "  * GradientBoostingRegressor\n",
        "  * AdaBoostRegressor"
      ],
      "metadata": {
        "id": "OGbEGf20VwkD"
      }
    },
    {
      "cell_type": "code",
      "source": [
        "cars_data = pd.read_csv('/content/sample_data/cars_data.csv')\n",
        "cars_data.head()"
      ],
      "metadata": {
        "colab": {
          "base_uri": "https://localhost:8080/",
          "height": 206
        },
        "id": "ZNOZWoNbWJew",
        "outputId": "2e7c6960-1c2e-47a0-cb22-0c4b4fedb607"
      },
      "execution_count": null,
      "outputs": [
        {
          "output_type": "execute_result",
          "data": {
            "text/plain": [
              "    Make           Model   Type Origin DriveTrain     MSRP  Invoice  \\\n",
              "0  Acura             MDX    SUV   Asia        All  $36,945  $33,337   \n",
              "1  Acura  RSX Type S 2dr  Sedan   Asia      Front  $23,820  $21,761   \n",
              "2  Acura         TSX 4dr  Sedan   Asia      Front  $26,990  $24,647   \n",
              "3  Acura          TL 4dr  Sedan   Asia      Front  $33,195  $30,299   \n",
              "4  Acura      3.5 RL 4dr  Sedan   Asia      Front  $43,755  $39,014   \n",
              "\n",
              "   EngineSize  Cylinders  Horsepower  MPG_City  MPG_Highway  Weight  \\\n",
              "0         3.5        6.0         265        17           23    4451   \n",
              "1         2.0        4.0         200        24           31    2778   \n",
              "2         2.4        4.0         200        22           29    3230   \n",
              "3         3.2        6.0         270        20           28    3575   \n",
              "4         3.5        6.0         225        18           24    3880   \n",
              "\n",
              "   Wheelbase  Length  \n",
              "0        106     189  \n",
              "1        101     172  \n",
              "2        105     183  \n",
              "3        108     186  \n",
              "4        115     197  "
            ],
            "text/html": [
              "\n",
              "  <div id=\"df-5514eb30-080d-48c9-958f-d6da6a5c83d1\">\n",
              "    <div class=\"colab-df-container\">\n",
              "      <div>\n",
              "<style scoped>\n",
              "    .dataframe tbody tr th:only-of-type {\n",
              "        vertical-align: middle;\n",
              "    }\n",
              "\n",
              "    .dataframe tbody tr th {\n",
              "        vertical-align: top;\n",
              "    }\n",
              "\n",
              "    .dataframe thead th {\n",
              "        text-align: right;\n",
              "    }\n",
              "</style>\n",
              "<table border=\"1\" class=\"dataframe\">\n",
              "  <thead>\n",
              "    <tr style=\"text-align: right;\">\n",
              "      <th></th>\n",
              "      <th>Make</th>\n",
              "      <th>Model</th>\n",
              "      <th>Type</th>\n",
              "      <th>Origin</th>\n",
              "      <th>DriveTrain</th>\n",
              "      <th>MSRP</th>\n",
              "      <th>Invoice</th>\n",
              "      <th>EngineSize</th>\n",
              "      <th>Cylinders</th>\n",
              "      <th>Horsepower</th>\n",
              "      <th>MPG_City</th>\n",
              "      <th>MPG_Highway</th>\n",
              "      <th>Weight</th>\n",
              "      <th>Wheelbase</th>\n",
              "      <th>Length</th>\n",
              "    </tr>\n",
              "  </thead>\n",
              "  <tbody>\n",
              "    <tr>\n",
              "      <th>0</th>\n",
              "      <td>Acura</td>\n",
              "      <td>MDX</td>\n",
              "      <td>SUV</td>\n",
              "      <td>Asia</td>\n",
              "      <td>All</td>\n",
              "      <td>$36,945</td>\n",
              "      <td>$33,337</td>\n",
              "      <td>3.5</td>\n",
              "      <td>6.0</td>\n",
              "      <td>265</td>\n",
              "      <td>17</td>\n",
              "      <td>23</td>\n",
              "      <td>4451</td>\n",
              "      <td>106</td>\n",
              "      <td>189</td>\n",
              "    </tr>\n",
              "    <tr>\n",
              "      <th>1</th>\n",
              "      <td>Acura</td>\n",
              "      <td>RSX Type S 2dr</td>\n",
              "      <td>Sedan</td>\n",
              "      <td>Asia</td>\n",
              "      <td>Front</td>\n",
              "      <td>$23,820</td>\n",
              "      <td>$21,761</td>\n",
              "      <td>2.0</td>\n",
              "      <td>4.0</td>\n",
              "      <td>200</td>\n",
              "      <td>24</td>\n",
              "      <td>31</td>\n",
              "      <td>2778</td>\n",
              "      <td>101</td>\n",
              "      <td>172</td>\n",
              "    </tr>\n",
              "    <tr>\n",
              "      <th>2</th>\n",
              "      <td>Acura</td>\n",
              "      <td>TSX 4dr</td>\n",
              "      <td>Sedan</td>\n",
              "      <td>Asia</td>\n",
              "      <td>Front</td>\n",
              "      <td>$26,990</td>\n",
              "      <td>$24,647</td>\n",
              "      <td>2.4</td>\n",
              "      <td>4.0</td>\n",
              "      <td>200</td>\n",
              "      <td>22</td>\n",
              "      <td>29</td>\n",
              "      <td>3230</td>\n",
              "      <td>105</td>\n",
              "      <td>183</td>\n",
              "    </tr>\n",
              "    <tr>\n",
              "      <th>3</th>\n",
              "      <td>Acura</td>\n",
              "      <td>TL 4dr</td>\n",
              "      <td>Sedan</td>\n",
              "      <td>Asia</td>\n",
              "      <td>Front</td>\n",
              "      <td>$33,195</td>\n",
              "      <td>$30,299</td>\n",
              "      <td>3.2</td>\n",
              "      <td>6.0</td>\n",
              "      <td>270</td>\n",
              "      <td>20</td>\n",
              "      <td>28</td>\n",
              "      <td>3575</td>\n",
              "      <td>108</td>\n",
              "      <td>186</td>\n",
              "    </tr>\n",
              "    <tr>\n",
              "      <th>4</th>\n",
              "      <td>Acura</td>\n",
              "      <td>3.5 RL 4dr</td>\n",
              "      <td>Sedan</td>\n",
              "      <td>Asia</td>\n",
              "      <td>Front</td>\n",
              "      <td>$43,755</td>\n",
              "      <td>$39,014</td>\n",
              "      <td>3.5</td>\n",
              "      <td>6.0</td>\n",
              "      <td>225</td>\n",
              "      <td>18</td>\n",
              "      <td>24</td>\n",
              "      <td>3880</td>\n",
              "      <td>115</td>\n",
              "      <td>197</td>\n",
              "    </tr>\n",
              "  </tbody>\n",
              "</table>\n",
              "</div>\n",
              "      <button class=\"colab-df-convert\" onclick=\"convertToInteractive('df-5514eb30-080d-48c9-958f-d6da6a5c83d1')\"\n",
              "              title=\"Convert this dataframe to an interactive table.\"\n",
              "              style=\"display:none;\">\n",
              "        \n",
              "  <svg xmlns=\"http://www.w3.org/2000/svg\" height=\"24px\"viewBox=\"0 0 24 24\"\n",
              "       width=\"24px\">\n",
              "    <path d=\"M0 0h24v24H0V0z\" fill=\"none\"/>\n",
              "    <path d=\"M18.56 5.44l.94 2.06.94-2.06 2.06-.94-2.06-.94-.94-2.06-.94 2.06-2.06.94zm-11 1L8.5 8.5l.94-2.06 2.06-.94-2.06-.94L8.5 2.5l-.94 2.06-2.06.94zm10 10l.94 2.06.94-2.06 2.06-.94-2.06-.94-.94-2.06-.94 2.06-2.06.94z\"/><path d=\"M17.41 7.96l-1.37-1.37c-.4-.4-.92-.59-1.43-.59-.52 0-1.04.2-1.43.59L10.3 9.45l-7.72 7.72c-.78.78-.78 2.05 0 2.83L4 21.41c.39.39.9.59 1.41.59.51 0 1.02-.2 1.41-.59l7.78-7.78 2.81-2.81c.8-.78.8-2.07 0-2.86zM5.41 20L4 18.59l7.72-7.72 1.47 1.35L5.41 20z\"/>\n",
              "  </svg>\n",
              "      </button>\n",
              "      \n",
              "  <style>\n",
              "    .colab-df-container {\n",
              "      display:flex;\n",
              "      flex-wrap:wrap;\n",
              "      gap: 12px;\n",
              "    }\n",
              "\n",
              "    .colab-df-convert {\n",
              "      background-color: #E8F0FE;\n",
              "      border: none;\n",
              "      border-radius: 50%;\n",
              "      cursor: pointer;\n",
              "      display: none;\n",
              "      fill: #1967D2;\n",
              "      height: 32px;\n",
              "      padding: 0 0 0 0;\n",
              "      width: 32px;\n",
              "    }\n",
              "\n",
              "    .colab-df-convert:hover {\n",
              "      background-color: #E2EBFA;\n",
              "      box-shadow: 0px 1px 2px rgba(60, 64, 67, 0.3), 0px 1px 3px 1px rgba(60, 64, 67, 0.15);\n",
              "      fill: #174EA6;\n",
              "    }\n",
              "\n",
              "    [theme=dark] .colab-df-convert {\n",
              "      background-color: #3B4455;\n",
              "      fill: #D2E3FC;\n",
              "    }\n",
              "\n",
              "    [theme=dark] .colab-df-convert:hover {\n",
              "      background-color: #434B5C;\n",
              "      box-shadow: 0px 1px 3px 1px rgba(0, 0, 0, 0.15);\n",
              "      filter: drop-shadow(0px 1px 2px rgba(0, 0, 0, 0.3));\n",
              "      fill: #FFFFFF;\n",
              "    }\n",
              "  </style>\n",
              "\n",
              "      <script>\n",
              "        const buttonEl =\n",
              "          document.querySelector('#df-5514eb30-080d-48c9-958f-d6da6a5c83d1 button.colab-df-convert');\n",
              "        buttonEl.style.display =\n",
              "          google.colab.kernel.accessAllowed ? 'block' : 'none';\n",
              "\n",
              "        async function convertToInteractive(key) {\n",
              "          const element = document.querySelector('#df-5514eb30-080d-48c9-958f-d6da6a5c83d1');\n",
              "          const dataTable =\n",
              "            await google.colab.kernel.invokeFunction('convertToInteractive',\n",
              "                                                     [key], {});\n",
              "          if (!dataTable) return;\n",
              "\n",
              "          const docLinkHtml = 'Like what you see? Visit the ' +\n",
              "            '<a target=\"_blank\" href=https://colab.research.google.com/notebooks/data_table.ipynb>data table notebook</a>'\n",
              "            + ' to learn more about interactive tables.';\n",
              "          element.innerHTML = '';\n",
              "          dataTable['output_type'] = 'display_data';\n",
              "          await google.colab.output.renderOutput(dataTable, element);\n",
              "          const docLink = document.createElement('div');\n",
              "          docLink.innerHTML = docLinkHtml;\n",
              "          element.appendChild(docLink);\n",
              "        }\n",
              "      </script>\n",
              "    </div>\n",
              "  </div>\n",
              "  "
            ]
          },
          "metadata": {},
          "execution_count": 26
        }
      ]
    },
    {
      "cell_type": "code",
      "source": [
        "cars_data.isnull().sum()\n",
        "print(cars_data.shape)\n",
        "cars_data.dropna(axis=0, inplace=True)\n",
        "print(cars_data.shape)\n",
        "cars_data.isnull().sum()"
      ],
      "metadata": {
        "colab": {
          "base_uri": "https://localhost:8080/"
        },
        "id": "8nfNJbk3XDi8",
        "outputId": "144c16ee-7355-4542-bb14-d05c1ae8f8b0"
      },
      "execution_count": null,
      "outputs": [
        {
          "output_type": "stream",
          "name": "stdout",
          "text": [
            "(428, 15)\n",
            "(426, 15)\n"
          ]
        },
        {
          "output_type": "execute_result",
          "data": {
            "text/plain": [
              "Make           0\n",
              "Model          0\n",
              "Type           0\n",
              "Origin         0\n",
              "DriveTrain     0\n",
              "MSRP           0\n",
              "Invoice        0\n",
              "EngineSize     0\n",
              "Cylinders      0\n",
              "Horsepower     0\n",
              "MPG_City       0\n",
              "MPG_Highway    0\n",
              "Weight         0\n",
              "Wheelbase      0\n",
              "Length         0\n",
              "dtype: int64"
            ]
          },
          "metadata": {},
          "execution_count": 27
        }
      ]
    },
    {
      "cell_type": "markdown",
      "source": [],
      "metadata": {
        "id": "EUP2cjuyWI7S"
      }
    },
    {
      "cell_type": "code",
      "source": [
        "X = cars_data.drop(columns=['MSRP', 'Invoice'])\n",
        "y = cars_data['MSRP']"
      ],
      "metadata": {
        "id": "z6fjgeZZW2hr"
      },
      "execution_count": null,
      "outputs": []
    },
    {
      "cell_type": "code",
      "source": [
        "#Preprocess to remove comma and dollar sign from MSRP (and cast its type as integer).\n",
        "# y[:5]\n",
        "# np.replace(y, '$', '', count=1)\n",
        "y.replace(to_replace=',', value='', inplace=True, regex=True)\n",
        "y.replace(to_replace='\\$', value='', inplace=True, regex=True)\n",
        "y = y.astype(int)\n",
        "y[:5]"
      ],
      "metadata": {
        "id": "MT3TjcABXBjm",
        "colab": {
          "base_uri": "https://localhost:8080/"
        },
        "outputId": "51ecd49e-ed3f-4682-962b-bbcc52a2ff9b"
      },
      "execution_count": null,
      "outputs": [
        {
          "output_type": "execute_result",
          "data": {
            "text/plain": [
              "0    36945\n",
              "1    23820\n",
              "2    26990\n",
              "3    33195\n",
              "4    43755\n",
              "Name: MSRP, dtype: int64"
            ]
          },
          "metadata": {},
          "execution_count": 29
        }
      ]
    },
    {
      "cell_type": "code",
      "source": [
        "#Use Pandas.get_dummies() on the categorical features : 'Make','Model','Type','Origin', 'DriveTrain'\n",
        "cat_features = ['Make','Model','Type','Origin', 'DriveTrain']\n",
        "X = pd.get_dummies(X, columns=cat_features)\n",
        "X.shape"
      ],
      "metadata": {
        "colab": {
          "base_uri": "https://localhost:8080/"
        },
        "id": "GswiJXBSRG7b",
        "outputId": "ab790d01-8995-4e83-e396-18e016c5cfc9"
      },
      "execution_count": null,
      "outputs": [
        {
          "output_type": "execute_result",
          "data": {
            "text/plain": [
              "(426, 481)"
            ]
          },
          "metadata": {},
          "execution_count": 30
        }
      ]
    },
    {
      "cell_type": "code",
      "source": [
        "X_train, X_test, y_train, y_test = train_test_split(X, y, test_size=0.3, random_state=1)"
      ],
      "metadata": {
        "id": "ULIIIrC1SWoN"
      },
      "execution_count": null,
      "outputs": []
    },
    {
      "cell_type": "code",
      "source": [
        "from sklearn.ensemble import BaggingRegressor, RandomForestRegressor, GradientBoostingRegressor, AdaBoostRegressor\n",
        "bagging = BaggingRegressor(random_state=1)\n",
        "bagging.fit(X_train, y_train)\n",
        "randomForest = RandomForestRegressor(random_state=1)\n",
        "randomForest.fit(X_train, y_train)\n",
        "gradboost = GradientBoostingRegressor(random_state=1)\n",
        "gradboost.fit(X_train, y_train)\n",
        "adaboost = AdaBoostRegressor(random_state=1,)\n",
        "adaboost.fit(X_train, y_train)"
      ],
      "metadata": {
        "colab": {
          "base_uri": "https://localhost:8080/"
        },
        "id": "4HbAcGN6SqMB",
        "outputId": "19df622c-86f9-408a-a698-b5c4f8153087"
      },
      "execution_count": null,
      "outputs": [
        {
          "output_type": "execute_result",
          "data": {
            "text/plain": [
              "AdaBoostRegressor(random_state=1)"
            ]
          },
          "metadata": {},
          "execution_count": 33
        }
      ]
    },
    {
      "cell_type": "markdown",
      "source": [
        "Q1) Enter the value of the 'score' on testing set using BaggingRegressor."
      ],
      "metadata": {
        "id": "Y8Q1EyHOTgp4"
      }
    },
    {
      "cell_type": "code",
      "source": [
        "bagging.score(X_test, y_test)"
      ],
      "metadata": {
        "colab": {
          "base_uri": "https://localhost:8080/"
        },
        "id": "DhkSn8BGTiJQ",
        "outputId": "05e4943c-a29a-49c9-cbaa-f036d4d647a7"
      },
      "execution_count": null,
      "outputs": [
        {
          "output_type": "execute_result",
          "data": {
            "text/plain": [
              "0.7949163237522345"
            ]
          },
          "metadata": {},
          "execution_count": 34
        }
      ]
    },
    {
      "cell_type": "markdown",
      "source": [
        "Q2) Enter the value of the 'score' on testing set using RandomForestRegressor."
      ],
      "metadata": {
        "id": "UEjUufNSTuI0"
      }
    },
    {
      "cell_type": "code",
      "source": [
        "randomForest.score(X_test, y_test)"
      ],
      "metadata": {
        "colab": {
          "base_uri": "https://localhost:8080/"
        },
        "id": "zM4D2D10T2Y4",
        "outputId": "fb8c35c0-e884-4605-a0e8-52ae40c2a057"
      },
      "execution_count": null,
      "outputs": [
        {
          "output_type": "execute_result",
          "data": {
            "text/plain": [
              "0.8369440882741959"
            ]
          },
          "metadata": {},
          "execution_count": 35
        }
      ]
    },
    {
      "cell_type": "markdown",
      "source": [
        "Q3) Enter the value of the 'score' on testing set using GradientBoostingRegressor."
      ],
      "metadata": {
        "id": "BMB5z1bgTvpm"
      }
    },
    {
      "cell_type": "code",
      "source": [
        "gradboost.score(X_test, y_test)"
      ],
      "metadata": {
        "colab": {
          "base_uri": "https://localhost:8080/"
        },
        "id": "AXckG7_kT9tA",
        "outputId": "6e6f6976-e413-4c03-a5a6-94b06af89bfc"
      },
      "execution_count": null,
      "outputs": [
        {
          "output_type": "execute_result",
          "data": {
            "text/plain": [
              "0.8270485242007507"
            ]
          },
          "metadata": {},
          "execution_count": 36
        }
      ]
    },
    {
      "cell_type": "markdown",
      "source": [
        "Q4) Enter the value of the 'score' on testing set using AdaBoostRegressor."
      ],
      "metadata": {
        "id": "26fsYlzsTyH4"
      }
    },
    {
      "cell_type": "code",
      "source": [
        "adaboost.score(X_test, y_test)"
      ],
      "metadata": {
        "colab": {
          "base_uri": "https://localhost:8080/"
        },
        "id": "Ro3hvZryUCwI",
        "outputId": "f73568c7-a17f-46a2-b4c2-5965ee97d72d"
      },
      "execution_count": null,
      "outputs": [
        {
          "output_type": "execute_result",
          "data": {
            "text/plain": [
              "0.711903287964231"
            ]
          },
          "metadata": {},
          "execution_count": 38
        }
      ]
    },
    {
      "cell_type": "markdown",
      "source": [
        "(Consider the statement for Q5,Q6 and Q7)\n",
        "\n",
        "On the same data set, perform the preprocessing stated in the previous questions, and perform Hyperparameter Tuning using GridSearchCV on AdaBoostRegressor. Use random_state to be 1.\n",
        "\n",
        "Hyperparameter tuning to be done over:\n",
        "* Use n_estimators as [100,500,1000]\n",
        "* Use learning_rate as [0.5,1,2]\n",
        "Train the 'model' and compute the 'score' on the test data."
      ],
      "metadata": {
        "id": "f9y5IC9-UONc"
      }
    },
    {
      "cell_type": "code",
      "source": [
        "from sklearn.model_selection import GridSearchCV\n",
        "param_grid = {'n_estimators': [100,500,1000],\n",
        "              'learning_rate': [0.5,1,2] \n",
        "              }\n",
        "gscv = GridSearchCV(adaboost, param_grid=param_grid, cv=4, return_train_score=True)\n",
        "gscv.fit(X_train, y_train)"
      ],
      "metadata": {
        "colab": {
          "base_uri": "https://localhost:8080/"
        },
        "id": "TgzseHWTUWud",
        "outputId": "de388e78-bde9-42e8-a928-350b16f8b6a5"
      },
      "execution_count": null,
      "outputs": [
        {
          "output_type": "execute_result",
          "data": {
            "text/plain": [
              "GridSearchCV(cv=4, estimator=AdaBoostRegressor(random_state=1),\n",
              "             param_grid={'learning_rate': [0.5, 1, 2],\n",
              "                         'n_estimators': [100, 500, 1000]},\n",
              "             return_train_score=True)"
            ]
          },
          "metadata": {},
          "execution_count": 40
        }
      ]
    },
    {
      "cell_type": "markdown",
      "source": [
        "Q5) Enter the value of the 'score' on testing set."
      ],
      "metadata": {
        "id": "KQfYIFHDUZNI"
      }
    },
    {
      "cell_type": "code",
      "source": [
        "gscv.score(X_test, y_test)"
      ],
      "metadata": {
        "colab": {
          "base_uri": "https://localhost:8080/"
        },
        "id": "AcqtfUdUVMfk",
        "outputId": "e4546934-e018-4935-ad6c-f1fb81dd81a8"
      },
      "execution_count": null,
      "outputs": [
        {
          "output_type": "execute_result",
          "data": {
            "text/plain": [
              "0.7130800769863186"
            ]
          },
          "metadata": {},
          "execution_count": 41
        }
      ]
    },
    {
      "cell_type": "markdown",
      "source": [
        "Q6) Enter the value of best n_estimators of the model after training with GridSearchCV"
      ],
      "metadata": {
        "id": "kEWAlghDVTXP"
      }
    },
    {
      "cell_type": "markdown",
      "source": [
        "Q7) Enter the value of best learning_rate of the model after training with GridSearchCV"
      ],
      "metadata": {
        "id": "DSe9jAyiVXya"
      }
    },
    {
      "cell_type": "code",
      "source": [
        "gscv.best_estimator_"
      ],
      "metadata": {
        "colab": {
          "base_uri": "https://localhost:8080/"
        },
        "id": "E8SqDm8sVXXV",
        "outputId": "05745a61-89dd-448b-bc91-1acba05ffa41"
      },
      "execution_count": null,
      "outputs": [
        {
          "output_type": "execute_result",
          "data": {
            "text/plain": [
              "AdaBoostRegressor(learning_rate=1, n_estimators=1000, random_state=1)"
            ]
          },
          "metadata": {},
          "execution_count": 42
        }
      ]
    }
  ]
}