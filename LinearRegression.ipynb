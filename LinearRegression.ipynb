{
  "nbformat": 4,
  "nbformat_minor": 0,
  "metadata": {
    "colab": {
      "provenance": [],
      "authorship_tag": "ABX9TyN8PJRZoSK4Kx4LI8ndjv1b"
    },
    "kernelspec": {
      "name": "python3",
      "display_name": "Python 3"
    },
    "language_info": {
      "name": "python"
    }
  },
  "cells": [
    {
      "cell_type": "markdown",
      "source": [
        "#Linear Regression with sklearn API\n",
        "1. Dataset: California Housing\n",
        "2. Linear Regression API: LinearRegression\n",
        "3. Training: fit (normal equation) and cross_validate (normal equation with cross validation)\n",
        "4. Evaluation: score (r2score) and cross_val_score with different scoring parameters.\n",
        "Model Diagnosis: LearnigCurve"
      ],
      "metadata": {
        "id": "s7qLZo_hY3TY"
      }
    },
    {
      "cell_type": "code",
      "execution_count": null,
      "metadata": {
        "id": "9_qu226UYt6M"
      },
      "outputs": [],
      "source": [
        "import numpy as np\n",
        "import pandas as pd\n",
        "import matplotlib.pyplot as plt\n",
        "import seaborn as sns\n",
        "\n",
        "from sklearn.datasets import fetch_california_housing\n",
        "from sklearn.linear_model import LinearRegression\n",
        "\n",
        "from sklearn.model_selection import cross_validate\n",
        "from sklearn.model_selection import cross_val_score\n",
        "from sklearn.model_selection import learning_curve\n",
        "from sklearn.model_selection import ShuffleSplit\n",
        "\n",
        "from sklearn.metrics import mean_squared_error\n",
        "\n",
        "from sklearn.pipeline import Pipeline\n",
        "from sklearn.preprocessing import StandardScaler"
      ]
    },
    {
      "cell_type": "code",
      "source": [
        "np.random.seed(306)\n",
        "plt.style.use('seaborn')"
      ],
      "metadata": {
        "id": "S-XSFgulav3d"
      },
      "execution_count": null,
      "outputs": []
    },
    {
      "cell_type": "markdown",
      "source": [
        "We will use ShuffleSplit cross validation with\n",
        "* 10 folds (n_splits) and \n",
        "* set aside 20% examples as test examples (test_size)"
      ],
      "metadata": {
        "id": "8OInKwfOa4XQ"
      }
    },
    {
      "cell_type": "code",
      "source": [
        "shuffle_split_cv = ShuffleSplit(n_splits=10, test_size=0.2,random_state=0)"
      ],
      "metadata": {
        "id": "wPzDG6NVbqEz"
      },
      "execution_count": null,
      "outputs": []
    },
    {
      "cell_type": "markdown",
      "source": [
        "#Step1: Load the dataset"
      ],
      "metadata": {
        "id": "xPvIlt3Cb5_L"
      }
    },
    {
      "cell_type": "code",
      "source": [
        "features, labels = fetch_california_housing(return_X_y=True, as_frame=True)\n",
        "print('shape of feature matrix: ', features.shape)\n",
        "print('shape of label vector: ', labels.shape)\n",
        "assert (features.shape[0] == labels.shape[0])"
      ],
      "metadata": {
        "colab": {
          "base_uri": "https://localhost:8080/"
        },
        "id": "usUKbvuQb-Lk",
        "outputId": "cebcbb6c-49d5-4c6d-e9f8-2613b1aeb04b"
      },
      "execution_count": null,
      "outputs": [
        {
          "output_type": "stream",
          "name": "stdout",
          "text": [
            "shape of feature matrix:  (20640, 8)\n",
            "shape of label vector:  (20640,)\n"
          ]
        }
      ]
    },
    {
      "cell_type": "markdown",
      "source": [
        "#Step2: Data Exploration"
      ],
      "metadata": {
        "id": "28VUJp1jco6x"
      }
    },
    {
      "cell_type": "code",
      "source": [],
      "metadata": {
        "id": "6x-lmKl2crkI"
      },
      "execution_count": null,
      "outputs": []
    },
    {
      "cell_type": "markdown",
      "source": [
        "#Preprocessing and model Building\n",
        "##3.1 Train test split"
      ],
      "metadata": {
        "id": "wSa8ZACXcuXo"
      }
    },
    {
      "cell_type": "code",
      "source": [
        "from sklearn.model_selection import train_test_split\n",
        "train_features, test_features, train_labels, test_labels = train_test_split(features, labels, random_state=42)\n",
        "print('# of training samples: ', train_features.shape[0])\n",
        "print('# of test samples: ', test_features.shape[0])"
      ],
      "metadata": {
        "colab": {
          "base_uri": "https://localhost:8080/"
        },
        "id": "02n0oaWjc4q5",
        "outputId": "4d33f34a-8506-48c8-b9f4-a51f411ffa3b"
      },
      "execution_count": null,
      "outputs": [
        {
          "output_type": "stream",
          "name": "stdout",
          "text": [
            "# of training samples:  15480\n",
            "# of test samples:  5160\n"
          ]
        }
      ]
    },
    {
      "cell_type": "code",
      "source": [
        "assert (train_features.shape[0] == train_labels.shape[0])\n",
        "assert (test_features.shape[0] == test_labels.shape[0])"
      ],
      "metadata": {
        "id": "iML_ikZJddX2"
      },
      "execution_count": null,
      "outputs": []
    },
    {
      "cell_type": "markdown",
      "source": [
        "##3.2 Pipeline: Preprocessing + model\n",
        "* StandarsScaler as step1\n",
        "* LinearRegression as step2"
      ],
      "metadata": {
        "id": "RvOiS1kcdmBQ"
      }
    },
    {
      "cell_type": "code",
      "source": [
        "lin_reg_pipeline = Pipeline([('feature_scaling', StandardScaler()),\n",
        "                             ('lin_reg', LinearRegression())\n",
        "                             ])\n",
        "lin_reg_pipeline.fit(train_features, train_labels)"
      ],
      "metadata": {
        "colab": {
          "base_uri": "https://localhost:8080/"
        },
        "id": "KiB0UYr8d1uB",
        "outputId": "ea26468b-1743-4091-b2a8-e8be00b3f546"
      },
      "execution_count": null,
      "outputs": [
        {
          "output_type": "execute_result",
          "data": {
            "text/plain": [
              "Pipeline(steps=[('feature_scaling', StandardScaler()),\n",
              "                ('lin_reg', LinearRegression())])"
            ]
          },
          "metadata": {},
          "execution_count": 7
        }
      ]
    },
    {
      "cell_type": "code",
      "source": [
        "print('Intercept w_0: ', lin_reg_pipeline[-1].intercept_)\n",
        "print('Weight coefficients(w1, w2...wm): ', lin_reg_pipeline[-1].coef_)"
      ],
      "metadata": {
        "colab": {
          "base_uri": "https://localhost:8080/"
        },
        "id": "G5hAXqzFeZO1",
        "outputId": "f9faf3ca-9440-4396-f4bb-eeb701cd39c8"
      },
      "execution_count": null,
      "outputs": [
        {
          "output_type": "stream",
          "name": "stdout",
          "text": [
            "Intercept w_0:  2.0703489205426377\n",
            "Weight coefficients(w1, w2...wm):  [ 0.85210815  0.12065533 -0.30210555  0.34860575 -0.00164465 -0.04116356\n",
            " -0.89314697 -0.86784046]\n"
          ]
        }
      ]
    },
    {
      "cell_type": "markdown",
      "source": [
        "We accessed LinearRegression object as lin_reg_pipeline[-1], which is the last step in the pipeline."
      ],
      "metadata": {
        "id": "YKdYTiN0gMF5"
      }
    },
    {
      "cell_type": "markdown",
      "source": [
        "#Step4: Model Evaluation\n",
        "##Score:\n",
        "Score method is used to obtain train and test errors with twin objectives:\n",
        "1. Estimation of model performance as provided bt test error\n",
        "2. Comparioson of errors for model diagnostic purpose (under / over / just right fit)   \n",
        "Score method returns r2 score whose best value is 1."
      ],
      "metadata": {
        "id": "XkIBsD7igYPk"
      }
    },
    {
      "cell_type": "code",
      "source": [
        "test_score = lin_reg_pipeline.score(test_features, test_labels)\n",
        "print('Model performance on test set: ', test_score)\n",
        "\n",
        "training_score = lin_reg_pipeline.score(train_features, train_labels)\n",
        "print('Model performance on test set: ', training_score)"
      ],
      "metadata": {
        "colab": {
          "base_uri": "https://localhost:8080/"
        },
        "id": "1fEmc-t1gW0H",
        "outputId": "98ec153f-6e0f-41fb-a10e-b547627670d9"
      },
      "execution_count": null,
      "outputs": [
        {
          "output_type": "stream",
          "name": "stdout",
          "text": [
            "Model performance on test set:  0.5910509795491352\n",
            "Model performance on test set:  0.609873031052925\n"
          ]
        }
      ]
    },
    {
      "cell_type": "markdown",
      "source": [
        "The r2 score on training and test set are comparable, but they are not that high. It poits to underfitting issue in model training."
      ],
      "metadata": {
        "id": "TZA0XyPHh3vF"
      }
    },
    {
      "cell_type": "markdown",
      "source": [
        "##Cross valodated score (cross_val_score):\n",
        "Calculates performance of different test folds through cross validation"
      ],
      "metadata": {
        "id": "sj4-YKHOiIVj"
      }
    },
    {
      "cell_type": "code",
      "source": [
        "lin_reg_score = cross_val_score(lin_reg_pipeline,\n",
        "                                train_features,\n",
        "                                train_labels,\n",
        "                                scoring='neg_mean_squared_error',\n",
        "                                cv=shuffle_split_cv)\n",
        "print(lin_reg_score)\n",
        "\n",
        "print(f'\\nScore of linear regression model on test set: {lin_reg_score.mean():.3f} +/- {lin_reg_score.std():.3f}')"
      ],
      "metadata": {
        "colab": {
          "base_uri": "https://localhost:8080/"
        },
        "id": "hJ5Xq8GbianE",
        "outputId": "048f8202-743c-4b9e-c749-ad5be8932abe"
      },
      "execution_count": null,
      "outputs": [
        {
          "output_type": "stream",
          "name": "stdout",
          "text": [
            "[-0.50009976 -0.52183352 -0.55931218 -0.52110499 -0.56059203 -0.50510767\n",
            " -0.52386194 -0.54775518 -0.5007161  -0.54713448]\n",
            "\n",
            "Score of linear regression model on test set: -0.529 +/- 0.022\n"
          ]
        }
      ]
    },
    {
      "cell_type": "markdown",
      "source": [
        "We can convert negative mean squared error as follows"
      ],
      "metadata": {
        "id": "WjuXNFw0jkWp"
      }
    },
    {
      "cell_type": "code",
      "source": [
        "lin_reg_mse = -1 * lin_reg_score\n",
        "\n",
        "print(f'Score of linear regression model on test set: {lin_reg_mse.mean():.3f} +/- {lin_reg_mse.std():.3f}')"
      ],
      "metadata": {
        "colab": {
          "base_uri": "https://localhost:8080/"
        },
        "id": "elvyMnkpjrNz",
        "outputId": "43b63b1f-d486-4186-c005-2a35ade731e8"
      },
      "execution_count": null,
      "outputs": [
        {
          "output_type": "stream",
          "name": "stdout",
          "text": [
            "Score of linear regression model on test set: 0.529 +/- 0.022\n"
          ]
        }
      ]
    },
    {
      "cell_type": "markdown",
      "source": [
        "The other options for scoring parameter are:\n",
        "* explained_variance\n",
        "* max_error\n",
        "* neg_mean_absolute_error\n",
        "* neg_root_mean_squared_error\n",
        "* neg_mean_squared_error\n",
        "* neg_median_absolute_error\n",
        "* neg_mean_absolute_percentage_error\n",
        "* r2\n",
        "\n",
        "##Cross Validation:\n",
        "We just calculated cross_val_score based on the cross validation. It however returns only the score for each fold.   \n",
        "We can use cross_validate API to access the models trained in each fold along with some other statistics like train error for that fold."
      ],
      "metadata": {
        "id": "sxIlRzgBkC06"
      }
    },
    {
      "cell_type": "code",
      "source": [
        "lin_reg_cv_result = cross_validate(lin_reg_pipeline,\n",
        "                                   train_features,\n",
        "                                   train_labels,\n",
        "                                   cv=shuffle_split_cv,\n",
        "                                   scoring='neg_mean_squared_error',\n",
        "                                   return_train_score=True,\n",
        "                                   return_estimator=True\n",
        "                                   )"
      ],
      "metadata": {
        "id": "-6PyUVzclKmE"
      },
      "execution_count": null,
      "outputs": []
    },
    {
      "cell_type": "markdown",
      "source": [
        "The lin_reg_cv_result is a dictionary with following content:\n",
        "* trained estimators,\n",
        "* time taken for fitting(fit_time) and scoring(score_time) in model cross validation\n",
        "* training score (train_score)\n",
        "* test score (test_score)"
      ],
      "metadata": {
        "id": "x7e16CvUlmxV"
      }
    },
    {
      "cell_type": "code",
      "source": [
        "###  each list is of size 10, since here n_fold = 10\n",
        "lin_reg_cv_result"
      ],
      "metadata": {
        "colab": {
          "base_uri": "https://localhost:8080/"
        },
        "id": "6NABJQcNmC3A",
        "outputId": "f34feeff-01dd-400f-8410-e6c14aff6a2d"
      },
      "execution_count": null,
      "outputs": [
        {
          "output_type": "execute_result",
          "data": {
            "text/plain": [
              "{'fit_time': array([0.02100897, 0.01043892, 0.01231599, 0.01011419, 0.01052713,\n",
              "        0.01061988, 0.011307  , 0.00996947, 0.01012802, 0.01016617]),\n",
              " 'score_time': array([0.00263691, 0.00262427, 0.00257659, 0.00254107, 0.00265026,\n",
              "        0.00265646, 0.00264597, 0.00249481, 0.00246358, 0.00264001]),\n",
              " 'estimator': [Pipeline(steps=[('feature_scaling', StandardScaler()),\n",
              "                  ('lin_reg', LinearRegression())]),\n",
              "  Pipeline(steps=[('feature_scaling', StandardScaler()),\n",
              "                  ('lin_reg', LinearRegression())]),\n",
              "  Pipeline(steps=[('feature_scaling', StandardScaler()),\n",
              "                  ('lin_reg', LinearRegression())]),\n",
              "  Pipeline(steps=[('feature_scaling', StandardScaler()),\n",
              "                  ('lin_reg', LinearRegression())]),\n",
              "  Pipeline(steps=[('feature_scaling', StandardScaler()),\n",
              "                  ('lin_reg', LinearRegression())]),\n",
              "  Pipeline(steps=[('feature_scaling', StandardScaler()),\n",
              "                  ('lin_reg', LinearRegression())]),\n",
              "  Pipeline(steps=[('feature_scaling', StandardScaler()),\n",
              "                  ('lin_reg', LinearRegression())]),\n",
              "  Pipeline(steps=[('feature_scaling', StandardScaler()),\n",
              "                  ('lin_reg', LinearRegression())]),\n",
              "  Pipeline(steps=[('feature_scaling', StandardScaler()),\n",
              "                  ('lin_reg', LinearRegression())]),\n",
              "  Pipeline(steps=[('feature_scaling', StandardScaler()),\n",
              "                  ('lin_reg', LinearRegression())])],\n",
              " 'test_score': array([-0.50009976, -0.52183352, -0.55931218, -0.52110499, -0.56059203,\n",
              "        -0.50510767, -0.52386194, -0.54775518, -0.5007161 , -0.54713448]),\n",
              " 'train_score': array([-0.52578695, -0.52035137, -0.51095597, -0.52049611, -0.51060835,\n",
              "        -0.52453922, -0.51994311, -0.5144039 , -0.52578473, -0.51397105])}"
            ]
          },
          "metadata": {},
          "execution_count": 13
        }
      ]
    },
    {
      "cell_type": "code",
      "source": [
        "train_errors = -1 * lin_reg_cv_result['train_score']\n",
        "test_errors = -1 * lin_reg_cv_result['test_score']\n",
        "\n",
        "print('Mean Squared Error for linear Regression Model on the train set: \\n', f'{train_errors.mean():.3f} +/- {train_errors.std():.3f}')\n",
        "\n",
        "print('Mean Squared Error for linear Regression Model on the test set: \\n', f'{test_errors.mean():.3f} +/- {test_errors.std():.3f}')"
      ],
      "metadata": {
        "colab": {
          "base_uri": "https://localhost:8080/"
        },
        "id": "k0j_Fyl0mw46",
        "outputId": "709ea8f4-ff7a-4daa-96e3-1e433d8a7b08"
      },
      "execution_count": null,
      "outputs": [
        {
          "output_type": "stream",
          "name": "stdout",
          "text": [
            "Mean Squared Error for linear Regression Model on the train set: \n",
            " 0.519 +/- 0.006\n",
            "Mean Squared Error for linear Regression Model on the test set: \n",
            " 0.529 +/- 0.022\n"
          ]
        }
      ]
    },
    {
      "cell_type": "markdown",
      "source": [
        "Training ad test errors are high, which is an indication of underfitting, which we will confirm bt plotting the learning curves.  \n",
        "\n",
        "Test error has higher variability across different folds compared to train error"
      ],
      "metadata": {
        "id": "4rpPpPkZnvc0"
      }
    },
    {
      "cell_type": "markdown",
      "source": [
        "##Effect of training set size on error:"
      ],
      "metadata": {
        "id": "C0NINs_foNBS"
      }
    },
    {
      "cell_type": "code",
      "source": [
        "def plot_learning_curve(train_sizes, train_score, test_score):\n",
        "  train_scores_mean = np.mean(-train_score, axis=1)\n",
        "  train_scores_std = np.std(-train_score, axis=1)\n",
        "  test_scores_mean = np.mean(-test_score, axis=1)\n",
        "  test_scores_std = np.std(-test_score, axis=1)\n",
        "  # fit_times_mean = np.mean(lin_reg_cv_result['fit_times'], axis=1)\n",
        "  # fit_times_std = np.std(lin_reg_cv_result['fit_times'], axis=1)\n",
        "  fit_times_mean = np.mean(fit_times, axis=1)\n",
        "  fit_times_std = np.std(fit_times, axis=1)\n",
        "\n",
        "  plt.fill_between(train_sizes,\n",
        "                   train_scores_mean - train_scores_std,\n",
        "                   train_scores_mean + train_scores_std,\n",
        "                   alpha = 0.1,\n",
        "                   color='r'\n",
        "                   )\n",
        "  plt.fill_between(train_sizes,\n",
        "                   test_scores_mean - test_scores_std,\n",
        "                   test_scores_mean + test_scores_std,\n",
        "                   alpha = 0.1,\n",
        "                   color='g'\n",
        "                   )\n",
        "  plt.plot(train_sizes, train_scores_mean, \"o-\", color='r')\n",
        "  plt.plot(train_sizes, test_scores_mean, \"o-\", color='g')\n",
        "  plt.xlabel('Training examples')\n",
        "  plt.ylabel('MSE')\n",
        "  plt.legend(loc=\"best\")\n",
        "  plt.show()"
      ],
      "metadata": {
        "id": "n-c6E60qoVJx"
      },
      "execution_count": null,
      "outputs": []
    },
    {
      "cell_type": "code",
      "source": [
        "from numpy.core.function_base import linspace\n",
        "(train_sizes, train_scores, test_scores, fit_times, score_times) = learning_curve(lin_reg_pipeline,\n",
        "                                                                                  train_features,\n",
        "                                                                                  train_labels,\n",
        "                                                                                  cv=shuffle_split_cv,\n",
        "                                                                                  scoring='neg_mean_squared_error',\n",
        "                                                                                  n_jobs=-1,\n",
        "                                                                                  return_times=True,\n",
        "                                                                                  train_sizes=np.linspace(0.2, 1, 10)\n",
        "                                                                                  )\n",
        "plot_learning_curve(train_sizes, train_scores, test_scores)"
      ],
      "metadata": {
        "colab": {
          "base_uri": "https://localhost:8080/",
          "height": 378
        },
        "id": "UVy7h0DJqmSq",
        "outputId": "1e4a85d9-0ec3-4a1e-8530-2ddb6c032a04"
      },
      "execution_count": null,
      "outputs": [
        {
          "output_type": "stream",
          "name": "stderr",
          "text": [
            "WARNING:matplotlib.legend:No handles with labels found to put in legend.\n"
          ]
        },
        {
          "output_type": "display_data",
          "data": {
            "text/plain": [
              "<Figure size 576x396 with 1 Axes>"
            ],
            "image/png": "[encoded data removed]"
          },
          "metadata": {}
        }
      ]
    },
    {
      "cell_type": "markdown",
      "source": [
        "###Observe that\n",
        "* Both learning curve reached a plateau, they are close and fairly high\n",
        "* Model fits perfectly if training set has only few elements. But as more instances are added to training set, it becomes impossible for the model to fit the training data perfectly.\n",
        "* When the model is trained on very few training instances, it is not able to generalize properly, which is why the validation error is initially quite high. Then as the model learns on more examples, the training and validation error reduces slowly.   \n",
        "\n",
        "These learning curves are typical of an underfitting model."
      ],
      "metadata": {
        "id": "_VfNk7SUhJy5"
      }
    },
    {
      "cell_type": "code",
      "source": [
        "#plot_scalability_curve(train_size, fit_times)"
      ],
      "metadata": {
        "id": "rAiCamaHibvu"
      },
      "execution_count": null,
      "outputs": []
    },
    {
      "cell_type": "markdown",
      "source": [
        "##Model Examination\n",
        "Let's examine the weight vectors and how much variability exists between them across different cross-validated models. \n",
        "\n",
        "For that first we have to generate a dataframe weight vectors and plot them with box plot."
      ],
      "metadata": {
        "id": "Ddv49dF9jR6N"
      }
    },
    {
      "cell_type": "code",
      "source": [
        "feature_names = train_features.columns\n",
        "feature_names"
      ],
      "metadata": {
        "colab": {
          "base_uri": "https://localhost:8080/"
        },
        "id": "F4QXN-sRjzN7",
        "outputId": "b3710d33-8e6e-45ab-f7c2-f1796aaae702"
      },
      "execution_count": null,
      "outputs": [
        {
          "output_type": "execute_result",
          "data": {
            "text/plain": [
              "Index(['MedInc', 'HouseAge', 'AveRooms', 'AveBedrms', 'Population', 'AveOccup',\n",
              "       'Latitude', 'Longitude'],\n",
              "      dtype='object')"
            ]
          },
          "metadata": {},
          "execution_count": 18
        }
      ]
    },
    {
      "cell_type": "code",
      "source": [
        "coefs = [est[-1].coef_ for est in lin_reg_cv_result['estimator']]\n",
        "weights_df = pd.DataFrame(coefs, columns=feature_names)\n",
        "\n",
        "color = {'whiskers': 'black', 'medians': 'black', 'caps': 'black'}\n",
        "weights_df.plot.box(color=color, vert=False)\n",
        "_ = plt.title('Linear Regression Coefficients')"
      ],
      "metadata": {
        "colab": {
          "base_uri": "https://localhost:8080/",
          "height": 362
        },
        "id": "v3lKWfM1kobr",
        "outputId": "dbadf4ea-8eb3-4f7b-ed9b-23cc94d86251"
      },
      "execution_count": null,
      "outputs": [
        {
          "output_type": "display_data",
          "data": {
            "text/plain": [
              "<Figure size 576x396 with 1 Axes>"
            ],
            "image/png": "[encoded data removed]"
          },
          "metadata": {}
        }
      ]
    },
    {
      "cell_type": "markdown",
      "source": [
        "There is not much variability in weights learned by different models.\n",
        "\n",
        "It is understandable from the standard deviation of the weights as below"
      ],
      "metadata": {
        "id": "EK-m10O3knhw"
      }
    },
    {
      "cell_type": "code",
      "source": [
        "weights_df.describe()"
      ],
      "metadata": {
        "colab": {
          "base_uri": "https://localhost:8080/",
          "height": 300
        },
        "id": "rnKdsUrSntq_",
        "outputId": "af248023-a55a-4442-ab87-7e25f18d6001"
      },
      "execution_count": null,
      "outputs": [
        {
          "output_type": "execute_result",
          "data": {
            "text/plain": [
              "          MedInc   HouseAge   AveRooms  AveBedrms  Population   AveOccup  \\\n",
              "count  10.000000  10.000000  10.000000  10.000000   10.000000  10.000000   \n",
              "mean    0.852153   0.122770  -0.304384   0.353528   -0.001576  -0.037059   \n",
              "std     0.005763   0.004312   0.010998   0.018044    0.003254   0.008582   \n",
              "min     0.843517   0.117394  -0.318971   0.307474   -0.005787  -0.047584   \n",
              "25%     0.848871   0.119895  -0.310778   0.349715   -0.002688  -0.042486   \n",
              "50%     0.852711   0.121592  -0.305795   0.360139   -0.002063  -0.042325   \n",
              "75%     0.854743   0.125520  -0.302980   0.364646   -0.000350  -0.027562   \n",
              "max     0.861659   0.130560  -0.278426   0.367952    0.005297  -0.026331   \n",
              "\n",
              "        Latitude  Longitude  \n",
              "count  10.000000  10.000000  \n",
              "mean   -0.894011  -0.869753  \n",
              "std     0.009975   0.009097  \n",
              "min    -0.908058  -0.884206  \n",
              "25%    -0.901411  -0.876542  \n",
              "50%    -0.895370  -0.869631  \n",
              "75%    -0.883967  -0.862110  \n",
              "max    -0.881884  -0.857844  "
            ],
            "text/html": [
              "\n",
              "  <div id=\"df-79fd9c3d-2c76-4940-b05a-87c36daa2f2a\">\n",
              "    <div class=\"colab-df-container\">\n",
              "      <div>\n",
              "<style scoped>\n",
              "    .dataframe tbody tr th:only-of-type {\n",
              "        vertical-align: middle;\n",
              "    }\n",
              "\n",
              "    .dataframe tbody tr th {\n",
              "        vertical-align: top;\n",
              "    }\n",
              "\n",
              "    .dataframe thead th {\n",
              "        text-align: right;\n",
              "    }\n",
              "</style>\n",
              "<table border=\"1\" class=\"dataframe\">\n",
              "  <thead>\n",
              "    <tr style=\"text-align: right;\">\n",
              "      <th></th>\n",
              "      <th>MedInc</th>\n",
              "      <th>HouseAge</th>\n",
              "      <th>AveRooms</th>\n",
              "      <th>AveBedrms</th>\n",
              "      <th>Population</th>\n",
              "      <th>AveOccup</th>\n",
              "      <th>Latitude</th>\n",
              "      <th>Longitude</th>\n",
              "    </tr>\n",
              "  </thead>\n",
              "  <tbody>\n",
              "    <tr>\n",
              "      <th>count</th>\n",
              "      <td>10.000000</td>\n",
              "      <td>10.000000</td>\n",
              "      <td>10.000000</td>\n",
              "      <td>10.000000</td>\n",
              "      <td>10.000000</td>\n",
              "      <td>10.000000</td>\n",
              "      <td>10.000000</td>\n",
              "      <td>10.000000</td>\n",
              "    </tr>\n",
              "    <tr>\n",
              "      <th>mean</th>\n",
              "      <td>0.852153</td>\n",
              "      <td>0.122770</td>\n",
              "      <td>-0.304384</td>\n",
              "      <td>0.353528</td>\n",
              "      <td>-0.001576</td>\n",
              "      <td>-0.037059</td>\n",
              "      <td>-0.894011</td>\n",
              "      <td>-0.869753</td>\n",
              "    </tr>\n",
              "    <tr>\n",
              "      <th>std</th>\n",
              "      <td>0.005763</td>\n",
              "      <td>0.004312</td>\n",
              "      <td>0.010998</td>\n",
              "      <td>0.018044</td>\n",
              "      <td>0.003254</td>\n",
              "      <td>0.008582</td>\n",
              "      <td>0.009975</td>\n",
              "      <td>0.009097</td>\n",
              "    </tr>\n",
              "    <tr>\n",
              "      <th>min</th>\n",
              "      <td>0.843517</td>\n",
              "      <td>0.117394</td>\n",
              "      <td>-0.318971</td>\n",
              "      <td>0.307474</td>\n",
              "      <td>-0.005787</td>\n",
              "      <td>-0.047584</td>\n",
              "      <td>-0.908058</td>\n",
              "      <td>-0.884206</td>\n",
              "    </tr>\n",
              "    <tr>\n",
              "      <th>25%</th>\n",
              "      <td>0.848871</td>\n",
              "      <td>0.119895</td>\n",
              "      <td>-0.310778</td>\n",
              "      <td>0.349715</td>\n",
              "      <td>-0.002688</td>\n",
              "      <td>-0.042486</td>\n",
              "      <td>-0.901411</td>\n",
              "      <td>-0.876542</td>\n",
              "    </tr>\n",
              "    <tr>\n",
              "      <th>50%</th>\n",
              "      <td>0.852711</td>\n",
              "      <td>0.121592</td>\n",
              "      <td>-0.305795</td>\n",
              "      <td>0.360139</td>\n",
              "      <td>-0.002063</td>\n",
              "      <td>-0.042325</td>\n",
              "      <td>-0.895370</td>\n",
              "      <td>-0.869631</td>\n",
              "    </tr>\n",
              "    <tr>\n",
              "      <th>75%</th>\n",
              "      <td>0.854743</td>\n",
              "      <td>0.125520</td>\n",
              "      <td>-0.302980</td>\n",
              "      <td>0.364646</td>\n",
              "      <td>-0.000350</td>\n",
              "      <td>-0.027562</td>\n",
              "      <td>-0.883967</td>\n",
              "      <td>-0.862110</td>\n",
              "    </tr>\n",
              "    <tr>\n",
              "      <th>max</th>\n",
              "      <td>0.861659</td>\n",
              "      <td>0.130560</td>\n",
              "      <td>-0.278426</td>\n",
              "      <td>0.367952</td>\n",
              "      <td>0.005297</td>\n",
              "      <td>-0.026331</td>\n",
              "      <td>-0.881884</td>\n",
              "      <td>-0.857844</td>\n",
              "    </tr>\n",
              "  </tbody>\n",
              "</table>\n",
              "</div>\n",
              "      <button class=\"colab-df-convert\" onclick=\"convertToInteractive('df-79fd9c3d-2c76-4940-b05a-87c36daa2f2a')\"\n",
              "              title=\"Convert this dataframe to an interactive table.\"\n",
              "              style=\"display:none;\">\n",
              "        \n",
              "  <svg xmlns=\"http://www.w3.org/2000/svg\" height=\"24px\"viewBox=\"0 0 24 24\"\n",
              "       width=\"24px\">\n",
              "    <path d=\"M0 0h24v24H0V0z\" fill=\"none\"/>\n",
              "    <path d=\"M18.56 5.44l.94 2.06.94-2.06 2.06-.94-2.06-.94-.94-2.06-.94 2.06-2.06.94zm-11 1L8.5 8.5l.94-2.06 2.06-.94-2.06-.94L8.5 2.5l-.94 2.06-2.06.94zm10 10l.94 2.06.94-2.06 2.06-.94-2.06-.94-.94-2.06-.94 2.06-2.06.94z\"/><path d=\"M17.41 7.96l-1.37-1.37c-.4-.4-.92-.59-1.43-.59-.52 0-1.04.2-1.43.59L10.3 9.45l-7.72 7.72c-.78.78-.78 2.05 0 2.83L4 21.41c.39.39.9.59 1.41.59.51 0 1.02-.2 1.41-.59l7.78-7.78 2.81-2.81c.8-.78.8-2.07 0-2.86zM5.41 20L4 18.59l7.72-7.72 1.47 1.35L5.41 20z\"/>\n",
              "  </svg>\n",
              "      </button>\n",
              "      \n",
              "  <style>\n",
              "    .colab-df-container {\n",
              "      display:flex;\n",
              "      flex-wrap:wrap;\n",
              "      gap: 12px;\n",
              "    }\n",
              "\n",
              "    .colab-df-convert {\n",
              "      background-color: #E8F0FE;\n",
              "      border: none;\n",
              "      border-radius: 50%;\n",
              "      cursor: pointer;\n",
              "      display: none;\n",
              "      fill: #1967D2;\n",
              "      height: 32px;\n",
              "      padding: 0 0 0 0;\n",
              "      width: 32px;\n",
              "    }\n",
              "\n",
              "    .colab-df-convert:hover {\n",
              "      background-color: #E2EBFA;\n",
              "      box-shadow: 0px 1px 2px rgba(60, 64, 67, 0.3), 0px 1px 3px 1px rgba(60, 64, 67, 0.15);\n",
              "      fill: #174EA6;\n",
              "    }\n",
              "\n",
              "    [theme=dark] .colab-df-convert {\n",
              "      background-color: #3B4455;\n",
              "      fill: #D2E3FC;\n",
              "    }\n",
              "\n",
              "    [theme=dark] .colab-df-convert:hover {\n",
              "      background-color: #434B5C;\n",
              "      box-shadow: 0px 1px 3px 1px rgba(0, 0, 0, 0.15);\n",
              "      filter: drop-shadow(0px 1px 2px rgba(0, 0, 0, 0.3));\n",
              "      fill: #FFFFFF;\n",
              "    }\n",
              "  </style>\n",
              "\n",
              "      <script>\n",
              "        const buttonEl =\n",
              "          document.querySelector('#df-79fd9c3d-2c76-4940-b05a-87c36daa2f2a button.colab-df-convert');\n",
              "        buttonEl.style.display =\n",
              "          google.colab.kernel.accessAllowed ? 'block' : 'none';\n",
              "\n",
              "        async function convertToInteractive(key) {\n",
              "          const element = document.querySelector('#df-79fd9c3d-2c76-4940-b05a-87c36daa2f2a');\n",
              "          const dataTable =\n",
              "            await google.colab.kernel.invokeFunction('convertToInteractive',\n",
              "                                                     [key], {});\n",
              "          if (!dataTable) return;\n",
              "\n",
              "          const docLinkHtml = 'Like what you see? Visit the ' +\n",
              "            '<a target=\"_blank\" href=https://colab.research.google.com/notebooks/data_table.ipynb>data table notebook</a>'\n",
              "            + ' to learn more about interactive tables.';\n",
              "          element.innerHTML = '';\n",
              "          dataTable['output_type'] = 'display_data';\n",
              "          await google.colab.output.renderOutput(dataTable, element);\n",
              "          const docLink = document.createElement('div');\n",
              "          docLink.innerHTML = docLinkHtml;\n",
              "          element.appendChild(docLink);\n",
              "        }\n",
              "      </script>\n",
              "    </div>\n",
              "  </div>\n",
              "  "
            ]
          },
          "metadata": {},
          "execution_count": 29
        }
      ]
    },
    {
      "cell_type": "markdown",
      "source": [
        "##Selecting the best Model\n",
        "Let's select the midel with lowest cross validated test error as the best performing model"
      ],
      "metadata": {
        "id": "u6QEMv6mn10i"
      }
    },
    {
      "cell_type": "code",
      "source": [
        "best_model_index = np.argmin(test_errors)\n",
        "selected_model = lin_reg_cv_result['estimator'][best_model_index]\n",
        "\n",
        "print('Intercept (w0): ', selected_model['lin_reg'].intercept_)\n",
        "print('Coeffieients (w1, w2, ...wm): ', selected_model['lin_reg'].coef_)"
      ],
      "metadata": {
        "colab": {
          "base_uri": "https://localhost:8080/"
        },
        "id": "bF944qy8oEZY",
        "outputId": "02d2baeb-1ae0-4699-d31e-ec1fdb4c4f38"
      },
      "execution_count": null,
      "outputs": [
        {
          "output_type": "stream",
          "name": "stdout",
          "text": [
            "Intercept (w0):  2.0779898917958657\n",
            "Coeffieients (w1, w2, ...wm):  [ 8.44324888e-01  1.18463901e-01 -3.04619574e-01  3.56620503e-01\n",
            "  1.74458509e-04 -4.23964612e-02 -8.96045642e-01 -8.68906479e-01]\n"
          ]
        }
      ]
    },
    {
      "cell_type": "markdown",
      "source": [
        "##Model Performance\n",
        "For this, let's obtain the predictions for test data in cross validation"
      ],
      "metadata": {
        "id": "V9HVGIvLozkc"
      }
    },
    {
      "cell_type": "code",
      "source": [
        "from sklearn.model_selection import cross_val_predict\n",
        "cv_predictions = cross_val_predict(lin_reg_pipeline, train_features, train_labels)\n",
        "\n",
        "mse_cv = mean_squared_error(train_labels, cv_predictions)\n",
        "plt.scatter(train_labels, cv_predictions, color='blue')\n",
        "plt.plot(train_labels, train_labels, 'r-')\n",
        "plt.title('mean_squared_error')\n",
        "plt.xlabel('Actual Median House value')\n",
        "plt.ylabel('Predited Median House Value')\n",
        "plt.show()"
      ],
      "metadata": {
        "colab": {
          "base_uri": "https://localhost:8080/",
          "height": 376
        },
        "id": "vE0WeuBupBvO",
        "outputId": "fc84f92a-4200-46bc-a019-e48d4a5f2f65"
      },
      "execution_count": null,
      "outputs": [
        {
          "output_type": "display_data",
          "data": {
            "text/plain": [
              "<Figure size 576x396 with 1 Axes>"
            ],
            "image/png": "[encoded data removed]"
          },
          "metadata": {}
        }
      ]
    },
    {
      "cell_type": "markdown",
      "source": [
        "* The model seems to be all over the place in its predictions for example with label 5\n",
        "* There are some negative predictions. We can fix this by adding a constraint on the weight to get positive predictions.\n",
        "\n",
        "At this stage we should perform error analysis and check where the predictions are going wrong.   \n",
        "\n",
        "We can revisit feature constructionpreprocessing or model stages and make the necessary corrections to get better performance."
      ],
      "metadata": {
        "id": "o38vdMiFqR8F"
      }
    },
    {
      "cell_type": "markdown",
      "source": [
        "#Srep5 : Predictions\n",
        "We can use the best performing model from cross validation for getting predictions on the test set."
      ],
      "metadata": {
        "id": "DKokVhk8rhl-"
      }
    },
    {
      "cell_type": "code",
      "source": [
        "test_predictions_cv = selected_model.predict(test_features)\n",
        "test_predictions_cv[:5]"
      ],
      "metadata": {
        "colab": {
          "base_uri": "https://localhost:8080/"
        },
        "id": "g8t3YLfOrg3v",
        "outputId": "df995a1c-6100-4332-c4ec-aaf52414de6b"
      },
      "execution_count": null,
      "outputs": [
        {
          "output_type": "execute_result",
          "data": {
            "text/plain": [
              "array([0.73548515, 1.7725621 , 2.70011199, 2.83716602, 2.60743151])"
            ]
          },
          "metadata": {},
          "execution_count": 34
        }
      ]
    },
    {
      "cell_type": "markdown",
      "source": [
        "We cal also obtain prediction using the initial model that we built without cross validation"
      ],
      "metadata": {
        "id": "ft6zPDnIqR3I"
      }
    },
    {
      "cell_type": "code",
      "source": [
        "test_predictions = lin_reg_pipeline.predict(test_features)\n",
        "test_predictions[:5]"
      ],
      "metadata": {
        "colab": {
          "base_uri": "https://localhost:8080/"
        },
        "id": "kk4xCIq1sLYF",
        "outputId": "8635bf6c-1944-41e5-c462-a7897e54c0a2"
      },
      "execution_count": null,
      "outputs": [
        {
          "output_type": "execute_result",
          "data": {
            "text/plain": [
              "array([0.72412832, 1.76677807, 2.71151581, 2.83601179, 2.603755  ])"
            ]
          },
          "metadata": {},
          "execution_count": 35
        }
      ]
    },
    {
      "cell_type": "markdown",
      "source": [
        "#Step 6: Report Model Performance\n",
        "We report model perfoemance on the test set"
      ],
      "metadata": {
        "id": "IlP9CDJDsWId"
      }
    },
    {
      "cell_type": "code",
      "source": [
        "score_cv = selected_model.score(test_features, test_labels)\n",
        "score = lin_reg_pipeline.score(test_features, test_labels)\n",
        "print('R2 score for the best model obtained via cross validation: ', score_cv)\n",
        "print('R2 score for the best model obtained without cross validation: ', score)"
      ],
      "metadata": {
        "colab": {
          "base_uri": "https://localhost:8080/"
        },
        "id": "zdm0ZRN3sgjH",
        "outputId": "d914e234-e581-4d8d-eb09-47f55c45e7e1"
      },
      "execution_count": null,
      "outputs": [
        {
          "output_type": "stream",
          "name": "stdout",
          "text": [
            "R2 score for the best model obtained via cross validation:  0.5923577635319088\n",
            "R2 score for the best model obtained without cross validation:  0.5910509795491352\n"
          ]
        }
      ]
    },
    {
      "cell_type": "markdown",
      "source": [
        "Alternatively we can use other metric of interest and report performance based on that. For rxample, the mean squared error as follows:"
      ],
      "metadata": {
        "id": "_cQHq_C3tEor"
      }
    },
    {
      "cell_type": "code",
      "source": [
        "mse = mean_squared_error(test_labels, test_predictions)\n",
        "mse_cv = mean_squared_error(test_labels, test_predictions_cv)\n",
        "\n",
        "print('MSE for the best model obtained via cross validation: ', mse_cv)\n",
        "print('MSE for the best model obtained without cross validation: ', mse)"
      ],
      "metadata": {
        "colab": {
          "base_uri": "https://localhost:8080/"
        },
        "id": "4i4Vwf8xtQY6",
        "outputId": "f381444d-5203-45f4-9d31-690082fd6e33"
      },
      "execution_count": null,
      "outputs": [
        {
          "output_type": "stream",
          "name": "stdout",
          "text": [
            "MSE for the best model obtained via cross validation:  0.5393995876218523\n",
            "MSE for the best model obtained without cross validation:  0.5411287478470688\n"
          ]
        }
      ]
    },
    {
      "cell_type": "markdown",
      "source": [
        "The cross validated model has slightly better MSE than the other model and hence better performance."
      ],
      "metadata": {
        "id": "FDjcj5mxttRK"
      }
    }
  ]
}