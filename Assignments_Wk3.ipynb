{
  "nbformat": 4,
  "nbformat_minor": 0,
  "metadata": {
    "colab": {
      "provenance": [],
      "authorship_tag": "ABX9TyPmvlGZdp6uI66x+wbAUrIT"
    },
    "kernelspec": {
      "name": "python3",
      "display_name": "Python 3"
    },
    "language_info": {
      "name": "python"
    }
  },
  "cells": [
    {
      "cell_type": "markdown",
      "source": [
        "#Practice Assignments"
      ],
      "metadata": {
        "id": "NcFtX7nUSA_C"
      }
    },
    {
      "cell_type": "code",
      "execution_count": null,
      "metadata": {
        "id": "Tx0DL5CzR-o9"
      },
      "outputs": [],
      "source": [
        "import math\n",
        "import numpy as np\n",
        "import pandas as pd\n",
        "from sklearn.datasets import fetch_california_housing\n",
        "from sklearn.linear_model import LinearRegression\n",
        "from sklearn.linear_model import SGDRegressor\n",
        "from sklearn.model_selection import train_test_split  \n",
        "from sklearn.model_selection import cross_val_score\n",
        "from sklearn.metrics import mean_squared_error\n",
        "from sklearn.metrics import explained_variance_score, max_error, mean_absolute_error\n",
        "from sklearn.pipeline import Pipeline\n",
        "from sklearn.preprocessing import StandardScaler"
      ]
    },
    {
      "cell_type": "markdown",
      "source": [
        "1. What is the shape of feature matrix for the dataset?"
      ],
      "metadata": {
        "id": "-MKtKwl-SjS8"
      }
    },
    {
      "cell_type": "code",
      "source": [
        "features, labels = fetch_california_housing(as_frame=True, return_X_y=True)\n",
        "\n",
        "print(features.shape)"
      ],
      "metadata": {
        "colab": {
          "base_uri": "https://localhost:8080/"
        },
        "id": "aE583HmVSVEC",
        "outputId": "c475f4b1-a00c-4332-ed05-6112abb5bdbd"
      },
      "execution_count": null,
      "outputs": [
        {
          "output_type": "stream",
          "name": "stdout",
          "text": [
            "(20640, 8)\n"
          ]
        }
      ]
    },
    {
      "cell_type": "markdown",
      "source": [
        "2. How many missing values are present in the dataset?"
      ],
      "metadata": {
        "id": "pPFOs-CySlhr"
      }
    },
    {
      "cell_type": "code",
      "source": [
        "features.isna().sum().sum()"
      ],
      "metadata": {
        "colab": {
          "base_uri": "https://localhost:8080/"
        },
        "id": "8qeq8MvnSoNF",
        "outputId": "79a8cbde-7f73-4b8a-82cd-3809c2ced4b9"
      },
      "execution_count": null,
      "outputs": [
        {
          "output_type": "execute_result",
          "data": {
            "text/plain": [
              "0"
            ]
          },
          "metadata": {},
          "execution_count": 3
        }
      ]
    },
    {
      "cell_type": "code",
      "source": [
        "train_features, test_features, train_labels, test_labels = train_test_split(features, labels, random_state=0,shuffle=False, test_size=0.2)\n",
        "print(train_features.columns)"
      ],
      "metadata": {
        "colab": {
          "base_uri": "https://localhost:8080/"
        },
        "id": "xh4li2FNSyef",
        "outputId": "b6fa22f4-3ab7-4315-b485-940b42c7f51a"
      },
      "execution_count": null,
      "outputs": [
        {
          "output_type": "stream",
          "name": "stdout",
          "text": [
            "Index(['MedInc', 'HouseAge', 'AveRooms', 'AveBedrms', 'Population', 'AveOccup',\n",
            "       'Latitude', 'Longitude'],\n",
            "      dtype='object')\n"
          ]
        }
      ]
    },
    {
      "cell_type": "markdown",
      "source": [
        "3. What is the value of house age in third sample of test set?"
      ],
      "metadata": {
        "id": "0up5AD9uS-t-"
      }
    },
    {
      "cell_type": "code",
      "source": [
        "test_features['HouseAge'].iloc[2]"
      ],
      "metadata": {
        "colab": {
          "base_uri": "https://localhost:8080/"
        },
        "id": "Zk219xPnS_47",
        "outputId": "9e8495f4-37dc-4fef-cf36-77de8375fba1"
      },
      "execution_count": null,
      "outputs": [
        {
          "output_type": "execute_result",
          "data": {
            "text/plain": [
              "28.0"
            ]
          },
          "metadata": {},
          "execution_count": 5
        }
      ]
    },
    {
      "cell_type": "markdown",
      "source": [
        "4. What is the value of Population in the first sample of training set?"
      ],
      "metadata": {
        "id": "GgnluxouTnhb"
      }
    },
    {
      "cell_type": "code",
      "source": [
        "train_features['Population'].iloc[0]"
      ],
      "metadata": {
        "colab": {
          "base_uri": "https://localhost:8080/"
        },
        "id": "fUTJRel-TomQ",
        "outputId": "76182487-2b21-4fde-e3fe-d1cca15aef74"
      },
      "execution_count": null,
      "outputs": [
        {
          "output_type": "execute_result",
          "data": {
            "text/plain": [
              "322.0"
            ]
          },
          "metadata": {},
          "execution_count": 6
        }
      ]
    },
    {
      "cell_type": "markdown",
      "source": [
        "5. What is the mean of output label in training set?"
      ],
      "metadata": {
        "id": "csg8N7jwT50g"
      }
    },
    {
      "cell_type": "code",
      "source": [
        "train_labels.mean()"
      ],
      "metadata": {
        "colab": {
          "base_uri": "https://localhost:8080/"
        },
        "id": "m5Uef1GRT6_-",
        "outputId": "9e529d78-23e4-4c81-c5d0-b8535ebcca94"
      },
      "execution_count": null,
      "outputs": [
        {
          "output_type": "execute_result",
          "data": {
            "text/plain": [
              "2.02067031310562"
            ]
          },
          "metadata": {},
          "execution_count": 7
        }
      ]
    },
    {
      "cell_type": "markdown",
      "source": [
        "6. What is the median of output label in test set?"
      ],
      "metadata": {
        "id": "bYqae87TUIHK"
      }
    },
    {
      "cell_type": "code",
      "source": [
        "test_labels.median()"
      ],
      "metadata": {
        "colab": {
          "base_uri": "https://localhost:8080/"
        },
        "id": "KHNfnnxTUJc0",
        "outputId": "9402d0b0-c1ec-463a-f2ba-ad90508fa8a2"
      },
      "execution_count": null,
      "outputs": [
        {
          "output_type": "execute_result",
          "data": {
            "text/plain": [
              "2.1475"
            ]
          },
          "metadata": {},
          "execution_count": 8
        }
      ]
    },
    {
      "cell_type": "markdown",
      "source": [
        "7. If we use StandardScaler for preprocessing and LinearRegression for fitting the model with training set obtained in previous questions, what are the coefficients obtained in the predicted model?\n",
        "\n"
      ],
      "metadata": {
        "id": "bjM09qnKUM6j"
      }
    },
    {
      "cell_type": "code",
      "source": [
        "lin_reg_pipe = Pipeline(steps=[('scaling', StandardScaler()),\n",
        "                           ('lin_reg', LinearRegression())\n",
        "                           ])\n",
        "lin_reg_pipe.fit(train_features, train_labels)\n",
        "print(lin_reg_pipe[-1].coef_)"
      ],
      "metadata": {
        "colab": {
          "base_uri": "https://localhost:8080/"
        },
        "id": "KrY3xVYSUYng",
        "outputId": "a12bec9c-4cb0-41da-bedb-3aaf567c125b"
      },
      "execution_count": null,
      "outputs": [
        {
          "output_type": "stream",
          "name": "stdout",
          "text": [
            "[ 0.83817967  0.12032096 -0.32135834  0.36456599 -0.00170674 -0.04524631\n",
            " -0.87994217 -0.82634126]\n"
          ]
        }
      ]
    },
    {
      "cell_type": "markdown",
      "source": [
        "8. \n",
        "1 point\n",
        "If we use StandardScaler for preprocessing and LinearRegression for fitting the model with training set used in previous question, what is the bias term predicted by the model?\n"
      ],
      "metadata": {
        "id": "83i0ZVLDVRx2"
      }
    },
    {
      "cell_type": "code",
      "source": [
        "print(lin_reg_pipe[-1].intercept_)"
      ],
      "metadata": {
        "colab": {
          "base_uri": "https://localhost:8080/"
        },
        "id": "3oO-kDmcVRbV",
        "outputId": "34895fcd-44e9-4b67-d913-d940970d98a8"
      },
      "execution_count": null,
      "outputs": [
        {
          "output_type": "stream",
          "name": "stdout",
          "text": [
            "2.020670313105614\n"
          ]
        }
      ]
    },
    {
      "cell_type": "markdown",
      "source": [
        "#Graded Assignments\n",
        "(use appropriate API with random_state=0, shuffle=False and test_size=0.2)"
      ],
      "metadata": {
        "id": "4LpdR5LSVfCS"
      }
    },
    {
      "cell_type": "markdown",
      "source": [
        "1. If we use StandardScaler for preprocessing and LinearRegression for fitting the model with training set obtained from following code snippet:\n",
        "X_train,X_test,y_train,y_test= train_test_split(X,y, test_size=0.2, shuffle=False, random_state=0)\n",
        "Assume that (X,y) is the california housing dataset.\n",
        "What is the R squared value for predictions obtained using test set features?"
      ],
      "metadata": {
        "id": "qLSgHFrCVehm"
      }
    },
    {
      "cell_type": "code",
      "source": [
        "X, y = fetch_california_housing(as_frame=True, return_X_y=True)\n",
        "X_train,X_test,y_train,y_test= train_test_split(X,y, test_size=0.2, shuffle=False, random_state=0) \n",
        "lin_reg_pipe = Pipeline(steps=[('scaling', StandardScaler()),\n",
        "                           ('lin_reg', LinearRegression())\n",
        "                           ])\n",
        "lin_reg_pipe.fit(X_train, y_train)\n",
        "\n",
        "test_score = lin_reg_pipe.score(X_test, y_test)\n",
        "print('R2 score: ', test_score)"
      ],
      "metadata": {
        "colab": {
          "base_uri": "https://localhost:8080/"
        },
        "id": "1H_M2s4fVuiT",
        "outputId": "25170e18-f80f-4711-9147-1534dac6fbd8"
      },
      "execution_count": null,
      "outputs": [
        {
          "output_type": "stream",
          "name": "stdout",
          "text": [
            "R2 score:  0.6605140591531992\n"
          ]
        }
      ]
    },
    {
      "cell_type": "markdown",
      "source": [
        "2. If we use StandardScaler for preprocessing and LinearRegression for fitting the model, what is the root mean squared error value for predictions obtained using test set features?"
      ],
      "metadata": {
        "id": "sPD05UExWkEB"
      }
    },
    {
      "cell_type": "code",
      "source": [
        "y_pred = lin_reg_pipe.predict(X_test)\n",
        "mse = mean_squared_error(y_test, y_pred)\n",
        "print('MSE: ', mse)\n",
        "rmse = math.sqrt(mse)\n",
        "print('Root mean squared error: ', rmse)"
      ],
      "metadata": {
        "colab": {
          "base_uri": "https://localhost:8080/"
        },
        "id": "S6j3o_MiWlNr",
        "outputId": "5e1b9aef-2c0c-4eaf-c7fc-0cb6c2097d86"
      },
      "execution_count": null,
      "outputs": [
        {
          "output_type": "stream",
          "name": "stdout",
          "text": [
            "MSE:  0.49468483563880755\n",
            "Root mean squared error:  0.7033383507521878\n"
          ]
        }
      ]
    },
    {
      "cell_type": "markdown",
      "source": [
        "Split the data into training and test sets with random_state=0, shuffle=False and test_size=0.2 parameters.\n",
        "\n",
        "Let, y_test= target label in test set of california housing dataset\n",
        "\n",
        "and y_pred=target labels obtained by the model using X_test\n",
        "\n",
        "Then compute values of the following evaluation metrics\n",
        "\n",
        "3. Explained Variance score"
      ],
      "metadata": {
        "id": "xEC4K7WiYuei"
      }
    },
    {
      "cell_type": "code",
      "source": [
        "evs = explained_variance_score(y_test, y_pred)\n",
        "print(evs)"
      ],
      "metadata": {
        "colab": {
          "base_uri": "https://localhost:8080/"
        },
        "id": "HqisNCPnY8AQ",
        "outputId": "5dc14b8c-4e52-49cc-bfd7-55f51b2c8701"
      },
      "execution_count": null,
      "outputs": [
        {
          "output_type": "stream",
          "name": "stdout",
          "text": [
            "0.6605500501742703\n"
          ]
        }
      ]
    },
    {
      "cell_type": "markdown",
      "source": [
        "4. Max Error"
      ],
      "metadata": {
        "id": "y48xs5CfagyK"
      }
    },
    {
      "cell_type": "code",
      "source": [
        "max_error = max_error(y_test, y_pred)\n",
        "print(max_error)"
      ],
      "metadata": {
        "colab": {
          "base_uri": "https://localhost:8080/"
        },
        "id": "XA0QiYioamaS",
        "outputId": "ec4b1bef-3ea2-4ec5-9b33-02048a5b7b43"
      },
      "execution_count": null,
      "outputs": [
        {
          "output_type": "stream",
          "name": "stdout",
          "text": [
            "7.260453292958372\n"
          ]
        }
      ]
    },
    {
      "cell_type": "markdown",
      "source": [
        "5. Mean absolute error"
      ],
      "metadata": {
        "id": "bVp66uqxavPb"
      }
    },
    {
      "cell_type": "code",
      "source": [
        "mae = mean_absolute_error(y_test, y_pred)\n",
        "print(mae)"
      ],
      "metadata": {
        "colab": {
          "base_uri": "https://localhost:8080/"
        },
        "id": "lQr6nR8waxwJ",
        "outputId": "4e18c3ec-b746-4418-8ebb-5f1cc09cdb71"
      },
      "execution_count": null,
      "outputs": [
        {
          "output_type": "stream",
          "name": "stdout",
          "text": [
            "0.5168526993787042\n"
          ]
        }
      ]
    },
    {
      "cell_type": "markdown",
      "source": [
        "6. Mean Squared error"
      ],
      "metadata": {
        "id": "wLH61fA7a6R7"
      }
    },
    {
      "cell_type": "code",
      "source": [
        "mse = mean_squared_error(y_test, y_pred)\n",
        "print(mse)"
      ],
      "metadata": {
        "colab": {
          "base_uri": "https://localhost:8080/"
        },
        "id": "-GyVueT5a85_",
        "outputId": "28d735d0-4954-4ca1-8283-b0dee17f8019"
      },
      "execution_count": null,
      "outputs": [
        {
          "output_type": "stream",
          "name": "stdout",
          "text": [
            "0.49468483563880755\n"
          ]
        }
      ]
    },
    {
      "cell_type": "markdown",
      "source": [
        " for Ques 7 to 8, perform SGD Regression on the given (scaled using StandardScalar()) dataset, using default hyperparameters and random_state=0."
      ],
      "metadata": {
        "id": "jCvZYLJsbEy3"
      }
    },
    {
      "cell_type": "code",
      "source": [
        "sgd_pipe = Pipeline(steps=[('scaling', StandardScaler()),\n",
        "                           ('sgd', SGDRegressor(random_state=0))\n",
        "                           ])\n",
        "sgd_pipe.fit(X_train, y_train)\n"
      ],
      "metadata": {
        "colab": {
          "base_uri": "https://localhost:8080/"
        },
        "id": "miSIN8bhbIo4",
        "outputId": "acd93240-79a0-427f-eb39-a1f2e70f8c3a"
      },
      "execution_count": null,
      "outputs": [
        {
          "output_type": "execute_result",
          "data": {
            "text/plain": [
              "Pipeline(steps=[('scaling', StandardScaler()),\n",
              "                ('sgd', SGDRegressor(random_state=0))])"
            ]
          },
          "metadata": {},
          "execution_count": 17
        }
      ]
    },
    {
      "cell_type": "markdown",
      "source": [
        "7. What is the bias term?"
      ],
      "metadata": {
        "id": "REjAJgFRbF9G"
      }
    },
    {
      "cell_type": "code",
      "source": [
        "print(sgd_pipe[-1].intercept_)"
      ],
      "metadata": {
        "colab": {
          "base_uri": "https://localhost:8080/"
        },
        "id": "_cQphK3ccFuJ",
        "outputId": "c49a3ef1-f676-4898-d563-9c1ae326a516"
      },
      "execution_count": null,
      "outputs": [
        {
          "output_type": "stream",
          "name": "stdout",
          "text": [
            "[2.01123921]\n"
          ]
        }
      ]
    },
    {
      "cell_type": "markdown",
      "source": [
        "8. What are the coefficients in predicted model?"
      ],
      "metadata": {
        "id": "LvyZiPvTcT_h"
      }
    },
    {
      "cell_type": "code",
      "source": [
        "print(sgd_pipe[-1].coef_)"
      ],
      "metadata": {
        "colab": {
          "base_uri": "https://localhost:8080/"
        },
        "id": "EVaoiBT4cWdn",
        "outputId": "1c722bf5-c9e6-4aef-9b51-9d73cb4348cc"
      },
      "execution_count": null,
      "outputs": [
        {
          "output_type": "stream",
          "name": "stdout",
          "text": [
            "[ 0.84046697  0.112331   -0.41213039  0.21595971 -0.01781887 -0.01480892\n",
            " -0.87394103 -0.83913104]\n"
          ]
        }
      ]
    }
  ]
}