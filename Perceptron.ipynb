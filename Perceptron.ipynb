{
  "nbformat": 4,
  "nbformat_minor": 0,
  "metadata": {
    "colab": {
      "provenance": [],
      "authorship_tag": "ABX9TyNqDlR/17eFdmtDEweLj45E"
    },
    "kernelspec": {
      "name": "python3",
      "display_name": "Python 3"
    },
    "language_info": {
      "name": "python"
    }
  },
  "cells": [
    {
      "cell_type": "markdown",
      "source": [
        "#Binary class image classification with Perceptron"
      ],
      "metadata": {
        "id": "mO7YvHrLy1fx"
      }
    },
    {
      "cell_type": "code",
      "execution_count": null,
      "metadata": {
        "id": "BCpnbNAiyxbW"
      },
      "outputs": [],
      "source": [
        "import numpy as np\n",
        "import os\n",
        "import io\n",
        "import warnings\n",
        "\n",
        "from sklearn.datasets import fetch_openml\n",
        "from sklearn.preprocessing import MinMaxScaler\n",
        "from sklearn.pipeline import Pipeline\n",
        "from sklearn.dummy import DummyClassifier\n",
        "from sklearn.linear_model import Perceptron\n",
        "from sklearn.metrics import hinge_loss\n",
        "from sklearn.metrics import ConfusionMatrixDisplay, confusion_matrix, precision_recall_curve\n",
        "from sklearn.metrics import precision_score, recall_score, classification_report\n",
        "from sklearn.metrics import make_scorer\n",
        "from sklearn.model_selection import cross_validate, cross_val_predict, GridSearchCV\n",
        "from pprint import pprint\n",
        "\n",
        "import matplotlib.pyplot as plt\n",
        "import seaborn as sns"
      ]
    },
    {
      "cell_type": "markdown",
      "source": [
        "The dataset used is MNIST dataset that contais digit images. Each image should be labelled properly."
      ],
      "metadata": {
        "id": "WgK7xedS0tBN"
      }
    },
    {
      "cell_type": "code",
      "source": [
        "X, y = fetch_openml('mnist_784', version=1, return_X_y=True)\n",
        "X = X.to_numpy()\n",
        "y = y.to_numpy()"
      ],
      "metadata": {
        "id": "qYBxKpoy1CM2"
      },
      "execution_count": null,
      "outputs": []
    },
    {
      "cell_type": "code",
      "source": [
        "target_names = np.unique(y)\n",
        "print('Number of samples, type: ', X.shape[0], X.dtype)\n",
        "print('Number of features: ', X.shape[1])\n",
        "print('Minimum: ', np.min(X), 'Maximum: ', np.max(X))\n",
        "print('Number of classes: ', len(target_names), 'type: ', y.dtype)\n",
        "print('labels: ', target_names)"
      ],
      "metadata": {
        "colab": {
          "base_uri": "https://localhost:8080/"
        },
        "id": "jUxX7AGeO0uy",
        "outputId": "6d030e85-2766-4c12-eed7-4b6350dbc05d"
      },
      "execution_count": null,
      "outputs": [
        {
          "output_type": "stream",
          "name": "stdout",
          "text": [
            "Number of samples, type:  70000 float64\n",
            "Number of features:  784\n",
            "Minimum:  0.0 Maximum:  255.0\n",
            "Number of classes:  10 type:  object\n",
            "labels:  ['0' '1' '2' '3' '4' '5' '6' '7' '8' '9']\n"
          ]
        }
      ]
    },
    {
      "cell_type": "markdown",
      "source": [
        "* MNIST dataset is clean and the range of values that each feature can take is also known. So the samples in the dataset does not require much preprocessing techniques.\n",
        "* But it is better to scale the range of features between 0 and 1. \n",
        "* So we can either use MinMaxScaler or MaxAbsScaler. They dont make any difference as the image pixels can take only positive values ranging from 0 to 255."
      ],
      "metadata": {
        "id": "o6mQgSWqPyOM"
      }
    },
    {
      "cell_type": "code",
      "source": [
        "X = MinMaxScaler().fit_transform(X)\n",
        "print('Minimum: ', np.min(X), ', Maximum: ', np.max(X))"
      ],
      "metadata": {
        "colab": {
          "base_uri": "https://localhost:8080/"
        },
        "id": "uqjLs6TuQsfg",
        "outputId": "44832a4a-01f4-4ccf-9e7a-30bdf0428b31"
      },
      "execution_count": null,
      "outputs": [
        {
          "output_type": "stream",
          "name": "stdout",
          "text": [
            "Minimum:  0.0 , Maximum:  1.0\n"
          ]
        }
      ]
    },
    {
      "cell_type": "markdown",
      "source": [
        "#Data Visualization\n",
        "The images are stacked as a row vector of size 1 x 784. This must be reshaped to the matrix of size 28 x 28 to display properly. "
      ],
      "metadata": {
        "id": "TLzJzozpRBUn"
      }
    },
    {
      "cell_type": "code",
      "source": [
        "num_images = 9\n",
        "factor = np.int(np.sqrt(num_images))\n",
        "fig, ax = plt.subplots(nrows=factor, ncols=factor, figsize=(8,6))\n",
        "idx_offset=0\n",
        "for i in range(factor):\n",
        "  index=idx_offset+ i*(factor)\n",
        "  for j in range(factor):\n",
        "    ax[i,j].imshow(X[index+j].reshape(28,28),cmap='gray')\n",
        "    ax[i,j].set_title('Label: {0}'.format(str(y[index+j])))\n",
        "    ax[i,j].set_axis_off()"
      ],
      "metadata": {
        "colab": {
          "base_uri": "https://localhost:8080/",
          "height": 445
        },
        "id": "vZj2JBF-RZTu",
        "outputId": "e40739cb-996a-41ec-8165-807dc69bb2cc"
      },
      "execution_count": null,
      "outputs": [
        {
          "output_type": "stream",
          "name": "stderr",
          "text": [
            "/usr/local/lib/python3.7/dist-packages/ipykernel_launcher.py:2: DeprecationWarning: `np.int` is a deprecated alias for the builtin `int`. To silence this warning, use `int` by itself. Doing this will not modify any behavior and is safe. When replacing `np.int`, you may wish to use e.g. `np.int64` or `np.int32` to specify the precision. If you wish to review your current use, check the release note link for additional information.\n",
            "Deprecated in NumPy 1.20; for more details and guidance: https://numpy.org/devdocs/release/1.20.0-notes.html#deprecations\n",
            "  \n"
          ]
        },
        {
          "output_type": "display_data",
          "data": {
            "text/plain": [
              "<Figure size 576x432 with 9 Axes>"
            ],
            "image/png": "[encoded data removed]"
          },
          "metadata": {
            "needs_background": "light"
          }
        }
      ]
    },
    {
      "cell_type": "markdown",
      "source": [
        "#Data Splitting\n",
        "Since the samples in the data are randomly shuffled, no need to shuffle it again. So use of train_test_split may be skipped."
      ],
      "metadata": {
        "id": "h5DtkTi4TO6-"
      }
    },
    {
      "cell_type": "code",
      "source": [
        "X_train, X_test, y_train, y_test = X[:60000], X[60000:], y[:60000], y[60000:]"
      ],
      "metadata": {
        "id": "6ySSh7_xT-IB"
      },
      "execution_count": null,
      "outputs": []
    },
    {
      "cell_type": "markdown",
      "source": [
        "We need to check whether the dataset is balanced or imbalanced. We can do it by plotting the distribution of samples in each class."
      ],
      "metadata": {
        "id": "yV1dGbe3UN8y"
      }
    },
    {
      "cell_type": "code",
      "source": [
        "plt.figure(figsize=(10,4))\n",
        "sns.histplot(data=np.int8(y_train), binwidth=0.45, bins=11)\n",
        "plt.xticks(ticks=[0,1,2,3,4,5,6,7,8,9], labels=[0,1,2,3,4,5,6,7,8,9])\n",
        "plt.xlabel('Class')\n",
        "plt.title('Distribution of samples')\n",
        "plt.show()"
      ],
      "metadata": {
        "colab": {
          "base_uri": "https://localhost:8080/",
          "height": 295
        },
        "id": "b_sCkVvQUjVi",
        "outputId": "82854be6-0837-4315-ff5b-bb371fb5351b"
      },
      "execution_count": null,
      "outputs": [
        {
          "output_type": "display_data",
          "data": {
            "text/plain": [
              "<Figure size 720x288 with 1 Axes>"
            ],
            "image/png": "[encoded data removed]"
          },
          "metadata": {
            "needs_background": "light"
          }
        }
      ]
    },
    {
      "cell_type": "markdown",
      "source": [
        "#Binary Classification - 0 Detection\n",
        "\n",
        "##Modifying labels\n",
        "* Let us first consider a simple classification problem - binary classification\n",
        "* Since the original label vector contains 10 classes, we need to modify the number of classes to 2.\n",
        "* The label 0 will be changed to 1 and other labels (1-9) will be changed to -1.\n",
        "* The label vectors named as y_train_0 and y_test_0"
      ],
      "metadata": {
        "id": "r6rsV269VyYi"
      }
    },
    {
      "cell_type": "code",
      "source": [
        "y_train_0 = -1 * np.ones((len(y_train)))\n",
        "y_test_0 = -1 * np.ones((len(y_test)))\n",
        "\n",
        "#find the indices of digit 0\n",
        "indx_0 = np.where(y_train == '0') # oroginal labels are str, not int\n",
        "#use these indices to modify y_train_0 and y_test_0\n",
        "y_train_0[indx_0] = 1 \n",
        "indx_0 = np.where(y_test == '0')\n",
        "y_test_0[indx_0] = 1"
      ],
      "metadata": {
        "id": "FptbveXUWwA_"
      },
      "execution_count": null,
      "outputs": []
    },
    {
      "cell_type": "markdown",
      "source": [
        "##Baseline Model\n",
        "1. Count the no of samples per class\n",
        "2. The model always output the class which has the highest no of samples.\n",
        "3. Then calculate the accuracy of the baseline model."
      ],
      "metadata": {
        "id": "O0b7INC0QXqR"
      }
    },
    {
      "cell_type": "code",
      "source": [
        "num_pos = len(np.where(y_train_0 == 1)[0])\n",
        "num_neg = len(np.where(y_train_0 == -1)[0])\n",
        "print(num_pos, num_neg)"
      ],
      "metadata": {
        "colab": {
          "base_uri": "https://localhost:8080/"
        },
        "id": "4n-EDeNUQZdW",
        "outputId": "42c61e65-d188-4967-ff2d-bed1c2aaa2e0"
      },
      "execution_count": null,
      "outputs": [
        {
          "output_type": "stream",
          "name": "stdout",
          "text": [
            "5923 54077\n"
          ]
        }
      ]
    },
    {
      "cell_type": "code",
      "source": [
        "base_clf = DummyClassifier(strategy='most_frequent')\n",
        "base_clf.fit(X_train, y_train_0)\n",
        "print('training accuracy: ', base_clf.score(X_train, y_train_0))\n",
        "print('test accuracy: ', base_clf.score(X_test, y_test_0))"
      ],
      "metadata": {
        "colab": {
          "base_uri": "https://localhost:8080/"
        },
        "id": "gwsBZNxuR51c",
        "outputId": "11248299-5c9c-4f20-f9fd-0383d3e8ff3a"
      },
      "execution_count": null,
      "outputs": [
        {
          "output_type": "stream",
          "name": "stdout",
          "text": [
            "training accuracy:  0.9012833333333333\n",
            "test accuracy:  0.902\n"
          ]
        }
      ]
    },
    {
      "cell_type": "markdown",
      "source": [
        "Now the reason is obvious. The model would have predicted 54077 samples correclty just by outputting -1 for all the input samples. Therefor the accuracy will be 54077/60000 = 90.12%.  \n",
        "This is the reason why \"accuracy\" alone is not always a good measure"
      ],
      "metadata": {
        "id": "PYzPgu0KTgAJ"
      }
    },
    {
      "cell_type": "markdown",
      "source": [
        "#Perceptron Model"
      ],
      "metadata": {
        "id": "gpOiIzBXUAx2"
      }
    },
    {
      "cell_type": "code",
      "source": [
        "bin_clf = Perceptron(max_iter=100, random_state=1729)\n",
        "bin_clf.fit(X_train, y_train_0)\n",
        "print('Dimension of weights {0}'.format(bin_clf.coef_.shape))\n",
        "print('Bias: {0}'.format(bin_clf.intercept_))\n",
        "print('Loss function: {0}'.format(bin_clf.loss_function_))"
      ],
      "metadata": {
        "colab": {
          "base_uri": "https://localhost:8080/"
        },
        "id": "qKQWlMokUR-b",
        "outputId": "0d95fdba-dd88-43c9-8870-917483340314"
      },
      "execution_count": null,
      "outputs": [
        {
          "output_type": "stream",
          "name": "stdout",
          "text": [
            "Dimension of weights (1, 784)\n",
            "Bias: [-108.]\n",
            "Loss function: <sklearn.linear_model._sgd_fast.Hinge object at 0x7fc92ef3f150>\n"
          ]
        }
      ]
    },
    {
      "cell_type": "markdown",
      "source": [
        "Let us make prediction on training set and calculate training accuracy"
      ],
      "metadata": {
        "id": "Lva05wPBVZeK"
      }
    },
    {
      "cell_type": "code",
      "source": [
        "y_hat_train_0 = bin_clf.predict(X_train)\n",
        "print('Traininig accuracy: ', bin_clf.score(X_train, y_train_0))"
      ],
      "metadata": {
        "colab": {
          "base_uri": "https://localhost:8080/"
        },
        "id": "3Ib3bhTfVfST",
        "outputId": "3417c1e3-3dbe-47bc-bca7-e526d8d7be48"
      },
      "execution_count": null,
      "outputs": [
        {
          "output_type": "stream",
          "name": "stdout",
          "text": [
            "Traininig accuracy:  0.99095\n"
          ]
        }
      ]
    },
    {
      "cell_type": "code",
      "source": [
        "print('Testing accuracy: ', bin_clf.score(X_test, y_test_0))"
      ],
      "metadata": {
        "colab": {
          "base_uri": "https://localhost:8080/"
        },
        "id": "vXRVWrbsV3om",
        "outputId": "da5dfe42-786e-4701-ce29-bf39bda5467c"
      },
      "execution_count": null,
      "outputs": [
        {
          "output_type": "stream",
          "name": "stdout",
          "text": [
            "Testing accuracy:  0.989\n"
          ]
        }
      ]
    },
    {
      "cell_type": "markdown",
      "source": [
        "##Displaying Predictions"
      ],
      "metadata": {
        "id": "iRI_QHzFWDr3"
      }
    },
    {
      "cell_type": "code",
      "source": [
        "y_hat_test_0 = bin_clf.predict(X_test)\n",
        "num_images=9\n",
        "factor=np.int(np.sqrt(num_images))\n",
        "fig, ax = plt.subplots(nrows=factor, ncols=factor, figsize=(8,6))\n",
        "idx_offset=0\n",
        "for i in range(factor):\n",
        "  index=idx_offset+i*(factor)\n",
        "  for j in range(factor):\n",
        "    ax[i,j].imshow(X[index+j].reshape(28,28),cmap='gray')\n",
        "    ax[i,j].set_title('Label: {0}'.format(str(y[index+j])))\n",
        "    ax[i,j].set_axis_off()\n",
        ";"
      ],
      "metadata": {
        "colab": {
          "base_uri": "https://localhost:8080/",
          "height": 464
        },
        "id": "99DgXI0PWFzp",
        "outputId": "337f3dfd-3806-4bc1-c375-8bdb658e2a9c"
      },
      "execution_count": null,
      "outputs": [
        {
          "output_type": "stream",
          "name": "stderr",
          "text": [
            "/usr/local/lib/python3.7/dist-packages/ipykernel_launcher.py:3: DeprecationWarning: `np.int` is a deprecated alias for the builtin `int`. To silence this warning, use `int` by itself. Doing this will not modify any behavior and is safe. When replacing `np.int`, you may wish to use e.g. `np.int64` or `np.int32` to specify the precision. If you wish to review your current use, check the release note link for additional information.\n",
            "Deprecated in NumPy 1.20; for more details and guidance: https://numpy.org/devdocs/release/1.20.0-notes.html#deprecations\n",
            "  This is separate from the ipykernel package so we can avoid doing imports until\n"
          ]
        },
        {
          "output_type": "execute_result",
          "data": {
            "text/plain": [
              "''"
            ],
            "application/vnd.google.colaboratory.intrinsic+json": {
              "type": "string"
            }
          },
          "metadata": {},
          "execution_count": 14
        },
        {
          "output_type": "display_data",
          "data": {
            "text/plain": [
              "<Figure size 576x432 with 9 Axes>"
            ],
            "image/png": "[encoded data removed]"
          },
          "metadata": {
            "needs_background": "light"
          }
        }
      ]
    },
    {
      "cell_type": "markdown",
      "source": [
        "Display images of positive class from test set along with their predictions"
      ],
      "metadata": {
        "id": "fHRZSVDuW06B"
      }
    },
    {
      "cell_type": "code",
      "source": [
        "indx_0 = np.where(y_test_0==1)\n",
        "zeroImgs=X_test[indx_0[0]]\n",
        "zeroLabs=y_hat_test_0[indx_0[0]]\n",
        "num_images=9\n",
        "factor=np.int(np.sqrt(num_images))\n",
        "fig, ax = plt.subplots(nrows=factor, ncols=factor, figsize=(8,6))\n",
        "idx_offset=0\n",
        "for i in range(factor):\n",
        "  index=idx_offset+i*(factor)\n",
        "  for j in range(factor):\n",
        "    ax[i,j].imshow(zeroImgs[index+j].reshape(28,28),cmap='gray')\n",
        "    ax[i,j].set_title('Label: {0}'.format(str(zeroLabs[index+j])))\n",
        "    ax[i,j].set_axis_off()"
      ],
      "metadata": {
        "colab": {
          "base_uri": "https://localhost:8080/",
          "height": 445
        },
        "id": "QUpCdC-6W-zh",
        "outputId": "709c1d9f-852d-4f33-f2a1-72b879eed757"
      },
      "execution_count": null,
      "outputs": [
        {
          "output_type": "stream",
          "name": "stderr",
          "text": [
            "/usr/local/lib/python3.7/dist-packages/ipykernel_launcher.py:5: DeprecationWarning: `np.int` is a deprecated alias for the builtin `int`. To silence this warning, use `int` by itself. Doing this will not modify any behavior and is safe. When replacing `np.int`, you may wish to use e.g. `np.int64` or `np.int32` to specify the precision. If you wish to review your current use, check the release note link for additional information.\n",
            "Deprecated in NumPy 1.20; for more details and guidance: https://numpy.org/devdocs/release/1.20.0-notes.html#deprecations\n",
            "  \"\"\"\n"
          ]
        },
        {
          "output_type": "display_data",
          "data": {
            "text/plain": [
              "<Figure size 576x432 with 9 Axes>"
            ],
            "image/png": "[encoded data removed]"
          },
          "metadata": {
            "needs_background": "light"
          }
        }
      ]
    },
    {
      "cell_type": "code",
      "source": [
        "num_misclassified = np.count_nonzero(zeroLabs==-1)\n",
        "num_correct_pred = len(zeroLabs) - num_misclassified\n",
        "accuracy = num_correct_pred / len(zeroLabs)\n",
        "print(accuracy)"
      ],
      "metadata": {
        "colab": {
          "base_uri": "https://localhost:8080/"
        },
        "id": "tcqj7-H5XioX",
        "outputId": "49494386-3b1c-492a-85b1-741a129301fd"
      },
      "execution_count": null,
      "outputs": [
        {
          "output_type": "stream",
          "name": "stdout",
          "text": [
            "0.9193877551020408\n"
          ]
        }
      ]
    },
    {
      "cell_type": "markdown",
      "source": [
        "#Better Evaluation Metrics\n",
        "\n",
        "##Confusion Matrix"
      ],
      "metadata": {
        "id": "_zg5VxdPYCCY"
      }
    },
    {
      "cell_type": "code",
      "source": [
        "y_hat_train_0 = bin_clf.predict(X_train)\n",
        "cm_display = ConfusionMatrixDisplay.from_predictions(y_train_0, y_hat_train_0, values_format='.5g')\n",
        "plt.show()"
      ],
      "metadata": {
        "colab": {
          "base_uri": "https://localhost:8080/",
          "height": 279
        },
        "id": "Zq75OqOmYK0p",
        "outputId": "acaae6f7-fda0-40ad-e328-88dcbf2dc464"
      },
      "execution_count": null,
      "outputs": [
        {
          "output_type": "display_data",
          "data": {
            "text/plain": [
              "<Figure size 432x288 with 2 Axes>"
            ],
            "image/png": "[encoded data removed]"
          },
          "metadata": {
            "needs_background": "light"
          }
        }
      ]
    },
    {
      "cell_type": "markdown",
      "source": [
        "##Precision and Recall"
      ],
      "metadata": {
        "id": "54mdACRyYnv1"
      }
    },
    {
      "cell_type": "code",
      "source": [
        "cf_matrix = cm_display.confusion_matrix\n",
        "tn = cf_matrix[0,0]\n",
        "fn = cf_matrix[0,1]\n",
        "fp = cf_matrix[1,0]\n",
        "tp = cf_matrix[1,1]\n",
        "\n",
        "precision = tp/(tp+fp)\n",
        "print('Precision: ', precision)\n",
        "recall = tp/(tp+fn)\n",
        "print('Recall: ', recall)\n",
        "accuracy = (tn+tp)/(tn+tp+fn+fp)\n",
        "print('accuracy: ', accuracy)"
      ],
      "metadata": {
        "colab": {
          "base_uri": "https://localhost:8080/"
        },
        "id": "J4WeEQY3YqKx",
        "outputId": "bc22602f-9930-4119-8d91-9f06e46cf4ce"
      },
      "execution_count": null,
      "outputs": [
        {
          "output_type": "stream",
          "name": "stdout",
          "text": [
            "Precision:  0.9289211548201924\n",
            "Recall:  0.9783072546230441\n",
            "accuracy:  0.99095\n"
          ]
        }
      ]
    },
    {
      "cell_type": "markdown",
      "source": [
        "##Cross Validation"
      ],
      "metadata": {
        "id": "4nPem_ZfZeRH"
      }
    },
    {
      "cell_type": "code",
      "source": [
        "bin_clf = Perceptron(max_iter=100, random_state=1729)\n",
        "scores = cross_validate(bin_clf, X_train, y_train_0, cv=5, scoring=['precision', 'recall', 'f1'], return_estimator=True)\n",
        "pprint(scores)"
      ],
      "metadata": {
        "colab": {
          "base_uri": "https://localhost:8080/"
        },
        "id": "wU_qobQVZklE",
        "outputId": "f79fa9ce-a2ba-4f36-df95-9e71681bb99b"
      },
      "execution_count": null,
      "outputs": [
        {
          "output_type": "stream",
          "name": "stdout",
          "text": [
            "{'estimator': [Perceptron(max_iter=100, random_state=1729),\n",
            "               Perceptron(max_iter=100, random_state=1729),\n",
            "               Perceptron(max_iter=100, random_state=1729),\n",
            "               Perceptron(max_iter=100, random_state=1729),\n",
            "               Perceptron(max_iter=100, random_state=1729)],\n",
            " 'fit_time': array([1.16006517, 2.41571593, 1.73967385, 1.51254272, 1.96721816]),\n",
            " 'score_time': array([0.09452796, 0.04168749, 0.04144454, 0.06128263, 0.08224702]),\n",
            " 'test_f1': array([0.95238095, 0.91666667, 0.94915254, 0.94117647, 0.95091763]),\n",
            " 'test_precision': array([0.95890411, 0.98828125, 0.95319149, 0.95090439, 0.96200345]),\n",
            " 'test_recall': array([0.94594595, 0.85472973, 0.94514768, 0.93164557, 0.94008439])}\n"
          ]
        }
      ]
    },
    {
      "cell_type": "code",
      "source": [
        "print('f1:         avg:{0:.2f}, std:{0:.2f}'.format(scores['test_f1'].mean(), scores['test_f1'].std()))\n",
        "print('precision:  avg:{0:.2f}, std:{0:.2f}'.format(scores['test_precision'].mean(), scores['test_precision'].std()))\n",
        "print('recall:     avg:{0:.2f}, std:{0:.2f}'.format(scores['test_recall'].mean(), scores['test_recall'].std()))"
      ],
      "metadata": {
        "colab": {
          "base_uri": "https://localhost:8080/"
        },
        "id": "jEf9EB9FaF4u",
        "outputId": "1be90fe0-66bd-4417-b63e-5cd933a95cee"
      },
      "execution_count": null,
      "outputs": [
        {
          "output_type": "stream",
          "name": "stdout",
          "text": [
            "f1:         avg:0.94, std:0.94\n",
            "precision:  avg:0.96, std:0.96\n",
            "recall:     avg:0.92, std:0.92\n"
          ]
        }
      ]
    },
    {
      "cell_type": "code",
      "source": [
        "bin_clf = scores['estimator'][0]\n",
        "y_hat_test_0 = bin_clf.predict(X_test)\n",
        "cm_display = ConfusionMatrixDisplay.from_predictions(y_test_0, y_hat_test_0, values_format='.5g')\n",
        "plt.show()"
      ],
      "metadata": {
        "colab": {
          "base_uri": "https://localhost:8080/",
          "height": 279
        },
        "id": "4_N13Shda47t",
        "outputId": "a684fc25-7bc5-4eed-c866-9aeba8b87a51"
      },
      "execution_count": null,
      "outputs": [
        {
          "output_type": "display_data",
          "data": {
            "text/plain": [
              "<Figure size 432x288 with 2 Axes>"
            ],
            "image/png": "[encoded data removed]"
          },
          "metadata": {
            "needs_background": "light"
          }
        }
      ]
    },
    {
      "cell_type": "code",
      "source": [
        "print('Precision %.2f'%precision_score(y_test_0, y_hat_test_0))\n",
        "print('Recall %.2f'%recall_score(y_test_0, y_hat_test_0))"
      ],
      "metadata": {
        "colab": {
          "base_uri": "https://localhost:8080/"
        },
        "id": "zxplcrZibLme",
        "outputId": "989b4002-e9c0-415b-a4b4-ae8aceb7b22d"
      },
      "execution_count": null,
      "outputs": [
        {
          "output_type": "stream",
          "name": "stdout",
          "text": [
            "Precision 0.95\n",
            "Recall 0.95\n"
          ]
        }
      ]
    },
    {
      "cell_type": "markdown",
      "source": [
        "###Way-2 for Generalization"
      ],
      "metadata": {
        "id": "UZbYM2EibiuR"
      }
    },
    {
      "cell_type": "code",
      "source": [
        "y_hat_train_0 = cross_val_predict(bin_clf, X_train, y_train_0, cv=5)\n",
        "cm_display = ConfusionMatrixDisplay.from_predictions(y_train_0, y_hat_train_0, values_format='.5g')\n",
        "plt.show()"
      ],
      "metadata": {
        "colab": {
          "base_uri": "https://localhost:8080/",
          "height": 279
        },
        "id": "KgInkyzYbmz6",
        "outputId": "9dc461de-528d-40c9-b5fe-eb03388af418"
      },
      "execution_count": null,
      "outputs": [
        {
          "output_type": "display_data",
          "data": {
            "text/plain": [
              "<Figure size 432x288 with 2 Axes>"
            ],
            "image/png": "[encoded data removed]"
          },
          "metadata": {
            "needs_background": "light"
          }
        }
      ]
    },
    {
      "cell_type": "code",
      "source": [
        "cf_matrix = cm_display.confusion_matrix\n",
        "tn = cf_matrix[0,0]\n",
        "fn = cf_matrix[0,1]\n",
        "fp = cf_matrix[1,0]\n",
        "tp = cf_matrix[1,1]\n",
        "\n",
        "precision = tp/(tp+fp)\n",
        "print('Precision: ', precision)\n",
        "recall = tp/(tp+fn)\n",
        "print('Recall: ', recall)\n",
        "accuracy = (tn+tp)/(tn+tp+fn+fp)\n",
        "print('accuracy: ', accuracy)"
      ],
      "metadata": {
        "colab": {
          "base_uri": "https://localhost:8080/"
        },
        "id": "NSirXL9Ub7P7",
        "outputId": "2b97b8d9-1373-4489-bab1-e83b694bc0e7"
      },
      "execution_count": null,
      "outputs": [
        {
          "output_type": "stream",
          "name": "stdout",
          "text": [
            "Precision:  0.9235184872530812\n",
            "Recall:  0.9620119591980303\n",
            "accuracy:  0.98885\n"
          ]
        }
      ]
    },
    {
      "cell_type": "code",
      "source": [
        "print('Precision %.2f'%precision_score(y_train_0, y_hat_train_0))\n",
        "print('Recall %.2f'%recall_score(y_train_0, y_hat_train_0))\n",
        "print('-'*50)\n",
        "print(classification_report(y_train_0, y_hat_train_0))"
      ],
      "metadata": {
        "colab": {
          "base_uri": "https://localhost:8080/"
        },
        "id": "WzpCNZcBcBAb",
        "outputId": "3f3d5621-3123-417c-ad74-542f950407cf"
      },
      "execution_count": null,
      "outputs": [
        {
          "output_type": "stream",
          "name": "stdout",
          "text": [
            "Precision 0.96\n",
            "Recall 0.92\n",
            "--------------------------------------------------\n",
            "              precision    recall  f1-score   support\n",
            "\n",
            "        -1.0       0.99      1.00      0.99     54077\n",
            "         1.0       0.96      0.92      0.94      5923\n",
            "\n",
            "    accuracy                           0.99     60000\n",
            "   macro avg       0.98      0.96      0.97     60000\n",
            "weighted avg       0.99      0.99      0.99     60000\n",
            "\n"
          ]
        }
      ]
    },
    {
      "cell_type": "markdown",
      "source": [
        "#Precesion Recall Tradeoff\n",
        "* Often we need to make a trade off between precision and recall scores of a model depends on the problem at hand.\n",
        "* It is important to note that we should **not** pass the **predicted labels** as input to precision_recall_curve function. Instead we need to pass the probability scores or the output from the decision function.\n",
        "* The Perceptron() class contains decision_function method.\n",
        "* Internally the decision scores are sorted, tps and fps will be computed by changing the threshold from index[0] to index[-1]."
      ],
      "metadata": {
        "id": "qXVZ1G0yCZsU"
      }
    },
    {
      "cell_type": "code",
      "source": [
        "bin_clf = Perceptron(random_state=1729)\n",
        "bin_clf.fit(X_train, y_train_0)\n",
        "y_scores =  bin_clf.decision_function(X_train)\n",
        "sns.histplot(np.sort(y_scores))\n",
        "plt.show()"
      ],
      "metadata": {
        "colab": {
          "base_uri": "https://localhost:8080/",
          "height": 265
        },
        "id": "P1yJE7llDk6e",
        "outputId": "796b9e9d-d665-4555-aa93-07261d8f4ef7"
      },
      "execution_count": null,
      "outputs": [
        {
          "output_type": "display_data",
          "data": {
            "text/plain": [
              "<Figure size 432x288 with 1 Axes>"
            ],
            "image/png": "[encoded data removed]"
          },
          "metadata": {
            "needs_background": "light"
          }
        }
      ]
    },
    {
      "cell_type": "markdown",
      "source": [
        "There are so many negative valuss than positive. Since the majority belongs to class -1. (Class Imbalance)\n",
        "* Suppose threshold is set as -600, then all the values having score greater than -600 will be set to 1 (positive label) and less than it is set to -1 (negative label).\n",
        "* Therefor the number of false positives will be increased.This will inturn reduce the precision score to a greater extend.\n",
        "* On the other hand, if the threshold id set to 400, then the number of false negatives will be increased and hence recall will be reduces to great extend."
      ],
      "metadata": {
        "id": "OVL-siGFEHxn"
      }
    },
    {
      "cell_type": "code",
      "source": [
        "precisions, recalls, thresholds = precision_recall_curve(y_train_0, y_scores, pos_label=1)\n",
        "plt.figure(figsize=(10,4))\n",
        "plt.plot(precisions[:-1], recalls[:-1], \"b--\")\n",
        "plt.xlabel('Precision')\n",
        "plt.ylabel('Recall')\n",
        "plt.grid(True)\n",
        "plt.show()"
      ],
      "metadata": {
        "colab": {
          "base_uri": "https://localhost:8080/",
          "height": 279
        },
        "id": "eofFFjA0FK9B",
        "outputId": "c31a0ae4-b0b4-468f-a5a3-4a6773045ee2"
      },
      "execution_count": null,
      "outputs": [
        {
          "output_type": "display_data",
          "data": {
            "text/plain": [
              "<Figure size 720x288 with 1 Axes>"
            ],
            "image/png": "[encoded data removed]"
          },
          "metadata": {
            "needs_background": "light"
          }
        }
      ]
    },
    {
      "cell_type": "code",
      "source": [
        "plt.figure(figsize=(10,4))\n",
        "plt.plot(thresholds, precisions[:-1], \"b--\", label='Precision')\n",
        "plt.plot(thresholds, recalls[:-1], \"g--\", label='Recall')\n",
        "plt.xlabel('Threshold')\n",
        "plt.grid(True)\n",
        "plt.legend(loc='upper right')\n",
        "plt.show()"
      ],
      "metadata": {
        "colab": {
          "base_uri": "https://localhost:8080/",
          "height": 279
        },
        "id": "5zG_pLZVGYCd",
        "outputId": "87f835dd-fb87-4a51-deda-f61f00a7e94f"
      },
      "execution_count": null,
      "outputs": [
        {
          "output_type": "display_data",
          "data": {
            "text/plain": [
              "<Figure size 720x288 with 1 Axes>"
            ],
            "image/png": "[encoded data removed]"
          },
          "metadata": {
            "needs_background": "light"
          }
        }
      ]
    },
    {
      "cell_type": "code",
      "source": [
        "#get the index of threshold around 0\n",
        "idx_th = np.where(np.logical_and(thresholds>0, thresholds<1))\n",
        "print('Precision for zero threshold: ', precisions[idx_th[0][0]])"
      ],
      "metadata": {
        "colab": {
          "base_uri": "https://localhost:8080/"
        },
        "id": "xDV6EVZAG0cc",
        "outputId": "1b3ee1a2-20ab-4542-f415-a08948332dfd"
      },
      "execution_count": null,
      "outputs": [
        {
          "output_type": "stream",
          "name": "stdout",
          "text": [
            "Precision for zero threshold:  0.9783072546230441\n"
          ]
        }
      ]
    },
    {
      "cell_type": "markdown",
      "source": [
        "#The ROC Curve"
      ],
      "metadata": {
        "id": "BWXAHYlsHVr_"
      }
    },
    {
      "cell_type": "code",
      "source": [
        "from sklearn.metrics import roc_curve\n",
        "\n",
        "fpr, tpr, thresholds = roc_curve(y_train_0, y_scores)\n",
        "plt.figure(figsize=(10,4))\n",
        "plt.plot(fpr, tpr, linewidth=2, label='Perceptron')\n",
        "plt.plot([0,1], [0, 1], 'k--', label='BaseEstimator')\n",
        "plt.xlabel('False Positive Rate')\n",
        "plt.ylabel('True Positive Rate')\n",
        "plt.grid(True)\n",
        "plt.legend()\n",
        "plt.show()"
      ],
      "metadata": {
        "colab": {
          "base_uri": "https://localhost:8080/",
          "height": 279
        },
        "id": "OI6U_taaHYel",
        "outputId": "6bf33f42-d8be-4412-dda9-63dd3cd7294f"
      },
      "execution_count": null,
      "outputs": [
        {
          "output_type": "display_data",
          "data": {
            "text/plain": [
              "<Figure size 720x288 with 1 Axes>"
            ],
            "image/png": "[encoded data removed]"
          },
          "metadata": {
            "needs_background": "light"
          }
        }
      ]
    },
    {
      "cell_type": "markdown",
      "source": [
        "#Warm Start vs Cold Start\n",
        "## Cold Start\n",
        "* IF we execute the fit method of bin_clf repeatedly, we get the same score for both training and testing accuracy.\n",
        "* This is because, every time the fit methos is called, the model weights are initialized to the same values. Therefore we obtain the same score.\n",
        "* The is termed as **Cold Start**. Let us executet the following 4 times and observe the score."
      ],
      "metadata": {
        "id": "K7Zs99qNIbUu"
      }
    },
    {
      "cell_type": "code",
      "source": [
        "bin_clf.fit(X_train, y_train_0)\n",
        "y_hat_train_0 = bin_clf.predict(X_train)\n",
        "print('Training accuracy: ', bin_clf.score(X_train, y_train_0))\n",
        "print('Test accuracy: ', bin_clf.score(X_test, y_test_0))"
      ],
      "metadata": {
        "colab": {
          "base_uri": "https://localhost:8080/"
        },
        "id": "FJmO6OYmLg8C",
        "outputId": "1065fe99-8c8e-4794-8d14-248822902e93"
      },
      "execution_count": null,
      "outputs": [
        {
          "output_type": "stream",
          "name": "stdout",
          "text": [
            "Training accuracy:  0.99095\n",
            "Test accuracy:  0.989\n"
          ]
        }
      ]
    },
    {
      "cell_type": "markdown",
      "source": [
        "##Warm Start\n",
        "* Setting warm_start=True retains the weight values of the model afetr max_iter and hence produce different results for each execution. \n",
        "* Warm Start is useful in may ways. It helps us train the model by initializing the weight values from the previous state. So we can pause the traininig and resume it whenever we get the resource for computation.\n",
        "* It is not required for simple models like Perceptron and for a small dataset like MNIST.\n",
        "* Here we use this feature to plot iteration vs loss curve.\n",
        "* Let us executet the following 4 times and see how accuracy changes after each each execution."
      ],
      "metadata": {
        "id": "yxiLq330Mv6B"
      }
    },
    {
      "cell_type": "code",
      "source": [
        "bin_clf_warm = Perceptron(max_iter=100, random_state=1729, warm_start=True)\n",
        "bin_clf_warm.fit(X_train, y_train_0)\n",
        "print('Training accuracy: ', bin_clf_warm.score(X_train, y_train_0))"
      ],
      "metadata": {
        "colab": {
          "base_uri": "https://localhost:8080/"
        },
        "id": "yBOoD04dN6hy",
        "outputId": "4519152f-1c1c-4a2d-8288-f0378d299a94"
      },
      "execution_count": null,
      "outputs": [
        {
          "output_type": "stream",
          "name": "stdout",
          "text": [
            "Training accuracy:  0.99095\n"
          ]
        }
      ]
    }
  ]
}